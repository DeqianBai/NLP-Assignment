{
 "cells": [
  {
   "cell_type": "markdown",
   "metadata": {},
   "source": [
    "##### 问题描述\n",
    "\n",
    "大家好，我们在用 networkx 显示中文的时候，会发现不能显示中文。 \n",
    "\n",
    "##### 解决办法\n",
    "\n",
    "1. 下载Github仓库中的字体SimHei.ttf； \n",
    "2. 在 jupyter notebook 中执行\n",
    "```python\n",
    "import matplotlib\n",
    "print(matplotlib.__path__)\n",
    "```\n",
    "找到 matplotlib 的路径，然后 cd 到这个路径。 cd 到这个路径之后，继续 cd，cd 到 mpl-data/fonts/ttf 这个路径。 然后把 `DejaVuSans.ttf` 这个文件换成我们刚刚下在的文件。 \n",
    "\n",
    "```bash\n",
    "$ mv SimHei.ttf DejaVuSans.ttf\n",
    "```\n",
    "\n",
    "其中，用到的 ttf 字体。 我给大家传到附件上了。 "
   ]
  },
  {
   "cell_type": "markdown",
   "metadata": {},
   "source": [
    "Previous Course"
   ]
  },
  {
   "cell_type": "markdown",
   "metadata": {},
   "source": [
    "1. What's the language model? OOV problem? \n",
    "2. Syntax Tree. lambda "
   ]
  },
  {
   "cell_type": "markdown",
   "metadata": {},
   "source": [
    "$$ pr(w) $$"
   ]
  },
  {
   "cell_type": "markdown",
   "metadata": {},
   "source": [
    "##  Out of Vocabulary(OOV)"
   ]
  },
  {
   "cell_type": "markdown",
   "metadata": {},
   "source": [
    "Pr(w_o) = constant < Pr(w_1)"
   ]
  },
  {
   "cell_type": "markdown",
   "metadata": {},
   "source": [
    "##  Language Model: Smooth"
   ]
  },
  {
   "cell_type": "code",
   "execution_count": 1,
   "metadata": {},
   "outputs": [],
   "source": [
    "import random"
   ]
  },
  {
   "cell_type": "code",
   "execution_count": 5,
   "metadata": {},
   "outputs": [],
   "source": [
    "\"\"\"adj* => adj* adj | adj null\"\"\"\n",
    "\n",
    "def adj():  return random.choice('蓝色的 | 好看的 | 小小的'.split('|')).split()[0]\n",
    "\n",
    "def adj_star_2():\n",
    "     return random.choice([lambda : '', lambda : adj() + adj_star_2()])()\n",
    "\n",
    "def adj_star():\n",
    "    return random.choice(['', ajd() + adj_star()])"
   ]
  },
  {
   "cell_type": "code",
   "execution_count": null,
   "metadata": {},
   "outputs": [],
   "source": [
    "lambda : adj() + adj_star_2()"
   ]
  },
  {
   "cell_type": "code",
   "execution_count": 31,
   "metadata": {},
   "outputs": [],
   "source": [
    "numbers = [1, -2, -4, 1, 5, 6, 9, -11]"
   ]
  },
  {
   "cell_type": "code",
   "execution_count": 36,
   "metadata": {},
   "outputs": [],
   "source": [
    "def absolute(number): \n",
    "    if number < 0: return -1 * number\n",
    "    else:\n",
    "        return number"
   ]
  },
  {
   "cell_type": "code",
   "execution_count": 34,
   "metadata": {},
   "outputs": [
    {
     "data": {
      "text/plain": [
       "11"
      ]
     },
     "execution_count": 34,
     "metadata": {},
     "output_type": "execute_result"
    }
   ],
   "source": [
    "absolute(-11)"
   ]
  },
  {
   "cell_type": "code",
   "execution_count": 37,
   "metadata": {},
   "outputs": [],
   "source": []
  },
  {
   "cell_type": "code",
   "execution_count": 38,
   "metadata": {},
   "outputs": [
    {
     "data": {
      "text/plain": [
       "1"
      ]
     },
     "execution_count": 38,
     "metadata": {},
     "output_type": "execute_result"
    }
   ],
   "source": [
    "mod_5(6)"
   ]
  },
  {
   "cell_type": "code",
   "execution_count": 39,
   "metadata": {},
   "outputs": [
    {
     "data": {
      "text/plain": [
       "2"
      ]
     },
     "execution_count": 39,
     "metadata": {},
     "output_type": "execute_result"
    }
   ],
   "source": [
    "mod_5(7)"
   ]
  },
  {
   "cell_type": "code",
   "execution_count": 41,
   "metadata": {},
   "outputs": [
    {
     "data": {
      "text/plain": [
       "[5, 1, -4, 1, 6, -2, 9, -11]"
      ]
     },
     "execution_count": 41,
     "metadata": {},
     "output_type": "execute_result"
    }
   ],
   "source": [
    "def mod_5(number): \n",
    "    return number % 5\n",
    "\n",
    "sorted(numbers, key=lambda x: x % 5)"
   ]
  },
  {
   "cell_type": "code",
   "execution_count": 42,
   "metadata": {},
   "outputs": [],
   "source": [
    "mod_5_lambda = lambda x: x % 5"
   ]
  },
  {
   "cell_type": "code",
   "execution_count": 43,
   "metadata": {},
   "outputs": [
    {
     "data": {
      "text/plain": [
       "<function __main__.mod_5(number)>"
      ]
     },
     "execution_count": 43,
     "metadata": {},
     "output_type": "execute_result"
    }
   ],
   "source": [
    "mod_5"
   ]
  },
  {
   "cell_type": "code",
   "execution_count": 45,
   "metadata": {},
   "outputs": [
    {
     "data": {
      "text/plain": [
       "4"
      ]
     },
     "execution_count": 45,
     "metadata": {},
     "output_type": "execute_result"
    }
   ],
   "source": [
    "mod_5_lambda(19)"
   ]
  },
  {
   "cell_type": "code",
   "execution_count": 46,
   "metadata": {},
   "outputs": [
    {
     "data": {
      "text/plain": [
       "4"
      ]
     },
     "execution_count": 46,
     "metadata": {},
     "output_type": "execute_result"
    }
   ],
   "source": [
    "mod_5(19)"
   ]
  },
  {
   "cell_type": "code",
   "execution_count": 30,
   "metadata": {},
   "outputs": [
    {
     "data": {
      "text/plain": [
       "'蓝色的'"
      ]
     },
     "execution_count": 30,
     "metadata": {},
     "output_type": "execute_result"
    }
   ],
   "source": [
    "adj_star_2()"
   ]
  },
  {
   "cell_type": "markdown",
   "metadata": {},
   "source": [
    "## Search Policy\n",
    "\n",
    " 我们根据中国的城市，做一个简易版的导航地图\n",
    " \n",
    "### 得到文本数据"
   ]
  },
  {
   "cell_type": "code",
   "execution_count": 2,
   "metadata": {},
   "outputs": [],
   "source": [
    "coordination_source = \"\"\"\n",
    "{name:'兰州', geoCoord:[103.73, 36.03]},\n",
    "{name:'嘉峪关', geoCoord:[98.17, 39.47]},\n",
    "{name:'西宁', geoCoord:[101.74, 36.56]},\n",
    "{name:'成都', geoCoord:[104.06, 30.67]},\n",
    "{name:'石家庄', geoCoord:[114.48, 38.03]},\n",
    "{name:'拉萨', geoCoord:[102.73, 25.04]},\n",
    "{name:'贵阳', geoCoord:[106.71, 26.57]},\n",
    "{name:'武汉', geoCoord:[114.31, 30.52]},\n",
    "{name:'郑州', geoCoord:[113.65, 34.76]},\n",
    "{name:'济南', geoCoord:[117, 36.65]},\n",
    "{name:'南京', geoCoord:[118.78, 32.04]},\n",
    "{name:'合肥', geoCoord:[117.27, 31.86]},\n",
    "{name:'杭州', geoCoord:[120.19, 30.26]},\n",
    "{name:'南昌', geoCoord:[115.89, 28.68]},\n",
    "{name:'福州', geoCoord:[119.3, 26.08]},\n",
    "{name:'广州', geoCoord:[113.23, 23.16]},\n",
    "{name:'长沙', geoCoord:[113, 28.21]},\n",
    "//{name:'海口', geoCoord:[110.35, 20.02]},\n",
    "{name:'沈阳', geoCoord:[123.38, 41.8]},\n",
    "{name:'长春', geoCoord:[125.35, 43.88]},\n",
    "{name:'哈尔滨', geoCoord:[126.63, 45.75]},\n",
    "{name:'太原', geoCoord:[112.53, 37.87]},\n",
    "{name:'西安', geoCoord:[108.95, 34.27]},\n",
    "//{name:'台湾', geoCoord:[121.30, 25.03]},\n",
    "{name:'北京', geoCoord:[116.46, 39.92]},\n",
    "{name:'上海', geoCoord:[121.48, 31.22]},\n",
    "{name:'重庆', geoCoord:[106.54, 29.59]},\n",
    "{name:'天津', geoCoord:[117.2, 39.13]},\n",
    "{name:'呼和浩特', geoCoord:[111.65, 40.82]},\n",
    "{name:'南宁', geoCoord:[108.33, 22.84]},\n",
    "//{name:'西藏', geoCoord:[91.11, 29.97]},\n",
    "{name:'银川', geoCoord:[106.27, 38.47]},\n",
    "{name:'乌鲁木齐', geoCoord:[87.68, 43.77]},\n",
    "{name:'香港', geoCoord:[114.17, 22.28]},\n",
    "{name:'澳门', geoCoord:[113.54, 22.19]}\n",
    "\"\"\""
   ]
  },
  {
   "cell_type": "code",
   "execution_count": 3,
   "metadata": {},
   "outputs": [
    {
     "name": "stdout",
     "output_type": "stream",
     "text": [
      "<class 'str'>\n"
     ]
    }
   ],
   "source": [
    "print(type(coordination_source))"
   ]
  },
  {
   "cell_type": "code",
   "execution_count": 4,
   "metadata": {},
   "outputs": [],
   "source": [
    "city_location = {\n",
    "    '香港': (114.17, 22.28)\n",
    "}"
   ]
  },
  {
   "cell_type": "markdown",
   "metadata": {},
   "source": [
    "Input: String -> dict"
   ]
  },
  {
   "cell_type": "code",
   "execution_count": 5,
   "metadata": {},
   "outputs": [],
   "source": [
    "test_string = \"{name:'兰州', geoCoord:[103.73, 36.03]},\""
   ]
  },
  {
   "cell_type": "code",
   "execution_count": 6,
   "metadata": {},
   "outputs": [],
   "source": [
    "import re"
   ]
  },
  {
   "cell_type": "markdown",
   "metadata": {},
   "source": [
    "### 使用正则表达式将文本数据转换为数字\n",
    "\n",
    "关于正则表达式的更多信息，[查看这里](https://www.runoob.com/python/python-reg-expressions.html)和[这里](http://funhacks.net/2016/12/27/regular_expression/)"
   ]
  },
  {
   "cell_type": "code",
   "execution_count": 7,
   "metadata": {},
   "outputs": [],
   "source": [
    "pattern = re.compile(r\"name:'(\\w+)',\\s+geoCoord:\\[(\\d+.\\d+),\\s(\\d+.\\d+)\\]\")"
   ]
  },
  {
   "cell_type": "code",
   "execution_count": 8,
   "metadata": {},
   "outputs": [],
   "source": [
    "for line in coordination_source.split('\\n'):\n",
    "    city_info = pattern.findall(line)\n",
    "    if not city_info: continue\n",
    "    \n",
    "    # following: we find the city info\n",
    "    \n",
    "    city, long, lat = city_info[0]\n",
    "    \n",
    "    long, lat = float(long), float(lat)\n",
    "    \n",
    "    city_location[city] = (long, lat)"
   ]
  },
  {
   "cell_type": "code",
   "execution_count": 9,
   "metadata": {},
   "outputs": [
    {
     "data": {
      "text/plain": [
       "{'上海': (121.48, 31.22),\n",
       " '乌鲁木齐': (87.68, 43.77),\n",
       " '兰州': (103.73, 36.03),\n",
       " '北京': (116.46, 39.92),\n",
       " '南京': (118.78, 32.04),\n",
       " '南宁': (108.33, 22.84),\n",
       " '南昌': (115.89, 28.68),\n",
       " '台湾': (121.3, 25.03),\n",
       " '合肥': (117.27, 31.86),\n",
       " '呼和浩特': (111.65, 40.82),\n",
       " '哈尔滨': (126.63, 45.75),\n",
       " '嘉峪关': (98.17, 39.47),\n",
       " '天津': (117.2, 39.13),\n",
       " '太原': (112.53, 37.87),\n",
       " '广州': (113.23, 23.16),\n",
       " '成都': (104.06, 30.67),\n",
       " '拉萨': (102.73, 25.04),\n",
       " '杭州': (120.19, 30.26),\n",
       " '武汉': (114.31, 30.52),\n",
       " '沈阳': (123.38, 41.8),\n",
       " '济南': (117.0, 36.65),\n",
       " '海口': (110.35, 20.02),\n",
       " '澳门': (113.54, 22.19),\n",
       " '石家庄': (114.48, 38.03),\n",
       " '福州': (119.3, 26.08),\n",
       " '西宁': (101.74, 36.56),\n",
       " '西安': (108.95, 34.27),\n",
       " '西藏': (91.11, 29.97),\n",
       " '贵阳': (106.71, 26.57),\n",
       " '郑州': (113.65, 34.76),\n",
       " '重庆': (106.54, 29.59),\n",
       " '银川': (106.27, 38.47),\n",
       " '长春': (125.35, 43.88),\n",
       " '长沙': (113.0, 28.21),\n",
       " '香港': (114.17, 22.28)}"
      ]
     },
     "execution_count": 9,
     "metadata": {},
     "output_type": "execute_result"
    }
   ],
   "source": [
    "city_location"
   ]
  },
  {
   "cell_type": "code",
   "execution_count": 10,
   "metadata": {},
   "outputs": [
    {
     "name": "stdout",
     "output_type": "stream",
     "text": [
      "<class 'dict'>\n"
     ]
    }
   ],
   "source": [
    "print(type(city_location))"
   ]
  },
  {
   "cell_type": "code",
   "execution_count": 11,
   "metadata": {},
   "outputs": [],
   "source": [
    "import math"
   ]
  },
  {
   "cell_type": "markdown",
   "metadata": {},
   "source": [
    "### 计算两个城市之间的距离\n",
    "\n",
    "下面这个函数可以直接用，不需要掌握"
   ]
  },
  {
   "cell_type": "code",
   "execution_count": 12,
   "metadata": {},
   "outputs": [],
   "source": [
    "def geo_distance(origin, destination):\n",
    "    \"\"\"\n",
    "    Calculate the Haversine distance.\n",
    "\n",
    "    Parameters\n",
    "    ----------\n",
    "    origin : tuple of float\n",
    "        (lat, long)\n",
    "    destination : tuple of float\n",
    "        (lat, long)\n",
    "\n",
    "    Returns\n",
    "    -------\n",
    "    distance_in_km : float\n",
    "\n",
    "    Examples\n",
    "    --------\n",
    "    >>> origin = (48.1372, 11.5756)  # Munich\n",
    "    >>> destination = (52.5186, 13.4083)  # Berlin\n",
    "    >>> round(distance(origin, destination), 1)\n",
    "    504.2\n",
    "    \"\"\"\n",
    "    lat1, lon1 = origin\n",
    "    lat2, lon2 = destination\n",
    "    radius = 6371  # km\n",
    "\n",
    "    dlat = math.radians(lat2 - lat1)\n",
    "    dlon = math.radians(lon2 - lon1)\n",
    "    a = (math.sin(dlat / 2) * math.sin(dlat / 2) +\n",
    "         math.cos(math.radians(lat1)) * math.cos(math.radians(lat2)) *\n",
    "         math.sin(dlon / 2) * math.sin(dlon / 2))\n",
    "    c = 2 * math.atan2(math.sqrt(a), math.sqrt(1 - a))\n",
    "    d = radius * c\n",
    "\n",
    "    return d"
   ]
  },
  {
   "cell_type": "code",
   "execution_count": 13,
   "metadata": {},
   "outputs": [],
   "source": [
    "def get_geo_distance(city1, city2):\n",
    "    return geo_distance(city_location[city1], city_location[city2])"
   ]
  },
  {
   "cell_type": "code",
   "execution_count": 14,
   "metadata": {},
   "outputs": [
    {
     "data": {
      "text/plain": [
       "153.5185697155768"
      ]
     },
     "execution_count": 14,
     "metadata": {},
     "output_type": "execute_result"
    }
   ],
   "source": [
    "get_geo_distance('上海', '杭州')"
   ]
  },
  {
   "cell_type": "markdown",
   "metadata": {},
   "source": [
    "### 创建一个地图"
   ]
  },
  {
   "cell_type": "code",
   "execution_count": 15,
   "metadata": {},
   "outputs": [],
   "source": [
    "import networkx as nx"
   ]
  },
  {
   "cell_type": "code",
   "execution_count": 16,
   "metadata": {},
   "outputs": [],
   "source": [
    "city_graph = nx.Graph()"
   ]
  },
  {
   "cell_type": "code",
   "execution_count": 17,
   "metadata": {},
   "outputs": [],
   "source": [
    "city_graph.add_nodes_from(list(city_location.keys()))"
   ]
  },
  {
   "cell_type": "code",
   "execution_count": 18,
   "metadata": {},
   "outputs": [],
   "source": [
    "%matplotlib inline"
   ]
  },
  {
   "cell_type": "code",
   "execution_count": 19,
   "metadata": {},
   "outputs": [],
   "source": [
    "import matplotlib.pyplot as plt"
   ]
  },
  {
   "cell_type": "code",
   "execution_count": 20,
   "metadata": {},
   "outputs": [],
   "source": [
    "plt.rcParams['font.sans-serif'] = ['SimHei']\n",
    "plt.rcParams['axes.unicode_minus'] = False"
   ]
  },
  {
   "cell_type": "code",
   "execution_count": 21,
   "metadata": {},
   "outputs": [
    {
     "data": {
      "image/png": "[encoded data removed]",
      "text/plain": [
       "<matplotlib.figure.Figure at 0x22858cabe10>"
      ]
     },
     "metadata": {},
     "output_type": "display_data"
    }
   ],
   "source": [
    "nx.draw(city_graph, city_location, with_labels=True, node_size=30)"
   ]
  },
  {
   "cell_type": "markdown",
   "metadata": {},
   "source": [
    "### 获取两个城市之间的最优路径"
   ]
  },
  {
   "cell_type": "markdown",
   "metadata": {},
   "source": [
    "先从简单的例子开始:北京出发到福州"
   ]
  },
  {
   "cell_type": "code",
   "execution_count": 22,
   "metadata": {},
   "outputs": [],
   "source": [
    "simple_connection_info = {\n",
    "    '北京':['太原'],\n",
    "    '太原':['北京','西安','郑州'],\n",
    "    '兰州':['西安'],\n",
    "    '郑州': ['太原'],\n",
    "    '西安':['兰州','长沙'],\n",
    "    '长沙':['福州','南宁'],\n",
    "    '沈阳': ['北京']\n",
    "}"
   ]
  },
  {
   "cell_type": "code",
   "execution_count": 23,
   "metadata": {},
   "outputs": [
    {
     "data": {
      "text/plain": [
       "['兰州', '长沙']"
      ]
     },
     "execution_count": 23,
     "metadata": {},
     "output_type": "execute_result"
    }
   ],
   "source": [
    "simple_connection_info['西安']"
   ]
  },
  {
   "cell_type": "code",
   "execution_count": 24,
   "metadata": {},
   "outputs": [
    {
     "data": {
      "image/png": "[encoded data removed]",
      "text/plain": [
       "<matplotlib.figure.Figure at 0x2285724ad68>"
      ]
     },
     "metadata": {},
     "output_type": "display_data"
    }
   ],
   "source": [
    "nx.draw(nx.Graph(simple_connection_info),city_location,with_labels=True,node_size=10)"
   ]
  },
  {
   "attachments": {
    "image.png": {
     "image/png": "[encoded data removed]"
    }
   },
   "cell_type": "markdown",
   "metadata": {},
   "source": [
    "![image.png](attachment:image.png)"
   ]
  },
  {
   "cell_type": "markdown",
   "metadata": {},
   "source": [
    "#### 广度优先遍历"
   ]
  },
  {
   "cell_type": "code",
   "execution_count": 25,
   "metadata": {},
   "outputs": [],
   "source": [
    "def search(start,destination,conncetion_graph):\n",
    "    pathes = [[start]]\n",
    "    visitied = set()\n",
    "    \n",
    "    while pathes: # 当我们发现还有路走的时候\n",
    "        path = pathes.pop(0)\n",
    "        froninter = path[-1] # -1 代表这条路的最后一个城市\n",
    "        \n",
    "        if froninter in visitied:continue\n",
    "        successors = conncetion_graph[froninter]\n",
    "        \n",
    "        for city in successors:\n",
    "            if city in path:continue # eliminate loop 可以把这行注释掉，查看区别\n",
    "            new_path = path + [city]\n",
    "            print(new_path)\n",
    "            pathes.append(new_path)\n",
    "            if city == destination:return new_path\n",
    "            \n",
    "        visitied.add(froninter)"
   ]
  },
  {
   "cell_type": "code",
   "execution_count": 26,
   "metadata": {},
   "outputs": [
    {
     "name": "stdout",
     "output_type": "stream",
     "text": [
      "['兰州', '西安']\n",
      "['兰州', '西安', '长沙']\n",
      "['兰州', '西安', '长沙', '福州']\n"
     ]
    },
    {
     "data": {
      "text/plain": [
       "['兰州', '西安', '长沙', '福州']"
      ]
     },
     "execution_count": 26,
     "metadata": {},
     "output_type": "execute_result"
    }
   ],
   "source": [
    "search('兰州', '福州', simple_connection_info)"
   ]
  },
  {
   "cell_type": "code",
   "execution_count": 27,
   "metadata": {},
   "outputs": [],
   "source": [
    "def pretty_print(cities):\n",
    "    print('🚗->'.join(cities))"
   ]
  },
  {
   "cell_type": "code",
   "execution_count": 28,
   "metadata": {},
   "outputs": [
    {
     "name": "stdout",
     "output_type": "stream",
     "text": [
      "['北京', '太原']\n",
      "['北京', '太原', '西安']\n",
      "['北京', '太原', '郑州']\n",
      "['北京', '太原', '西安', '兰州']\n",
      "['北京', '太原', '西安', '长沙']\n",
      "['北京', '太原', '西安', '长沙', '福州']\n",
      "北京🚗->太原🚗->西安🚗->长沙🚗->福州\n"
     ]
    }
   ],
   "source": [
    "pretty_print(search('北京', '福州', simple_connection_info))"
   ]
  },
  {
   "cell_type": "markdown",
   "metadata": {},
   "source": [
    "##### 广度优先的函数实现\n",
    "\n",
    "给定一个初始点(北京)，把图中的点全部走一遍"
   ]
  },
  {
   "cell_type": "code",
   "execution_count": 29,
   "metadata": {},
   "outputs": [],
   "source": [
    "from collections import defaultdict"
   ]
  },
  {
   "cell_type": "code",
   "execution_count": 30,
   "metadata": {},
   "outputs": [],
   "source": [
    "simple_connection_info_src = {\n",
    "    '北京':['太原','沈阳'],\n",
    "    '太原':['北京','西安','郑州'],\n",
    "    '兰州':['西安'],\n",
    "    '郑州': ['太原'],\n",
    "    '西安':['兰州','长沙'],\n",
    "    '长沙':['福州','南宁'],\n",
    "    '沈阳': ['北京']\n",
    "}"
   ]
  },
  {
   "cell_type": "code",
   "execution_count": 31,
   "metadata": {},
   "outputs": [],
   "source": [
    "simple_connection_info = defaultdict(list)"
   ]
  },
  {
   "cell_type": "code",
   "execution_count": 32,
   "metadata": {},
   "outputs": [],
   "source": [
    "simple_connection_info.update(simple_connection_info_src)"
   ]
  },
  {
   "cell_type": "markdown",
   "metadata": {},
   "source": [
    "`defaultdict`的作用是在于，当字典里的`key`不存在但被查找时，返回的不是`keyError`而是一个默认值.\n",
    "\n",
    "`defaultdict`接受一个工厂函数作为参数，如下来构造：\n",
    "\n",
    "```\n",
    "dict =defaultdict( factory_function)\n",
    "```\n",
    "这个`factory_function`可以是`list、set、str`等等，作用是当`key`不存在时，返回的是工厂函数的默认值，比如\n",
    "- list对应[ ]\n",
    "- str对应的是空字符串\n",
    "- set对应set( )\n",
    "- int对应0\n",
    "\n",
    "如下举例：\n",
    "\n"
   ]
  },
  {
   "cell_type": "code",
   "execution_count": null,
   "metadata": {},
   "outputs": [],
   "source": [
    "simple_connection_info_src['澳门']"
   ]
  },
  {
   "cell_type": "code",
   "execution_count": 34,
   "metadata": {},
   "outputs": [
    {
     "data": {
      "text/plain": [
       "[]"
      ]
     },
     "execution_count": 34,
     "metadata": {},
     "output_type": "execute_result"
    }
   ],
   "source": [
    "simple_connection_info['澳门']"
   ]
  },
  {
   "cell_type": "code",
   "execution_count": 44,
   "metadata": {},
   "outputs": [
    {
     "name": "stdout",
     "output_type": "stream",
     "text": [
      "0\n",
      "set()\n",
      "\n",
      "[]\n"
     ]
    }
   ],
   "source": [
    "dict1 = defaultdict(int)\n",
    "dict2 = defaultdict(set)\n",
    "dict3 = defaultdict(str)\n",
    "dict4 = defaultdict(list)\n",
    "dict1[2] ='two'\n",
    "\n",
    "print(dict1[1])\n",
    "print(dict2[1])\n",
    "print(dict3[1])\n",
    "print(dict4[1])\n"
   ]
  },
  {
   "cell_type": "code",
   "execution_count": 35,
   "metadata": {},
   "outputs": [],
   "source": [
    "def bfs(graph, start):\n",
    "    \"\"\"\n",
    "    breath first search\n",
    "    \"\"\"\n",
    "    visited = [start]\n",
    "    \n",
    "    seen = set()\n",
    "    \n",
    "    while visited:\n",
    "        froninter = visited.pop() #\n",
    "        \n",
    "        if froninter in seen: continue\n",
    "        \n",
    "        for successor in graph[froninter]:\n",
    "            if successor in seen: continue # 把环去掉\n",
    "            print(successor)\n",
    "#             visited.append(successor)\n",
    "            #visited = visited + [successor] # 我们每次扩展都扩展最新发现的点 -> depth first\n",
    "            visited = [successor] + visited # 我们每次扩展都先考虑已经发现的 老的点 -> breath first\n",
    "            \n",
    "        seen.add(froninter)\n",
    "    \n",
    "    return seen"
   ]
  },
  {
   "cell_type": "code",
   "execution_count": 36,
   "metadata": {},
   "outputs": [
    {
     "name": "stdout",
     "output_type": "stream",
     "text": [
      "太原\n",
      "沈阳\n",
      "西安\n",
      "郑州\n",
      "兰州\n",
      "长沙\n",
      "福州\n",
      "南宁\n"
     ]
    },
    {
     "data": {
      "text/plain": [
       "{'兰州', '北京', '南宁', '太原', '沈阳', '福州', '西安', '郑州', '长沙'}"
      ]
     },
     "execution_count": 36,
     "metadata": {},
     "output_type": "execute_result"
    }
   ],
   "source": [
    "bfs(simple_connection_info,'北京')"
   ]
  },
  {
   "cell_type": "markdown",
   "metadata": {},
   "source": [
    "#### 深度优先遍历"
   ]
  },
  {
   "cell_type": "code",
   "execution_count": 37,
   "metadata": {},
   "outputs": [],
   "source": [
    "def dfs(graph, start):\n",
    "    \"\"\"\n",
    "    breath first search\n",
    "    \"\"\"\n",
    "    visited = [start]\n",
    "    \n",
    "    seen = set()\n",
    "    \n",
    "    while visited:\n",
    "        froninter = visited.pop() #\n",
    "        \n",
    "        if froninter in seen: continue\n",
    "        \n",
    "        for successor in graph[froninter]:\n",
    "            if successor in seen: continue # 把环去掉\n",
    "            print(successor)\n",
    "            \n",
    "            visited = visited + [successor] # 我们每次扩展都扩展最新发现的点 -> depth first\n",
    "#             visited = [successor] + visited # 我们每次扩展都先考虑已经发现的 老的点 -> breath first\n",
    "            \n",
    "            # 所以说，这个扩展顺序其实是决定了我们的深度优先还是广度优先\n",
    "    \n",
    "        seen.add(froninter)\n",
    "    \n",
    "    return seen"
   ]
  },
  {
   "cell_type": "code",
   "execution_count": 38,
   "metadata": {},
   "outputs": [],
   "source": [
    "number_grpah = defaultdict(list)\n",
    "\n",
    "number_grpah.update({\n",
    "    1: [2, 3],\n",
    "    2: [1, 4], \n",
    "    3: [1, 5],\n",
    "    4: [2, 6], \n",
    "    5: [3, 7],\n",
    "    7: [5, 8]\n",
    "})"
   ]
  },
  {
   "cell_type": "code",
   "execution_count": 39,
   "metadata": {},
   "outputs": [
    {
     "name": "stdout",
     "output_type": "stream",
     "text": [
      "太原\n",
      "沈阳\n",
      "西安\n",
      "郑州\n",
      "兰州\n",
      "长沙\n",
      "福州\n",
      "南宁\n"
     ]
    },
    {
     "data": {
      "text/plain": [
       "{'兰州', '北京', '南宁', '太原', '沈阳', '福州', '西安', '郑州', '长沙'}"
      ]
     },
     "execution_count": 39,
     "metadata": {},
     "output_type": "execute_result"
    }
   ],
   "source": [
    "dfs(simple_connection_info,'北京')"
   ]
  },
  {
   "cell_type": "markdown",
   "metadata": {},
   "source": [
    "```\n",
    "visited = visited + [successor] # 我们每次扩展都扩展最新发现的点 -> depth first\n",
    "\n",
    "visited = [successor] + visited # 我们每次扩展都先考虑已经发现的 老的点 -> breath first\n",
    "```"
   ]
  },
  {
   "cell_type": "code",
   "execution_count": 40,
   "metadata": {},
   "outputs": [
    {
     "name": "stdout",
     "output_type": "stream",
     "text": [
      "2\n",
      "3\n",
      "5\n",
      "7\n",
      "8\n",
      "4\n",
      "6\n"
     ]
    },
    {
     "data": {
      "text/plain": [
       "{1, 2, 3, 4, 5, 6, 7, 8}"
      ]
     },
     "execution_count": 40,
     "metadata": {},
     "output_type": "execute_result"
    }
   ],
   "source": [
    "dfs(number_grpah, 1)"
   ]
  },
  {
   "cell_type": "code",
   "execution_count": 41,
   "metadata": {},
   "outputs": [
    {
     "name": "stdout",
     "output_type": "stream",
     "text": [
      "2\n",
      "3\n",
      "4\n",
      "5\n",
      "6\n",
      "7\n",
      "8\n"
     ]
    },
    {
     "data": {
      "text/plain": [
       "{1, 2, 3, 4, 5, 6, 7, 8}"
      ]
     },
     "execution_count": 41,
     "metadata": {},
     "output_type": "execute_result"
    }
   ],
   "source": [
    "bfs(number_grpah, 1)"
   ]
  },
  {
   "cell_type": "markdown",
   "metadata": {},
   "source": [
    "#### 按照转乘最少进行扩展"
   ]
  },
  {
   "cell_type": "code",
   "execution_count": 42,
   "metadata": {},
   "outputs": [],
   "source": [
    "threshold = 300"
   ]
  },
  {
   "cell_type": "code",
   "execution_count": 43,
   "metadata": {},
   "outputs": [],
   "source": [
    "city_connection = defaultdict(list)"
   ]
  },
  {
   "cell_type": "code",
   "execution_count": 45,
   "metadata": {},
   "outputs": [],
   "source": [
    "for c1 in city_location:\n",
    "    for c2 in city_location:\n",
    "        if c1 == c2: continue\n",
    "        \n",
    "        distance = get_geo_distance(c1, c2)\n",
    "        \n",
    "        if distance < threshold:\n",
    "            city_connection[c1].append(c2)\n",
    "            city_connection[c2].append(c1)"
   ]
  },
  {
   "cell_type": "code",
   "execution_count": 48,
   "metadata": {},
   "outputs": [
    {
     "data": {
      "text/plain": [
       "defaultdict(list,\n",
       "            {'上海': ['杭州', '杭州'],\n",
       "             '兰州': ['西宁', '成都', '西宁', '成都', '银川', '银川'],\n",
       "             '北京': ['济南', '济南', '石家庄', '天津', '石家庄', '天津'],\n",
       "             '南京': ['杭州', '合肥', '杭州', '合肥'],\n",
       "             '南宁': ['贵阳', '海口', '贵阳', '海口'],\n",
       "             '南昌': ['合肥', '武汉', '合肥', '武汉'],\n",
       "             '台湾': ['福州', '福州'],\n",
       "             '合肥': ['南昌', '济南', '南昌', '济南', '南京', '南京'],\n",
       "             '呼和浩特': ['太原', '太原'],\n",
       "             '哈尔滨': ['长春', '长春'],\n",
       "             '天津': ['济南', '北京', '济南', '北京'],\n",
       "             '太原': ['呼和浩特', '石家庄', '呼和浩特', '石家庄', '郑州', '郑州'],\n",
       "             '广州': ['澳门', '长沙', '澳门', '长沙', '香港', '香港'],\n",
       "             '成都': ['西宁', '西宁', '兰州', '拉萨', '重庆', '兰州', '拉萨', '重庆'],\n",
       "             '拉萨': ['西宁', '成都', '西宁', '成都'],\n",
       "             '杭州': ['上海', '上海', '南京', '福州', '南京', '福州'],\n",
       "             '武汉': ['南昌', '长沙', '南昌', '长沙', '郑州', '郑州'],\n",
       "             '沈阳': ['长春', '长春'],\n",
       "             '济南': ['合肥', '北京', '石家庄', '天津', '合肥', '北京', '石家庄', '天津'],\n",
       "             '海口': ['南宁', '南宁'],\n",
       "             '澳门': ['长沙', '广州', '香港', '长沙', '广州', '香港'],\n",
       "             '石家庄': ['济南', '北京', '济南', '北京', '太原', '郑州', '太原', '郑州'],\n",
       "             '福州': ['杭州', '台湾', '杭州', '台湾'],\n",
       "             '西宁': ['成都', '兰州', '拉萨', '成都', '兰州', '拉萨'],\n",
       "             '贵阳': ['重庆', '南宁', '重庆', '南宁'],\n",
       "             '郑州': ['长沙', '石家庄', '武汉', '太原', '长沙', '石家庄', '武汉', '太原'],\n",
       "             '重庆': ['贵阳', '成都', '银川', '贵阳', '成都', '银川'],\n",
       "             '银川': ['兰州', '兰州', '重庆', '重庆'],\n",
       "             '长春': ['沈阳', '哈尔滨', '沈阳', '哈尔滨'],\n",
       "             '长沙': ['澳门',\n",
       "              '澳门',\n",
       "              '广州',\n",
       "              '香港',\n",
       "              '武汉',\n",
       "              '郑州',\n",
       "              '广州',\n",
       "              '香港',\n",
       "              '武汉',\n",
       "              '郑州'],\n",
       "             '香港': ['澳门', '长沙', '广州', '澳门', '长沙', '广州']})"
      ]
     },
     "execution_count": 48,
     "metadata": {},
     "output_type": "execute_result"
    }
   ],
   "source": [
    "city_connection"
   ]
  },
  {
   "cell_type": "code",
   "execution_count": 49,
   "metadata": {},
   "outputs": [],
   "source": [
    "city_with_road = nx.Graph(city_connection)"
   ]
  },
  {
   "cell_type": "code",
   "execution_count": 50,
   "metadata": {},
   "outputs": [
    {
     "data": {
      "image/png": "[encoded data removed]",
      "text/plain": [
       "<matplotlib.figure.Figure at 0x22859061a58>"
      ]
     },
     "metadata": {},
     "output_type": "display_data"
    }
   ],
   "source": [
    "nx.draw(city_with_road, city_location, with_labels=True, node_size=30)"
   ]
  },
  {
   "cell_type": "code",
   "execution_count": 51,
   "metadata": {},
   "outputs": [
    {
     "name": "stdout",
     "output_type": "stream",
     "text": [
      "['北京', '济南']\n",
      "['北京', '济南']\n",
      "['北京', '石家庄']\n",
      "['北京', '天津']\n",
      "['北京', '石家庄']\n",
      "['北京', '天津']\n",
      "['北京', '济南', '合肥']\n",
      "['北京', '济南', '石家庄']\n",
      "['北京', '济南', '天津']\n",
      "['北京', '济南', '合肥']\n",
      "['北京', '济南', '石家庄']\n",
      "['北京', '济南', '天津']\n",
      "['北京', '石家庄', '济南']\n",
      "['北京', '石家庄', '济南']\n",
      "['北京', '石家庄', '太原']\n",
      "['北京', '石家庄', '郑州']\n",
      "['北京', '石家庄', '太原']\n",
      "['北京', '石家庄', '郑州']\n",
      "['北京', '天津', '济南']\n",
      "['北京', '天津', '济南']\n",
      "['北京', '济南', '合肥', '南昌']\n",
      "['北京', '济南', '合肥', '南昌']\n",
      "['北京', '济南', '合肥', '南京']\n"
     ]
    },
    {
     "data": {
      "text/plain": [
       "['北京', '济南', '合肥', '南京']"
      ]
     },
     "execution_count": 51,
     "metadata": {},
     "output_type": "execute_result"
    }
   ],
   "source": [
    "search('北京', '南京', city_connection)"
   ]
  },
  {
   "cell_type": "code",
   "execution_count": 52,
   "metadata": {},
   "outputs": [
    {
     "name": "stdout",
     "output_type": "stream",
     "text": [
      "['北京', '济南']\n",
      "['北京', '济南']\n",
      "['北京', '石家庄']\n",
      "['北京', '天津']\n",
      "['北京', '石家庄']\n",
      "['北京', '天津']\n",
      "['北京', '济南', '合肥']\n",
      "['北京', '济南', '石家庄']\n",
      "['北京', '济南', '天津']\n",
      "['北京', '济南', '合肥']\n",
      "['北京', '济南', '石家庄']\n",
      "['北京', '济南', '天津']\n",
      "['北京', '石家庄', '济南']\n",
      "['北京', '石家庄', '济南']\n",
      "['北京', '石家庄', '太原']\n",
      "['北京', '石家庄', '郑州']\n",
      "['北京', '石家庄', '太原']\n",
      "['北京', '石家庄', '郑州']\n",
      "['北京', '天津', '济南']\n",
      "['北京', '天津', '济南']\n",
      "['北京', '济南', '合肥', '南昌']\n",
      "['北京', '济南', '合肥', '南昌']\n",
      "['北京', '济南', '合肥', '南京']\n",
      "['北京', '济南', '合肥', '南京']\n",
      "['北京', '石家庄', '太原', '呼和浩特']\n",
      "['北京', '石家庄', '太原', '呼和浩特']\n",
      "['北京', '石家庄', '太原', '郑州']\n",
      "['北京', '石家庄', '太原', '郑州']\n",
      "['北京', '石家庄', '郑州', '长沙']\n"
     ]
    },
    {
     "data": {
      "text/plain": [
       "['北京', '石家庄', '郑州', '长沙']"
      ]
     },
     "execution_count": 52,
     "metadata": {},
     "output_type": "execute_result"
    }
   ],
   "source": [
    "search('北京', '长沙', city_connection)"
   ]
  },
  {
   "cell_type": "markdown",
   "metadata": {},
   "source": [
    "####  最少换乘优先"
   ]
  },
  {
   "cell_type": "code",
   "execution_count": 54,
   "metadata": {},
   "outputs": [],
   "source": [
    "def search(start, destination, connection_grpah, sort_candidate):\n",
    "    pathes = [[start]]\n",
    "    \n",
    "    visitied = set()\n",
    "    \n",
    "    while pathes: # if we find existing pathes\n",
    "        path = pathes.pop(0)\n",
    "        froninter = path[-1]\n",
    "        \n",
    "        if froninter in visitied: continue\n",
    "            \n",
    "        successors = connection_grpah[froninter]\n",
    "        \n",
    "        for city in successors:\n",
    "            if city in path: continue  # eliminate loop\n",
    "                \n",
    "            new_path = path + [city]\n",
    "            \n",
    "            pathes.append(new_path)\n",
    "            \n",
    "            if city == destination: return new_path\n",
    "        \n",
    "        visitied.add(froninter)\n",
    "        \n",
    "        pathes = sort_candidate(pathes) # 我们可以加一个排序函数 对我们的搜索策略进行控制"
   ]
  },
  {
   "cell_type": "code",
   "execution_count": 55,
   "metadata": {},
   "outputs": [],
   "source": [
    "# 最少站数优先\n",
    "def transfer_stations_first(pathes): \n",
    "    return sorted(pathes, key=len)"
   ]
  },
  {
   "cell_type": "code",
   "execution_count": 56,
   "metadata": {},
   "outputs": [
    {
     "data": {
      "text/plain": [
       "['兰州', '西安', '长沙', '福州']"
      ]
     },
     "execution_count": 56,
     "metadata": {},
     "output_type": "execute_result"
    }
   ],
   "source": [
    "search('兰州', '福州', simple_connection_info, sort_candidate=transfer_stations_first)"
   ]
  },
  {
   "cell_type": "code",
   "execution_count": 65,
   "metadata": {},
   "outputs": [
    {
     "name": "stdout",
     "output_type": "stream",
     "text": [
      "北京🚗->石家庄🚗->郑州🚗->长沙🚗->广州\n"
     ]
    }
   ],
   "source": [
    "pretty_print(search('北京', '广州', city_connection, sort_candidate=transfer_stations_first))"
   ]
  },
  {
   "cell_type": "markdown",
   "metadata": {},
   "source": [
    "#### 最短距离优先"
   ]
  },
  {
   "cell_type": "code",
   "execution_count": 57,
   "metadata": {},
   "outputs": [],
   "source": [
    "def shortest_path_first(pathes):\n",
    "    \n",
    "    if len(pathes) <= 1: return pathes\n",
    "    \n",
    "    def get_path_distnace(path):\n",
    "        distance = 0\n",
    "        for i in range(1, len(path)):\n",
    "            distance += get_geo_distance(path[i - 1], path[i])\n",
    "            \n",
    "        return distance\n",
    "\n",
    "    return sorted(pathes, key=get_path_distnace)# 在每次排序的时候，key是每条候选路径的距离"
   ]
  },
  {
   "cell_type": "code",
   "execution_count": 61,
   "metadata": {},
   "outputs": [
    {
     "name": "stdout",
     "output_type": "stream",
     "text": [
      "兰州🚗->西安🚗->长沙🚗->福州\n"
     ]
    }
   ],
   "source": [
    "pretty_print(search('兰州', '福州', simple_connection_info, sort_candidate=shortest_path_first))"
   ]
  },
  {
   "cell_type": "code",
   "execution_count": 60,
   "metadata": {},
   "outputs": [
    {
     "name": "stdout",
     "output_type": "stream",
     "text": [
      "北京🚗->石家庄🚗->郑州🚗->长沙🚗->广州\n"
     ]
    }
   ],
   "source": [
    "pretty_print(search('北京', '广州', city_connection, sort_candidate=shortest_path_first))"
   ]
  },
  {
   "cell_type": "markdown",
   "metadata": {},
   "source": [
    "#### 最多换乘优先"
   ]
  },
  {
   "cell_type": "code",
   "execution_count": 63,
   "metadata": {},
   "outputs": [],
   "source": [
    "def transfer_as_much_possible(pathes):\n",
    "    return sorted(pathes, key=len, reverse=True)"
   ]
  },
  {
   "cell_type": "code",
   "execution_count": 64,
   "metadata": {},
   "outputs": [
    {
     "name": "stdout",
     "output_type": "stream",
     "text": [
      "北京🚗->济南🚗->合肥🚗->南昌🚗->武汉🚗->长沙🚗->广州\n"
     ]
    }
   ],
   "source": [
    "pretty_print(search('北京', '广州', city_connection, sort_candidate=transfer_as_much_possible))"
   ]
  },
  {
   "cell_type": "code",
   "execution_count": null,
   "metadata": {},
   "outputs": [],
   "source": []
  },
  {
   "cell_type": "code",
   "execution_count": null,
   "metadata": {},
   "outputs": [],
   "source": []
  },
  {
   "cell_type": "markdown",
   "metadata": {},
   "source": [
    "## Assignment"
   ]
  },
  {
   "cell_type": "markdown",
   "metadata": {},
   "source": [
    "#### 北京地铁换乘\n",
    "\n",
    "1. 网络爬虫 + 正则\n",
    "2. 数据处理\n",
    "3. 算法的应用能力"
   ]
  },
  {
   "cell_type": "code",
   "execution_count": 67,
   "metadata": {},
   "outputs": [],
   "source": [
    "import requests"
   ]
  },
  {
   "cell_type": "code",
   "execution_count": 68,
   "metadata": {},
   "outputs": [],
   "source": [
    "url = 'https://movie.douban.com/subject/26931786/?from=showing'"
   ]
  },
  {
   "cell_type": "code",
   "execution_count": 69,
   "metadata": {},
   "outputs": [],
   "source": [
    "response = requests.get(url)"
   ]
  },
  {
   "cell_type": "code",
   "execution_count": null,
   "metadata": {},
   "outputs": [],
   "source": [
    "response.text"
   ]
  },
  {
   "cell_type": "code",
   "execution_count": 70,
   "metadata": {},
   "outputs": [],
   "source": [
    "what_we_want = r'<a href=\"https://(movie\\.douban\\.com/subject/\\d+/\\?from=subject-page)\" class=\"\" '"
   ]
  },
  {
   "cell_type": "code",
   "execution_count": 71,
   "metadata": {},
   "outputs": [],
   "source": [
    "pattern = re.compile(what_we_want)"
   ]
  },
  {
   "cell_type": "code",
   "execution_count": 72,
   "metadata": {},
   "outputs": [],
   "source": [
    "likes = pattern.findall(response.text)"
   ]
  },
  {
   "cell_type": "code",
   "execution_count": 73,
   "metadata": {},
   "outputs": [
    {
     "name": "stdout",
     "output_type": "stream",
     "text": [
      "movie.douban.com/subject/24753477/?from=subject-page\n",
      "movie.douban.com/subject/26100958/?from=subject-page\n",
      "movie.douban.com/subject/25820460/?from=subject-page\n",
      "movie.douban.com/subject/1432146/?from=subject-page\n",
      "movie.douban.com/subject/25937854/?from=subject-page\n",
      "movie.douban.com/subject/1866473/?from=subject-page\n",
      "movie.douban.com/subject/25821634/?from=subject-page\n",
      "movie.douban.com/subject/26213252/?from=subject-page\n",
      "movie.douban.com/subject/25828589/?from=subject-page\n",
      "movie.douban.com/subject/4920389/?from=subject-page\n"
     ]
    }
   ],
   "source": [
    "for like in likes:\n",
    "    print(like)"
   ]
  },
  {
   "cell_type": "markdown",
   "metadata": {},
   "source": [
    "## Machine Learning"
   ]
  },
  {
   "cell_type": "code",
   "execution_count": 1,
   "metadata": {},
   "outputs": [],
   "source": [
    "from sklearn.datasets import load_boston"
   ]
  },
  {
   "cell_type": "code",
   "execution_count": 2,
   "metadata": {},
   "outputs": [],
   "source": [
    "data = load_boston()"
   ]
  },
  {
   "cell_type": "code",
   "execution_count": 3,
   "metadata": {},
   "outputs": [],
   "source": [
    "X, y = data['data'], data['target']"
   ]
  },
  {
   "cell_type": "code",
   "execution_count": 4,
   "metadata": {},
   "outputs": [
    {
     "data": {
      "text/plain": [
       "array([2.7310e-02, 0.0000e+00, 7.0700e+00, 0.0000e+00, 4.6900e-01,\n",
       "       6.4210e+00, 7.8900e+01, 4.9671e+00, 2.0000e+00, 2.4200e+02,\n",
       "       1.7800e+01, 3.9690e+02, 9.1400e+00])"
      ]
     },
     "execution_count": 4,
     "metadata": {},
     "output_type": "execute_result"
    }
   ],
   "source": [
    "X[1]"
   ]
  },
  {
   "cell_type": "code",
   "execution_count": 5,
   "metadata": {},
   "outputs": [
    {
     "data": {
      "text/plain": [
       "21.6"
      ]
     },
     "execution_count": 5,
     "metadata": {},
     "output_type": "execute_result"
    }
   ],
   "source": [
    "y[1]"
   ]
  },
  {
   "cell_type": "code",
   "execution_count": 6,
   "metadata": {},
   "outputs": [
    {
     "data": {
      "text/plain": [
       "506"
      ]
     },
     "execution_count": 6,
     "metadata": {},
     "output_type": "execute_result"
    }
   ],
   "source": [
    "len(X[:, 0])"
   ]
  },
  {
   "cell_type": "code",
   "execution_count": 7,
   "metadata": {},
   "outputs": [
    {
     "data": {
      "text/plain": [
       "506"
      ]
     },
     "execution_count": 7,
     "metadata": {},
     "output_type": "execute_result"
    }
   ],
   "source": [
    "len(y)"
   ]
  },
  {
   "cell_type": "code",
   "execution_count": 11,
   "metadata": {},
   "outputs": [],
   "source": [
    "%matplotlib inline\n",
    "import matplotlib.pyplot as plt"
   ]
  },
  {
   "cell_type": "code",
   "execution_count": 12,
   "metadata": {},
   "outputs": [],
   "source": [
    "def draw_rm_and_price():\n",
    "    plt.scatter(X[:, 5], y)"
   ]
  },
  {
   "cell_type": "code",
   "execution_count": 13,
   "metadata": {},
   "outputs": [
    {
     "data": {
      "image/png": "[encoded data removed]",
      "text/plain": [
       "<matplotlib.figure.Figure at 0x23bf3bd5b38>"
      ]
     },
     "metadata": {},
     "output_type": "display_data"
    }
   ],
   "source": [
    "draw_rm_and_price()"
   ]
  },
  {
   "cell_type": "code",
   "execution_count": 14,
   "metadata": {},
   "outputs": [],
   "source": [
    "import random"
   ]
  },
  {
   "cell_type": "code",
   "execution_count": 15,
   "metadata": {},
   "outputs": [],
   "source": [
    "def price(rm, k, b):\n",
    "    \"\"\"f(x) = k * x + b\"\"\"\n",
    "    return k * rm + b  "
   ]
  },
  {
   "cell_type": "code",
   "execution_count": 16,
   "metadata": {},
   "outputs": [
    {
     "data": {
      "text/plain": [
       "<matplotlib.collections.PathCollection at 0x23bf4002b00>"
      ]
     },
     "execution_count": 16,
     "metadata": {},
     "output_type": "execute_result"
    },
    {
     "data": {
      "image/png": "[encoded data removed]",
      "text/plain": [
       "<matplotlib.figure.Figure at 0x23bf3ccf6d8>"
      ]
     },
     "metadata": {},
     "output_type": "display_data"
    }
   ],
   "source": [
    "X_rm = X[:, 5]\n",
    "k = random.randint(-100, 100)\n",
    "b = random.randint(-100, 100)\n",
    "price_by_random_k_and_b = [price(r, k, b) for r in X_rm]\n",
    "\n",
    "draw_rm_and_price() \n",
    "plt.scatter(X_rm, price_by_random_k_and_b)"
   ]
  },
  {
   "cell_type": "code",
   "execution_count": 17,
   "metadata": {},
   "outputs": [
    {
     "data": {
      "text/plain": [
       "<matplotlib.collections.PathCollection at 0x23bf3fba0b8>"
      ]
     },
     "execution_count": 17,
     "metadata": {},
     "output_type": "execute_result"
    },
    {
     "data": {
      "image/png": "[encoded data removed]",
      "text/plain": [
       "<matplotlib.figure.Figure at 0x23bf3fcd048>"
      ]
     },
     "metadata": {},
     "output_type": "display_data"
    }
   ],
   "source": [
    "X_rm = X[:, 5]\n",
    "k = random.randint(-100, 100)\n",
    "b = random.randint(-100, 100)\n",
    "price_by_random_k_and_b = [price(r, k, b) for r in X_rm]\n",
    "\n",
    "draw_rm_and_price()\n",
    "plt.scatter(X_rm, price_by_random_k_and_b)"
   ]
  },
  {
   "cell_type": "markdown",
   "metadata": {},
   "source": [
    "$$ \\hat{y} $$"
   ]
  },
  {
   "cell_type": "code",
   "execution_count": 18,
   "metadata": {},
   "outputs": [
    {
     "data": {
      "text/plain": [
       "[24.0,\n",
       " 21.6,\n",
       " 34.7,\n",
       " 33.4,\n",
       " 36.2,\n",
       " 28.7,\n",
       " 22.9,\n",
       " 27.1,\n",
       " 16.5,\n",
       " 18.9,\n",
       " 15.0,\n",
       " 18.9,\n",
       " 21.7,\n",
       " 20.4,\n",
       " 18.2,\n",
       " 19.9,\n",
       " 23.1,\n",
       " 17.5,\n",
       " 20.2,\n",
       " 18.2,\n",
       " 13.6,\n",
       " 19.6,\n",
       " 15.2,\n",
       " 14.5,\n",
       " 15.6,\n",
       " 13.9,\n",
       " 16.6,\n",
       " 14.8,\n",
       " 18.4,\n",
       " 21.0,\n",
       " 12.7,\n",
       " 14.5,\n",
       " 13.2,\n",
       " 13.1,\n",
       " 13.5,\n",
       " 18.9,\n",
       " 20.0,\n",
       " 21.0,\n",
       " 24.7,\n",
       " 30.8,\n",
       " 34.9,\n",
       " 26.6,\n",
       " 25.3,\n",
       " 24.7,\n",
       " 21.2,\n",
       " 19.3,\n",
       " 20.0,\n",
       " 16.6,\n",
       " 14.4,\n",
       " 19.4,\n",
       " 19.7,\n",
       " 20.5,\n",
       " 25.0,\n",
       " 23.4,\n",
       " 18.9,\n",
       " 35.4,\n",
       " 24.7,\n",
       " 31.6,\n",
       " 23.3,\n",
       " 19.6,\n",
       " 18.7,\n",
       " 16.0,\n",
       " 22.2,\n",
       " 25.0,\n",
       " 33.0,\n",
       " 23.5,\n",
       " 19.4,\n",
       " 22.0,\n",
       " 17.4,\n",
       " 20.9,\n",
       " 24.2,\n",
       " 21.7,\n",
       " 22.8,\n",
       " 23.4,\n",
       " 24.1,\n",
       " 21.4,\n",
       " 20.0,\n",
       " 20.8,\n",
       " 21.2,\n",
       " 20.3,\n",
       " 28.0,\n",
       " 23.9,\n",
       " 24.8,\n",
       " 22.9,\n",
       " 23.9,\n",
       " 26.6,\n",
       " 22.5,\n",
       " 22.2,\n",
       " 23.6,\n",
       " 28.7,\n",
       " 22.6,\n",
       " 22.0,\n",
       " 22.9,\n",
       " 25.0,\n",
       " 20.6,\n",
       " 28.4,\n",
       " 21.4,\n",
       " 38.7,\n",
       " 43.8,\n",
       " 33.2,\n",
       " 27.5,\n",
       " 26.5,\n",
       " 18.6,\n",
       " 19.3,\n",
       " 20.1,\n",
       " 19.5,\n",
       " 19.5,\n",
       " 20.4,\n",
       " 19.8,\n",
       " 19.4,\n",
       " 21.7,\n",
       " 22.8,\n",
       " 18.8,\n",
       " 18.7,\n",
       " 18.5,\n",
       " 18.3,\n",
       " 21.2,\n",
       " 19.2,\n",
       " 20.4,\n",
       " 19.3,\n",
       " 22.0,\n",
       " 20.3,\n",
       " 20.5,\n",
       " 17.3,\n",
       " 18.8,\n",
       " 21.4,\n",
       " 15.7,\n",
       " 16.2,\n",
       " 18.0,\n",
       " 14.3,\n",
       " 19.2,\n",
       " 19.6,\n",
       " 23.0,\n",
       " 18.4,\n",
       " 15.6,\n",
       " 18.1,\n",
       " 17.4,\n",
       " 17.1,\n",
       " 13.3,\n",
       " 17.8,\n",
       " 14.0,\n",
       " 14.4,\n",
       " 13.4,\n",
       " 15.6,\n",
       " 11.8,\n",
       " 13.8,\n",
       " 15.6,\n",
       " 14.6,\n",
       " 17.8,\n",
       " 15.4,\n",
       " 21.5,\n",
       " 19.6,\n",
       " 15.3,\n",
       " 19.4,\n",
       " 17.0,\n",
       " 15.6,\n",
       " 13.1,\n",
       " 41.3,\n",
       " 24.3,\n",
       " 23.3,\n",
       " 27.0,\n",
       " 50.0,\n",
       " 50.0,\n",
       " 50.0,\n",
       " 22.7,\n",
       " 25.0,\n",
       " 50.0,\n",
       " 23.8,\n",
       " 23.8,\n",
       " 22.3,\n",
       " 17.4,\n",
       " 19.1,\n",
       " 23.1,\n",
       " 23.6,\n",
       " 22.6,\n",
       " 29.4,\n",
       " 23.2,\n",
       " 24.6,\n",
       " 29.9,\n",
       " 37.2,\n",
       " 39.8,\n",
       " 36.2,\n",
       " 37.9,\n",
       " 32.5,\n",
       " 26.4,\n",
       " 29.6,\n",
       " 50.0,\n",
       " 32.0,\n",
       " 29.8,\n",
       " 34.9,\n",
       " 37.0,\n",
       " 30.5,\n",
       " 36.4,\n",
       " 31.1,\n",
       " 29.1,\n",
       " 50.0,\n",
       " 33.3,\n",
       " 30.3,\n",
       " 34.6,\n",
       " 34.9,\n",
       " 32.9,\n",
       " 24.1,\n",
       " 42.3,\n",
       " 48.5,\n",
       " 50.0,\n",
       " 22.6,\n",
       " 24.4,\n",
       " 22.5,\n",
       " 24.4,\n",
       " 20.0,\n",
       " 21.7,\n",
       " 19.3,\n",
       " 22.4,\n",
       " 28.1,\n",
       " 23.7,\n",
       " 25.0,\n",
       " 23.3,\n",
       " 28.7,\n",
       " 21.5,\n",
       " 23.0,\n",
       " 26.7,\n",
       " 21.7,\n",
       " 27.5,\n",
       " 30.1,\n",
       " 44.8,\n",
       " 50.0,\n",
       " 37.6,\n",
       " 31.6,\n",
       " 46.7,\n",
       " 31.5,\n",
       " 24.3,\n",
       " 31.7,\n",
       " 41.7,\n",
       " 48.3,\n",
       " 29.0,\n",
       " 24.0,\n",
       " 25.1,\n",
       " 31.5,\n",
       " 23.7,\n",
       " 23.3,\n",
       " 22.0,\n",
       " 20.1,\n",
       " 22.2,\n",
       " 23.7,\n",
       " 17.6,\n",
       " 18.5,\n",
       " 24.3,\n",
       " 20.5,\n",
       " 24.5,\n",
       " 26.2,\n",
       " 24.4,\n",
       " 24.8,\n",
       " 29.6,\n",
       " 42.8,\n",
       " 21.9,\n",
       " 20.9,\n",
       " 44.0,\n",
       " 50.0,\n",
       " 36.0,\n",
       " 30.1,\n",
       " 33.8,\n",
       " 43.1,\n",
       " 48.8,\n",
       " 31.0,\n",
       " 36.5,\n",
       " 22.8,\n",
       " 30.7,\n",
       " 50.0,\n",
       " 43.5,\n",
       " 20.7,\n",
       " 21.1,\n",
       " 25.2,\n",
       " 24.4,\n",
       " 35.2,\n",
       " 32.4,\n",
       " 32.0,\n",
       " 33.2,\n",
       " 33.1,\n",
       " 29.1,\n",
       " 35.1,\n",
       " 45.4,\n",
       " 35.4,\n",
       " 46.0,\n",
       " 50.0,\n",
       " 32.2,\n",
       " 22.0,\n",
       " 20.1,\n",
       " 23.2,\n",
       " 22.3,\n",
       " 24.8,\n",
       " 28.5,\n",
       " 37.3,\n",
       " 27.9,\n",
       " 23.9,\n",
       " 21.7,\n",
       " 28.6,\n",
       " 27.1,\n",
       " 20.3,\n",
       " 22.5,\n",
       " 29.0,\n",
       " 24.8,\n",
       " 22.0,\n",
       " 26.4,\n",
       " 33.1,\n",
       " 36.1,\n",
       " 28.4,\n",
       " 33.4,\n",
       " 28.2,\n",
       " 22.8,\n",
       " 20.3,\n",
       " 16.1,\n",
       " 22.1,\n",
       " 19.4,\n",
       " 21.6,\n",
       " 23.8,\n",
       " 16.2,\n",
       " 17.8,\n",
       " 19.8,\n",
       " 23.1,\n",
       " 21.0,\n",
       " 23.8,\n",
       " 23.1,\n",
       " 20.4,\n",
       " 18.5,\n",
       " 25.0,\n",
       " 24.6,\n",
       " 23.0,\n",
       " 22.2,\n",
       " 19.3,\n",
       " 22.6,\n",
       " 19.8,\n",
       " 17.1,\n",
       " 19.4,\n",
       " 22.2,\n",
       " 20.7,\n",
       " 21.1,\n",
       " 19.5,\n",
       " 18.5,\n",
       " 20.6,\n",
       " 19.0,\n",
       " 18.7,\n",
       " 32.7,\n",
       " 16.5,\n",
       " 23.9,\n",
       " 31.2,\n",
       " 17.5,\n",
       " 17.2,\n",
       " 23.1,\n",
       " 24.5,\n",
       " 26.6,\n",
       " 22.9,\n",
       " 24.1,\n",
       " 18.6,\n",
       " 30.1,\n",
       " 18.2,\n",
       " 20.6,\n",
       " 17.8,\n",
       " 21.7,\n",
       " 22.7,\n",
       " 22.6,\n",
       " 25.0,\n",
       " 19.9,\n",
       " 20.8,\n",
       " 16.8,\n",
       " 21.9,\n",
       " 27.5,\n",
       " 21.9,\n",
       " 23.1,\n",
       " 50.0,\n",
       " 50.0,\n",
       " 50.0,\n",
       " 50.0,\n",
       " 50.0,\n",
       " 13.8,\n",
       " 13.8,\n",
       " 15.0,\n",
       " 13.9,\n",
       " 13.3,\n",
       " 13.1,\n",
       " 10.2,\n",
       " 10.4,\n",
       " 10.9,\n",
       " 11.3,\n",
       " 12.3,\n",
       " 8.8,\n",
       " 7.2,\n",
       " 10.5,\n",
       " 7.4,\n",
       " 10.2,\n",
       " 11.5,\n",
       " 15.1,\n",
       " 23.2,\n",
       " 9.7,\n",
       " 13.8,\n",
       " 12.7,\n",
       " 13.1,\n",
       " 12.5,\n",
       " 8.5,\n",
       " 5.0,\n",
       " 6.3,\n",
       " 5.6,\n",
       " 7.2,\n",
       " 12.1,\n",
       " 8.3,\n",
       " 8.5,\n",
       " 5.0,\n",
       " 11.9,\n",
       " 27.9,\n",
       " 17.2,\n",
       " 27.5,\n",
       " 15.0,\n",
       " 17.2,\n",
       " 17.9,\n",
       " 16.3,\n",
       " 7.0,\n",
       " 7.2,\n",
       " 7.5,\n",
       " 10.4,\n",
       " 8.8,\n",
       " 8.4,\n",
       " 16.7,\n",
       " 14.2,\n",
       " 20.8,\n",
       " 13.4,\n",
       " 11.7,\n",
       " 8.3,\n",
       " 10.2,\n",
       " 10.9,\n",
       " 11.0,\n",
       " 9.5,\n",
       " 14.5,\n",
       " 14.1,\n",
       " 16.1,\n",
       " 14.3,\n",
       " 11.7,\n",
       " 13.4,\n",
       " 9.6,\n",
       " 8.7,\n",
       " 8.4,\n",
       " 12.8,\n",
       " 10.5,\n",
       " 17.1,\n",
       " 18.4,\n",
       " 15.4,\n",
       " 10.8,\n",
       " 11.8,\n",
       " 14.9,\n",
       " 12.6,\n",
       " 14.1,\n",
       " 13.0,\n",
       " 13.4,\n",
       " 15.2,\n",
       " 16.1,\n",
       " 17.8,\n",
       " 14.9,\n",
       " 14.1,\n",
       " 12.7,\n",
       " 13.5,\n",
       " 14.9,\n",
       " 20.0,\n",
       " 16.4,\n",
       " 17.7,\n",
       " 19.5,\n",
       " 20.2,\n",
       " 21.4,\n",
       " 19.9,\n",
       " 19.0,\n",
       " 19.1,\n",
       " 19.1,\n",
       " 20.1,\n",
       " 19.9,\n",
       " 19.6,\n",
       " 23.2,\n",
       " 29.8,\n",
       " 13.8,\n",
       " 13.3,\n",
       " 16.7,\n",
       " 12.0,\n",
       " 14.6,\n",
       " 21.4,\n",
       " 23.0,\n",
       " 23.7,\n",
       " 25.0,\n",
       " 21.8,\n",
       " 20.6,\n",
       " 21.2,\n",
       " 19.1,\n",
       " 20.6,\n",
       " 15.2,\n",
       " 7.0,\n",
       " 8.1,\n",
       " 13.6,\n",
       " 20.1,\n",
       " 21.8,\n",
       " 24.5,\n",
       " 23.1,\n",
       " 19.7,\n",
       " 18.3,\n",
       " 21.2,\n",
       " 17.5,\n",
       " 16.8,\n",
       " 22.4,\n",
       " 20.6,\n",
       " 23.9,\n",
       " 22.0,\n",
       " 11.9]"
      ]
     },
     "execution_count": 18,
     "metadata": {},
     "output_type": "execute_result"
    }
   ],
   "source": [
    "list(y)"
   ]
  },
  {
   "cell_type": "code",
   "execution_count": 19,
   "metadata": {},
   "outputs": [
    {
     "data": {
      "text/plain": [
       "[522.725,\n",
       " 509.943,\n",
       " 573.355,\n",
       " 557.8340000000001,\n",
       " 570.201,\n",
       " 510.68999999999994,\n",
       " 475.996,\n",
       " 489.27599999999995,\n",
       " 444.37300000000005,\n",
       " 475.33199999999994,\n",
       " 506.29099999999994,\n",
       " 475.747,\n",
       " 465.78700000000003,\n",
       " 470.767,\n",
       " 482.968,\n",
       " 461.222,\n",
       " 469.60499999999996,\n",
       " 474.17,\n",
       " 429.848,\n",
       " 452.341,\n",
       " 439.31,\n",
       " 472.09499999999997,\n",
       " 486.786,\n",
       " 459.479,\n",
       " 468.692,\n",
       " 441.71700000000004,\n",
       " 459.479,\n",
       " 478.90099999999995,\n",
       " 516.085,\n",
       " 530.942,\n",
       " 451.17900000000003,\n",
       " 480.976,\n",
       " 470.85,\n",
       " 450.183,\n",
       " 482.968,\n",
       " 469.43899999999996,\n",
       " 461.803,\n",
       " 462.54999999999995,\n",
       " 472.178,\n",
       " 524.385,\n",
       " 559.992,\n",
       " 538.91,\n",
       " 489.02699999999993,\n",
       " 492.51300000000003,\n",
       " 480.727,\n",
       " 448.60600000000005,\n",
       " 457.23799999999994,\n",
       " 477.49,\n",
       " 425.117,\n",
       " 441.966,\n",
       " 471.92900000000003,\n",
       " 484.545,\n",
       " 517.413,\n",
       " 474.834,\n",
       " 465.704,\n",
       " 578.6669999999999,\n",
       " 506.789,\n",
       " 542.728,\n",
       " 487.03499999999997,\n",
       " 468.941,\n",
       " 453.503,\n",
       " 472.178,\n",
       " 512.8480000000001,\n",
       " 538.246,\n",
       " 566.6320000000001,\n",
       " 499.07000000000005,\n",
       " 457.32099999999997,\n",
       " 464.874,\n",
       " 441.302,\n",
       " 465.455,\n",
       " 509.611,\n",
       " 471.76300000000003,\n",
       " 480.39500000000004,\n",
       " 495.33500000000004,\n",
       " 497.659,\n",
       " 498.73799999999994,\n",
       " 498.15700000000004,\n",
       " 486.61999999999995,\n",
       " 494.256,\n",
       " 464.542,\n",
       " 535.341,\n",
       " 526.377,\n",
       " 500.0659999999999,\n",
       " 488.861,\n",
       " 507.28700000000003,\n",
       " 527.29,\n",
       " 476.24499999999995,\n",
       " 485.04300000000006,\n",
       " 558.581,\n",
       " 564.557,\n",
       " 509.611,\n",
       " 508.615,\n",
       " 511.68600000000004,\n",
       " 492.51300000000003,\n",
       " 495.6669999999999,\n",
       " 526.875,\n",
       " 488.529,\n",
       " 646.7270000000001,\n",
       " 626.0600000000001,\n",
       " 592.528,\n",
       " 535.341,\n",
       " 539.823,\n",
       " 508.615,\n",
       " 486.371,\n",
       " 488.861,\n",
       " 462.633,\n",
       " 461.38800000000003,\n",
       " 485.541,\n",
       " 514.342,\n",
       " 494.00700000000006,\n",
       " 491.18500000000006,\n",
       " 534.345,\n",
       " 467.779,\n",
       " 482.63599999999997,\n",
       " 496.082,\n",
       " 469.024,\n",
       " 489.60800000000006,\n",
       " 476.743,\n",
       " 464.376,\n",
       " 452.673,\n",
       " 464.21000000000004,\n",
       " 475.33199999999994,\n",
       " 471.76300000000003,\n",
       " 463.048,\n",
       " 464.95699999999994,\n",
       " 473.83799999999997,\n",
       " 442.879,\n",
       " 449.51899999999995,\n",
       " 510.773,\n",
       " 444.871,\n",
       " 513.014,\n",
       " 502.058,\n",
       " 505.876,\n",
       " 460.226,\n",
       " 454.83099999999996,\n",
       " 502.80499999999995,\n",
       " 470.18600000000004,\n",
       " 512.682,\n",
       " 463.13100000000003,\n",
       " 487.53299999999996,\n",
       " 489.442,\n",
       " 393.577,\n",
       " 425.44899999999996,\n",
       " 430.844,\n",
       " 383.94899999999996,\n",
       " 485.78999999999996,\n",
       " 444.124,\n",
       " 385.858,\n",
       " 407.438,\n",
       " 441.55100000000004,\n",
       " 485.126,\n",
       " 425.532,\n",
       " 392.996,\n",
       " 450.847,\n",
       " 485.70699999999994,\n",
       " 487.616,\n",
       " 414.576,\n",
       " 553.269,\n",
       " 480.478,\n",
       " 517.3299999999999,\n",
       " 495.75,\n",
       " 598.587,\n",
       " 624.5659999999999,\n",
       " 672.125,\n",
       " 462.882,\n",
       " 483.383,\n",
       " 635.107,\n",
       " 464.791,\n",
       " 501.477,\n",
       " 508.366,\n",
       " 464.625,\n",
       " 465.03999999999996,\n",
       " 439.476,\n",
       " 509.528,\n",
       " 463.297,\n",
       " 520.318,\n",
       " 476.65999999999997,\n",
       " 501.145,\n",
       " 546.38,\n",
       " 556.34,\n",
       " 621.495,\n",
       " 486.952,\n",
       " 570.865,\n",
       " 521.7289999999999,\n",
       " 442.132,\n",
       " 487.69899999999996,\n",
       " 626.9730000000001,\n",
       " 539.906,\n",
       " 521.148,\n",
       " 573.355,\n",
       " 553.933,\n",
       " 536.337,\n",
       " 572.774,\n",
       " 541.4,\n",
       " 525.1320000000001,\n",
       " 630.625,\n",
       " 581.821,\n",
       " 566.881,\n",
       " 580.742,\n",
       " 555.925,\n",
       " 569.2049999999999,\n",
       " 488.44599999999997,\n",
       " 608.63,\n",
       " 628.799,\n",
       " 643.822,\n",
       " 465.953,\n",
       " 502.058,\n",
       " 456.98900000000003,\n",
       " 480.312,\n",
       " 420.552,\n",
       " 471.68,\n",
       " 425.532,\n",
       " 458.98100000000005,\n",
       " 506.125,\n",
       " 426.19599999999997,\n",
       " 490.106,\n",
       " 465.704,\n",
       " 528.2860000000001,\n",
       " 470.933,\n",
       " 505.95900000000006,\n",
       " 553.933,\n",
       " 488.61199999999997,\n",
       " 547.957,\n",
       " 526.294,\n",
       " 663.078,\n",
       " 701.175,\n",
       " 644.3199999999999,\n",
       " 571.529,\n",
       " 614.938,\n",
       " 520.8159999999999,\n",
       " 473.423,\n",
       " 592.196,\n",
       " 668.971,\n",
       " 661.501,\n",
       " 535.258,\n",
       " 482.13800000000003,\n",
       " 527.373,\n",
       " 587.7139999999999,\n",
       " 514.923,\n",
       " 525.298,\n",
       " 549.451,\n",
       " 482.885,\n",
       " 504.71399999999994,\n",
       " 507.619,\n",
       " 441.219,\n",
       " 442.21500000000003,\n",
       " 483.964,\n",
       " 493.75800000000004,\n",
       " 510.93899999999996,\n",
       " 534.594,\n",
       " 515.421,\n",
       " 511.3539999999999,\n",
       " 554.431,\n",
       " 662.4970000000001,\n",
       " 483.964,\n",
       " 464.708,\n",
       " 595.682,\n",
       " 699.432,\n",
       " 585.639,\n",
       " 544.886,\n",
       " 574.849,\n",
       " 601.16,\n",
       " 674.034,\n",
       " 585.141,\n",
       " 575.0980000000001,\n",
       " 438.47999999999996,\n",
       " 559.162,\n",
       " 665.6510000000001,\n",
       " 597.01,\n",
       " 468.36,\n",
       " 463.048,\n",
       " 494.9200000000001,\n",
       " 519.654,\n",
       " 615.353,\n",
       " 537.914,\n",
       " 545.8820000000001,\n",
       " 580.1610000000001,\n",
       " 543.558,\n",
       " 515.006,\n",
       " 542.3960000000001,\n",
       " 626.0600000000001,\n",
       " 555.344,\n",
       " 611.535,\n",
       " 634.609,\n",
       " 565.304,\n",
       " 512.599,\n",
       " 494.09000000000003,\n",
       " 492.347,\n",
       " 501.145,\n",
       " 521.895,\n",
       " 546.463,\n",
       " 570.284,\n",
       " 527.29,\n",
       " 485.541,\n",
       " 475.747,\n",
       " 531.274,\n",
       " 520.567,\n",
       " 457.57,\n",
       " 503.635,\n",
       " 561.403,\n",
       " 547.293,\n",
       " 523.97,\n",
       " 516.085,\n",
       " 556.506,\n",
       " 577.588,\n",
       " 526.1279999999999,\n",
       " 592.86,\n",
       " 545.467,\n",
       " 527.7049999999999,\n",
       " 472.67600000000004,\n",
       " 389.759,\n",
       " 485.126,\n",
       " 476.909,\n",
       " 497.078,\n",
       " 522.061,\n",
       " 450.515,\n",
       " 467.86199999999997,\n",
       " 456.906,\n",
       " 506.706,\n",
       " 484.379,\n",
       " 510.35800000000006,\n",
       " 506.2080000000001,\n",
       " 478.403,\n",
       " 450.764,\n",
       " 509.44500000000005,\n",
       " 510.773,\n",
       " 500.8960000000001,\n",
       " 481.889,\n",
       " 464.04400000000004,\n",
       " 502.639,\n",
       " 486.952,\n",
       " 450.598,\n",
       " 477.573,\n",
       " 501.22799999999995,\n",
       " 500.73,\n",
       " 478.07099999999997,\n",
       " 464.12699999999995,\n",
       " 466.28499999999997,\n",
       " 479.897,\n",
       " 473.75500000000005,\n",
       " 472.344,\n",
       " 578.0029999999999,\n",
       " 519.82,\n",
       " 532.768,\n",
       " 547.5419999999999,\n",
       " 476.16200000000003,\n",
       " 466.534,\n",
       " 517.828,\n",
       " 527.7049999999999,\n",
       " 552.937,\n",
       " 515.6700000000001,\n",
       " 523.057,\n",
       " 465.372,\n",
       " 535.424,\n",
       " 447.029,\n",
       " 469.688,\n",
       " 492.596,\n",
       " 507.78499999999997,\n",
       " 485.541,\n",
       " 484.296,\n",
       " 508.034,\n",
       " 495.8330000000001,\n",
       " 422.046,\n",
       " 458.649,\n",
       " 705.7399999999999,\n",
       " 272.563,\n",
       " 388.92900000000003,\n",
       " 297.629,\n",
       " 389.51,\n",
       " 531.689,\n",
       " 559.328,\n",
       " 492.928,\n",
       " 464.625,\n",
       " 384.198,\n",
       " 320.454,\n",
       " 583.9789999999999,\n",
       " 528.867,\n",
       " 540.9019999999999,\n",
       " 506.53999999999996,\n",
       " 493.509,\n",
       " 555.344,\n",
       " 520.235,\n",
       " 436.48799999999994,\n",
       " 435.15999999999997,\n",
       " 339.54400000000004,\n",
       " 414.991,\n",
       " 363.116,\n",
       " 392.0,\n",
       " 382.03999999999996,\n",
       " 424.36999999999995,\n",
       " 451.17900000000003,\n",
       " 479.233,\n",
       " 394.98799999999994,\n",
       " 491.019,\n",
       " 465.621,\n",
       " 514.093,\n",
       " 508.615,\n",
       " 454.001,\n",
       " 429.59900000000005,\n",
       " 462.716,\n",
       " 473.921,\n",
       " 503.46900000000005,\n",
       " 508.53200000000004,\n",
       " 420.96700000000004,\n",
       " 436.073,\n",
       " 448.68899999999996,\n",
       " 320.454,\n",
       " 442.464,\n",
       " 443.211,\n",
       " 545.716,\n",
       " 454.83099999999996,\n",
       " 529.531,\n",
       " 361.124,\n",
       " 404.865,\n",
       " 352.077,\n",
       " 511.02200000000005,\n",
       " 539.906,\n",
       " 417.232,\n",
       " 471.431,\n",
       " 543.3919999999999,\n",
       " 509.11299999999994,\n",
       " 475.49800000000005,\n",
       " 445.784,\n",
       " 483.549,\n",
       " 438.89500000000004,\n",
       " 466.368,\n",
       " 461.471,\n",
       " 491.76599999999996,\n",
       " 491.019,\n",
       " 506.53999999999996,\n",
       " 503.884,\n",
       " 544.139,\n",
       " 510.275,\n",
       " 511.188,\n",
       " 492.264,\n",
       " 527.207,\n",
       " 513.263,\n",
       " 487.616,\n",
       " 469.60499999999996,\n",
       " 444.041,\n",
       " 459.89399999999995,\n",
       " 508.698,\n",
       " 493.177,\n",
       " 515.255,\n",
       " 462.882,\n",
       " 513.097,\n",
       " 503.303,\n",
       " 495.8330000000001,\n",
       " 490.355,\n",
       " 509.611,\n",
       " 537.1669999999999,\n",
       " 529.365,\n",
       " 499.65099999999995,\n",
       " 590.619,\n",
       " 535.424,\n",
       " 518.575,\n",
       " 473.008,\n",
       " 469.688,\n",
       " 499.98300000000006,\n",
       " 481.723,\n",
       " 533.183,\n",
       " 506.2080000000001,\n",
       " 501.31100000000004,\n",
       " 517.579,\n",
       " 492.347,\n",
       " 454.997,\n",
       " 471.016,\n",
       " 475.249,\n",
       " 468.858,\n",
       " 451.17900000000003,\n",
       " 488.861,\n",
       " 494.00700000000006,\n",
       " 511.2710000000001,\n",
       " 556.34,\n",
       " 427.441,\n",
       " 488.44599999999997,\n",
       " 515.172,\n",
       " 417.232,\n",
       " 490.355,\n",
       " 494.00700000000006,\n",
       " 495.086,\n",
       " 537.25,\n",
       " 563.063,\n",
       " 455.246,\n",
       " 464.29300000000006,\n",
       " 500.8960000000001,\n",
       " 484.462,\n",
       " 467.115,\n",
       " 429.68199999999996,\n",
       " 426.36199999999997,\n",
       " 399.719,\n",
       " 473.589,\n",
       " 473.589,\n",
       " 450.681,\n",
       " 468.858,\n",
       " 447.61,\n",
       " 424.36999999999995,\n",
       " 457.902,\n",
       " 476.577,\n",
       " 439.227,\n",
       " 477.241,\n",
       " 524.219,\n",
       " 484.96000000000004,\n",
       " 556.008,\n",
       " 540.9019999999999,\n",
       " 477.49]"
      ]
     },
     "execution_count": 19,
     "metadata": {},
     "output_type": "execute_result"
    }
   ],
   "source": [
    "price_by_random_k_and_b"
   ]
  },
  {
   "cell_type": "code",
   "execution_count": 20,
   "metadata": {},
   "outputs": [
    {
     "data": {
      "text/plain": [
       "[2, 2, 2]"
      ]
     },
     "execution_count": 20,
     "metadata": {},
     "output_type": "execute_result"
    }
   ],
   "source": [
    "[1, 1, 1]\n",
    "[2, 2, 2]"
   ]
  },
  {
   "cell_type": "markdown",
   "metadata": {},
   "source": [
    "###  loss\n",
    "\n",
    "$$ loss = \\frac{1}{n} \\sum{(y_i - \\hat{y_i})}$$"
   ]
  },
  {
   "cell_type": "code",
   "execution_count": 21,
   "metadata": {},
   "outputs": [],
   "source": [
    "def loss(y, y_hat): # to evaluate the performance \n",
    "    return sum((y_i - y_hat_i)**2 for y_i, y_hat_i in zip(list(y), list(y_hat))) / len(list(y))"
   ]
  },
  {
   "cell_type": "markdown",
   "metadata": {},
   "source": [
    "###  First-Method: Random generation: get best k and best b"
   ]
  },
  {
   "cell_type": "code",
   "execution_count": 22,
   "metadata": {},
   "outputs": [],
   "source": [
    "X_rm = X[:, 5]"
   ]
  },
  {
   "cell_type": "code",
   "execution_count": 23,
   "metadata": {},
   "outputs": [
    {
     "name": "stdout",
     "output_type": "stream",
     "text": [
      "When time is : 0, get best_k: 22.87933309746073 best_b: -86.15473328097998, and the loss is: 1369.179386014382\n",
      "When time is : 2, get best_k: 3.3216995344439226 best_b: -30.12116932831168, and the loss is: 1069.9239360091676\n",
      "When time is : 25, get best_k: 0.7412708771106225 best_b: 28.694621349014312, and the loss is: 195.12346506873948\n",
      "When time is : 51, get best_k: 11.616350810528516 best_b: -52.41687214385702, and the loss is: 50.498731393346496\n",
      "When time is : 279, get best_k: 6.039708405757139 best_b: -15.781785170782413, and the loss is: 48.34880893656799\n",
      "When time is : 1901, get best_k: 10.550568414900255 best_b: -45.00945763802395, and the loss is: 46.16144235719699\n"
     ]
    }
   ],
   "source": [
    "trying_times = 2000\n",
    "\n",
    "min_loss = float('inf')\n",
    "best_k, best_b = None, None\n",
    "\n",
    "for i in range(trying_times):\n",
    "    k = random.random() * 200 - 100\n",
    "    b = random.random() * 200 - 100\n",
    "    price_by_random_k_and_b = [price(r, k, b) for r in X_rm]\n",
    "\n",
    "    current_loss = loss(y, price_by_random_k_and_b)\n",
    "    \n",
    "    if current_loss < min_loss:\n",
    "        min_loss = current_loss\n",
    "        best_k, best_b = k, b\n",
    "        print('When time is : {}, get best_k: {} best_b: {}, and the loss is: {}'.format(i, best_k, best_b, min_loss))"
   ]
  },
  {
   "cell_type": "code",
   "execution_count": 24,
   "metadata": {},
   "outputs": [
    {
     "data": {
      "text/plain": [
       "3.1622776601683795"
      ]
     },
     "execution_count": 24,
     "metadata": {},
     "output_type": "execute_result"
    }
   ],
   "source": [
    "10 ** 0.5"
   ]
  },
  {
   "cell_type": "code",
   "execution_count": 25,
   "metadata": {},
   "outputs": [
    {
     "data": {
      "text/plain": [
       "<matplotlib.collections.PathCollection at 0x23bf408d748>"
      ]
     },
     "execution_count": 25,
     "metadata": {},
     "output_type": "execute_result"
    },
    {
     "data": {
      "image/png": "[encoded data removed]",
      "text/plain": [
       "<matplotlib.figure.Figure at 0x23bf3f455f8>"
      ]
     },
     "metadata": {},
     "output_type": "display_data"
    }
   ],
   "source": [
    "X_rm = X[:, 5]\n",
    "k = 15\n",
    "b = -68\n",
    "price_by_random_k_and_b = [price(r, k, b) for r in X_rm]\n",
    "\n",
    "draw_rm_and_price()\n",
    "plt.scatter(X_rm, price_by_random_k_and_b)"
   ]
  },
  {
   "cell_type": "markdown",
   "metadata": {},
   "source": [
    "###  2nd-Method: Direction Adjusting"
   ]
  },
  {
   "cell_type": "code",
   "execution_count": 26,
   "metadata": {},
   "outputs": [
    {
     "name": "stdout",
     "output_type": "stream",
     "text": [
      "When time is : 0, get best_k: 66.9100321099254 best_b: 41.02525419933723, and the loss is: 194408.90481607636\n",
      "When time is : 2, get best_k: 66.8100321099254 best_b: 40.92525419933723, and the loss is: 193764.15675445713\n",
      "When time is : 3, get best_k: 66.71003210992541 best_b: 40.82525419933723, and the loss is: 193120.47986470547\n",
      "When time is : 4, get best_k: 66.61003210992541 best_b: 40.72525419933723, and the loss is: 192477.87414682168\n",
      "When time is : 5, get best_k: 66.51003210992542 best_b: 40.62525419933723, and the loss is: 191836.33960080487\n",
      "When time is : 6, get best_k: 66.41003210992542 best_b: 40.525254199337226, and the loss is: 191195.87622665585\n",
      "When time is : 7, get best_k: 66.31003210992543 best_b: 40.425254199337225, and the loss is: 190556.484024374\n",
      "When time is : 8, get best_k: 66.21003210992544 best_b: 40.32525419933722, and the loss is: 189918.16299395956\n",
      "When time is : 9, get best_k: 66.11003210992544 best_b: 40.22525419933722, and the loss is: 189280.91313541305\n",
      "When time is : 10, get best_k: 66.01003210992545 best_b: 40.12525419933722, and the loss is: 188644.73444873345\n",
      "When time is : 11, get best_k: 65.91003210992545 best_b: 40.02525419933722, and the loss is: 188009.6269339216\n",
      "When time is : 12, get best_k: 65.81003210992546 best_b: 39.92525419933722, and the loss is: 187375.59059097752\n",
      "When time is : 13, get best_k: 65.71003210992546 best_b: 39.825254199337216, and the loss is: 186742.62541990035\n",
      "When time is : 14, get best_k: 65.61003210992547 best_b: 39.725254199337215, and the loss is: 186110.73142069095\n",
      "When time is : 15, get best_k: 65.51003210992548 best_b: 39.62525419933721, and the loss is: 185479.9085933491\n",
      "When time is : 16, get best_k: 65.41003210992548 best_b: 39.52525419933721, and the loss is: 184850.15693787442\n",
      "When time is : 17, get best_k: 65.31003210992549 best_b: 39.42525419933721, and the loss is: 184221.4764542675\n",
      "When time is : 18, get best_k: 65.21003210992549 best_b: 39.32525419933721, and the loss is: 183593.8671425281\n",
      "When time is : 19, get best_k: 65.1100321099255 best_b: 39.22525419933721, and the loss is: 182967.32900265616\n",
      "When time is : 20, get best_k: 65.0100321099255 best_b: 39.125254199337206, and the loss is: 182341.86203465133\n",
      "When time is : 21, get best_k: 64.91003210992551 best_b: 39.025254199337205, and the loss is: 181717.4662385142\n",
      "When time is : 22, get best_k: 64.81003210992552 best_b: 38.9252541993372, and the loss is: 181094.14161424438\n",
      "When time is : 23, get best_k: 64.71003210992552 best_b: 38.8252541993372, and the loss is: 180471.8881618423\n",
      "When time is : 24, get best_k: 64.61003210992553 best_b: 38.7252541993372, and the loss is: 179850.70588130775\n",
      "When time is : 25, get best_k: 64.51003210992553 best_b: 38.6252541993372, and the loss is: 179230.59477264038\n",
      "When time is : 26, get best_k: 64.41003210992554 best_b: 38.5252541993372, and the loss is: 178611.5548358406\n",
      "When time is : 27, get best_k: 64.31003210992554 best_b: 38.425254199337196, and the loss is: 177993.58607090806\n",
      "When time is : 28, get best_k: 64.21003210992555 best_b: 38.325254199337195, and the loss is: 177376.68847784345\n",
      "When time is : 29, get best_k: 64.11003210992556 best_b: 38.22525419933719, and the loss is: 176760.86205664615\n",
      "When time is : 30, get best_k: 64.01003210992556 best_b: 38.12525419933719, and the loss is: 176146.10680731598\n",
      "When time is : 31, get best_k: 63.91003210992556 best_b: 38.02525419933719, and the loss is: 175532.4227298537\n",
      "When time is : 32, get best_k: 63.81003210992556 best_b: 37.92525419933719, and the loss is: 174919.8098242588\n",
      "When time is : 33, get best_k: 63.71003210992556 best_b: 37.82525419933719, and the loss is: 174308.2680905309\n",
      "When time is : 34, get best_k: 63.610032109925555 best_b: 37.725254199337186, and the loss is: 173697.79752867104\n",
      "When time is : 35, get best_k: 63.510032109925554 best_b: 37.625254199337185, and the loss is: 173088.39813867828\n",
      "When time is : 36, get best_k: 63.41003210992555 best_b: 37.52525419933718, and the loss is: 172480.0699205531\n",
      "When time is : 37, get best_k: 63.31003210992555 best_b: 37.42525419933718, and the loss is: 171872.8128742956\n",
      "When time is : 38, get best_k: 63.21003210992555 best_b: 37.32525419933718, and the loss is: 171266.62699990554\n",
      "When time is : 39, get best_k: 63.11003210992555 best_b: 37.22525419933718, and the loss is: 170661.51229738275\n",
      "When time is : 40, get best_k: 63.01003210992555 best_b: 37.12525419933718, and the loss is: 170057.46876672754\n",
      "When time is : 41, get best_k: 62.910032109925545 best_b: 37.025254199337176, and the loss is: 169454.49640793976\n",
      "When time is : 42, get best_k: 62.810032109925544 best_b: 36.925254199337175, and the loss is: 168852.5952210194\n",
      "When time is : 43, get best_k: 62.71003210992554 best_b: 36.825254199337174, and the loss is: 168251.7652059666\n",
      "When time is : 44, get best_k: 62.61003210992554 best_b: 36.72525419933717, and the loss is: 167652.00636278122\n",
      "When time is : 45, get best_k: 62.51003210992554 best_b: 36.62525419933717, and the loss is: 167053.31869146315\n",
      "When time is : 46, get best_k: 62.41003210992554 best_b: 36.52525419933717, and the loss is: 166455.70219201283\n",
      "When time is : 47, get best_k: 62.31003210992554 best_b: 36.42525419933717, and the loss is: 165859.15686443006\n",
      "When time is : 48, get best_k: 62.210032109925535 best_b: 36.32525419933717, and the loss is: 165263.6827087148\n",
      "When time is : 49, get best_k: 62.110032109925534 best_b: 36.225254199337165, and the loss is: 164669.2797248664\n",
      "When time is : 50, get best_k: 62.01003210992553 best_b: 36.125254199337164, and the loss is: 164075.94791288604\n",
      "When time is : 51, get best_k: 61.91003210992553 best_b: 36.02525419933716, and the loss is: 163483.68727277278\n",
      "When time is : 52, get best_k: 61.81003210992553 best_b: 35.92525419933716, and the loss is: 162892.4978045269\n",
      "When time is : 53, get best_k: 61.71003210992553 best_b: 35.82525419933716, and the loss is: 162302.37950814926\n",
      "When time is : 54, get best_k: 61.61003210992553 best_b: 35.72525419933716, and the loss is: 161713.33238363857\n",
      "When time is : 55, get best_k: 61.510032109925525 best_b: 35.62525419933716, and the loss is: 161125.35643099545\n",
      "When time is : 56, get best_k: 61.410032109925524 best_b: 35.525254199337155, and the loss is: 160538.45165021956\n",
      "When time is : 57, get best_k: 61.31003210992552 best_b: 35.425254199337154, and the loss is: 159952.61804131133\n",
      "When time is : 58, get best_k: 61.21003210992552 best_b: 35.32525419933715, and the loss is: 159367.8556042707\n",
      "When time is : 59, get best_k: 61.11003210992552 best_b: 35.22525419933715, and the loss is: 158784.16433909722\n",
      "When time is : 60, get best_k: 61.01003210992552 best_b: 35.12525419933715, and the loss is: 158201.54424579165\n",
      "When time is : 61, get best_k: 60.91003210992552 best_b: 35.02525419933715, and the loss is: 157619.99532435305\n",
      "When time is : 62, get best_k: 60.810032109925515 best_b: 34.92525419933715, and the loss is: 157039.51757478225\n",
      "When time is : 63, get best_k: 60.710032109925514 best_b: 34.825254199337145, and the loss is: 156460.11099707882\n",
      "When time is : 64, get best_k: 60.61003210992551 best_b: 34.725254199337144, and the loss is: 155881.77559124285\n",
      "When time is : 65, get best_k: 60.51003210992551 best_b: 34.62525419933714, and the loss is: 155304.51135727455\n",
      "When time is : 66, get best_k: 60.41003210992551 best_b: 34.52525419933714, and the loss is: 154728.31829517352\n",
      "When time is : 67, get best_k: 60.31003210992551 best_b: 34.42525419933714, and the loss is: 154153.19640493978\n",
      "When time is : 68, get best_k: 60.21003210992551 best_b: 34.32525419933714, and the loss is: 153579.1456865737\n",
      "When time is : 69, get best_k: 60.110032109925505 best_b: 34.22525419933714, and the loss is: 153006.1661400752\n",
      "When time is : 70, get best_k: 60.010032109925504 best_b: 34.125254199337135, and the loss is: 152434.257765444\n",
      "When time is : 71, get best_k: 59.9100321099255 best_b: 34.025254199337134, and the loss is: 151863.42056268032\n",
      "When time is : 72, get best_k: 59.8100321099255 best_b: 33.92525419933713, and the loss is: 151293.6545317842\n",
      "When time is : 73, get best_k: 59.7100321099255 best_b: 33.82525419933713, and the loss is: 150724.95967275536\n",
      "When time is : 74, get best_k: 59.6100321099255 best_b: 33.72525419933713, and the loss is: 150157.3359855943\n",
      "When time is : 75, get best_k: 59.5100321099255 best_b: 33.62525419933713, and the loss is: 149590.7834703004\n",
      "When time is : 76, get best_k: 59.410032109925496 best_b: 33.52525419933713, and the loss is: 149025.302126874\n",
      "When time is : 77, get best_k: 59.310032109925494 best_b: 33.425254199337125, and the loss is: 148460.89195531522\n",
      "When time is : 78, get best_k: 59.21003210992549 best_b: 33.325254199337124, and the loss is: 147897.55295562395\n",
      "When time is : 79, get best_k: 59.11003210992549 best_b: 33.22525419933712, and the loss is: 147335.2851278001\n",
      "When time is : 80, get best_k: 59.01003210992549 best_b: 33.12525419933712, and the loss is: 146774.08847184366\n",
      "When time is : 81, get best_k: 58.91003210992549 best_b: 33.02525419933712, and the loss is: 146213.96298775464\n",
      "When time is : 82, get best_k: 58.81003210992549 best_b: 32.92525419933712, and the loss is: 145654.90867553317\n",
      "When time is : 83, get best_k: 58.710032109925486 best_b: 32.82525419933712, and the loss is: 145096.92553517912\n",
      "When time is : 84, get best_k: 58.610032109925484 best_b: 32.725254199337115, and the loss is: 144540.0135666923\n",
      "When time is : 85, get best_k: 58.51003210992548 best_b: 32.625254199337114, and the loss is: 143984.17277007343\n",
      "When time is : 86, get best_k: 58.41003210992548 best_b: 32.52525419933711, and the loss is: 143429.40314532188\n",
      "When time is : 87, get best_k: 58.31003210992548 best_b: 32.42525419933711, and the loss is: 142875.70469243778\n",
      "When time is : 88, get best_k: 58.21003210992548 best_b: 32.32525419933711, and the loss is: 142323.07741142108\n",
      "When time is : 89, get best_k: 58.11003210992548 best_b: 32.22525419933711, and the loss is: 141771.52130227204\n",
      "When time is : 90, get best_k: 58.010032109925476 best_b: 32.12525419933711, and the loss is: 141221.03636499026\n",
      "When time is : 91, get best_k: 57.910032109925474 best_b: 32.025254199337105, and the loss is: 140671.62259957576\n",
      "When time is : 92, get best_k: 57.81003210992547 best_b: 31.925254199337104, and the loss is: 140123.28000602906\n",
      "When time is : 93, get best_k: 57.71003210992547 best_b: 31.825254199337103, and the loss is: 139576.00858434985\n",
      "When time is : 94, get best_k: 57.61003210992547 best_b: 31.7252541993371, and the loss is: 139029.80833453793\n",
      "When time is : 95, get best_k: 57.51003210992547 best_b: 31.6252541993371, and the loss is: 138484.67925659352\n",
      "When time is : 96, get best_k: 57.41003210992547 best_b: 31.5252541993371, and the loss is: 137940.62135051677\n",
      "When time is : 97, get best_k: 57.310032109925466 best_b: 31.425254199337097, and the loss is: 137397.63461630724\n",
      "When time is : 98, get best_k: 57.210032109925464 best_b: 31.325254199337095, and the loss is: 136855.7190539652\n",
      "When time is : 99, get best_k: 57.11003210992546 best_b: 31.225254199337094, and the loss is: 136314.87466349077\n",
      "When time is : 100, get best_k: 57.01003210992546 best_b: 31.125254199337093, and the loss is: 135775.10144488374\n",
      "When time is : 101, get best_k: 56.91003210992546 best_b: 31.02525419933709, and the loss is: 135236.39939814425\n",
      "When time is : 102, get best_k: 56.81003210992546 best_b: 30.92525419933709, and the loss is: 134698.7685232723\n",
      "When time is : 103, get best_k: 56.71003210992546 best_b: 30.82525419933709, and the loss is: 134162.20882026758\n",
      "When time is : 104, get best_k: 56.610032109925456 best_b: 30.725254199337087, and the loss is: 133626.72028913046\n",
      "When time is : 105, get best_k: 56.510032109925454 best_b: 30.625254199337085, and the loss is: 133092.30292986074\n",
      "When time is : 106, get best_k: 56.41003210992545 best_b: 30.525254199337084, and the loss is: 132558.95674245863\n",
      "When time is : 107, get best_k: 56.31003210992545 best_b: 30.425254199337083, and the loss is: 132026.6817269237\n",
      "When time is : 108, get best_k: 56.21003210992545 best_b: 30.32525419933708, and the loss is: 131495.47788325656\n",
      "When time is : 109, get best_k: 56.11003210992545 best_b: 30.22525419933708, and the loss is: 130965.34521145682\n",
      "When time is : 110, get best_k: 56.01003210992545 best_b: 30.12525419933708, and the loss is: 130436.28371152432\n",
      "When time is : 111, get best_k: 55.910032109925446 best_b: 30.025254199337077, and the loss is: 129908.29338345965\n",
      "When time is : 112, get best_k: 55.810032109925444 best_b: 29.925254199337076, and the loss is: 129381.37422726213\n",
      "When time is : 113, get best_k: 55.71003210992544 best_b: 29.825254199337074, and the loss is: 128855.52624293222\n",
      "When time is : 114, get best_k: 55.61003210992544 best_b: 29.725254199337073, and the loss is: 128330.7494304699\n",
      "When time is : 115, get best_k: 55.51003210992544 best_b: 29.62525419933707, and the loss is: 127807.04378987501\n",
      "When time is : 116, get best_k: 55.41003210992544 best_b: 29.52525419933707, and the loss is: 127284.40932114737\n",
      "When time is : 117, get best_k: 55.31003210992544 best_b: 29.42525419933707, and the loss is: 126762.84602428749\n",
      "When time is : 118, get best_k: 55.210032109925436 best_b: 29.325254199337067, and the loss is: 126242.35389929498\n",
      "When time is : 119, get best_k: 55.110032109925434 best_b: 29.225254199337066, and the loss is: 125722.93294616987\n",
      "When time is : 120, get best_k: 55.01003210992543 best_b: 29.125254199337064, and the loss is: 125204.58316491224\n",
      "When time is : 121, get best_k: 54.91003210992543 best_b: 29.025254199337063, and the loss is: 124687.30455552215\n",
      "When time is : 122, get best_k: 54.81003210992543 best_b: 28.92525419933706, and the loss is: 124171.09711799944\n",
      "When time is : 123, get best_k: 54.71003210992543 best_b: 28.82525419933706, and the loss is: 123655.96085234424\n",
      "When time is : 124, get best_k: 54.61003210992543 best_b: 28.72525419933706, and the loss is: 123141.89575855651\n",
      "When time is : 125, get best_k: 54.510032109925426 best_b: 28.625254199337057, and the loss is: 122628.90183663617\n",
      "When time is : 126, get best_k: 54.410032109925424 best_b: 28.525254199337056, and the loss is: 122116.97908658332\n",
      "When time is : 127, get best_k: 54.31003210992542 best_b: 28.425254199337054, and the loss is: 121606.12750839804\n",
      "When time is : 128, get best_k: 54.21003210992542 best_b: 28.325254199337053, and the loss is: 121096.34710208024\n",
      "When time is : 129, get best_k: 54.11003210992542 best_b: 28.22525419933705, and the loss is: 120587.63786762969\n",
      "When time is : 130, get best_k: 54.01003210992542 best_b: 28.12525419933705, and the loss is: 120079.99980504718\n",
      "When time is : 131, get best_k: 53.91003210992542 best_b: 28.02525419933705, and the loss is: 119573.43291433151\n",
      "When time is : 132, get best_k: 53.810032109925416 best_b: 27.925254199337047, and the loss is: 119067.93719548354\n",
      "When time is : 133, get best_k: 53.710032109925415 best_b: 27.825254199337046, and the loss is: 118563.51264850286\n",
      "When time is : 134, get best_k: 53.61003210992541 best_b: 27.725254199337044, and the loss is: 118060.15927339015\n",
      "When time is : 135, get best_k: 53.51003210992541 best_b: 27.625254199337043, and the loss is: 117557.87707014443\n",
      "When time is : 136, get best_k: 53.41003210992541 best_b: 27.52525419933704, and the loss is: 117056.6660387665\n",
      "When time is : 137, get best_k: 53.31003210992541 best_b: 27.42525419933704, and the loss is: 116556.5261792557\n",
      "When time is : 138, get best_k: 53.21003210992541 best_b: 27.32525419933704, and the loss is: 116057.45749161259\n",
      "When time is : 139, get best_k: 53.110032109925406 best_b: 27.225254199337037, and the loss is: 115559.45997583702\n",
      "When time is : 140, get best_k: 53.010032109925405 best_b: 27.125254199337036, and the loss is: 115062.53363192882\n",
      "When time is : 141, get best_k: 52.9100321099254 best_b: 27.025254199337034, and the loss is: 114566.678459888\n",
      "When time is : 142, get best_k: 52.8100321099254 best_b: 26.925254199337033, and the loss is: 114071.89445971487\n",
      "When time is : 143, get best_k: 52.7100321099254 best_b: 26.82525419933703, and the loss is: 113578.18163140886\n",
      "When time is : 144, get best_k: 52.6100321099254 best_b: 26.72525419933703, and the loss is: 113085.5399749706\n",
      "When time is : 145, get best_k: 52.5100321099254 best_b: 26.62525419933703, and the loss is: 112593.96949039976\n",
      "When time is : 146, get best_k: 52.410032109925396 best_b: 26.525254199337027, and the loss is: 112103.47017769646\n",
      "When time is : 147, get best_k: 52.310032109925395 best_b: 26.425254199337026, and the loss is: 111614.04203686038\n",
      "When time is : 148, get best_k: 52.21003210992539 best_b: 26.325254199337024, and the loss is: 111125.68506789212\n",
      "When time is : 149, get best_k: 52.11003210992539 best_b: 26.225254199337023, and the loss is: 110638.39927079124\n",
      "When time is : 150, get best_k: 52.01003210992539 best_b: 26.12525419933702, and the loss is: 110152.18464555754\n",
      "When time is : 151, get best_k: 51.91003210992539 best_b: 26.02525419933702, and the loss is: 109667.04119219167\n",
      "When time is : 152, get best_k: 51.81003210992539 best_b: 25.92525419933702, and the loss is: 109182.96891069302\n",
      "When time is : 153, get best_k: 51.710032109925386 best_b: 25.825254199337017, and the loss is: 108699.96780106188\n",
      "When time is : 154, get best_k: 51.610032109925385 best_b: 25.725254199337016, and the loss is: 108218.03786329825\n",
      "When time is : 155, get best_k: 51.51003210992538 best_b: 25.625254199337014, and the loss is: 107737.17909740216\n",
      "When time is : 156, get best_k: 51.41003210992538 best_b: 25.525254199337013, and the loss is: 107257.39150337345\n",
      "When time is : 157, get best_k: 51.31003210992538 best_b: 25.42525419933701, and the loss is: 106778.67508121225\n",
      "When time is : 158, get best_k: 51.21003210992538 best_b: 25.32525419933701, and the loss is: 106301.0298309186\n",
      "When time is : 159, get best_k: 51.11003210992538 best_b: 25.22525419933701, and the loss is: 105824.45575249223\n",
      "When time is : 160, get best_k: 51.010032109925376 best_b: 25.125254199337007, and the loss is: 105348.95284593344\n",
      "When time is : 161, get best_k: 50.910032109925375 best_b: 25.025254199337006, and the loss is: 104874.52111124211\n",
      "When time is : 162, get best_k: 50.81003210992537 best_b: 24.925254199337004, and the loss is: 104401.16054841822\n",
      "When time is : 163, get best_k: 50.71003210992537 best_b: 24.825254199337003, and the loss is: 103928.87115746195\n",
      "When time is : 164, get best_k: 50.61003210992537 best_b: 24.725254199337, and the loss is: 103457.65293837298\n",
      "When time is : 165, get best_k: 50.51003210992537 best_b: 24.625254199337, and the loss is: 102987.50589115152\n",
      "When time is : 166, get best_k: 50.41003210992537 best_b: 24.525254199337, and the loss is: 102518.43001579764\n",
      "When time is : 167, get best_k: 50.310032109925366 best_b: 24.425254199336997, and the loss is: 102050.42531231101\n",
      "When time is : 168, get best_k: 50.210032109925365 best_b: 24.325254199336996, and the loss is: 101583.49178069209\n",
      "When time is : 169, get best_k: 50.11003210992536 best_b: 24.225254199336995, and the loss is: 101117.62942094049\n",
      "When time is : 170, get best_k: 50.01003210992536 best_b: 24.125254199336993, and the loss is: 100652.83823305632\n",
      "When time is : 171, get best_k: 49.91003210992536 best_b: 24.02525419933699, and the loss is: 100189.11821703977\n",
      "When time is : 172, get best_k: 49.81003210992536 best_b: 23.92525419933699, and the loss is: 99726.46937289067\n",
      "When time is : 173, get best_k: 49.71003210992536 best_b: 23.82525419933699, and the loss is: 99264.89170060898\n",
      "When time is : 174, get best_k: 49.610032109925356 best_b: 23.725254199336987, and the loss is: 98804.38520019471\n",
      "When time is : 175, get best_k: 49.510032109925355 best_b: 23.625254199336986, and the loss is: 98344.94987164791\n",
      "When time is : 176, get best_k: 49.41003210992535 best_b: 23.525254199336985, and the loss is: 97886.58571496866\n",
      "When time is : 177, get best_k: 49.31003210992535 best_b: 23.425254199336983, and the loss is: 97429.2927301568\n",
      "When time is : 178, get best_k: 49.21003210992535 best_b: 23.32525419933698, and the loss is: 96973.07091721264\n",
      "When time is : 179, get best_k: 49.11003210992535 best_b: 23.22525419933698, and the loss is: 96517.92027613561\n",
      "When time is : 180, get best_k: 49.01003210992535 best_b: 23.12525419933698, and the loss is: 96063.84080692635\n",
      "When time is : 181, get best_k: 48.910032109925346 best_b: 23.025254199336977, and the loss is: 95610.83250958435\n",
      "When time is : 182, get best_k: 48.810032109925345 best_b: 22.925254199336976, and the loss is: 95158.89538411\n",
      "When time is : 183, get best_k: 48.71003210992534 best_b: 22.825254199336975, and the loss is: 94708.02943050297\n",
      "When time is : 184, get best_k: 48.61003210992534 best_b: 22.725254199336973, and the loss is: 94258.23464876357\n",
      "When time is : 185, get best_k: 48.51003210992534 best_b: 22.625254199336972, and the loss is: 93809.51103889137\n",
      "When time is : 186, get best_k: 48.41003210992534 best_b: 22.52525419933697, and the loss is: 93361.8586008869\n",
      "When time is : 187, get best_k: 48.31003210992534 best_b: 22.42525419933697, and the loss is: 92915.27733474987\n",
      "When time is : 188, get best_k: 48.210032109925336 best_b: 22.325254199336968, and the loss is: 92469.76724048014\n",
      "When time is : 189, get best_k: 48.110032109925335 best_b: 22.225254199336966, and the loss is: 92025.32831807791\n",
      "When time is : 190, get best_k: 48.01003210992533 best_b: 22.125254199336965, and the loss is: 91581.9605675433\n",
      "When time is : 191, get best_k: 47.91003210992533 best_b: 22.025254199336963, and the loss is: 91139.66398887614\n",
      "When time is : 192, get best_k: 47.81003210992533 best_b: 21.925254199336962, and the loss is: 90698.4385820764\n",
      "When time is : 193, get best_k: 47.71003210992533 best_b: 21.82525419933696, and the loss is: 90258.28434714403\n",
      "When time is : 194, get best_k: 47.61003210992533 best_b: 21.72525419933696, and the loss is: 89819.2012840793\n",
      "When time is : 195, get best_k: 47.510032109925326 best_b: 21.625254199336958, and the loss is: 89381.18939288188\n",
      "When time is : 196, get best_k: 47.410032109925325 best_b: 21.525254199336956, and the loss is: 88944.24867355211\n",
      "When time is : 197, get best_k: 47.310032109925324 best_b: 21.425254199336955, and the loss is: 88508.37912608973\n",
      "When time is : 198, get best_k: 47.21003210992532 best_b: 21.325254199336953, and the loss is: 88073.58075049482\n",
      "When time is : 199, get best_k: 47.11003210992532 best_b: 21.225254199336952, and the loss is: 87639.8535467673\n",
      "When time is : 200, get best_k: 47.01003210992532 best_b: 21.12525419933695, and the loss is: 87207.19751490736\n",
      "When time is : 201, get best_k: 46.91003210992532 best_b: 21.02525419933695, and the loss is: 86775.61265491495\n",
      "When time is : 202, get best_k: 46.81003210992532 best_b: 20.925254199336948, and the loss is: 86345.09896678975\n",
      "When time is : 203, get best_k: 46.710032109925315 best_b: 20.825254199336946, and the loss is: 85915.65645053222\n",
      "When time is : 204, get best_k: 46.610032109925314 best_b: 20.725254199336945, and the loss is: 85487.28510614212\n",
      "When time is : 205, get best_k: 46.51003210992531 best_b: 20.625254199336943, and the loss is: 85059.98493361955\n",
      "When time is : 206, get best_k: 46.41003210992531 best_b: 20.525254199336942, and the loss is: 84633.75593296433\n",
      "When time is : 207, get best_k: 46.31003210992531 best_b: 20.42525419933694, and the loss is: 84208.5981041766\n",
      "When time is : 208, get best_k: 46.21003210992531 best_b: 20.32525419933694, and the loss is: 83784.5114472565\n",
      "When time is : 209, get best_k: 46.11003210992531 best_b: 20.225254199336938, and the loss is: 83361.49596220365\n",
      "When time is : 210, get best_k: 46.010032109925305 best_b: 20.125254199336936, and the loss is: 82939.55164901842\n",
      "When time is : 211, get best_k: 45.910032109925304 best_b: 20.025254199336935, and the loss is: 82518.67850770058\n",
      "When time is : 212, get best_k: 45.8100321099253 best_b: 19.925254199336933, and the loss is: 82098.8765382503\n",
      "When time is : 213, get best_k: 45.7100321099253 best_b: 19.825254199336932, and the loss is: 81680.14574066742\n",
      "When time is : 214, get best_k: 45.6100321099253 best_b: 19.72525419933693, and the loss is: 81262.48611495203\n",
      "When time is : 215, get best_k: 45.5100321099253 best_b: 19.62525419933693, and the loss is: 80845.89766110401\n",
      "When time is : 216, get best_k: 45.4100321099253 best_b: 19.525254199336928, and the loss is: 80430.3803791237\n",
      "When time is : 217, get best_k: 45.310032109925295 best_b: 19.425254199336926, and the loss is: 80015.9342690107\n",
      "When time is : 218, get best_k: 45.210032109925294 best_b: 19.325254199336925, and the loss is: 79602.55933076519\n",
      "When time is : 219, get best_k: 45.11003210992529 best_b: 19.225254199336923, and the loss is: 79190.25556438707\n",
      "When time is : 220, get best_k: 45.01003210992529 best_b: 19.125254199336922, and the loss is: 78779.02296987649\n",
      "When time is : 221, get best_k: 44.91003210992529 best_b: 19.02525419933692, and the loss is: 78368.86154723342\n",
      "When time is : 222, get best_k: 44.81003210992529 best_b: 18.92525419933692, and the loss is: 77959.77129645784\n",
      "When time is : 223, get best_k: 44.71003210992529 best_b: 18.825254199336918, and the loss is: 77551.75221754966\n",
      "When time is : 224, get best_k: 44.610032109925285 best_b: 18.725254199336916, and the loss is: 77144.80431050896\n",
      "When time is : 225, get best_k: 44.510032109925284 best_b: 18.625254199336915, and the loss is: 76738.92757533575\n",
      "When time is : 226, get best_k: 44.41003210992528 best_b: 18.525254199336914, and the loss is: 76334.12201203003\n",
      "When time is : 227, get best_k: 44.31003210992528 best_b: 18.425254199336912, and the loss is: 75930.38762059163\n",
      "When time is : 228, get best_k: 44.21003210992528 best_b: 18.32525419933691, and the loss is: 75527.72440102084\n",
      "When time is : 229, get best_k: 44.11003210992528 best_b: 18.22525419933691, and the loss is: 75126.13235331743\n",
      "When time is : 230, get best_k: 44.01003210992528 best_b: 18.125254199336908, and the loss is: 74725.6114774816\n",
      "When time is : 231, get best_k: 43.910032109925275 best_b: 18.025254199336906, and the loss is: 74326.16177351325\n",
      "When time is : 232, get best_k: 43.810032109925274 best_b: 17.925254199336905, and the loss is: 73927.78324141237\n",
      "When time is : 233, get best_k: 43.71003210992527 best_b: 17.825254199336904, and the loss is: 73530.4758811789\n",
      "When time is : 234, get best_k: 43.61003210992527 best_b: 17.725254199336902, and the loss is: 73134.23969281303\n",
      "When time is : 235, get best_k: 43.51003210992527 best_b: 17.6252541993369, and the loss is: 72739.07467631444\n",
      "When time is : 236, get best_k: 43.41003210992527 best_b: 17.5252541993369, and the loss is: 72344.98083168337\n",
      "When time is : 237, get best_k: 43.31003210992527 best_b: 17.425254199336898, and the loss is: 71951.9581589197\n",
      "When time is : 238, get best_k: 43.210032109925265 best_b: 17.325254199336896, and the loss is: 71560.00665802366\n",
      "When time is : 239, get best_k: 43.110032109925264 best_b: 17.225254199336895, and the loss is: 71169.12632899501\n",
      "When time is : 240, get best_k: 43.01003210992526 best_b: 17.125254199336894, and the loss is: 70779.31717183389\n",
      "When time is : 241, get best_k: 42.91003210992526 best_b: 17.025254199336892, and the loss is: 70390.5791865401\n",
      "When time is : 242, get best_k: 42.81003210992526 best_b: 16.92525419933689, and the loss is: 70002.91237311393\n",
      "When time is : 243, get best_k: 42.71003210992526 best_b: 16.82525419933689, and the loss is: 69616.31673155511\n",
      "When time is : 244, get best_k: 42.61003210992526 best_b: 16.725254199336888, and the loss is: 69230.79226186391\n",
      "When time is : 245, get best_k: 42.510032109925255 best_b: 16.625254199336887, and the loss is: 68846.3389640401\n",
      "When time is : 246, get best_k: 42.410032109925254 best_b: 16.525254199336885, and the loss is: 68462.95683808372\n",
      "When time is : 247, get best_k: 42.31003210992525 best_b: 16.425254199336884, and the loss is: 68080.64588399485\n",
      "When time is : 248, get best_k: 42.21003210992525 best_b: 16.325254199336882, and the loss is: 67699.40610177345\n",
      "When time is : 249, get best_k: 42.11003210992525 best_b: 16.22525419933688, and the loss is: 67319.2374914195\n",
      "When time is : 250, get best_k: 42.01003210992525 best_b: 16.12525419933688, and the loss is: 66940.14005293304\n",
      "When time is : 251, get best_k: 41.91003210992525 best_b: 16.025254199336878, and the loss is: 66562.11378631409\n",
      "When time is : 252, get best_k: 41.810032109925245 best_b: 15.925254199336878, and the loss is: 66185.15869156258\n",
      "When time is : 253, get best_k: 41.710032109925244 best_b: 15.825254199336879, and the loss is: 65809.27476867849\n",
      "When time is : 254, get best_k: 41.61003210992524 best_b: 15.725254199336879, and the loss is: 65434.46201766195\n",
      "When time is : 255, get best_k: 41.51003210992524 best_b: 15.62525419933688, and the loss is: 65060.72043851284\n",
      "When time is : 256, get best_k: 41.41003210992524 best_b: 15.52525419933688, and the loss is: 64688.050031231214\n",
      "When time is : 257, get best_k: 41.31003210992524 best_b: 15.42525419933688, and the loss is: 64316.45079581708\n",
      "When time is : 258, get best_k: 41.21003210992524 best_b: 15.32525419933688, and the loss is: 63945.92273227035\n",
      "When time is : 259, get best_k: 41.110032109925235 best_b: 15.22525419933688, and the loss is: 63576.46584059107\n",
      "When time is : 260, get best_k: 41.010032109925234 best_b: 15.125254199336881, and the loss is: 63208.080120779276\n",
      "When time is : 261, get best_k: 40.91003210992523 best_b: 15.025254199336882, and the loss is: 62840.76557283509\n",
      "When time is : 262, get best_k: 40.81003210992523 best_b: 14.925254199336882, and the loss is: 62474.52219675823\n",
      "When time is : 263, get best_k: 40.71003210992523 best_b: 14.825254199336882, and the loss is: 62109.349992548916\n",
      "When time is : 264, get best_k: 40.61003210992523 best_b: 14.725254199336883, and the loss is: 61745.24896020707\n",
      "When time is : 265, get best_k: 40.51003210992523 best_b: 14.625254199336883, and the loss is: 61382.2190997326\n",
      "When time is : 266, get best_k: 40.410032109925226 best_b: 14.525254199336883, and the loss is: 61020.260411125666\n",
      "When time is : 267, get best_k: 40.310032109925224 best_b: 14.425254199336884, and the loss is: 60659.37289438626\n",
      "When time is : 268, get best_k: 40.21003210992522 best_b: 14.325254199336884, and the loss is: 60299.55654951426\n",
      "When time is : 269, get best_k: 40.11003210992522 best_b: 14.225254199336884, and the loss is: 59940.81137650969\n",
      "When time is : 270, get best_k: 40.01003210992522 best_b: 14.125254199336885, and the loss is: 59583.137375372644\n",
      "When time is : 271, get best_k: 39.91003210992522 best_b: 14.025254199336885, and the loss is: 59226.53454610308\n",
      "When time is : 272, get best_k: 39.81003210992522 best_b: 13.925254199336885, and the loss is: 58871.00288870107\n",
      "When time is : 273, get best_k: 39.710032109925216 best_b: 13.825254199336886, and the loss is: 58516.5424031663\n",
      "When time is : 274, get best_k: 39.610032109925214 best_b: 13.725254199336886, and the loss is: 58163.15308949912\n",
      "When time is : 275, get best_k: 39.51003210992521 best_b: 13.625254199336887, and the loss is: 57810.834947699426\n",
      "When time is : 276, get best_k: 39.41003210992521 best_b: 13.525254199336887, and the loss is: 57459.58797776719\n",
      "When time is : 277, get best_k: 39.31003210992521 best_b: 13.425254199336887, and the loss is: 57109.412179702435\n",
      "When time is : 278, get best_k: 39.21003210992521 best_b: 13.325254199336888, and the loss is: 56760.30755350524\n",
      "When time is : 279, get best_k: 39.11003210992521 best_b: 13.225254199336888, and the loss is: 56412.274099175316\n",
      "When time is : 280, get best_k: 39.010032109925206 best_b: 13.125254199336888, and the loss is: 56065.31181671293\n",
      "When time is : 281, get best_k: 38.910032109925204 best_b: 13.025254199336889, and the loss is: 55719.42070611809\n",
      "When time is : 282, get best_k: 38.8100321099252 best_b: 12.925254199336889, and the loss is: 55374.60076739076\n",
      "When time is : 283, get best_k: 38.7100321099252 best_b: 12.82525419933689, and the loss is: 55030.852000530715\n",
      "When time is : 284, get best_k: 38.6100321099252 best_b: 12.72525419933689, and the loss is: 54688.17440553836\n",
      "When time is : 285, get best_k: 38.5100321099252 best_b: 12.62525419933689, and the loss is: 54346.56798241331\n",
      "When time is : 286, get best_k: 38.4100321099252 best_b: 12.52525419933689, and the loss is: 54006.032731155814\n",
      "When time is : 287, get best_k: 38.310032109925196 best_b: 12.42525419933689, and the loss is: 53666.56865176568\n",
      "When time is : 288, get best_k: 38.210032109925194 best_b: 12.325254199336891, and the loss is: 53328.17574424318\n",
      "When time is : 289, get best_k: 38.11003210992519 best_b: 12.225254199336892, and the loss is: 52990.85400858809\n",
      "When time is : 290, get best_k: 38.01003210992519 best_b: 12.125254199336892, and the loss is: 52654.603444800385\n",
      "When time is : 291, get best_k: 37.91003210992519 best_b: 12.025254199336892, and the loss is: 52319.424052880226\n",
      "When time is : 292, get best_k: 37.81003210992519 best_b: 11.925254199336893, and the loss is: 51985.31583282754\n",
      "When time is : 293, get best_k: 37.71003210992519 best_b: 11.825254199336893, and the loss is: 51652.278784642265\n",
      "When time is : 294, get best_k: 37.610032109925186 best_b: 11.725254199336893, and the loss is: 51320.31290832449\n",
      "When time is : 295, get best_k: 37.510032109925184 best_b: 11.625254199336894, and the loss is: 50989.41820387422\n",
      "When time is : 296, get best_k: 37.41003210992518 best_b: 11.525254199336894, and the loss is: 50659.59467129142\n",
      "When time is : 297, get best_k: 37.31003210992518 best_b: 11.425254199336894, and the loss is: 50330.84231057604\n",
      "When time is : 298, get best_k: 37.21003210992518 best_b: 11.325254199336895, and the loss is: 50003.161121728124\n",
      "When time is : 299, get best_k: 37.11003210992518 best_b: 11.225254199336895, and the loss is: 49676.55110474771\n",
      "When time is : 300, get best_k: 37.01003210992518 best_b: 11.125254199336895, and the loss is: 49351.01225963482\n",
      "When time is : 301, get best_k: 36.910032109925176 best_b: 11.025254199336896, and the loss is: 49026.5445863894\n",
      "When time is : 302, get best_k: 36.810032109925174 best_b: 10.925254199336896, and the loss is: 48703.14808501145\n",
      "When time is : 303, get best_k: 36.71003210992517 best_b: 10.825254199336896, and the loss is: 48380.822755500805\n",
      "When time is : 304, get best_k: 36.61003210992517 best_b: 10.725254199336897, and the loss is: 48059.56859785771\n",
      "When time is : 305, get best_k: 36.51003210992517 best_b: 10.625254199336897, and the loss is: 47739.38561208213\n",
      "When time is : 306, get best_k: 36.41003210992517 best_b: 10.525254199336898, and the loss is: 47420.27379817405\n",
      "When time is : 307, get best_k: 36.31003210992517 best_b: 10.425254199336898, and the loss is: 47102.23315613339\n",
      "When time is : 308, get best_k: 36.210032109925166 best_b: 10.325254199336898, and the loss is: 46785.26368596021\n",
      "When time is : 309, get best_k: 36.110032109925164 best_b: 10.225254199336899, and the loss is: 46469.36538765454\n",
      "When time is : 310, get best_k: 36.01003210992516 best_b: 10.125254199336899, and the loss is: 46154.53826121624\n",
      "When time is : 311, get best_k: 35.91003210992516 best_b: 10.0252541993369, and the loss is: 45840.78230664552\n",
      "When time is : 312, get best_k: 35.81003210992516 best_b: 9.9252541993369, and the loss is: 45528.097523942175\n",
      "When time is : 313, get best_k: 35.71003210992516 best_b: 9.8252541993369, and the loss is: 45216.48391310636\n",
      "When time is : 314, get best_k: 35.61003210992516 best_b: 9.7252541993369, and the loss is: 44905.94147413799\n",
      "When time is : 315, get best_k: 35.510032109925156 best_b: 9.6252541993369, and the loss is: 44596.47020703714\n",
      "When time is : 316, get best_k: 35.410032109925154 best_b: 9.525254199336901, and the loss is: 44288.07011180378\n",
      "When time is : 317, get best_k: 35.31003210992515 best_b: 9.425254199336901, and the loss is: 43980.741188437765\n",
      "When time is : 318, get best_k: 35.21003210992515 best_b: 9.325254199336902, and the loss is: 43674.48343693932\n",
      "When time is : 319, get best_k: 35.11003210992515 best_b: 9.225254199336902, and the loss is: 43369.296857308276\n",
      "When time is : 320, get best_k: 35.01003210992515 best_b: 9.125254199336903, and the loss is: 43065.18144954478\n",
      "When time is : 321, get best_k: 34.91003210992515 best_b: 9.025254199336903, and the loss is: 42762.137213648726\n",
      "When time is : 322, get best_k: 34.810032109925146 best_b: 8.925254199336903, and the loss is: 42460.16414962011\n",
      "When time is : 323, get best_k: 34.710032109925145 best_b: 8.825254199336904, and the loss is: 42159.26225745901\n",
      "When time is : 324, get best_k: 34.61003210992514 best_b: 8.725254199336904, and the loss is: 41859.431537165365\n",
      "When time is : 325, get best_k: 34.51003210992514 best_b: 8.625254199336904, and the loss is: 41560.67198873918\n",
      "When time is : 326, get best_k: 34.41003210992514 best_b: 8.525254199336905, and the loss is: 41262.98361218036\n",
      "When time is : 327, get best_k: 34.31003210992514 best_b: 8.425254199336905, and the loss is: 40966.36640748925\n",
      "When time is : 328, get best_k: 34.21003210992514 best_b: 8.325254199336905, and the loss is: 40670.82037466541\n",
      "When time is : 329, get best_k: 34.110032109925136 best_b: 8.225254199336906, and the loss is: 40376.34551370914\n",
      "When time is : 330, get best_k: 34.010032109925135 best_b: 8.125254199336906, and the loss is: 40082.94182462031\n",
      "When time is : 331, get best_k: 33.91003210992513 best_b: 8.025254199336906, and the loss is: 39790.6093073989\n",
      "When time is : 332, get best_k: 33.81003210992513 best_b: 7.925254199336907, and the loss is: 39499.34796204502\n",
      "When time is : 333, get best_k: 33.71003210992513 best_b: 7.825254199336907, and the loss is: 39209.15778855864\n",
      "When time is : 334, get best_k: 33.61003210992513 best_b: 7.7252541993369075, and the loss is: 38920.03878693971\n",
      "When time is : 335, get best_k: 33.51003210992513 best_b: 7.625254199336908, and the loss is: 38631.99095718823\n",
      "When time is : 336, get best_k: 33.410032109925126 best_b: 7.525254199336908, and the loss is: 38345.014299304195\n",
      "When time is : 337, get best_k: 33.310032109925125 best_b: 7.425254199336909, and the loss is: 38059.10881328767\n",
      "When time is : 338, get best_k: 33.21003210992512 best_b: 7.325254199336909, and the loss is: 37774.274499138584\n",
      "When time is : 339, get best_k: 33.11003210992512 best_b: 7.225254199336909, and the loss is: 37490.511356857016\n",
      "When time is : 340, get best_k: 33.01003210992512 best_b: 7.12525419933691, and the loss is: 37207.819386442876\n",
      "When time is : 341, get best_k: 32.91003210992512 best_b: 7.02525419933691, and the loss is: 36926.198587896186\n",
      "When time is : 342, get best_k: 32.81003210992512 best_b: 6.92525419933691, and the loss is: 36645.64896121702\n",
      "When time is : 343, get best_k: 32.710032109925116 best_b: 6.825254199336911, and the loss is: 36366.17050640534\n",
      "When time is : 344, get best_k: 32.610032109925115 best_b: 6.725254199336911, and the loss is: 36087.763223461065\n",
      "When time is : 345, get best_k: 32.51003210992511 best_b: 6.625254199336911, and the loss is: 35810.427112384285\n",
      "When time is : 346, get best_k: 32.41003210992511 best_b: 6.525254199336912, and the loss is: 35534.162173174984\n",
      "When time is : 347, get best_k: 32.31003210992511 best_b: 6.425254199336912, and the loss is: 35258.96840583317\n",
      "When time is : 348, get best_k: 32.21003210992511 best_b: 6.3252541993369125, and the loss is: 34984.84581035883\n",
      "When time is : 349, get best_k: 32.11003210992511 best_b: 6.225254199336913, and the loss is: 34711.79438675194\n",
      "When time is : 350, get best_k: 32.010032109925106 best_b: 6.125254199336913, and the loss is: 34439.81413501248\n",
      "When time is : 351, get best_k: 31.910032109925105 best_b: 6.0252541993369135, and the loss is: 34168.90505514052\n",
      "When time is : 352, get best_k: 31.810032109925103 best_b: 5.925254199336914, and the loss is: 33899.067147136\n",
      "When time is : 353, get best_k: 31.710032109925102 best_b: 5.825254199336914, and the loss is: 33630.30041099903\n",
      "When time is : 354, get best_k: 31.6100321099251 best_b: 5.725254199336915, and the loss is: 33362.60484672948\n",
      "When time is : 355, get best_k: 31.5100321099251 best_b: 5.625254199336915, and the loss is: 33095.980454327415\n",
      "When time is : 356, get best_k: 31.410032109925098 best_b: 5.525254199336915, and the loss is: 32830.42723379283\n",
      "When time is : 357, get best_k: 31.310032109925096 best_b: 5.425254199336916, and the loss is: 32565.94518512572\n",
      "When time is : 358, get best_k: 31.210032109925095 best_b: 5.325254199336916, and the loss is: 32302.534308326023\n",
      "When time is : 359, get best_k: 31.110032109925093 best_b: 5.225254199336916, and the loss is: 32040.19460339384\n",
      "When time is : 360, get best_k: 31.010032109925092 best_b: 5.125254199336917, and the loss is: 31778.92607032911\n",
      "When time is : 361, get best_k: 30.91003210992509 best_b: 5.025254199336917, and the loss is: 31518.728709131898\n",
      "When time is : 362, get best_k: 30.81003210992509 best_b: 4.925254199336917, and the loss is: 31259.602519802105\n",
      "When time is : 363, get best_k: 30.710032109925088 best_b: 4.825254199336918, and the loss is: 31001.547502339796\n",
      "When time is : 364, get best_k: 30.610032109925086 best_b: 4.725254199336918, and the loss is: 30744.563656744966\n",
      "When time is : 365, get best_k: 30.510032109925085 best_b: 4.6252541993369185, and the loss is: 30488.650983017604\n",
      "When time is : 366, get best_k: 30.410032109925083 best_b: 4.525254199336919, and the loss is: 30233.809481157696\n",
      "When time is : 367, get best_k: 30.310032109925082 best_b: 4.425254199336919, and the loss is: 29980.03915116528\n",
      "When time is : 368, get best_k: 30.21003210992508 best_b: 4.32525419933692, and the loss is: 29727.33999304033\n",
      "When time is : 369, get best_k: 30.11003210992508 best_b: 4.22525419933692, and the loss is: 29475.712006782862\n",
      "When time is : 370, get best_k: 30.010032109925078 best_b: 4.12525419933692, and the loss is: 29225.155192392795\n",
      "When time is : 371, get best_k: 29.910032109925076 best_b: 4.025254199336921, and the loss is: 28975.669549870257\n",
      "When time is : 372, get best_k: 29.810032109925075 best_b: 3.9252541993369205, and the loss is: 28727.255079215196\n",
      "When time is : 373, get best_k: 29.710032109925073 best_b: 3.8252541993369205, and the loss is: 28479.911780427585\n",
      "When time is : 374, get best_k: 29.610032109925072 best_b: 3.7252541993369204, and the loss is: 28233.639653507467\n",
      "When time is : 375, get best_k: 29.51003210992507 best_b: 3.6252541993369203, and the loss is: 27988.43869845483\n",
      "When time is : 376, get best_k: 29.41003210992507 best_b: 3.52525419933692, and the loss is: 27744.30891526964\n",
      "When time is : 377, get best_k: 29.310032109925068 best_b: 3.42525419933692, and the loss is: 27501.2503039519\n",
      "When time is : 378, get best_k: 29.210032109925066 best_b: 3.32525419933692, and the loss is: 27259.26286450165\n",
      "When time is : 379, get best_k: 29.110032109925065 best_b: 3.22525419933692, and the loss is: 27018.346596918855\n",
      "When time is : 380, get best_k: 29.010032109925064 best_b: 3.12525419933692, and the loss is: 26778.501501203566\n",
      "When time is : 381, get best_k: 28.910032109925062 best_b: 3.0252541993369197, and the loss is: 26539.727577355687\n",
      "When time is : 382, get best_k: 28.81003210992506 best_b: 2.9252541993369197, and the loss is: 26302.024825375356\n",
      "When time is : 383, get best_k: 28.71003210992506 best_b: 2.8252541993369196, and the loss is: 26065.393245262414\n",
      "When time is : 384, get best_k: 28.610032109925058 best_b: 2.7252541993369195, and the loss is: 25829.832837017002\n",
      "When time is : 385, get best_k: 28.510032109925056 best_b: 2.6252541993369194, and the loss is: 25595.34360063904\n",
      "When time is : 386, get best_k: 28.410032109925055 best_b: 2.5252541993369193, and the loss is: 25361.925536128583\n",
      "When time is : 387, get best_k: 28.310032109925054 best_b: 2.425254199336919, and the loss is: 25129.578643485565\n",
      "When time is : 388, get best_k: 28.210032109925052 best_b: 2.325254199336919, and the loss is: 24898.30292270999\n",
      "When time is : 389, get best_k: 28.11003210992505 best_b: 2.225254199336919, and the loss is: 24668.098373801884\n",
      "When time is : 390, get best_k: 28.01003210992505 best_b: 2.125254199336919, and the loss is: 24438.964996761286\n",
      "When time is : 391, get best_k: 27.910032109925048 best_b: 2.025254199336919, and the loss is: 24210.902791588178\n",
      "When time is : 392, get best_k: 27.810032109925046 best_b: 1.9252541993369188, and the loss is: 23983.911758282495\n",
      "When time is : 393, get best_k: 27.710032109925045 best_b: 1.8252541993369187, and the loss is: 23757.9918968443\n",
      "When time is : 394, get best_k: 27.610032109925044 best_b: 1.7252541993369186, and the loss is: 23533.1432072736\n",
      "When time is : 395, get best_k: 27.510032109925042 best_b: 1.6252541993369185, and the loss is: 23309.365689570357\n",
      "When time is : 396, get best_k: 27.41003210992504 best_b: 1.5252541993369184, and the loss is: 23086.659343734547\n",
      "When time is : 397, get best_k: 27.31003210992504 best_b: 1.4252541993369183, and the loss is: 22865.024169766235\n",
      "When time is : 398, get best_k: 27.210032109925038 best_b: 1.3252541993369182, and the loss is: 22644.46016766539\n",
      "When time is : 399, get best_k: 27.110032109925037 best_b: 1.2252541993369181, and the loss is: 22424.967337432023\n",
      "When time is : 400, get best_k: 27.010032109925035 best_b: 1.125254199336918, and the loss is: 22206.54567906612\n",
      "When time is : 401, get best_k: 26.910032109925034 best_b: 1.025254199336918, and the loss is: 21989.19519256768\n",
      "When time is : 402, get best_k: 26.810032109925032 best_b: 0.925254199336918, and the loss is: 21772.915877936714\n",
      "When time is : 403, get best_k: 26.71003210992503 best_b: 0.825254199336918, and the loss is: 21557.707735173237\n",
      "When time is : 404, get best_k: 26.61003210992503 best_b: 0.725254199336918, and the loss is: 21343.570764277192\n",
      "When time is : 405, get best_k: 26.510032109925028 best_b: 0.6252541993369181, and the loss is: 21130.504965248645\n",
      "When time is : 406, get best_k: 26.410032109925027 best_b: 0.5252541993369181, and the loss is: 20918.510338087566\n",
      "When time is : 407, get best_k: 26.310032109925025 best_b: 0.4252541993369181, and the loss is: 20707.586882793956\n",
      "When time is : 408, get best_k: 26.210032109925024 best_b: 0.3252541993369181, and the loss is: 20497.73459936783\n",
      "When time is : 409, get best_k: 26.110032109925022 best_b: 0.22525419933691812, and the loss is: 20288.953487809165\n",
      "When time is : 410, get best_k: 26.01003210992502 best_b: 0.12525419933691812, and the loss is: 20081.24354811796\n",
      "When time is : 411, get best_k: 25.91003210992502 best_b: 0.02525419933691811, and the loss is: 19874.604780294216\n",
      "When time is : 412, get best_k: 25.810032109925018 best_b: -0.0747458006630819, and the loss is: 19669.037184337973\n",
      "When time is : 413, get best_k: 25.710032109925017 best_b: -0.1747458006630819, and the loss is: 19464.540760249176\n",
      "When time is : 414, get best_k: 25.610032109925015 best_b: -0.2747458006630819, and the loss is: 19261.11550802787\n",
      "When time is : 415, get best_k: 25.510032109925014 best_b: -0.37474580066308194, and the loss is: 19058.761427674013\n",
      "When time is : 416, get best_k: 25.410032109925012 best_b: -0.4747458006630819, and the loss is: 18857.478519187633\n"
     ]
    },
    {
     "name": "stdout",
     "output_type": "stream",
     "text": [
      "When time is : 417, get best_k: 25.31003210992501 best_b: -0.5747458006630819, and the loss is: 18657.26678256873\n",
      "When time is : 418, get best_k: 25.21003210992501 best_b: -0.6747458006630819, and the loss is: 18458.12621781728\n",
      "When time is : 419, get best_k: 25.110032109925008 best_b: -0.7747458006630819, and the loss is: 18260.056824933312\n",
      "When time is : 420, get best_k: 25.010032109925007 best_b: -0.8747458006630818, and the loss is: 18063.05860391682\n",
      "When time is : 421, get best_k: 24.910032109925005 best_b: -0.9747458006630818, and the loss is: 17867.131554767802\n",
      "When time is : 422, get best_k: 24.810032109925004 best_b: -1.074745800663082, and the loss is: 17672.275677486243\n",
      "When time is : 423, get best_k: 24.710032109925002 best_b: -1.174745800663082, and the loss is: 17478.49097207218\n",
      "When time is : 424, get best_k: 24.610032109925 best_b: -1.274745800663082, and the loss is: 17285.777438525554\n",
      "When time is : 425, get best_k: 24.510032109925 best_b: -1.3747458006630822, and the loss is: 17094.135076846407\n",
      "When time is : 426, get best_k: 24.410032109924998 best_b: -1.4747458006630823, and the loss is: 16903.563887034736\n",
      "When time is : 427, get best_k: 24.310032109924997 best_b: -1.5747458006630823, and the loss is: 16714.06386909051\n",
      "When time is : 428, get best_k: 24.210032109924995 best_b: -1.6747458006630824, and the loss is: 16525.63502301381\n",
      "When time is : 429, get best_k: 24.110032109924994 best_b: -1.7747458006630825, and the loss is: 16338.27734880453\n",
      "When time is : 430, get best_k: 24.010032109924992 best_b: -1.8747458006630826, and the loss is: 16151.990846462737\n",
      "When time is : 431, get best_k: 23.91003210992499 best_b: -1.9747458006630827, and the loss is: 15966.775515988435\n",
      "When time is : 432, get best_k: 23.81003210992499 best_b: -2.0747458006630826, and the loss is: 15782.63135738156\n",
      "When time is : 433, get best_k: 23.710032109924988 best_b: -2.1747458006630827, and the loss is: 15599.558370642177\n",
      "When time is : 434, get best_k: 23.610032109924987 best_b: -2.2747458006630827, and the loss is: 15417.556555770292\n",
      "When time is : 435, get best_k: 23.510032109924985 best_b: -2.374745800663083, and the loss is: 15236.625912765858\n",
      "When time is : 436, get best_k: 23.410032109924984 best_b: -2.474745800663083, and the loss is: 15056.766441628883\n",
      "When time is : 437, get best_k: 23.310032109924983 best_b: -2.574745800663083, and the loss is: 14877.97814235937\n",
      "When time is : 438, get best_k: 23.21003210992498 best_b: -2.674745800663083, and the loss is: 14700.26101495734\n",
      "When time is : 439, get best_k: 23.11003210992498 best_b: -2.774745800663083, and the loss is: 14523.615059422782\n",
      "When time is : 440, get best_k: 23.01003210992498 best_b: -2.8747458006630833, and the loss is: 14348.040275755693\n",
      "When time is : 441, get best_k: 22.910032109924977 best_b: -2.9747458006630834, and the loss is: 14173.536663956093\n",
      "When time is : 442, get best_k: 22.810032109924975 best_b: -3.0747458006630835, and the loss is: 14000.104224023926\n",
      "When time is : 443, get best_k: 22.710032109924974 best_b: -3.1747458006630835, and the loss is: 13827.742955959264\n",
      "When time is : 444, get best_k: 22.610032109924973 best_b: -3.2747458006630836, and the loss is: 13656.452859762057\n",
      "When time is : 445, get best_k: 22.51003210992497 best_b: -3.3747458006630837, and the loss is: 13486.23393543233\n",
      "When time is : 446, get best_k: 22.41003210992497 best_b: -3.474745800663084, and the loss is: 13317.086182970057\n",
      "When time is : 447, get best_k: 22.31003210992497 best_b: -3.574745800663084, and the loss is: 13149.00960237526\n",
      "When time is : 448, get best_k: 22.210032109924967 best_b: -3.674745800663084, and the loss is: 12982.004193647937\n",
      "When time is : 449, get best_k: 22.110032109924965 best_b: -3.774745800663084, and the loss is: 12816.069956788086\n",
      "When time is : 450, get best_k: 22.010032109924964 best_b: -3.874745800663084, and the loss is: 12651.206891795697\n",
      "When time is : 451, get best_k: 21.910032109924963 best_b: -3.9747458006630842, and the loss is: 12487.414998670782\n",
      "When time is : 452, get best_k: 21.81003210992496 best_b: -4.074745800663084, and the loss is: 12324.69427741334\n",
      "When time is : 453, get best_k: 21.71003210992496 best_b: -4.174745800663084, and the loss is: 12163.044728023366\n",
      "When time is : 454, get best_k: 21.61003210992496 best_b: -4.274745800663084, and the loss is: 12002.466350500861\n",
      "When time is : 455, get best_k: 21.510032109924957 best_b: -4.374745800663083, and the loss is: 11842.959144845818\n",
      "When time is : 456, get best_k: 21.410032109924956 best_b: -4.474745800663083, and the loss is: 11684.523111058275\n",
      "When time is : 457, get best_k: 21.310032109924954 best_b: -4.574745800663083, and the loss is: 11527.158249138172\n",
      "When time is : 458, get best_k: 21.210032109924953 best_b: -4.674745800663082, and the loss is: 11370.864559085563\n",
      "When time is : 459, get best_k: 21.11003210992495 best_b: -4.774745800663082, and the loss is: 11215.642040900413\n",
      "When time is : 460, get best_k: 21.01003210992495 best_b: -4.8747458006630815, and the loss is: 11061.490694582715\n",
      "When time is : 461, get best_k: 20.91003210992495 best_b: -4.974745800663081, and the loss is: 10908.410520132516\n",
      "When time is : 462, get best_k: 20.810032109924947 best_b: -5.074745800663081, and the loss is: 10756.401517549786\n",
      "When time is : 463, get best_k: 20.710032109924946 best_b: -5.17474580066308, and the loss is: 10605.4636868345\n",
      "When time is : 464, get best_k: 20.610032109924944 best_b: -5.27474580066308, and the loss is: 10455.597027986705\n",
      "When time is : 465, get best_k: 20.510032109924943 best_b: -5.37474580066308, and the loss is: 10306.801541006378\n",
      "When time is : 466, get best_k: 20.41003210992494 best_b: -5.474745800663079, and the loss is: 10159.07722589352\n",
      "When time is : 467, get best_k: 20.31003210992494 best_b: -5.574745800663079, and the loss is: 10012.424082648142\n",
      "When time is : 468, get best_k: 20.21003210992494 best_b: -5.674745800663079, and the loss is: 9866.842111270216\n",
      "When time is : 469, get best_k: 20.110032109924937 best_b: -5.774745800663078, and the loss is: 9722.331311759775\n",
      "When time is : 470, get best_k: 20.010032109924936 best_b: -5.874745800663078, and the loss is: 9578.891684116801\n",
      "When time is : 471, get best_k: 19.910032109924934 best_b: -5.974745800663078, and the loss is: 9436.523228341297\n",
      "When time is : 472, get best_k: 19.810032109924933 best_b: -6.074745800663077, and the loss is: 9295.225944433252\n",
      "When time is : 473, get best_k: 19.71003210992493 best_b: -6.174745800663077, and the loss is: 9154.999832392683\n",
      "When time is : 474, get best_k: 19.61003210992493 best_b: -6.2747458006630765, and the loss is: 9015.844892219602\n",
      "When time is : 475, get best_k: 19.51003210992493 best_b: -6.374745800663076, and the loss is: 8877.761123913964\n",
      "When time is : 476, get best_k: 19.410032109924927 best_b: -6.474745800663076, and the loss is: 8740.74852747582\n",
      "When time is : 477, get best_k: 19.310032109924926 best_b: -6.5747458006630755, and the loss is: 8604.807102905128\n",
      "When time is : 478, get best_k: 19.210032109924924 best_b: -6.674745800663075, and the loss is: 8469.936850201917\n",
      "When time is : 479, get best_k: 19.110032109924923 best_b: -6.774745800663075, and the loss is: 8336.137769366176\n",
      "When time is : 480, get best_k: 19.01003210992492 best_b: -6.874745800663074, and the loss is: 8203.409860397902\n",
      "When time is : 481, get best_k: 18.91003210992492 best_b: -6.974745800663074, and the loss is: 8071.753123297101\n",
      "When time is : 482, get best_k: 18.81003210992492 best_b: -7.074745800663074, and the loss is: 7941.167558063771\n",
      "When time is : 483, get best_k: 18.710032109924917 best_b: -7.174745800663073, and the loss is: 7811.653164697913\n",
      "When time is : 484, get best_k: 18.610032109924916 best_b: -7.274745800663073, and the loss is: 7683.2099431995175\n",
      "When time is : 485, get best_k: 18.510032109924914 best_b: -7.374745800663073, and the loss is: 7555.837893568588\n",
      "When time is : 486, get best_k: 18.410032109924913 best_b: -7.474745800663072, and the loss is: 7429.537015805149\n",
      "When time is : 487, get best_k: 18.31003210992491 best_b: -7.574745800663072, and the loss is: 7304.3073099091625\n",
      "When time is : 488, get best_k: 18.21003210992491 best_b: -7.6747458006630715, and the loss is: 7180.148775880659\n",
      "When time is : 489, get best_k: 18.11003210992491 best_b: -7.774745800663071, and the loss is: 7057.061413719619\n",
      "When time is : 490, get best_k: 18.010032109924907 best_b: -7.874745800663071, and the loss is: 6935.045223426047\n",
      "When time is : 491, get best_k: 17.910032109924906 best_b: -7.9747458006630705, and the loss is: 6814.100204999954\n",
      "When time is : 492, get best_k: 17.810032109924904 best_b: -8.07474580066307, and the loss is: 6694.2263584413195\n",
      "When time is : 493, get best_k: 17.710032109924903 best_b: -8.17474580066307, and the loss is: 6575.4236837501685\n",
      "When time is : 494, get best_k: 17.6100321099249 best_b: -8.27474580066307, and the loss is: 6457.692180926471\n",
      "When time is : 495, get best_k: 17.5100321099249 best_b: -8.374745800663069, and the loss is: 6341.031849970263\n",
      "When time is : 496, get best_k: 17.4100321099249 best_b: -8.474745800663069, and the loss is: 6225.442690881511\n",
      "When time is : 497, get best_k: 17.310032109924897 best_b: -8.574745800663068, and the loss is: 6110.924703660243\n",
      "When time is : 498, get best_k: 17.210032109924896 best_b: -8.674745800663068, and the loss is: 5997.477888306433\n",
      "When time is : 499, get best_k: 17.110032109924894 best_b: -8.774745800663068, and the loss is: 5885.102244820096\n",
      "When time is : 500, get best_k: 17.010032109924893 best_b: -8.874745800663067, and the loss is: 5773.797773201237\n",
      "When time is : 501, get best_k: 16.91003210992489 best_b: -8.974745800663067, and the loss is: 5663.564473449834\n",
      "When time is : 502, get best_k: 16.81003210992489 best_b: -9.074745800663067, and the loss is: 5554.402345565921\n",
      "When time is : 503, get best_k: 16.71003210992489 best_b: -9.174745800663066, and the loss is: 5446.311389549464\n",
      "When time is : 504, get best_k: 16.610032109924887 best_b: -9.274745800663066, and the loss is: 5339.291605400478\n",
      "When time is : 505, get best_k: 16.510032109924886 best_b: -9.374745800663066, and the loss is: 5233.342993118966\n",
      "When time is : 506, get best_k: 16.410032109924884 best_b: -9.474745800663065, and the loss is: 5128.465552704923\n",
      "When time is : 507, get best_k: 16.310032109924883 best_b: -9.574745800663065, and the loss is: 5024.659284158356\n",
      "When time is : 508, get best_k: 16.21003210992488 best_b: -9.674745800663064, and the loss is: 4921.924187479248\n",
      "When time is : 509, get best_k: 16.11003210992488 best_b: -9.774745800663064, and the loss is: 4820.260262667616\n",
      "When time is : 510, get best_k: 16.01003210992488 best_b: -9.874745800663064, and the loss is: 4719.667509723457\n",
      "When time is : 511, get best_k: 15.91003210992488 best_b: -9.974745800663063, and the loss is: 4620.145928646765\n",
      "When time is : 512, get best_k: 15.81003210992488 best_b: -10.074745800663063, and the loss is: 4521.695519437552\n",
      "When time is : 513, get best_k: 15.71003210992488 best_b: -10.174745800663063, and the loss is: 4424.316282095801\n",
      "When time is : 514, get best_k: 15.61003210992488 best_b: -10.274745800663062, and the loss is: 4328.00821662152\n",
      "When time is : 515, get best_k: 15.51003210992488 best_b: -10.374745800663062, and the loss is: 4232.771323014712\n",
      "When time is : 516, get best_k: 15.410032109924881 best_b: -10.474745800663062, and the loss is: 4138.605601275374\n",
      "When time is : 517, get best_k: 15.310032109924881 best_b: -10.574745800663061, and the loss is: 4045.5110514035096\n",
      "When time is : 518, get best_k: 15.210032109924882 best_b: -10.674745800663061, and the loss is: 3953.487673399111\n",
      "When time is : 519, get best_k: 15.110032109924882 best_b: -10.77474580066306, and the loss is: 3862.5354672621884\n",
      "When time is : 520, get best_k: 15.010032109924882 best_b: -10.87474580066306, and the loss is: 3772.65443299273\n",
      "When time is : 521, get best_k: 14.910032109924883 best_b: -10.97474580066306, and the loss is: 3683.844570590748\n",
      "When time is : 522, get best_k: 14.810032109924883 best_b: -11.07474580066306, and the loss is: 3596.105880056228\n",
      "When time is : 523, get best_k: 14.710032109924883 best_b: -11.17474580066306, and the loss is: 3509.4383613891832\n",
      "When time is : 524, get best_k: 14.610032109924884 best_b: -11.274745800663059, and the loss is: 3423.8420145896075\n",
      "When time is : 525, get best_k: 14.510032109924884 best_b: -11.374745800663058, and the loss is: 3339.3168396575034\n",
      "When time is : 526, get best_k: 14.410032109924884 best_b: -11.474745800663058, and the loss is: 3255.86283659287\n",
      "When time is : 527, get best_k: 14.310032109924885 best_b: -11.574745800663058, and the loss is: 3173.480005395707\n",
      "When time is : 528, get best_k: 14.210032109924885 best_b: -11.674745800663057, and the loss is: 3092.168346066018\n",
      "When time is : 529, get best_k: 14.110032109924886 best_b: -11.774745800663057, and the loss is: 3011.9278586037904\n",
      "When time is : 530, get best_k: 14.010032109924886 best_b: -11.874745800663057, and the loss is: 2932.75854300904\n",
      "When time is : 531, get best_k: 13.910032109924886 best_b: -11.974745800663056, and the loss is: 2854.660399281756\n",
      "When time is : 532, get best_k: 13.810032109924887 best_b: -12.074745800663056, and the loss is: 2777.6334274219444\n",
      "When time is : 533, get best_k: 13.710032109924887 best_b: -12.174745800663056, and the loss is: 2701.6776274296\n",
      "When time is : 534, get best_k: 13.610032109924887 best_b: -12.274745800663055, and the loss is: 2626.7929993047296\n",
      "When time is : 535, get best_k: 13.510032109924888 best_b: -12.374745800663055, and the loss is: 2552.979543047334\n",
      "When time is : 536, get best_k: 13.410032109924888 best_b: -12.474745800663054, and the loss is: 2480.237258657401\n",
      "When time is : 537, get best_k: 13.310032109924888 best_b: -12.574745800663054, and the loss is: 2408.5661461349405\n",
      "When time is : 538, get best_k: 13.210032109924889 best_b: -12.674745800663054, and the loss is: 2337.9662054799505\n",
      "When time is : 539, get best_k: 13.110032109924889 best_b: -12.774745800663053, and the loss is: 2268.43743669243\n",
      "When time is : 540, get best_k: 13.01003210992489 best_b: -12.874745800663053, and the loss is: 2199.979839772385\n",
      "When time is : 541, get best_k: 12.91003210992489 best_b: -12.974745800663053, and the loss is: 2132.593414719805\n",
      "When time is : 542, get best_k: 12.81003210992489 best_b: -13.074745800663052, and the loss is: 2066.278161534694\n",
      "When time is : 543, get best_k: 12.71003210992489 best_b: -13.174745800663052, and the loss is: 2001.0340802170585\n",
      "When time is : 544, get best_k: 12.61003210992489 best_b: -13.274745800663052, and the loss is: 1936.8611707668892\n",
      "When time is : 545, get best_k: 12.510032109924891 best_b: -13.374745800663051, and the loss is: 1873.7594331841929\n",
      "When time is : 546, get best_k: 12.410032109924892 best_b: -13.474745800663051, and the loss is: 1811.7288674689632\n",
      "When time is : 547, get best_k: 12.310032109924892 best_b: -13.57474580066305, and the loss is: 1750.769473621208\n",
      "When time is : 548, get best_k: 12.210032109924892 best_b: -13.67474580066305, and the loss is: 1690.8812516409218\n",
      "When time is : 549, get best_k: 12.110032109924893 best_b: -13.77474580066305, and the loss is: 1632.064201528107\n",
      "When time is : 550, get best_k: 12.010032109924893 best_b: -13.87474580066305, and the loss is: 1574.3183232827619\n",
      "When time is : 551, get best_k: 11.910032109924893 best_b: -13.97474580066305, and the loss is: 1517.6436169048852\n",
      "When time is : 552, get best_k: 11.810032109924894 best_b: -14.074745800663049, and the loss is: 1462.0400823944808\n",
      "When time is : 553, get best_k: 11.710032109924894 best_b: -14.174745800663048, and the loss is: 1407.5077197515454\n",
      "When time is : 554, get best_k: 11.610032109924894 best_b: -14.274745800663048, and the loss is: 1354.0465289760814\n",
      "When time is : 555, get best_k: 11.510032109924895 best_b: -14.374745800663048, and the loss is: 1301.656510068089\n",
      "When time is : 556, get best_k: 11.410032109924895 best_b: -14.474745800663047, and the loss is: 1250.3376630275643\n",
      "When time is : 557, get best_k: 11.310032109924895 best_b: -14.574745800663047, and the loss is: 1200.0899878545117\n",
      "When time is : 558, get best_k: 11.210032109924896 best_b: -14.674745800663047, and the loss is: 1150.9134845489289\n",
      "When time is : 559, get best_k: 11.110032109924896 best_b: -14.774745800663046, and the loss is: 1102.8081531108162\n",
      "When time is : 560, get best_k: 11.010032109924897 best_b: -14.874745800663046, and the loss is: 1055.7739935401735\n",
      "When time is : 561, get best_k: 10.910032109924897 best_b: -14.974745800663046, and the loss is: 1009.8110058370033\n",
      "When time is : 562, get best_k: 10.810032109924897 best_b: -15.074745800663045, and the loss is: 964.9191900013024\n",
      "When time is : 563, get best_k: 10.710032109924898 best_b: -15.174745800663045, and the loss is: 921.0985460330701\n",
      "When time is : 564, get best_k: 10.610032109924898 best_b: -15.274745800663045, and the loss is: 878.3490739323097\n",
      "When time is : 565, get best_k: 10.510032109924898 best_b: -15.374745800663044, and the loss is: 836.6707736990188\n",
      "When time is : 566, get best_k: 10.410032109924899 best_b: -15.474745800663044, and the loss is: 796.0636453331995\n",
      "When time is : 567, get best_k: 10.310032109924899 best_b: -15.574745800663043, and the loss is: 756.5276888348496\n",
      "When time is : 568, get best_k: 10.2100321099249 best_b: -15.674745800663043, and the loss is: 718.0629042039702\n",
      "When time is : 569, get best_k: 10.1100321099249 best_b: -15.774745800663043, and the loss is: 680.6692914405612\n",
      "When time is : 570, get best_k: 10.0100321099249 best_b: -15.874745800663042, and the loss is: 644.3468505446222\n",
      "When time is : 571, get best_k: 9.9100321099249 best_b: -15.974745800663042, and the loss is: 609.0955815161543\n",
      "When time is : 572, get best_k: 9.8100321099249 best_b: -16.07474580066304, and the loss is: 574.9154843551567\n",
      "When time is : 573, get best_k: 9.710032109924901 best_b: -16.174745800663043, and the loss is: 541.8065590616286\n",
      "When time is : 574, get best_k: 9.610032109924902 best_b: -16.274745800663045, and the loss is: 509.76880563557125\n",
      "When time is : 575, get best_k: 9.510032109924902 best_b: -16.374745800663046, and the loss is: 478.80222407698443\n",
      "When time is : 576, get best_k: 9.410032109924902 best_b: -16.474745800663047, and the loss is: 448.90681438586785\n",
      "When time is : 577, get best_k: 9.310032109924903 best_b: -16.57474580066305, and the loss is: 420.08257656222156\n",
      "When time is : 578, get best_k: 9.210032109924903 best_b: -16.67474580066305, and the loss is: 392.32951060604563\n",
      "When time is : 579, get best_k: 9.110032109924903 best_b: -16.77474580066305, and the loss is: 365.6476165173398\n",
      "When time is : 580, get best_k: 9.010032109924904 best_b: -16.874745800663053, and the loss is: 340.03689429610444\n",
      "When time is : 581, get best_k: 8.910032109924904 best_b: -16.974745800663054, and the loss is: 315.4973439423403\n",
      "When time is : 582, get best_k: 8.810032109924904 best_b: -17.074745800663056, and the loss is: 292.0289654560457\n",
      "When time is : 583, get best_k: 8.710032109924905 best_b: -17.174745800663057, and the loss is: 269.6317588372216\n",
      "When time is : 584, get best_k: 8.610032109924905 best_b: -17.27474580066306, and the loss is: 248.30572408586795\n",
      "When time is : 585, get best_k: 8.510032109924905 best_b: -17.37474580066306, and the loss is: 228.05086120198445\n",
      "When time is : 586, get best_k: 8.410032109924906 best_b: -17.47474580066306, and the loss is: 208.86717018557115\n",
      "When time is : 587, get best_k: 8.310032109924906 best_b: -17.574745800663063, and the loss is: 190.75465103662847\n",
      "When time is : 588, get best_k: 8.210032109924907 best_b: -17.674745800663064, and the loss is: 173.71330375515623\n",
      "When time is : 589, get best_k: 8.110032109924907 best_b: -17.774745800663066, and the loss is: 157.74312834115435\n",
      "When time is : 590, get best_k: 8.010032109924907 best_b: -17.874745800663067, and the loss is: 142.84412479462264\n",
      "When time is : 591, get best_k: 7.910032109924908 best_b: -17.97474580066307, and the loss is: 129.01629311556118\n",
      "When time is : 592, get best_k: 7.810032109924908 best_b: -18.07474580066307, and the loss is: 116.25963330397039\n",
      "When time is : 593, get best_k: 7.710032109924908 best_b: -18.17474580066307, and the loss is: 104.57414535984985\n",
      "When time is : 594, get best_k: 7.610032109924909 best_b: -18.274745800663073, and the loss is: 93.95982928319948\n",
      "When time is : 595, get best_k: 7.510032109924909 best_b: -18.374745800663074, and the loss is: 84.41668507401964\n",
      "When time is : 596, get best_k: 7.410032109924909 best_b: -18.474745800663076, and the loss is: 75.9447127323101\n",
      "When time is : 597, get best_k: 7.31003210992491 best_b: -18.574745800663077, and the loss is: 68.54391225807088\n",
      "When time is : 598, get best_k: 7.21003210992491 best_b: -18.67474580066308, and the loss is: 62.21428365130216\n",
      "When time is : 599, get best_k: 7.11003210992491 best_b: -18.77474580066308, and the loss is: 56.955826912003694\n",
      "When time is : 600, get best_k: 7.010032109924911 best_b: -18.87474580066308, and the loss is: 52.76854204017553\n",
      "When time is : 601, get best_k: 6.910032109924911 best_b: -18.974745800663083, and the loss is: 49.65242903581781\n",
      "When time is : 602, get best_k: 6.8100321099249115 best_b: -19.074745800663084, and the loss is: 47.60748789893036\n",
      "When time is : 603, get best_k: 6.710032109924912 best_b: -19.174745800663086, and the loss is: 46.63371862951332\n"
     ]
    }
   ],
   "source": [
    "trying_times = 2000\n",
    "\n",
    "min_loss = float('inf')\n",
    "\n",
    "best_k = random.random() * 200 - 100\n",
    "best_b = random.random() * 200 - 100\n",
    "\n",
    "direction = [\n",
    "    (+1, -1),  # first element: k's change direction, second element: b's change direction\n",
    "    (+1, +1), \n",
    "    (-1, -1), \n",
    "    (-1, +1),\n",
    "]\n",
    "\n",
    "next_direction = random.choice(direction)\n",
    "\n",
    "scalar = 0.1\n",
    "\n",
    "for i in range(trying_times):\n",
    "    \n",
    "    k_direction, b_direction = next_direction\n",
    "    \n",
    "    current_k, current_b = best_k + k_direction * scalar, best_b + b_direction * scalar\n",
    "    \n",
    "    price_by_k_and_b = [price(r, current_k, current_b) for r in X_rm]\n",
    "\n",
    "    current_loss = loss(y, price_by_k_and_b)\n",
    "    \n",
    "    if current_loss < min_loss: # performance became better\n",
    "        min_loss = current_loss\n",
    "        best_k, best_b = current_k, current_b\n",
    "        \n",
    "        next_direction = next_direction\n",
    "        print('When time is : {}, get best_k: {} best_b: {}, and the loss is: {}'.format(i, best_k, best_b, min_loss))\n",
    "    else:\n",
    "        next_direction = random.choice(direction)"
   ]
  },
  {
   "cell_type": "markdown",
   "metadata": {},
   "source": [
    "如果我们想得到更快的更新，在更短的时间内获得更好的结果，我们需要一件事情：\n",
    "\n",
    "#### 找对改变的方向\n",
    "\n",
    "#### 如何找对改变的方向呢？ \n",
    "\n",
    "#### 2nd-method: 监督让他变化--> 监督学习"
   ]
  },
  {
   "cell_type": "markdown",
   "metadata": {},
   "source": [
    "###  导数"
   ]
  },
  {
   "cell_type": "code",
   "execution_count": null,
   "metadata": {},
   "outputs": [],
   "source": []
  },
  {
   "cell_type": "code",
   "execution_count": 27,
   "metadata": {},
   "outputs": [
    {
     "data": {
      "text/plain": [
       "2.0"
      ]
     },
     "execution_count": 27,
     "metadata": {},
     "output_type": "execute_result"
    }
   ],
   "source": [
    "loss([1, 1, 1], [2, 2, 3])"
   ]
  },
  {
   "cell_type": "code",
   "execution_count": 28,
   "metadata": {},
   "outputs": [
    {
     "data": {
      "text/plain": [
       "0.0"
      ]
     },
     "execution_count": 28,
     "metadata": {},
     "output_type": "execute_result"
    }
   ],
   "source": [
    "loss([1, 1, 1], [1, 1, 1])"
   ]
  },
  {
   "cell_type": "code",
   "execution_count": 29,
   "metadata": {},
   "outputs": [
    {
     "data": {
      "text/plain": [
       "array(['CRIM', 'ZN', 'INDUS', 'CHAS', 'NOX', 'RM', 'AGE', 'DIS', 'RAD',\n",
       "       'TAX', 'PTRATIO', 'B', 'LSTAT'], dtype='<U7')"
      ]
     },
     "execution_count": 29,
     "metadata": {},
     "output_type": "execute_result"
    }
   ],
   "source": [
    "data['feature_names']"
   ]
  },
  {
   "cell_type": "code",
   "execution_count": 30,
   "metadata": {},
   "outputs": [
    {
     "data": {
      "text/plain": [
       "\".. _boston_dataset:\\n\\nBoston house prices dataset\\n---------------------------\\n\\n**Data Set Characteristics:**  \\n\\n    :Number of Instances: 506 \\n\\n    :Number of Attributes: 13 numeric/categorical predictive. Median Value (attribute 14) is usually the target.\\n\\n    :Attribute Information (in order):\\n        - CRIM     per capita crime rate by town\\n        - ZN       proportion of residential land zoned for lots over 25,000 sq.ft.\\n        - INDUS    proportion of non-retail business acres per town\\n        - CHAS     Charles River dummy variable (= 1 if tract bounds river; 0 otherwise)\\n        - NOX      nitric oxides concentration (parts per 10 million)\\n        - RM       average number of rooms per dwelling\\n        - AGE      proportion of owner-occupied units built prior to 1940\\n        - DIS      weighted distances to five Boston employment centres\\n        - RAD      index of accessibility to radial highways\\n        - TAX      full-value property-tax rate per $10,000\\n        - PTRATIO  pupil-teacher ratio by town\\n        - B        1000(Bk - 0.63)^2 where Bk is the proportion of blacks by town\\n        - LSTAT    % lower status of the population\\n        - MEDV     Median value of owner-occupied homes in $1000's\\n\\n    :Missing Attribute Values: None\\n\\n    :Creator: Harrison, D. and Rubinfeld, D.L.\\n\\nThis is a copy of UCI ML housing dataset.\\nhttps://archive.ics.uci.edu/ml/machine-learning-databases/housing/\\n\\n\\nThis dataset was taken from the StatLib library which is maintained at Carnegie Mellon University.\\n\\nThe Boston house-price data of Harrison, D. and Rubinfeld, D.L. 'Hedonic\\nprices and the demand for clean air', J. Environ. Economics & Management,\\nvol.5, 81-102, 1978.   Used in Belsley, Kuh & Welsch, 'Regression diagnostics\\n...', Wiley, 1980.   N.B. Various transformations are used in the table on\\npages 244-261 of the latter.\\n\\nThe Boston house-price data has been used in many machine learning papers that address regression\\nproblems.   \\n     \\n.. topic:: References\\n\\n   - Belsley, Kuh & Welsch, 'Regression diagnostics: Identifying Influential Data and Sources of Collinearity', Wiley, 1980. 244-261.\\n   - Quinlan,R. (1993). Combining Instance-Based and Model-Based Learning. In Proceedings on the Tenth International Conference of Machine Learning, 236-243, University of Massachusetts, Amherst. Morgan Kaufmann.\\n\""
      ]
     },
     "execution_count": 30,
     "metadata": {},
     "output_type": "execute_result"
    }
   ],
   "source": [
    "data['DESCR']"
   ]
  },
  {
   "cell_type": "code",
   "execution_count": null,
   "metadata": {},
   "outputs": [],
   "source": []
  }
 ],
 "metadata": {
  "kernelspec": {
   "display_name": "Python 3",
   "language": "python",
   "name": "python3"
  },
  "language_info": {
   "codemirror_mode": {
    "name": "ipython",
    "version": 3
   },
   "file_extension": ".py",
   "mimetype": "text/x-python",
   "name": "python",
   "nbconvert_exporter": "python",
   "pygments_lexer": "ipython3",
   "version": "3.5.5"
  },
  "toc": {
   "base_numbering": 1,
   "nav_menu": {},
   "number_sections": true,
   "sideBar": true,
   "skip_h1_title": false,
   "title_cell": "Table of Contents",
   "title_sidebar": "Contents",
   "toc_cell": false,
   "toc_position": {
    "height": "calc(100% - 180px)",
    "left": "10px",
    "top": "150px",
    "width": "379px"
   },
   "toc_section_display": true,
   "toc_window_display": true
  }
 },
 "nbformat": 4,
 "nbformat_minor": 2
}
