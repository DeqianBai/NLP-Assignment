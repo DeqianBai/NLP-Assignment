{
  "nbformat": 4,
  "nbformat_minor": 0,
  "metadata": {
    "colab": {
      "name": "Assignment-02.ipynb",
      "version": "0.3.2",
      "provenance": [],
      "collapsed_sections": [
        "Qc9iznc_3zFn"
      ]
    },
    "language_info": {
      "codemirror_mode": {
        "name": "ipython",
        "version": 3
      },
      "file_extension": ".py",
      "mimetype": "text/x-python",
      "name": "python",
      "nbconvert_exporter": "python",
      "pygments_lexer": "ipython3",
      "version": "3.7.3"
    },
    "kernelspec": {
      "display_name": "Python 3",
      "language": "python",
      "name": "python3"
    }
  },
  "cells": [
    {
      "cell_type": "markdown",
      "metadata": {
        "id": "wVzCiKgV55W6",
        "colab_type": "text"
      },
      "source": [
        "## Assignments for Week-02"
      ]
    },
    {
      "cell_type": "markdown",
      "metadata": {
        "id": "rQ3lVV7D55W8",
        "colab_type": "text"
      },
      "source": [
        "In this course, we learnt what's the search problem and what's the machine leanring. In this assignment, we need you do some more practice."
      ]
    },
    {
      "cell_type": "markdown",
      "metadata": {
        "id": "6dPM3LTs55W9",
        "colab_type": "text"
      },
      "source": [
        "### 1. Re-code the house price machine learning\n",
        "\n",
        "###### 1. Random Choose Method to get optimal *k* and *b*\n",
        "###### 2.Supervised Direction to get optimal *k* and *b*\n",
        "###### 3.Gradient Descent to get optimal *k* and *b*\n",
        "###### 4. Try different Loss function and learning rate. \n",
        "\n",
        "For example, you can change the loss function: $Loss = \\frac{1}{n} sum({y_i - \\hat{y_i}})^2$ to $Loss = \\frac{1}{n} sum(|{y_i - \\hat{y_i}}|)$\n",
        "\n",
        "And you can change the learning rate and observe the performance."
      ]
    },
    {
      "cell_type": "markdown",
      "metadata": {
        "id": "xf7180CQyhzE",
        "colab_type": "text"
      },
      "source": [
        "###### 1. Random Choose Method to get optimal *k* and *b*"
      ]
    },
    {
      "cell_type": "code",
      "metadata": {
        "id": "Aeff4d5vyTSE",
        "colab_type": "code",
        "colab": {}
      },
      "source": [
        "from sklearn.datasets import load_boston\n",
        "import random"
      ],
      "execution_count": 0,
      "outputs": []
    },
    {
      "cell_type": "code",
      "metadata": {
        "id": "nIS6V49Eyq0D",
        "colab_type": "code",
        "colab": {}
      },
      "source": [
        "data = load_boston()"
      ],
      "execution_count": 0,
      "outputs": []
    },
    {
      "cell_type": "code",
      "metadata": {
        "id": "cqG91Ce4yq4I",
        "colab_type": "code",
        "colab": {}
      },
      "source": [
        "X, y = data['data'], data['target']"
      ],
      "execution_count": 0,
      "outputs": []
    },
    {
      "cell_type": "code",
      "metadata": {
        "id": "D8rGDx1z1-pl",
        "colab_type": "code",
        "colab": {}
      },
      "source": [
        "print(X[:, 5])"
      ],
      "execution_count": 0,
      "outputs": []
    },
    {
      "cell_type": "code",
      "metadata": {
        "id": "R4ymQvUayq8A",
        "colab_type": "code",
        "colab": {}
      },
      "source": [
        "%matplotlib inline\n",
        "import matplotlib.pyplot as plt"
      ],
      "execution_count": 0,
      "outputs": []
    },
    {
      "cell_type": "code",
      "metadata": {
        "id": "SZtp-Y4Ky4oK",
        "colab_type": "code",
        "colab": {}
      },
      "source": [
        "def draw_rm_and_price():\n",
        "    plt.scatter(X[:, 5], y)"
      ],
      "execution_count": 0,
      "outputs": []
    },
    {
      "cell_type": "code",
      "metadata": {
        "id": "cXyo0DuAy4rO",
        "colab_type": "code",
        "outputId": "fc2209b1-2bba-43bd-8c9b-ea9721847bef",
        "colab": {
          "base_uri": "https://localhost:8080/",
          "height": 269
        }
      },
      "source": [
        "draw_rm_and_price()"
      ],
      "execution_count": 0,
      "outputs": [
        {
          "output_type": "display_data",
          "data": {
            "image/png": "[encoded data removed]",
            "text/plain": [
              "<Figure size 432x288 with 1 Axes>"
            ]
          },
          "metadata": {
            "tags": []
          }
        }
      ]
    },
    {
      "cell_type": "code",
      "metadata": {
        "id": "AKdoGnLSzaWy",
        "colab_type": "code",
        "colab": {}
      },
      "source": [
        "def price(rm, k, b):\n",
        "    \"\"\"f(x) = k * x + b\"\"\"\n",
        "    return k * rm + b  "
      ],
      "execution_count": 0,
      "outputs": []
    },
    {
      "cell_type": "markdown",
      "metadata": {
        "id": "Dt80eX13zpYq",
        "colab_type": "text"
      },
      "source": [
        "$$ loss = \\frac{1}{n} \\sum{(y_i - \\hat{y_i})}$$"
      ]
    },
    {
      "cell_type": "code",
      "metadata": {
        "id": "SW1-L6MUy9KW",
        "colab_type": "code",
        "colab": {}
      },
      "source": [
        "def loss(y, y_hat): # to evaluate the performance \n",
        "    return sum((y_i - y_hat_i)**2 for y_i, y_hat_i in zip(list(y), list(y_hat))) / len(list(y))"
      ],
      "execution_count": 0,
      "outputs": []
    },
    {
      "cell_type": "code",
      "metadata": {
        "id": "6jaIQHqzy9VL",
        "colab_type": "code",
        "colab": {}
      },
      "source": [
        "X_rm = X[:, 5]"
      ],
      "execution_count": 0,
      "outputs": []
    },
    {
      "cell_type": "code",
      "metadata": {
        "id": "vdI1u82ly9Yq",
        "colab_type": "code",
        "outputId": "55574812-6c44-46f2-bfcc-b8e99f3bed6d",
        "colab": {
          "base_uri": "https://localhost:8080/",
          "height": 138
        }
      },
      "source": [
        "trying_times = 2000\n",
        "\n",
        "min_loss = float('inf')\n",
        "best_k, best_b = None, None\n",
        "\n",
        "for i in range(trying_times):\n",
        "    k = random.random() * 200 - 100\n",
        "    b = random.random() * 200 - 100\n",
        "    price_by_random_k_and_b = [price(r, k, b) for r in X_rm]\n",
        "\n",
        "    current_loss = loss(y, price_by_random_k_and_b)\n",
        "    \n",
        "    if current_loss < min_loss:\n",
        "        min_loss = current_loss\n",
        "        best_k, best_b = k, b\n",
        "        print('When time is : {}, get best_k: {} best_b: {}, and the loss is: {}'.format(i, best_k, best_b, min_loss))"
      ],
      "execution_count": 0,
      "outputs": [
        {
          "output_type": "stream",
          "text": [
            "When time is : 0, get best_k: 22.23490994126267 best_b: -55.498058673661, and the loss is: 3936.380941788981\n",
            "When time is : 2, get best_k: 4.81428725798429 best_b: 43.149675382197444, and the loss is: 2640.7113508074435\n",
            "When time is : 6, get best_k: -7.785930384562505 best_b: 79.2494810243499, and the loss is: 244.7255501909732\n",
            "When time is : 12, get best_k: 3.230638670059548 best_b: -3.1864607532136517, and the loss is: 89.91760891408767\n",
            "When time is : 440, get best_k: 8.933842820468811 best_b: -39.2852829089466, and the loss is: 75.78782625762803\n",
            "When time is : 698, get best_k: 6.367504626600891 best_b: -12.989579645660385, and the loss is: 67.49045423077281\n",
            "When time is : 1678, get best_k: 8.764449579163553 best_b: -30.357408322527164, and the loss is: 48.45784912872909\n"
          ],
          "name": "stdout"
        }
      ]
    },
    {
      "cell_type": "code",
      "metadata": {
        "id": "6ZxaT_Hdz8kE",
        "colab_type": "code",
        "outputId": "7177f192-adef-46bf-b498-871bd812a9de",
        "colab": {
          "base_uri": "https://localhost:8080/",
          "height": 286
        }
      },
      "source": [
        "X_rm = X[:, 5]\n",
        "k = 15\n",
        "b = -68\n",
        "price_by_random_k_and_b = [price(r, k, b) for r in X_rm]\n",
        "\n",
        "draw_rm_and_price()\n",
        "plt.scatter(X_rm, price_by_random_k_and_b)"
      ],
      "execution_count": 0,
      "outputs": [
        {
          "output_type": "execute_result",
          "data": {
            "text/plain": [
              "<matplotlib.collections.PathCollection at 0x7f49ac08f588>"
            ]
          },
          "metadata": {
            "tags": []
          },
          "execution_count": 14
        },
        {
          "output_type": "display_data",
          "data": {
            "image/png": "[encoded data removed]",
            "text/plain": [
              "<Figure size 432x288 with 1 Axes>"
            ]
          },
          "metadata": {
            "tags": []
          }
        }
      ]
    },
    {
      "cell_type": "markdown",
      "metadata": {
        "id": "_558MKxa0N2x",
        "colab_type": "text"
      },
      "source": [
        "###### 2.Supervised Direction to get optimal *k* and *b*"
      ]
    },
    {
      "cell_type": "code",
      "metadata": {
        "id": "XbB3Ty9f0WAk",
        "colab_type": "code",
        "colab": {}
      },
      "source": [
        "trying_times = 2000\n",
        "\n",
        "min_loss = float('inf')\n",
        "\n",
        "best_k = random.random() * 200 - 100\n",
        "best_b = random.random() * 200 - 100\n",
        "\n",
        "direction = [\n",
        "    (+1, -1),  # first element: k's change direction, second element: b's change direction\n",
        "    (+1, +1), \n",
        "    (-1, -1), \n",
        "    (-1, +1),\n",
        "]\n",
        "\n",
        "next_direction = random.choice(direction)\n",
        "\n",
        "scalar = 0.1  # 学习率\n",
        "\n",
        "for i in range(trying_times):\n",
        "    \n",
        "    k_direction, b_direction = next_direction\n",
        "    \n",
        "    current_k, current_b = best_k + k_direction * scalar, best_b + b_direction * scalar # 更新 k 和 b\n",
        "    \n",
        "    price_by_k_and_b = [price(r, current_k, current_b) for r in X_rm]\n",
        "\n",
        "    current_loss = loss(y, price_by_k_and_b)\n",
        "    \n",
        "    if current_loss < min_loss: # performance became better\n",
        "        min_loss = current_loss\n",
        "        best_k, best_b = current_k, current_b # 选择更好的 k 和 b\n",
        "        \n",
        "        next_direction = next_direction\n",
        "        print('When time is : {}, get best_k: {} best_b: {}, and the loss is: {}'.format(i, best_k, best_b, min_loss))\n",
        "    else:\n",
        "        next_direction = random.choice(direction)"
      ],
      "execution_count": 0,
      "outputs": []
    },
    {
      "cell_type": "markdown",
      "metadata": {
        "id": "5iNDR41j1SOi",
        "colab_type": "text"
      },
      "source": [
        "###### 3.Gradient Descent to get optimal *k* and *b*"
      ]
    },
    {
      "cell_type": "code",
      "metadata": {
        "id": "etSYGqmR0WDh",
        "colab_type": "code",
        "colab": {}
      },
      "source": [
        ""
      ],
      "execution_count": 0,
      "outputs": []
    },
    {
      "cell_type": "code",
      "metadata": {
        "id": "iYk_8Et90WGF",
        "colab_type": "code",
        "colab": {}
      },
      "source": [
        ""
      ],
      "execution_count": 0,
      "outputs": []
    },
    {
      "cell_type": "markdown",
      "metadata": {
        "id": "Qc9iznc_3zFn",
        "colab_type": "text"
      },
      "source": [
        "###### 4. Try different Loss function and learning rate. \n",
        "\n",
        "For example, you can change the loss function: $Loss = \\frac{1}{n} sum({y_i - \\hat{y_i}})^2$ to $Loss = \\frac{1}{n} sum(|{y_i - \\hat{y_i}}|)$\n",
        "\n",
        "And you can change the learning rate and observe the performance."
      ]
    },
    {
      "cell_type": "code",
      "metadata": {
        "id": "Q_f4KcCI30KM",
        "colab_type": "code",
        "colab": {}
      },
      "source": [
        "def loss1(y, y_hat): # to evaluate the performance \n",
        "    return sum(abs(y_i - y_hat_i) for y_i, y_hat_i in zip(list(y), list(y_hat))) / len(list(y))"
      ],
      "execution_count": 0,
      "outputs": []
    },
    {
      "cell_type": "code",
      "metadata": {
        "id": "0MZnoO-P4Y19",
        "colab_type": "code",
        "outputId": "a0c48b1a-2988-4386-b84d-ed1d811271cd",
        "colab": {
          "base_uri": "https://localhost:8080/",
          "height": 35
        }
      },
      "source": [
        "loss1([1, 1, 1], [2, 2, 3])"
      ],
      "execution_count": 0,
      "outputs": [
        {
          "output_type": "execute_result",
          "data": {
            "text/plain": [
              "1.3333333333333333"
            ]
          },
          "metadata": {
            "tags": []
          },
          "execution_count": 19
        }
      ]
    },
    {
      "cell_type": "code",
      "metadata": {
        "id": "DJ9TK7oM4ss-",
        "colab_type": "code",
        "outputId": "bf34a4a6-bf23-4a0c-eec2-9a4ad6292d9f",
        "colab": {
          "base_uri": "https://localhost:8080/",
          "height": 104
        }
      },
      "source": [
        "trying_times = 2000\n",
        "\n",
        "min_loss = float('inf')\n",
        "best_k, best_b = None, None\n",
        "\n",
        "for i in range(trying_times):\n",
        "    k = random.random() * 200 - 100\n",
        "    b = random.random() * 200 - 100\n",
        "    price_by_random_k_and_b = [price(r, k, b) for r in X_rm]\n",
        "\n",
        "    current_loss = loss1(y, price_by_random_k_and_b)\n",
        "    \n",
        "    if current_loss < min_loss:\n",
        "        min_loss = current_loss\n",
        "        best_k, best_b = k, b\n",
        "        print('When time is : {}, get best_k: {} best_b: {}, and the loss is: {}'.format(i, best_k, best_b, min_loss))"
      ],
      "execution_count": 0,
      "outputs": [
        {
          "output_type": "stream",
          "text": [
            "When time is : 0, get best_k: 3.2483686700351484 best_b: -12.436286260604845, and the loss is: 14.588443971144349\n",
            "When time is : 171, get best_k: 13.727004857015459 best_b: -76.90794301983333, and the loss is: 13.506729817461123\n",
            "When time is : 200, get best_k: 16.905135049332173 best_b: -80.66630641028023, and the loss is: 6.416653003909486\n",
            "When time is : 479, get best_k: 5.386716138912419 best_b: -14.190488352192347, and the loss is: 5.584237006299563\n",
            "When time is : 618, get best_k: 13.025222545358915 best_b: -59.04660434818545, and the loss is: 4.744528248096005\n"
          ],
          "name": "stdout"
        }
      ]
    },
    {
      "cell_type": "code",
      "metadata": {
        "id": "qtx0uKKd46aB",
        "colab_type": "code",
        "outputId": "7b0e6c73-4cba-41cf-fb3b-f8db6e97e795",
        "colab": {
          "base_uri": "https://localhost:8080/",
          "height": 286
        }
      },
      "source": [
        "X_rm = X[:, 5]\n",
        "k = 15\n",
        "b = -68\n",
        "price_by_random_k_and_b = [price(r, k, b) for r in X_rm]\n",
        "\n",
        "draw_rm_and_price()\n",
        "plt.scatter(X_rm, price_by_random_k_and_b)"
      ],
      "execution_count": 0,
      "outputs": [
        {
          "output_type": "execute_result",
          "data": {
            "text/plain": [
              "<matplotlib.collections.PathCollection at 0x7f49ac0037b8>"
            ]
          },
          "metadata": {
            "tags": []
          },
          "execution_count": 21
        },
        {
          "output_type": "display_data",
          "data": {
            "image/png": "[encoded data removed]",
            "text/plain": [
              "<Figure size 432x288 with 1 Axes>"
            ]
          },
          "metadata": {
            "tags": []
          }
        }
      ]
    },
    {
      "cell_type": "code",
      "metadata": {
        "id": "_RUq5gWq48YU",
        "colab_type": "code",
        "colab": {}
      },
      "source": [
        "trying_times = 2000\n",
        "\n",
        "min_loss = float('inf')\n",
        "\n",
        "best_k = random.random() * 200 - 100\n",
        "best_b = random.random() * 200 - 100\n",
        "\n",
        "direction = [\n",
        "    (+1, -1),  # first element: k's change direction, second element: b's change direction\n",
        "    (+1, +1), \n",
        "    (-1, -1), \n",
        "    (-1, +1),\n",
        "]\n",
        "\n",
        "next_direction = random.choice(direction)\n",
        "\n",
        "scalar = 0.1\n",
        "\n",
        "for i in range(trying_times):\n",
        "    \n",
        "    k_direction, b_direction = next_direction\n",
        "    \n",
        "    current_k, current_b = best_k + k_direction * scalar, best_b + b_direction * scalar\n",
        "    \n",
        "    price_by_k_and_b = [price(r, current_k, current_b) for r in X_rm]\n",
        "\n",
        "    current_loss = loss1(y, price_by_k_and_b)\n",
        "    \n",
        "    if current_loss < min_loss: # performance became better\n",
        "        min_loss = current_loss\n",
        "        best_k, best_b = current_k, current_b\n",
        "        \n",
        "        next_direction = next_direction\n",
        "        print('When time is : {}, get best_k: {} best_b: {}, and the loss is: {}'.format(i, best_k, best_b, min_loss))\n",
        "    else:\n",
        "        next_direction = random.choice(direction)"
      ],
      "execution_count": 0,
      "outputs": []
    },
    {
      "cell_type": "markdown",
      "metadata": {
        "id": "KUIxa3Yl55W9",
        "colab_type": "text"
      },
      "source": [
        "![](https://timgsa.baidu.com/timg?image&quality=80&size=b9999_10000&sec=1562414412237&di=8377c38d7b50c6f8d45b92ccc78dc1e7&imgtype=0&src=http%3A%2F%2Fmmbiz.qpic.cn%2Fmmbiz_jpg%2FlSyiavfm6wPgQDuDYa42IMgSkLOcPJU91RbkMibGy7VHLrhhNVLibTYk1iaLcmXKTdHc4icTDVia59QFXwqpW8cLflaw%2F640%3Fwx_fmt%3Djpeg)"
      ]
    },
    {
      "cell_type": "markdown",
      "metadata": {
        "id": "6BOwC4Ba55W-",
        "colab_type": "text"
      },
      "source": [
        "## 2. Answer following questions:\n",
        "\n",
        "\n",
        "###### 1. Why do we need machine learning methods instead of creating a complicated formula?\n",
        "\n",
        "\n"
      ]
    },
    {
      "cell_type": "markdown",
      "metadata": {
        "id": "EnPooN3w55W_",
        "colab_type": "text"
      },
      "source": [
        "Ans: \n",
        "\n",
        "*    因为现实世界中的数据量越来越多，很难写出一个能囊括所有情况的公式。\n",
        "\n",
        "*  机器学习可以用来处理大数据量的问题 \n",
        "\n"
      ]
    },
    {
      "cell_type": "markdown",
      "metadata": {
        "id": "7rGpjtKD55XA",
        "colab_type": "text"
      },
      "source": [
        "###### 2.  Wha't's the disadvantages of `the 1st Random Choosen` methods in our course? "
      ]
    },
    {
      "cell_type": "markdown",
      "metadata": {
        "id": "mCnWKEu-55XB",
        "colab_type": "text"
      },
      "source": [
        "Ans:\n",
        "\n",
        "\n",
        "1.  损失下降的速度慢\n",
        "2.  耗费的时间长\n",
        "\n"
      ]
    },
    {
      "cell_type": "markdown",
      "metadata": {
        "id": "ZoLTUKiX55XC",
        "colab_type": "text"
      },
      "source": [
        "###### 3. Is the `2nd method supervised direction` better than 1st one?  What's the disadvantages of `the 2nd supversied directin` method? "
      ]
    },
    {
      "cell_type": "markdown",
      "metadata": {
        "id": "4ktlmEAY55XE",
        "colab_type": "text"
      },
      "source": [
        "Ans:\n",
        "\n",
        "\n",
        "\n",
        "1.   是的，监督方法比随机方法好\n",
        "2.   \n",
        "\n",
        "      *  搜索空间大\n",
        "      *   不能确保每次都朝着正确的方向前进，具有随机性\n",
        "\n",
        "\n",
        "\n"
      ]
    },
    {
      "cell_type": "markdown",
      "metadata": {
        "id": "9hG-roPE55XG",
        "colab_type": "text"
      },
      "source": [
        "###### 4. Why do we use `Derivative / Gredient` to fit a target function? "
      ]
    },
    {
      "cell_type": "markdown",
      "metadata": {
        "id": "5gZDGGW-55XH",
        "colab_type": "text"
      },
      "source": [
        "Ans:\n",
        "\n",
        "导数代表了函数的变化趋势，导数大于0，函数随着自变量的增加而增加；反之则减小。\n",
        "我们的目标是优化目标函数，需要根据导数的值做出优化的选择。\n",
        "\n"
      ]
    },
    {
      "cell_type": "markdown",
      "metadata": {
        "id": "a40Bu2g855XI",
        "colab_type": "text"
      },
      "source": [
        "###### 5. In the words 'Gredient Descent', what's the `Gredient` and what's the `Descent`?"
      ]
    },
    {
      "cell_type": "markdown",
      "metadata": {
        "id": "x5MiWt8155XI",
        "colab_type": "text"
      },
      "source": [
        "Ans:\n",
        "\n",
        "\n",
        "\n",
        "*  函数的梯度代表了函数值增长速度最快的方向\n",
        "*  与梯度相反的方向就是函数减小速度最快的方向，这就是下降的意思。\n",
        "\n"
      ]
    },
    {
      "cell_type": "markdown",
      "metadata": {
        "id": "O2CHmIPi55XK",
        "colab_type": "text"
      },
      "source": [
        "###### 6. What's the advantages of `the 3rd gradient descent method` compared to the previous methods?"
      ]
    },
    {
      "cell_type": "markdown",
      "metadata": {
        "id": "2Zc0gQuO55XL",
        "colab_type": "text"
      },
      "source": [
        "Ans:\n",
        "\n",
        "\n",
        "1.   能保证每次都朝着正确的方向前进，最后收敛于极值点\n",
        "\n",
        "\n",
        "\n"
      ]
    },
    {
      "cell_type": "markdown",
      "metadata": {
        "id": "0K19ft8o55XL",
        "colab_type": "text"
      },
      "source": [
        "###### 7. Using the simple words to describe: What's the machine leanring."
      ]
    },
    {
      "cell_type": "markdown",
      "metadata": {
        "id": "jTQc7SUU55XM",
        "colab_type": "text"
      },
      "source": [
        "Ans:\n",
        "\n",
        "机器学习式一种能够从数据中学习的方法"
      ]
    },
    {
      "cell_type": "markdown",
      "metadata": {
        "id": "aZjpUxjD55XN",
        "colab_type": "text"
      },
      "source": [
        "## 3. Finish the search problem"
      ]
    },
    {
      "cell_type": "markdown",
      "metadata": {
        "id": "ZJ4TYfvk55XO",
        "colab_type": "text"
      },
      "source": [
        "Please using the search policy to implement an agent. This agent receives two input, one is @param start station and the other is @param destination. Your agent should give the optimal route based on Beijing Subway system. "
      ]
    },
    {
      "cell_type": "markdown",
      "metadata": {
        "id": "4YyUxE6f55XO",
        "colab_type": "text"
      },
      "source": [
        "> Deadline: 2019-July-13\n",
        "\n",
        ">Submit: Submit the source code and result to github. \n",
        "\n"
      ]
    },
    {
      "cell_type": "markdown",
      "metadata": {
        "id": "opBzJQlE55XP",
        "colab_type": "text"
      },
      "source": [
        "![](https://timgsa.baidu.com/timg?image&quality=80&size=b9999_10000&sec=1562414356407&di=b57814aafd215bb8b8d9d8cd37c573d6&imgtype=0&src=http%3A%2F%2Fcli.clewm.net%2Ffile%2F2015%2F03%2F24%2F174ed60082b8422ac0636cfd3efb9e7f.jpg)"
      ]
    },
    {
      "cell_type": "markdown",
      "metadata": {
        "id": "9E735BAh55XQ",
        "colab_type": "text"
      },
      "source": [
        "#### Dataflow: "
      ]
    },
    {
      "cell_type": "markdown",
      "metadata": {
        "id": "CTwuJimK55XR",
        "colab_type": "text"
      },
      "source": [
        "##### 1.\tGet data from web page.\n",
        "\n",
        "> a.\tGet web page source from: https://baike.baidu.com/item/%E5%8C%97%E4%BA%AC%E5%9C%B0%E9%93%81/408485\n",
        "\n",
        "> b.\tYou may need @package **requests**[https://2.python-requests.org/en/master/] page to get the response via url\n",
        "\n",
        "> c.\tYou may need save the page source to file system.\n",
        "\n",
        "> d.\tThe target of this step is to get station information of all the subway lines;\n",
        "\n",
        "> e.\tYou may need install @package beautiful soup[https://www.crummy.com/software/BeautifulSoup/bs4/doc/]  to get the url information, or just use > Regular Expression to get the url.  Our recommendation is that using the Regular Expression and BeautiflSoup both. \n",
        "\n",
        "> f.\tYou may need BFS to get all the related page url from one url. \n",
        "Question: Why do we use BFS to traverse web page (or someone said, build a web spider)?  Can DFS do this job? which is better? "
      ]
    },
    {
      "cell_type": "markdown",
      "metadata": {
        "id": "TiNUmiX_55XR",
        "colab_type": "text"
      },
      "source": [
        "##### 2.\tPreprocessing data from page source.\n",
        "\n",
        "> a.\tBased on the page source gotten from url. You may need some more preprocessing of the page. \n",
        "\n",
        "> b.\tthe Regular Expression you may need to process the text information.\n",
        "\n",
        "> c.\tYou may need @package networkx, @package matplotlib to visualize data. \n",
        "\n",
        "> d.\tYou should build a dictionary or graph which could represent the connection information of Beijing subway routes. \n",
        "\n",
        "> e.\tYou may need the defaultdict, set data structures to implement this procedure. "
      ]
    },
    {
      "cell_type": "markdown",
      "metadata": {
        "id": "hwCmE7G855XT",
        "colab_type": "text"
      },
      "source": [
        "##### 3. Build the search agent\n",
        "\n",
        "> Build the search agent based on the graph we build.\n",
        "\n",
        "for example, when you run: \n",
        "\n",
        "```python\n",
        ">>> search('奥体中心', '天安门') \n",
        "```\n",
        "you need get the result: \n",
        "\n",
        "奥体中心-> A -> B -> C -> ... -> 天安门\n",
        "\n"
      ]
    },
    {
      "cell_type": "markdown",
      "metadata": {
        "id": "5SndX3y455XV",
        "colab_type": "text"
      },
      "source": [
        "## （Optional）Create different policies for transfer system.\n"
      ]
    },
    {
      "cell_type": "markdown",
      "metadata": {
        "id": "vNb1Q3eP55XW",
        "colab_type": "text"
      },
      "source": [
        "以下部门为可选部分，请酌情完成。 并不要求全部同学完成。"
      ]
    },
    {
      "cell_type": "markdown",
      "metadata": {
        "id": "j1C3NfKL55XX",
        "colab_type": "text"
      },
      "source": [
        "As much as you can to use the already implemented search agent. You just need to define the **is_goal()**, **get_successor()**, **strategy()** three functions. \n",
        "\n",
        "> a.\tDefine different policies for transfer system. \n",
        "\n",
        "> b.\tSuch as Shortest Path Priority（路程最短优先）, Minimum Transfer Priority(最少换乘优先), Comprehensive Priority(综合优先)\n",
        "\n",
        "> c.\tImplement Continuous transfer. Based on the Agent you implemented, please add this feature: Besides the @param start and @param destination two stations, add some more stations, we called @param by_way, it means, our path should from the start and end, but also include the  @param by_way stations. \n",
        "\n",
        "e.g \n",
        "```\n",
        "1. Input:  start=A,  destination=B, by_way=[C] \n",
        "    Output: [A, … .., C, …. B]\n",
        "2. Input: start=A, destination=B, by_way=[C, D, E]\n",
        "    Output: [A … C … E … D … B]  \n",
        "    # based on your policy, the E station could be reached firstly. \n",
        "![image.png](attachment:image.png)\n",
        "```"
      ]
    },
    {
      "cell_type": "markdown",
      "metadata": {
        "id": "Jy2t4jVJ55XZ",
        "colab_type": "text"
      },
      "source": [
        "##### 5.\tTest your result with commercial applications. \n",
        "\n",
        "将你的结果和高德地图或者百度地图进行比较，如果有不同，请分析原因\n"
      ]
    },
    {
      "cell_type": "markdown",
      "metadata": {
        "id": "asytK9Hs55Xa",
        "colab_type": "text"
      },
      "source": [
        "恭喜，完成本次课程，你对常用的人工智能方法以及有一定的了解了。基于规则的，基于概率模型的，基于搜索的，基于机器学习的。 可以说，我们现在通常见到的方法都能够归属到这几类方法中。 这就是**人工智能**，并没有很难是吧？ 继续加油！"
      ]
    },
    {
      "cell_type": "markdown",
      "metadata": {
        "id": "NtYCGJ9E55Xb",
        "colab_type": "text"
      },
      "source": [
        "![](https://timgsa.baidu.com/timg?image&quality=80&size=b9999_10000&sec=1562415163815&di=4b29a2a863a8285212033760f288ed7a&imgtype=0&src=http%3A%2F%2F5b0988e595225.cdn.sohucs.com%2Fimages%2F20180710%2F8704194a1d7f46a383ddc29d40c9bca5.jpeg)"
      ]
    }
  ]
}