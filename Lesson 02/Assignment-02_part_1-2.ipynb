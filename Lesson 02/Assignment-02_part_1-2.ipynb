{
 "cells": [
  {
   "cell_type": "markdown",
   "metadata": {
    "colab_type": "text",
    "id": "wVzCiKgV55W6"
   },
   "source": [
    "## Assignments for Week-02"
   ]
  },
  {
   "cell_type": "markdown",
   "metadata": {
    "colab_type": "text",
    "id": "rQ3lVV7D55W8"
   },
   "source": [
    "In this course, we learnt what's the search problem and what's the machine leanring. In this assignment, we need you do some more practice."
   ]
  },
  {
   "cell_type": "markdown",
   "metadata": {
    "colab_type": "text",
    "id": "6dPM3LTs55W9"
   },
   "source": [
    "### Re-code the house price machine learning"
   ]
  },
  {
   "cell_type": "markdown",
   "metadata": {
    "colab_type": "text",
    "id": "xf7180CQyhzE"
   },
   "source": [
    "#### Random Choose Method to get optimal *k* and *b*"
   ]
  },
  {
   "cell_type": "code",
   "execution_count": 1,
   "metadata": {
    "colab": {},
    "colab_type": "code",
    "id": "Aeff4d5vyTSE"
   },
   "outputs": [],
   "source": [
    "from sklearn.datasets import load_boston\n",
    "import random"
   ]
  },
  {
   "cell_type": "code",
   "execution_count": 2,
   "metadata": {
    "colab": {},
    "colab_type": "code",
    "id": "nIS6V49Eyq0D"
   },
   "outputs": [],
   "source": [
    "data = load_boston()"
   ]
  },
  {
   "cell_type": "code",
   "execution_count": 3,
   "metadata": {
    "colab": {},
    "colab_type": "code",
    "id": "cqG91Ce4yq4I"
   },
   "outputs": [],
   "source": [
    "X, y = data['data'], data['target']"
   ]
  },
  {
   "cell_type": "code",
   "execution_count": 5,
   "metadata": {
    "colab": {},
    "colab_type": "code",
    "id": "D8rGDx1z1-pl"
   },
   "outputs": [],
   "source": [
    "# print(X[:, 5])"
   ]
  },
  {
   "cell_type": "code",
   "execution_count": 6,
   "metadata": {
    "colab": {},
    "colab_type": "code",
    "id": "R4ymQvUayq8A"
   },
   "outputs": [],
   "source": [
    "%matplotlib inline\n",
    "import matplotlib.pyplot as plt"
   ]
  },
  {
   "cell_type": "code",
   "execution_count": 7,
   "metadata": {
    "colab": {},
    "colab_type": "code",
    "id": "SZtp-Y4Ky4oK"
   },
   "outputs": [],
   "source": [
    "def draw_rm_and_price():\n",
    "    plt.scatter(X[:, 5], y)"
   ]
  },
  {
   "cell_type": "code",
   "execution_count": 8,
   "metadata": {
    "colab": {
     "base_uri": "https://localhost:8080/",
     "height": 269
    },
    "colab_type": "code",
    "id": "cXyo0DuAy4rO",
    "outputId": "fc2209b1-2bba-43bd-8c9b-ea9721847bef"
   },
   "outputs": [
    {
     "data": {
      "image/png": "[encoded data removed]",
      "text/plain": [
       "<matplotlib.figure.Figure at 0x1a355d8be10>"
      ]
     },
     "metadata": {},
     "output_type": "display_data"
    }
   ],
   "source": [
    "draw_rm_and_price()"
   ]
  },
  {
   "cell_type": "code",
   "execution_count": 9,
   "metadata": {
    "colab": {},
    "colab_type": "code",
    "id": "AKdoGnLSzaWy"
   },
   "outputs": [],
   "source": [
    "def price(rm, k, b):\n",
    "    \"\"\"f(x) = k * x + b\"\"\"\n",
    "    return k * rm + b  "
   ]
  },
  {
   "cell_type": "markdown",
   "metadata": {
    "colab_type": "text",
    "id": "Dt80eX13zpYq"
   },
   "source": [
    "$$ loss = \\frac{1}{n} \\sum{(y_i - \\hat{y_i})}$$"
   ]
  },
  {
   "cell_type": "code",
   "execution_count": 10,
   "metadata": {
    "colab": {},
    "colab_type": "code",
    "id": "SW1-L6MUy9KW"
   },
   "outputs": [],
   "source": [
    "def loss(y, y_hat): # to evaluate the performance \n",
    "    return sum((y_i - y_hat_i)**2 for y_i, y_hat_i in zip(list(y), list(y_hat))) / len(list(y))"
   ]
  },
  {
   "cell_type": "code",
   "execution_count": 11,
   "metadata": {
    "colab": {},
    "colab_type": "code",
    "id": "6jaIQHqzy9VL"
   },
   "outputs": [],
   "source": [
    "X_rm = X[:, 5]"
   ]
  },
  {
   "cell_type": "code",
   "execution_count": 12,
   "metadata": {
    "colab": {
     "base_uri": "https://localhost:8080/",
     "height": 138
    },
    "colab_type": "code",
    "id": "vdI1u82ly9Yq",
    "outputId": "55574812-6c44-46f2-bfcc-b8e99f3bed6d"
   },
   "outputs": [
    {
     "name": "stdout",
     "output_type": "stream",
     "text": [
      "When time is : 0, get best_k: 70.08795999513285 best_b: 11.459251745285286, and the loss is: 186263.5627988934\n",
      "When time is : 3, get best_k: 30.828842116625367 best_b: 75.43021271781294, and the loss is: 61110.13491876307\n",
      "When time is : 4, get best_k: -39.13811742213957 best_b: 73.16438100732, and the loss is: 39346.77659234759\n",
      "When time is : 6, get best_k: -1.7995796809306057 best_b: -63.88449834353749, and the loss is: 9652.723318162549\n",
      "When time is : 8, get best_k: 7.1318931698517645 best_b: -34.062995522803675, and the loss is: 184.15099836696882\n",
      "When time is : 21, get best_k: -0.15655320034564113 best_b: 16.212753506534767, and the loss is: 139.18320690006638\n",
      "When time is : 58, get best_k: -1.1124357076041491 best_b: 29.918564814352123, and the loss is: 95.16249030328542\n",
      "When time is : 166, get best_k: 10.190462690684399 best_b: -46.62123450127498, and the loss is: 70.3034982061457\n",
      "When time is : 620, get best_k: 9.395613484763032 best_b: -40.78989947060769, and the loss is: 61.91614222598199\n",
      "When time is : 758, get best_k: 6.396060257741837 best_b: -20.314276360066373, and the loss is: 54.231877870091274\n",
      "When time is : 979, get best_k: 5.266021319418513 best_b: -10.946679252776633, and the loss is: 50.998656801364206\n",
      "When time is : 1377, get best_k: 7.418160500998042 best_b: -25.306902152866613, and the loss is: 46.48432732080461\n"
     ]
    }
   ],
   "source": [
    "trying_times = 2000\n",
    "\n",
    "min_loss = float('inf')\n",
    "best_k, best_b = None, None\n",
    "\n",
    "for i in range(trying_times):\n",
    "    k = random.random() * 200 - 100\n",
    "    b = random.random() * 200 - 100\n",
    "    price_by_random_k_and_b = [price(r, k, b) for r in X_rm]\n",
    "\n",
    "    current_loss = loss(y, price_by_random_k_and_b)\n",
    "    \n",
    "    if current_loss < min_loss:\n",
    "        min_loss = current_loss\n",
    "        best_k, best_b = k, b\n",
    "        print('When time is : {}, get best_k: {} best_b: {}, and the loss is: {}'.format(i, best_k, best_b, min_loss))"
   ]
  },
  {
   "cell_type": "code",
   "execution_count": 13,
   "metadata": {
    "colab": {
     "base_uri": "https://localhost:8080/",
     "height": 286
    },
    "colab_type": "code",
    "id": "6ZxaT_Hdz8kE",
    "outputId": "7177f192-adef-46bf-b498-871bd812a9de"
   },
   "outputs": [
    {
     "data": {
      "text/plain": [
       "<matplotlib.collections.PathCollection at 0x1a356963f60>"
      ]
     },
     "execution_count": 13,
     "metadata": {},
     "output_type": "execute_result"
    },
    {
     "data": {
      "image/png": "[encoded data removed]",
      "text/plain": [
       "<matplotlib.figure.Figure at 0x1a356880208>"
      ]
     },
     "metadata": {},
     "output_type": "display_data"
    }
   ],
   "source": [
    "X_rm = X[:, 5]\n",
    "k = 15\n",
    "b = -68\n",
    "price_by_random_k_and_b = [price(r, k, b) for r in X_rm]\n",
    "\n",
    "draw_rm_and_price()\n",
    "plt.scatter(X_rm, price_by_random_k_and_b)"
   ]
  },
  {
   "cell_type": "markdown",
   "metadata": {
    "colab_type": "text",
    "id": "_558MKxa0N2x"
   },
   "source": [
    "#### Supervised Direction to get optimal *k* and *b*"
   ]
  },
  {
   "cell_type": "code",
   "execution_count": 28,
   "metadata": {
    "colab": {},
    "colab_type": "code",
    "id": "XbB3Ty9f0WAk"
   },
   "outputs": [
    {
     "name": "stdout",
     "output_type": "stream",
     "text": [
      "When time is : 0, get best_k: 50.02075282477214 best_b: -87.98860020319657, and the loss is: 42419.58356186927\n",
      "When time is : 2, get best_k: 49.92075282477214 best_b: -87.88860020319657, and the loss is: 42200.39092501179\n",
      "When time is : 3, get best_k: 49.820752824772136 best_b: -87.78860020319658, and the loss is: 41981.76668927076\n",
      "When time is : 4, get best_k: 49.720752824772134 best_b: -87.68860020319659, and the loss is: 41763.710854646255\n",
      "When time is : 5, get best_k: 49.62075282477213 best_b: -87.58860020319659, and the loss is: 41546.22342113824\n",
      "When time is : 6, get best_k: 49.52075282477213 best_b: -87.4886002031966, and the loss is: 41329.30438874663\n",
      "When time is : 7, get best_k: 49.42075282477213 best_b: -87.3886002031966, and the loss is: 41112.953757471565\n",
      "When time is : 8, get best_k: 49.32075282477213 best_b: -87.28860020319661, and the loss is: 40897.171527312996\n",
      "When time is : 9, get best_k: 49.22075282477213 best_b: -87.18860020319661, and the loss is: 40681.95769827078\n",
      "When time is : 10, get best_k: 49.120752824772126 best_b: -87.08860020319662, and the loss is: 40467.312270345195\n",
      "When time is : 11, get best_k: 49.020752824772124 best_b: -86.98860020319663, and the loss is: 40253.23524353599\n",
      "When time is : 12, get best_k: 48.92075282477212 best_b: -86.88860020319663, and the loss is: 40039.726617843306\n",
      "When time is : 13, get best_k: 48.82075282477212 best_b: -86.78860020319664, and the loss is: 39826.78639326715\n",
      "When time is : 14, get best_k: 48.72075282477212 best_b: -86.68860020319664, and the loss is: 39614.41456980744\n",
      "When time is : 15, get best_k: 48.62075282477212 best_b: -86.58860020319665, and the loss is: 39402.611147464195\n",
      "When time is : 16, get best_k: 48.52075282477212 best_b: -86.48860020319665, and the loss is: 39191.376126237454\n",
      "When time is : 17, get best_k: 48.420752824772116 best_b: -86.38860020319666, and the loss is: 38980.70950612719\n",
      "When time is : 18, get best_k: 48.320752824772114 best_b: -86.28860020319667, and the loss is: 38770.61128713335\n",
      "When time is : 19, get best_k: 48.22075282477211 best_b: -86.18860020319667, and the loss is: 38561.08146925611\n",
      "When time is : 20, get best_k: 48.12075282477211 best_b: -86.08860020319668, and the loss is: 38352.120052495266\n",
      "When time is : 21, get best_k: 48.02075282477211 best_b: -85.98860020319668, and the loss is: 38143.72703685094\n",
      "When time is : 22, get best_k: 47.92075282477211 best_b: -85.88860020319669, and the loss is: 37935.90242232316\n",
      "When time is : 23, get best_k: 47.82075282477211 best_b: -85.7886002031967, and the loss is: 37728.646208911734\n",
      "When time is : 24, get best_k: 47.720752824772106 best_b: -85.6886002031967, and the loss is: 37521.95839661683\n",
      "When time is : 25, get best_k: 47.620752824772104 best_b: -85.5886002031967, and the loss is: 37315.8389854384\n",
      "When time is : 26, get best_k: 47.5207528247721 best_b: -85.48860020319671, and the loss is: 37110.28797537651\n",
      "When time is : 27, get best_k: 47.4207528247721 best_b: -85.38860020319672, and the loss is: 36905.30536643109\n",
      "When time is : 28, get best_k: 47.3207528247721 best_b: -85.28860020319672, and the loss is: 36700.891158602106\n",
      "When time is : 29, get best_k: 47.2207528247721 best_b: -85.18860020319673, and the loss is: 36497.04535188964\n",
      "When time is : 30, get best_k: 47.1207528247721 best_b: -85.08860020319673, and the loss is: 36293.76794629364\n",
      "When time is : 31, get best_k: 47.020752824772096 best_b: -84.98860020319674, and the loss is: 36091.058941814095\n",
      "When time is : 32, get best_k: 46.920752824772094 best_b: -84.88860020319675, and the loss is: 35888.91833845106\n",
      "When time is : 33, get best_k: 46.82075282477209 best_b: -84.78860020319675, and the loss is: 35687.34613620452\n",
      "When time is : 34, get best_k: 46.72075282477209 best_b: -84.68860020319676, and the loss is: 35486.34233507448\n",
      "When time is : 35, get best_k: 46.62075282477209 best_b: -84.58860020319676, and the loss is: 35285.906935060906\n",
      "When time is : 36, get best_k: 46.52075282477209 best_b: -84.48860020319677, and the loss is: 35086.0399361638\n",
      "When time is : 37, get best_k: 46.42075282477209 best_b: -84.38860020319677, and the loss is: 34886.74133838313\n",
      "When time is : 38, get best_k: 46.320752824772086 best_b: -84.28860020319678, and the loss is: 34688.01114171904\n",
      "When time is : 39, get best_k: 46.220752824772084 best_b: -84.18860020319678, and the loss is: 34489.84934617141\n",
      "When time is : 40, get best_k: 46.12075282477208 best_b: -84.08860020319679, and the loss is: 34292.25595174024\n",
      "When time is : 41, get best_k: 46.02075282477208 best_b: -83.9886002031968, and the loss is: 34095.230958425505\n",
      "When time is : 42, get best_k: 45.92075282477208 best_b: -83.8886002031968, and the loss is: 33898.774366227306\n",
      "When time is : 43, get best_k: 45.82075282477208 best_b: -83.78860020319681, and the loss is: 33702.886175145555\n",
      "When time is : 44, get best_k: 45.72075282477208 best_b: -83.68860020319681, and the loss is: 33507.56638518034\n",
      "When time is : 45, get best_k: 45.620752824772076 best_b: -83.58860020319682, and the loss is: 33312.81499633155\n",
      "When time is : 46, get best_k: 45.520752824772075 best_b: -83.48860020319682, and the loss is: 33118.63200859929\n",
      "When time is : 47, get best_k: 45.42075282477207 best_b: -83.38860020319683, and the loss is: 32925.01742198348\n",
      "When time is : 48, get best_k: 45.32075282477207 best_b: -83.28860020319684, and the loss is: 32731.97123648418\n",
      "When time is : 49, get best_k: 45.22075282477207 best_b: -83.18860020319684, and the loss is: 32539.493452101364\n",
      "When time is : 50, get best_k: 45.12075282477207 best_b: -83.08860020319685, and the loss is: 32347.584068834993\n",
      "When time is : 51, get best_k: 45.02075282477207 best_b: -82.98860020319685, and the loss is: 32156.243086685132\n",
      "When time is : 52, get best_k: 44.920752824772066 best_b: -82.88860020319686, and the loss is: 31965.470505651763\n",
      "When time is : 53, get best_k: 44.820752824772065 best_b: -82.78860020319686, and the loss is: 31775.266325734814\n",
      "When time is : 54, get best_k: 44.72075282477206 best_b: -82.68860020319687, and the loss is: 31585.63054693441\n",
      "When time is : 55, get best_k: 44.62075282477206 best_b: -82.58860020319688, and the loss is: 31396.563169250432\n",
      "When time is : 56, get best_k: 44.52075282477206 best_b: -82.48860020319688, and the loss is: 31208.064192682996\n",
      "When time is : 57, get best_k: 44.42075282477206 best_b: -82.38860020319689, and the loss is: 31020.133617232037\n",
      "When time is : 58, get best_k: 44.32075282477206 best_b: -82.28860020319689, and the loss is: 30832.77144289756\n",
      "When time is : 59, get best_k: 44.220752824772056 best_b: -82.1886002031969, and the loss is: 30645.977669679578\n",
      "When time is : 60, get best_k: 44.120752824772055 best_b: -82.0886002031969, and the loss is: 30459.752297578027\n",
      "When time is : 61, get best_k: 44.02075282477205 best_b: -81.98860020319691, and the loss is: 30274.095326592957\n",
      "When time is : 62, get best_k: 43.92075282477205 best_b: -81.88860020319692, and the loss is: 30089.00675672443\n",
      "When time is : 63, get best_k: 43.82075282477205 best_b: -81.78860020319692, and the loss is: 29904.486587972333\n",
      "When time is : 64, get best_k: 43.72075282477205 best_b: -81.68860020319693, and the loss is: 29720.534820336743\n",
      "When time is : 65, get best_k: 43.62075282477205 best_b: -81.58860020319693, and the loss is: 29537.151453817616\n",
      "When time is : 66, get best_k: 43.520752824772046 best_b: -81.48860020319694, and the loss is: 29354.336488414956\n",
      "When time is : 67, get best_k: 43.420752824772045 best_b: -81.38860020319694, and the loss is: 29172.08992412882\n",
      "When time is : 68, get best_k: 43.32075282477204 best_b: -81.28860020319695, and the loss is: 28990.41176095915\n",
      "When time is : 69, get best_k: 43.22075282477204 best_b: -81.18860020319696, and the loss is: 28809.30199890594\n",
      "When time is : 70, get best_k: 43.12075282477204 best_b: -81.08860020319696, and the loss is: 28628.760637969222\n",
      "When time is : 71, get best_k: 43.02075282477204 best_b: -80.98860020319697, and the loss is: 28448.787678149034\n",
      "When time is : 72, get best_k: 42.92075282477204 best_b: -80.88860020319697, and the loss is: 28269.38311944529\n",
      "When time is : 73, get best_k: 42.820752824772036 best_b: -80.78860020319698, and the loss is: 28090.54696185804\n",
      "When time is : 74, get best_k: 42.720752824772035 best_b: -80.68860020319698, and the loss is: 27912.27920538722\n",
      "When time is : 75, get best_k: 42.62075282477203 best_b: -80.58860020319699, and the loss is: 27734.579850032947\n",
      "When time is : 76, get best_k: 42.52075282477203 best_b: -80.488600203197, and the loss is: 27557.448895795165\n",
      "When time is : 77, get best_k: 42.42075282477203 best_b: -80.388600203197, and the loss is: 27380.886342673813\n",
      "When time is : 78, get best_k: 42.32075282477203 best_b: -80.288600203197, and the loss is: 27204.89219066896\n",
      "When time is : 79, get best_k: 42.22075282477203 best_b: -80.18860020319701, and the loss is: 27029.466439780612\n",
      "When time is : 80, get best_k: 42.120752824772026 best_b: -80.08860020319702, and the loss is: 26854.609090008722\n",
      "When time is : 81, get best_k: 42.020752824772025 best_b: -79.98860020319702, and the loss is: 26680.32014135331\n",
      "When time is : 82, get best_k: 41.92075282477202 best_b: -79.88860020319703, and the loss is: 26506.599593814375\n",
      "When time is : 83, get best_k: 41.82075282477202 best_b: -79.78860020319703, and the loss is: 26333.447447391965\n",
      "When time is : 84, get best_k: 41.72075282477202 best_b: -79.68860020319704, and the loss is: 26160.863702086022\n",
      "When time is : 85, get best_k: 41.62075282477202 best_b: -79.58860020319705, and the loss is: 25988.848357896535\n",
      "When time is : 86, get best_k: 41.52075282477202 best_b: -79.48860020319705, and the loss is: 25817.40141482356\n",
      "When time is : 87, get best_k: 41.420752824772016 best_b: -79.38860020319706, and the loss is: 25646.522872867015\n",
      "When time is : 88, get best_k: 41.320752824772015 best_b: -79.28860020319706, and the loss is: 25476.212732026983\n",
      "When time is : 89, get best_k: 41.22075282477201 best_b: -79.18860020319707, and the loss is: 25306.470992303468\n",
      "When time is : 90, get best_k: 41.12075282477201 best_b: -79.08860020319707, and the loss is: 25137.297653696412\n",
      "When time is : 91, get best_k: 41.02075282477201 best_b: -78.98860020319708, and the loss is: 24968.692716205845\n",
      "When time is : 92, get best_k: 40.92075282477201 best_b: -78.88860020319709, and the loss is: 24800.656179831734\n",
      "When time is : 93, get best_k: 40.82075282477201 best_b: -78.78860020319709, and the loss is: 24633.188044574097\n",
      "When time is : 94, get best_k: 40.720752824772006 best_b: -78.6886002031971, and the loss is: 24466.28831043299\n",
      "When time is : 95, get best_k: 40.620752824772005 best_b: -78.5886002031971, and the loss is: 24299.95697740833\n",
      "When time is : 96, get best_k: 40.520752824772 best_b: -78.48860020319711, and the loss is: 24134.19404550018\n",
      "When time is : 97, get best_k: 40.420752824772 best_b: -78.38860020319711, and the loss is: 23968.999514708492\n",
      "When time is : 98, get best_k: 40.320752824772 best_b: -78.28860020319712, and the loss is: 23804.3733850333\n",
      "When time is : 99, get best_k: 40.220752824772 best_b: -78.18860020319713, and the loss is: 23640.315656474562\n",
      "When time is : 100, get best_k: 40.120752824772 best_b: -78.08860020319713, and the loss is: 23476.82632903231\n",
      "When time is : 101, get best_k: 40.020752824771996 best_b: -77.98860020319714, and the loss is: 23313.90540270657\n",
      "When time is : 102, get best_k: 39.920752824771995 best_b: -77.88860020319714, and the loss is: 23151.552877497266\n",
      "When time is : 103, get best_k: 39.82075282477199 best_b: -77.78860020319715, and the loss is: 22989.76875340451\n",
      "When time is : 104, get best_k: 39.72075282477199 best_b: -77.68860020319715, and the loss is: 22828.55303042819\n",
      "When time is : 105, get best_k: 39.62075282477199 best_b: -77.58860020319716, and the loss is: 22667.905708568356\n",
      "When time is : 106, get best_k: 39.52075282477199 best_b: -77.48860020319717, and the loss is: 22507.826787825004\n",
      "When time is : 107, get best_k: 39.42075282477199 best_b: -77.38860020319717, and the loss is: 22348.316268198138\n",
      "When time is : 108, get best_k: 39.320752824771986 best_b: -77.28860020319718, and the loss is: 22189.374149687814\n",
      "When time is : 109, get best_k: 39.220752824771985 best_b: -77.18860020319718, and the loss is: 22031.00043229388\n",
      "When time is : 110, get best_k: 39.120752824771984 best_b: -77.08860020319719, and the loss is: 21873.195116016464\n",
      "When time is : 111, get best_k: 39.02075282477198 best_b: -76.9886002031972, and the loss is: 21715.958200855544\n",
      "When time is : 112, get best_k: 38.92075282477198 best_b: -76.8886002031972, and the loss is: 21559.289686811077\n",
      "When time is : 113, get best_k: 38.82075282477198 best_b: -76.7886002031972, and the loss is: 21403.189573883115\n",
      "When time is : 114, get best_k: 38.72075282477198 best_b: -76.68860020319721, and the loss is: 21247.657862071625\n",
      "When time is : 115, get best_k: 38.62075282477198 best_b: -76.58860020319722, and the loss is: 21092.694551376615\n",
      "When time is : 116, get best_k: 38.520752824771975 best_b: -76.48860020319722, and the loss is: 20938.29964179807\n",
      "When time is : 117, get best_k: 38.420752824771974 best_b: -76.38860020319723, and the loss is: 20784.47313333604\n",
      "When time is : 118, get best_k: 38.32075282477197 best_b: -76.28860020319723, and the loss is: 20631.215025990477\n",
      "When time is : 119, get best_k: 38.22075282477197 best_b: -76.18860020319724, and the loss is: 20478.525319761404\n",
      "When time is : 120, get best_k: 38.12075282477197 best_b: -76.08860020319725, and the loss is: 20326.404014648826\n",
      "When time is : 121, get best_k: 38.02075282477197 best_b: -75.98860020319725, and the loss is: 20174.851110652704\n",
      "When time is : 122, get best_k: 37.92075282477197 best_b: -75.88860020319726, and the loss is: 20023.86660777307\n",
      "When time is : 123, get best_k: 37.820752824771965 best_b: -75.78860020319726, and the loss is: 19873.450506009947\n",
      "When time is : 124, get best_k: 37.720752824771964 best_b: -75.68860020319727, and the loss is: 19723.602805363294\n",
      "When time is : 125, get best_k: 37.62075282477196 best_b: -75.58860020319727, and the loss is: 19574.323505833087\n",
      "When time is : 126, get best_k: 37.52075282477196 best_b: -75.48860020319728, and the loss is: 19425.61260741938\n",
      "When time is : 127, get best_k: 37.42075282477196 best_b: -75.38860020319729, and the loss is: 19277.470110122176\n",
      "When time is : 128, get best_k: 37.32075282477196 best_b: -75.28860020319729, and the loss is: 19129.896013941452\n",
      "When time is : 129, get best_k: 37.22075282477196 best_b: -75.1886002031973, and the loss is: 18982.890318877173\n",
      "When time is : 130, get best_k: 37.120752824771955 best_b: -75.0886002031973, and the loss is: 18836.4530249294\n",
      "When time is : 131, get best_k: 37.020752824771954 best_b: -74.98860020319731, and the loss is: 18690.584132098098\n",
      "When time is : 132, get best_k: 36.92075282477195 best_b: -74.88860020319731, and the loss is: 18545.28364038333\n",
      "When time is : 133, get best_k: 36.82075282477195 best_b: -74.78860020319732, and the loss is: 18400.55154978499\n",
      "When time is : 134, get best_k: 36.72075282477195 best_b: -74.68860020319732, and the loss is: 18256.387860303163\n",
      "When time is : 135, get best_k: 36.62075282477195 best_b: -74.58860020319733, and the loss is: 18112.792571937793\n",
      "When time is : 136, get best_k: 36.52075282477195 best_b: -74.48860020319734, and the loss is: 17969.765684688937\n",
      "When time is : 137, get best_k: 36.420752824771945 best_b: -74.38860020319734, and the loss is: 17827.307198556504\n",
      "When time is : 138, get best_k: 36.320752824771944 best_b: -74.28860020319735, and the loss is: 17685.4171135406\n",
      "When time is : 139, get best_k: 36.22075282477194 best_b: -74.18860020319735, and the loss is: 17544.095429641162\n",
      "When time is : 140, get best_k: 36.12075282477194 best_b: -74.08860020319736, and the loss is: 17403.342146858227\n",
      "When time is : 141, get best_k: 36.02075282477194 best_b: -73.98860020319736, and the loss is: 17263.157265191763\n",
      "When time is : 142, get best_k: 35.92075282477194 best_b: -73.88860020319737, and the loss is: 17123.54078464176\n",
      "When time is : 143, get best_k: 35.82075282477194 best_b: -73.78860020319738, and the loss is: 16984.492705208264\n",
      "When time is : 144, get best_k: 35.720752824771935 best_b: -73.68860020319738, and the loss is: 16846.01302689125\n",
      "When time is : 145, get best_k: 35.620752824771934 best_b: -73.58860020319739, and the loss is: 16708.101749690708\n",
      "When time is : 146, get best_k: 35.52075282477193 best_b: -73.4886002031974, and the loss is: 16570.75887360667\n",
      "When time is : 147, get best_k: 35.42075282477193 best_b: -73.3886002031974, and the loss is: 16433.984398639073\n",
      "When time is : 148, get best_k: 35.32075282477193 best_b: -73.2886002031974, and the loss is: 16297.778324787987\n",
      "When time is : 149, get best_k: 35.22075282477193 best_b: -73.18860020319741, and the loss is: 16162.140652053382\n",
      "When time is : 150, get best_k: 35.12075282477193 best_b: -73.08860020319742, and the loss is: 16027.071380435262\n",
      "When time is : 151, get best_k: 35.020752824771925 best_b: -72.98860020319742, and the loss is: 15892.570509933605\n",
      "When time is : 152, get best_k: 34.920752824771924 best_b: -72.88860020319743, and the loss is: 15758.638040548472\n",
      "When time is : 153, get best_k: 34.82075282477192 best_b: -72.78860020319743, and the loss is: 15625.273972279769\n",
      "When time is : 154, get best_k: 34.72075282477192 best_b: -72.68860020319744, and the loss is: 15492.478305127577\n",
      "When time is : 155, get best_k: 34.62075282477192 best_b: -72.58860020319744, and the loss is: 15360.251039091841\n",
      "When time is : 156, get best_k: 34.52075282477192 best_b: -72.48860020319745, and the loss is: 15228.592174172623\n",
      "When time is : 157, get best_k: 34.42075282477192 best_b: -72.38860020319746, and the loss is: 15097.501710369868\n",
      "When time is : 158, get best_k: 34.320752824771915 best_b: -72.28860020319746, and the loss is: 14966.979647683615\n",
      "When time is : 159, get best_k: 34.220752824771914 best_b: -72.18860020319747, and the loss is: 14837.025986113824\n",
      "When time is : 160, get best_k: 34.12075282477191 best_b: -72.08860020319747, and the loss is: 14707.64072566052\n",
      "When time is : 161, get best_k: 34.02075282477191 best_b: -71.98860020319748, and the loss is: 14578.8238663237\n",
      "When time is : 162, get best_k: 33.92075282477191 best_b: -71.88860020319748, and the loss is: 14450.57540810337\n",
      "When time is : 163, get best_k: 33.82075282477191 best_b: -71.78860020319749, and the loss is: 14322.895350999492\n",
      "When time is : 164, get best_k: 33.72075282477191 best_b: -71.6886002031975, and the loss is: 14195.783695012135\n",
      "When time is : 165, get best_k: 33.620752824771905 best_b: -71.5886002031975, and the loss is: 14069.24044014122\n",
      "When time is : 166, get best_k: 33.520752824771904 best_b: -71.4886002031975, and the loss is: 13943.26558638683\n",
      "When time is : 167, get best_k: 33.4207528247719 best_b: -71.38860020319751, and the loss is: 13817.859133748889\n",
      "When time is : 168, get best_k: 33.3207528247719 best_b: -71.28860020319752, and the loss is: 13693.021082227458\n",
      "When time is : 169, get best_k: 33.2207528247719 best_b: -71.18860020319752, and the loss is: 13568.75143182248\n",
      "When time is : 170, get best_k: 33.1207528247719 best_b: -71.08860020319753, and the loss is: 13445.050182534\n",
      "When time is : 171, get best_k: 33.0207528247719 best_b: -70.98860020319754, and the loss is: 13321.917334362015\n",
      "When time is : 172, get best_k: 32.920752824771895 best_b: -70.88860020319754, and the loss is: 13199.352887306488\n",
      "When time is : 173, get best_k: 32.820752824771894 best_b: -70.78860020319755, and the loss is: 13077.35684136746\n",
      "When time is : 174, get best_k: 32.72075282477189 best_b: -70.68860020319755, and the loss is: 12955.929196544894\n",
      "When time is : 175, get best_k: 32.62075282477189 best_b: -70.58860020319756, and the loss is: 12835.069952838841\n",
      "When time is : 176, get best_k: 32.52075282477189 best_b: -70.48860020319756, and the loss is: 12714.779110249236\n",
      "When time is : 177, get best_k: 32.42075282477189 best_b: -70.38860020319757, and the loss is: 12595.056668776124\n",
      "When time is : 178, get best_k: 32.32075282477189 best_b: -70.28860020319757, and the loss is: 12475.902628419499\n",
      "When time is : 179, get best_k: 32.220752824771886 best_b: -70.18860020319758, and the loss is: 12357.316989179382\n",
      "When time is : 180, get best_k: 32.120752824771884 best_b: -70.08860020319759, and the loss is: 12239.299751055732\n",
      "When time is : 181, get best_k: 32.02075282477188 best_b: -69.98860020319759, and the loss is: 12121.850914048544\n",
      "When time is : 182, get best_k: 31.92075282477188 best_b: -69.8886002031976, and the loss is: 12004.970478157851\n",
      "When time is : 183, get best_k: 31.82075282477188 best_b: -69.7886002031976, and the loss is: 11888.658443383632\n",
      "When time is : 184, get best_k: 31.72075282477188 best_b: -69.68860020319761, and the loss is: 11772.914809725899\n",
      "When time is : 185, get best_k: 31.620752824771877 best_b: -69.58860020319761, and the loss is: 11657.739577184655\n",
      "When time is : 186, get best_k: 31.520752824771876 best_b: -69.48860020319762, and the loss is: 11543.132745759884\n",
      "When time is : 187, get best_k: 31.420752824771874 best_b: -69.38860020319763, and the loss is: 11429.09431545159\n",
      "When time is : 188, get best_k: 31.320752824771873 best_b: -69.28860020319763, and the loss is: 11315.6242862598\n",
      "When time is : 189, get best_k: 31.22075282477187 best_b: -69.18860020319764, and the loss is: 11202.722658184484\n",
      "When time is : 190, get best_k: 31.12075282477187 best_b: -69.08860020319764, and the loss is: 11090.389431225649\n",
      "When time is : 191, get best_k: 31.02075282477187 best_b: -68.98860020319765, and the loss is: 10978.624605383295\n",
      "When time is : 192, get best_k: 30.920752824771867 best_b: -68.88860020319765, and the loss is: 10867.428180657418\n",
      "When time is : 193, get best_k: 30.820752824771866 best_b: -68.78860020319766, and the loss is: 10756.800157048048\n",
      "When time is : 194, get best_k: 30.720752824771864 best_b: -68.68860020319767, and the loss is: 10646.740534555123\n",
      "When time is : 195, get best_k: 30.620752824771863 best_b: -68.58860020319767, and the loss is: 10537.249313178694\n",
      "When time is : 196, get best_k: 30.52075282477186 best_b: -68.48860020319768, and the loss is: 10428.32649291875\n",
      "When time is : 197, get best_k: 30.42075282477186 best_b: -68.38860020319768, and the loss is: 10319.972073775292\n",
      "When time is : 198, get best_k: 30.32075282477186 best_b: -68.28860020319769, and the loss is: 10212.186055748312\n",
      "When time is : 199, get best_k: 30.220752824771857 best_b: -68.1886002031977, and the loss is: 10104.968438837814\n",
      "When time is : 200, get best_k: 30.120752824771856 best_b: -68.0886002031977, and the loss is: 9998.31922304381\n",
      "When time is : 201, get best_k: 30.020752824771854 best_b: -67.9886002031977, and the loss is: 9892.238408366276\n",
      "When time is : 202, get best_k: 29.920752824771853 best_b: -67.88860020319771, and the loss is: 9786.725994805223\n",
      "When time is : 203, get best_k: 29.82075282477185 best_b: -67.78860020319772, and the loss is: 9681.781982360657\n",
      "When time is : 204, get best_k: 29.72075282477185 best_b: -67.68860020319772, and the loss is: 9577.406371032577\n",
      "When time is : 205, get best_k: 29.62075282477185 best_b: -67.58860020319773, and the loss is: 9473.599160820977\n",
      "When time is : 206, get best_k: 29.520752824771847 best_b: -67.48860020319773, and the loss is: 9370.36035172584\n",
      "When time is : 207, get best_k: 29.420752824771846 best_b: -67.38860020319774, and the loss is: 9267.689943747226\n",
      "When time is : 208, get best_k: 29.320752824771844 best_b: -67.28860020319775, and the loss is: 9165.587936885051\n",
      "When time is : 209, get best_k: 29.220752824771843 best_b: -67.18860020319775, and the loss is: 9064.054331139389\n",
      "When time is : 210, get best_k: 29.12075282477184 best_b: -67.08860020319776, and the loss is: 8963.089126510185\n",
      "When time is : 211, get best_k: 29.02075282477184 best_b: -66.98860020319776, and the loss is: 8862.692322997482\n",
      "When time is : 212, get best_k: 28.92075282477184 best_b: -66.88860020319777, and the loss is: 8762.863920601256\n",
      "When time is : 213, get best_k: 28.820752824771837 best_b: -66.78860020319777, and the loss is: 8663.603919321518\n",
      "When time is : 214, get best_k: 28.720752824771836 best_b: -66.68860020319778, and the loss is: 8564.912319158251\n",
      "When time is : 215, get best_k: 28.620752824771834 best_b: -66.58860020319779, and the loss is: 8466.789120111476\n",
      "When time is : 216, get best_k: 28.520752824771833 best_b: -66.48860020319779, and the loss is: 8369.234322181166\n",
      "When time is : 217, get best_k: 28.42075282477183 best_b: -66.3886002031978, and the loss is: 8272.247925367346\n",
      "When time is : 218, get best_k: 28.32075282477183 best_b: -66.2886002031978, and the loss is: 8175.829929670022\n",
      "When time is : 219, get best_k: 28.22075282477183 best_b: -66.18860020319781, and the loss is: 8079.98033508916\n",
      "When time is : 220, get best_k: 28.120752824771827 best_b: -66.08860020319781, and the loss is: 7984.699141624794\n",
      "When time is : 221, get best_k: 28.020752824771826 best_b: -65.98860020319782, and the loss is: 7889.986349276914\n",
      "When time is : 222, get best_k: 27.920752824771824 best_b: -65.88860020319783, and the loss is: 7795.841958045499\n",
      "When time is : 223, get best_k: 27.820752824771823 best_b: -65.78860020319783, and the loss is: 7702.265967930582\n",
      "When time is : 224, get best_k: 27.72075282477182 best_b: -65.68860020319784, and the loss is: 7609.258378932152\n",
      "When time is : 225, get best_k: 27.62075282477182 best_b: -65.58860020319784, and the loss is: 7516.819191050191\n",
      "When time is : 226, get best_k: 27.52075282477182 best_b: -65.48860020319785, and the loss is: 7424.948404284716\n",
      "When time is : 227, get best_k: 27.420752824771817 best_b: -65.38860020319785, and the loss is: 7333.646018635719\n",
      "When time is : 228, get best_k: 27.320752824771816 best_b: -65.28860020319786, and the loss is: 7242.912034103208\n",
      "When time is : 229, get best_k: 27.220752824771814 best_b: -65.18860020319786, and the loss is: 7152.746450687169\n",
      "When time is : 230, get best_k: 27.120752824771813 best_b: -65.08860020319787, and the loss is: 7063.149268387639\n",
      "When time is : 231, get best_k: 27.02075282477181 best_b: -64.98860020319788, and the loss is: 6974.1204872045655\n",
      "When time is : 232, get best_k: 26.92075282477181 best_b: -64.88860020319788, and the loss is: 6885.6601071379855\n",
      "When time is : 233, get best_k: 26.82075282477181 best_b: -64.78860020319789, and the loss is: 6797.768128187893\n",
      "When time is : 234, get best_k: 26.720752824771807 best_b: -64.6886002031979, and the loss is: 6710.444550354269\n",
      "When time is : 235, get best_k: 26.620752824771806 best_b: -64.5886002031979, and the loss is: 6623.6893736371385\n",
      "When time is : 236, get best_k: 26.520752824771805 best_b: -64.4886002031979, and the loss is: 6537.5025980364835\n",
      "When time is : 237, get best_k: 26.420752824771803 best_b: -64.38860020319791, and the loss is: 6451.884223552311\n",
      "When time is : 238, get best_k: 26.3207528247718 best_b: -64.28860020319792, and the loss is: 6366.834250184616\n",
      "When time is : 239, get best_k: 26.2207528247718 best_b: -64.18860020319792, and the loss is: 6282.352677933415\n",
      "When time is : 240, get best_k: 26.1207528247718 best_b: -64.08860020319793, and the loss is: 6198.439506798687\n",
      "When time is : 241, get best_k: 26.020752824771797 best_b: -63.988600203197926, and the loss is: 6115.094736780447\n",
      "When time is : 242, get best_k: 25.920752824771796 best_b: -63.888600203197925, and the loss is: 6032.31836787869\n",
      "When time is : 243, get best_k: 25.820752824771795 best_b: -63.78860020319792, and the loss is: 5950.1104000934165\n",
      "When time is : 244, get best_k: 25.720752824771793 best_b: -63.68860020319792, and the loss is: 5868.470833424618\n",
      "When time is : 245, get best_k: 25.62075282477179 best_b: -63.58860020319792, and the loss is: 5787.399667872299\n",
      "When time is : 246, get best_k: 25.52075282477179 best_b: -63.48860020319792, and the loss is: 5706.896903436481\n",
      "When time is : 247, get best_k: 25.42075282477179 best_b: -63.38860020319792, and the loss is: 5626.962540117128\n",
      "When time is : 248, get best_k: 25.320752824771787 best_b: -63.288600203197916, and the loss is: 5547.596577914264\n",
      "When time is : 249, get best_k: 25.220752824771786 best_b: -63.188600203197915, and the loss is: 5468.799016827875\n",
      "When time is : 250, get best_k: 25.120752824771785 best_b: -63.08860020319791, and the loss is: 5390.569856857983\n",
      "When time is : 251, get best_k: 25.020752824771783 best_b: -62.98860020319791, and the loss is: 5312.90909800456\n",
      "When time is : 252, get best_k: 24.92075282477178 best_b: -62.88860020319791, and the loss is: 5235.816740267623\n",
      "When time is : 253, get best_k: 24.82075282477178 best_b: -62.78860020319791, and the loss is: 5159.292783647173\n",
      "When time is : 254, get best_k: 24.72075282477178 best_b: -62.68860020319791, and the loss is: 5083.337228143196\n",
      "When time is : 255, get best_k: 24.620752824771778 best_b: -62.588600203197906, and the loss is: 5007.950073755713\n",
      "When time is : 256, get best_k: 24.520752824771776 best_b: -62.488600203197905, and the loss is: 4933.1313204847\n",
      "When time is : 257, get best_k: 24.420752824771775 best_b: -62.3886002031979, and the loss is: 4858.880968330172\n",
      "When time is : 258, get best_k: 24.320752824771773 best_b: -62.2886002031979, and the loss is: 4785.199017292136\n",
      "When time is : 259, get best_k: 24.220752824771772 best_b: -62.1886002031979, and the loss is: 4712.085467370575\n",
      "When time is : 260, get best_k: 24.12075282477177 best_b: -62.0886002031979, and the loss is: 4639.540318565498\n",
      "When time is : 261, get best_k: 24.02075282477177 best_b: -61.9886002031979, and the loss is: 4567.563570876894\n",
      "When time is : 262, get best_k: 23.920752824771768 best_b: -61.888600203197896, and the loss is: 4496.15522430478\n",
      "When time is : 263, get best_k: 23.820752824771766 best_b: -61.788600203197895, and the loss is: 4425.315278849155\n",
      "When time is : 264, get best_k: 23.720752824771765 best_b: -61.68860020319789, and the loss is: 4355.043734510008\n",
      "When time is : 265, get best_k: 23.620752824771763 best_b: -61.58860020319789, and the loss is: 4285.340591287334\n",
      "When time is : 266, get best_k: 23.520752824771762 best_b: -61.48860020319789, and the loss is: 4216.205849181151\n",
      "When time is : 267, get best_k: 23.42075282477176 best_b: -61.38860020319789, and the loss is: 4147.639508191446\n",
      "When time is : 268, get best_k: 23.32075282477176 best_b: -61.28860020319789, and the loss is: 4079.6415683182277\n",
      "When time is : 269, get best_k: 23.220752824771758 best_b: -61.188600203197886, and the loss is: 4012.212029561488\n",
      "When time is : 270, get best_k: 23.120752824771756 best_b: -61.088600203197885, and the loss is: 3945.350891921234\n",
      "When time is : 271, get best_k: 23.020752824771755 best_b: -60.98860020319788, and the loss is: 3879.0581553974607\n",
      "When time is : 272, get best_k: 22.920752824771753 best_b: -60.88860020319788, and the loss is: 3813.3338199901677\n",
      "When time is : 273, get best_k: 22.820752824771752 best_b: -60.78860020319788, and the loss is: 3748.177885699357\n",
      "When time is : 274, get best_k: 22.72075282477175 best_b: -60.68860020319788, and the loss is: 3683.5903525250305\n",
      "When time is : 275, get best_k: 22.62075282477175 best_b: -60.58860020319788, and the loss is: 3619.5712204671845\n",
      "When time is : 276, get best_k: 22.520752824771748 best_b: -60.488600203197876, and the loss is: 3556.12048952582\n",
      "When time is : 277, get best_k: 22.420752824771746 best_b: -60.388600203197875, and the loss is: 3493.2381597009426\n",
      "When time is : 278, get best_k: 22.320752824771745 best_b: -60.28860020319787, and the loss is: 3430.924230992541\n",
      "When time is : 279, get best_k: 22.220752824771743 best_b: -60.18860020319787, and the loss is: 3369.178703400626\n",
      "When time is : 280, get best_k: 22.120752824771742 best_b: -60.08860020319787, and the loss is: 3308.001576925193\n",
      "When time is : 281, get best_k: 22.02075282477174 best_b: -59.98860020319787, and the loss is: 3247.3928515662406\n",
      "When time is : 282, get best_k: 21.92075282477174 best_b: -59.88860020319787, and the loss is: 3187.3525273237706\n",
      "When time is : 283, get best_k: 21.820752824771738 best_b: -59.788600203197866, and the loss is: 3127.8806041977846\n",
      "When time is : 284, get best_k: 21.720752824771736 best_b: -59.688600203197865, and the loss is: 3068.9770821882794\n",
      "When time is : 285, get best_k: 21.620752824771735 best_b: -59.58860020319786, and the loss is: 3010.6419612952527\n",
      "When time is : 286, get best_k: 21.520752824771733 best_b: -59.48860020319786, and the loss is: 2952.8752415187155\n",
      "When time is : 287, get best_k: 21.420752824771732 best_b: -59.38860020319786, and the loss is: 2895.6769228586577\n",
      "When time is : 288, get best_k: 21.32075282477173 best_b: -59.28860020319786, and the loss is: 2839.0470053150816\n",
      "When time is : 289, get best_k: 21.22075282477173 best_b: -59.18860020319786, and the loss is: 2782.985488887986\n",
      "When time is : 290, get best_k: 21.120752824771728 best_b: -59.088600203197856, and the loss is: 2727.4923735773746\n",
      "When time is : 291, get best_k: 21.020752824771726 best_b: -58.988600203197855, and the loss is: 2672.5676593832463\n",
      "When time is : 292, get best_k: 20.920752824771725 best_b: -58.88860020319785, and the loss is: 2618.2113463056007\n",
      "When time is : 293, get best_k: 20.820752824771724 best_b: -58.78860020319785, and the loss is: 2564.4234343444336\n",
      "When time is : 294, get best_k: 20.720752824771722 best_b: -58.68860020319785, and the loss is: 2511.203923499752\n",
      "When time is : 295, get best_k: 20.62075282477172 best_b: -58.58860020319785, and the loss is: 2458.5528137715514\n",
      "When time is : 296, get best_k: 20.52075282477172 best_b: -58.48860020319785, and the loss is: 2406.470105159833\n",
      "When time is : 297, get best_k: 20.420752824771718 best_b: -58.388600203197846, and the loss is: 2354.9557976645956\n",
      "When time is : 298, get best_k: 20.320752824771716 best_b: -58.288600203197845, and the loss is: 2304.0098912858425\n",
      "When time is : 299, get best_k: 20.220752824771715 best_b: -58.18860020319784, and the loss is: 2253.6323860235716\n",
      "When time is : 300, get best_k: 20.120752824771714 best_b: -58.08860020319784, and the loss is: 2203.8232818777806\n",
      "When time is : 301, get best_k: 20.020752824771712 best_b: -57.98860020319784, and the loss is: 2154.582578848473\n",
      "When time is : 302, get best_k: 19.92075282477171 best_b: -57.88860020319784, and the loss is: 2105.91027693565\n",
      "When time is : 303, get best_k: 19.82075282477171 best_b: -57.78860020319784, and the loss is: 2057.806376139306\n",
      "When time is : 304, get best_k: 19.720752824771708 best_b: -57.688600203197836, and the loss is: 2010.2708764594465\n",
      "When time is : 305, get best_k: 19.620752824771706 best_b: -57.588600203197835, and the loss is: 1963.3037778960713\n",
      "When time is : 306, get best_k: 19.520752824771705 best_b: -57.488600203197834, and the loss is: 1916.9050804491737\n",
      "When time is : 307, get best_k: 19.420752824771704 best_b: -57.38860020319783, and the loss is: 1871.0747841187597\n",
      "When time is : 308, get best_k: 19.320752824771702 best_b: -57.28860020319783, and the loss is: 1825.8128889048264\n",
      "When time is : 309, get best_k: 19.2207528247717 best_b: -57.18860020319783, and the loss is: 1781.1193948073778\n",
      "When time is : 310, get best_k: 19.1207528247717 best_b: -57.08860020319783, and the loss is: 1736.9943018264116\n",
      "When time is : 311, get best_k: 19.020752824771698 best_b: -56.98860020319783, and the loss is: 1693.437609961927\n",
      "When time is : 312, get best_k: 18.920752824771697 best_b: -56.888600203197825, and the loss is: 1650.449319213925\n",
      "When time is : 313, get best_k: 18.820752824771695 best_b: -56.788600203197824, and the loss is: 1608.0294295824015\n",
      "When time is : 314, get best_k: 18.720752824771694 best_b: -56.68860020319782, and the loss is: 1566.1779410673648\n",
      "When time is : 315, get best_k: 18.620752824771692 best_b: -56.58860020319782, and the loss is: 1524.8948536688106\n",
      "When time is : 316, get best_k: 18.52075282477169 best_b: -56.48860020319782, and the loss is: 1484.1801673867367\n",
      "When time is : 317, get best_k: 18.42075282477169 best_b: -56.38860020319782, and the loss is: 1444.0338822211445\n",
      "When time is : 318, get best_k: 18.320752824771688 best_b: -56.28860020319782, and the loss is: 1404.4559981720367\n",
      "When time is : 319, get best_k: 18.220752824771687 best_b: -56.188600203197815, and the loss is: 1365.4465152394077\n",
      "When time is : 320, get best_k: 18.120752824771685 best_b: -56.088600203197814, and the loss is: 1327.0054334232636\n",
      "When time is : 321, get best_k: 18.020752824771684 best_b: -55.98860020319781, and the loss is: 1289.1327527236015\n",
      "When time is : 322, get best_k: 17.920752824771682 best_b: -55.88860020319781, and the loss is: 1251.8284731404194\n",
      "When time is : 323, get best_k: 17.82075282477168 best_b: -55.78860020319781, and the loss is: 1215.0925946737225\n",
      "When time is : 324, get best_k: 17.72075282477168 best_b: -55.68860020319781, and the loss is: 1178.9251173235073\n",
      "When time is : 325, get best_k: 17.620752824771678 best_b: -55.58860020319781, and the loss is: 1143.3260410897733\n",
      "When time is : 326, get best_k: 17.520752824771677 best_b: -55.488600203197805, and the loss is: 1108.295365972521\n",
      "When time is : 327, get best_k: 17.420752824771675 best_b: -55.388600203197804, and the loss is: 1073.8330919717516\n",
      "When time is : 328, get best_k: 17.320752824771674 best_b: -55.2886002031978, and the loss is: 1039.9392190874657\n",
      "When time is : 329, get best_k: 17.220752824771672 best_b: -55.1886002031978, and the loss is: 1006.613747319661\n",
      "When time is : 330, get best_k: 17.12075282477167 best_b: -55.0886002031978, and the loss is: 973.8566766683389\n",
      "When time is : 331, get best_k: 17.02075282477167 best_b: -54.9886002031978, and the loss is: 941.6680071334987\n",
      "When time is : 332, get best_k: 16.920752824771668 best_b: -54.8886002031978, and the loss is: 910.0477387151409\n",
      "When time is : 333, get best_k: 16.820752824771667 best_b: -54.788600203197795, and the loss is: 878.9958714132637\n",
      "When time is : 334, get best_k: 16.720752824771665 best_b: -54.688600203197794, and the loss is: 848.5124052278702\n",
      "When time is : 335, get best_k: 16.620752824771664 best_b: -54.58860020319779, and the loss is: 818.5973401589599\n",
      "When time is : 336, get best_k: 16.520752824771662 best_b: -54.48860020319779, and the loss is: 789.2506762065302\n",
      "When time is : 337, get best_k: 16.42075282477166 best_b: -54.38860020319779, and the loss is: 760.4724133705831\n",
      "When time is : 338, get best_k: 16.32075282477166 best_b: -54.28860020319779, and the loss is: 732.2625516511187\n",
      "When time is : 339, get best_k: 16.220752824771658 best_b: -54.18860020319779, and the loss is: 704.6210910481366\n",
      "When time is : 340, get best_k: 16.120752824771657 best_b: -54.088600203197785, and the loss is: 677.5480315616368\n",
      "When time is : 341, get best_k: 16.020752824771655 best_b: -53.988600203197784, and the loss is: 651.0433731916186\n",
      "When time is : 342, get best_k: 15.920752824771656 best_b: -53.88860020319778, and the loss is: 625.1071159380832\n",
      "When time is : 343, get best_k: 15.820752824771656 best_b: -53.78860020319778, and the loss is: 599.7392598010301\n",
      "When time is : 344, get best_k: 15.720752824771656 best_b: -53.68860020319778, and the loss is: 574.9398047804597\n",
      "When time is : 345, get best_k: 15.620752824771657 best_b: -53.58860020319778, and the loss is: 550.7087508763708\n",
      "When time is : 346, get best_k: 15.520752824771657 best_b: -53.48860020319778, and the loss is: 527.0460980887644\n",
      "When time is : 347, get best_k: 15.420752824771657 best_b: -53.388600203197775, and the loss is: 503.9518464176412\n",
      "When time is : 348, get best_k: 15.320752824771658 best_b: -53.288600203197774, and the loss is: 481.4259958629982\n",
      "When time is : 349, get best_k: 15.220752824771658 best_b: -53.18860020319777, and the loss is: 459.4685464248391\n",
      "When time is : 350, get best_k: 15.120752824771658 best_b: -53.08860020319777, and the loss is: 438.0794981031608\n",
      "When time is : 351, get best_k: 15.020752824771659 best_b: -52.98860020319777, and the loss is: 417.2588508979662\n",
      "When time is : 352, get best_k: 14.92075282477166 best_b: -52.88860020319777, and the loss is: 397.0066048092535\n",
      "When time is : 353, get best_k: 14.82075282477166 best_b: -52.78860020319777, and the loss is: 377.32275983702215\n",
      "When time is : 354, get best_k: 14.72075282477166 best_b: -52.688600203197765, and the loss is: 358.20731598127344\n",
      "When time is : 355, get best_k: 14.62075282477166 best_b: -52.588600203197764, and the loss is: 339.6602732420065\n",
      "When time is : 356, get best_k: 14.52075282477166 best_b: -52.48860020319776, and the loss is: 321.68163161922274\n",
      "When time is : 357, get best_k: 14.420752824771661 best_b: -52.38860020319776, and the loss is: 304.2713911129207\n",
      "When time is : 358, get best_k: 14.320752824771661 best_b: -52.28860020319776, and the loss is: 287.42955172310093\n",
      "When time is : 359, get best_k: 14.220752824771662 best_b: -52.18860020319776, and the loss is: 271.1561134497632\n",
      "When time is : 360, get best_k: 14.120752824771662 best_b: -52.08860020319776, and the loss is: 255.45107629290757\n",
      "When time is : 361, get best_k: 14.020752824771662 best_b: -51.988600203197755, and the loss is: 240.31444025253424\n",
      "When time is : 362, get best_k: 13.920752824771663 best_b: -51.888600203197754, and the loss is: 225.74620532864336\n",
      "When time is : 363, get best_k: 13.820752824771663 best_b: -51.78860020319775, and the loss is: 211.74637152123435\n",
      "When time is : 364, get best_k: 13.720752824771663 best_b: -51.68860020319775, and the loss is: 198.31493883030777\n",
      "When time is : 365, get best_k: 13.620752824771664 best_b: -51.58860020319775, and the loss is: 185.45190725586352\n",
      "When time is : 366, get best_k: 13.520752824771664 best_b: -51.48860020319775, and the loss is: 173.15727679790132\n",
      "When time is : 367, get best_k: 13.420752824771665 best_b: -51.38860020319775, and the loss is: 161.4310474564211\n",
      "When time is : 368, get best_k: 13.320752824771665 best_b: -51.288600203197745, and the loss is: 150.27321923142347\n",
      "When time is : 369, get best_k: 13.220752824771665 best_b: -51.188600203197744, and the loss is: 139.6837921229078\n",
      "When time is : 370, get best_k: 13.120752824771666 best_b: -51.08860020319774, and the loss is: 129.6627661308744\n",
      "When time is : 371, get best_k: 13.020752824771666 best_b: -50.98860020319774, and the loss is: 120.21014125532315\n",
      "When time is : 372, get best_k: 12.920752824771666 best_b: -50.88860020319774, and the loss is: 111.32591749625416\n",
      "When time is : 373, get best_k: 12.820752824771667 best_b: -50.78860020319774, and the loss is: 103.0100948536674\n",
      "When time is : 374, get best_k: 12.720752824771667 best_b: -50.68860020319774, and the loss is: 95.2626733275629\n",
      "When time is : 375, get best_k: 12.620752824771667 best_b: -50.588600203197736, and the loss is: 88.08365291794041\n",
      "When time is : 376, get best_k: 12.520752824771668 best_b: -50.488600203197734, and the loss is: 81.4730336248003\n",
      "When time is : 377, get best_k: 12.420752824771668 best_b: -50.38860020319773, and the loss is: 75.43081544814225\n",
      "When time is : 378, get best_k: 12.320752824771668 best_b: -50.28860020319773, and the loss is: 69.95699838796659\n",
      "When time is : 379, get best_k: 12.220752824771669 best_b: -50.18860020319773, and the loss is: 65.051582444273\n",
      "When time is : 380, get best_k: 12.12075282477167 best_b: -50.08860020319773, and the loss is: 60.714567617061704\n",
      "When time is : 381, get best_k: 12.02075282477167 best_b: -49.98860020319773, and the loss is: 56.94595390633256\n",
      "When time is : 382, get best_k: 11.92075282477167 best_b: -49.888600203197726, and the loss is: 53.74574131208563\n",
      "When time is : 383, get best_k: 11.82075282477167 best_b: -49.788600203197724, and the loss is: 51.113929834320885\n",
      "When time is : 384, get best_k: 11.72075282477167 best_b: -49.68860020319772, and the loss is: 49.050519473038364\n",
      "When time is : 385, get best_k: 11.620752824771671 best_b: -49.58860020319772, and the loss is: 47.555510228238056\n",
      "When time is : 386, get best_k: 11.520752824771671 best_b: -49.48860020319772, and the loss is: 46.62890209991992\n",
      "When time is : 387, get best_k: 11.420752824771672 best_b: -49.38860020319772, and the loss is: 46.27069508808402\n"
     ]
    }
   ],
   "source": [
    "trying_times = 2000\n",
    "\n",
    "min_loss = float('inf')\n",
    "\n",
    "best_k = random.random() * 200 - 100\n",
    "best_b = random.random() * 200 - 100\n",
    "\n",
    "direction = [\n",
    "    (+1, -1),  # first element: k's change direction, second element: b's change direction\n",
    "    (+1, +1), \n",
    "    (-1, -1), \n",
    "    (-1, +1),\n",
    "]\n",
    "\n",
    "next_direction = random.choice(direction)\n",
    "\n",
    "scalar = 0.1  # 学习率\n",
    "\n",
    "for i in range(trying_times):\n",
    "    \n",
    "    k_direction, b_direction = next_direction\n",
    "    \n",
    "    current_k, current_b = best_k + k_direction * scalar, best_b + b_direction * scalar # 更新 k 和 b\n",
    "    \n",
    "    price_by_k_and_b = [price(r, current_k, current_b) for r in X_rm]\n",
    "\n",
    "    current_loss = loss(y, price_by_k_and_b)\n",
    "    \n",
    "    if current_loss < min_loss: # performance became better\n",
    "        min_loss = current_loss\n",
    "        best_k, best_b = current_k, current_b # 选择更好的 k 和 b\n",
    "        \n",
    "        next_direction = next_direction\n",
    "        print('When time is : {}, get best_k: {} best_b: {}, and the loss is: {}'.format(i, best_k, best_b, min_loss))\n",
    "    else:\n",
    "        next_direction = random.choice(direction)"
   ]
  },
  {
   "cell_type": "code",
   "execution_count": 29,
   "metadata": {},
   "outputs": [
    {
     "data": {
      "text/plain": [
       "<matplotlib.collections.PathCollection at 0x1a356b8a5f8>"
      ]
     },
     "execution_count": 29,
     "metadata": {},
     "output_type": "execute_result"
    },
    {
     "data": {
      "image/png": "[encoded data removed]",
      "text/plain": [
       "<matplotlib.figure.Figure at 0x1a356af6ba8>"
      ]
     },
     "metadata": {},
     "output_type": "display_data"
    }
   ],
   "source": [
    "X_rm = X[:, 5]\n",
    "k = 11.42075\n",
    "b = -49.388600\n",
    "price_by_random_k_and_b = [price(r, k, b) for r in X_rm]\n",
    "\n",
    "draw_rm_and_price()\n",
    "plt.scatter(X_rm, price_by_random_k_and_b)"
   ]
  },
  {
   "cell_type": "markdown",
   "metadata": {
    "colab_type": "text",
    "id": "5iNDR41j1SOi"
   },
   "source": [
    "####  Gradient Descent to get optimal *k* and *b*"
   ]
  },
  {
   "cell_type": "markdown",
   "metadata": {
    "colab": {},
    "colab_type": "code",
    "id": "etSYGqmR0WDh"
   },
   "source": [
    "#####  定义损失函数\n",
    "\n",
    "$$ loss = \\frac{1}{n} \\sum{(y_i - \\hat{y_i})}$$"
   ]
  },
  {
   "cell_type": "code",
   "execution_count": 15,
   "metadata": {
    "colab": {},
    "colab_type": "code",
    "id": "iYk_8Et90WGF"
   },
   "outputs": [],
   "source": [
    "def loss(y, y_hat): # to evaluate the performance \n",
    "    return sum((y_i - y_hat_i)**2 for y_i, y_hat_i in zip(list(y), list(y_hat))) / len(list(y))"
   ]
  },
  {
   "cell_type": "markdown",
   "metadata": {},
   "source": [
    "##### 计算梯度\n",
    "\n",
    "$$ loss = \\frac{1}{n} \\sum{{(y_i - (kx_i+b_i))^2}}$$\n",
    "\n",
    "$$ \\frac{\\partial{loss}}{\\partial{k}} = - \\frac{2}{n} \\sum{{(y_i - (kx_i+b_i))x_i}}$$\n",
    "\n",
    "$$  \\frac{\\partial{loss}}{\\partial{b}} = - \\frac{2}{n} \\sum{{(y_i - (kx_i+b_i))}}$$"
   ]
  },
  {
   "cell_type": "code",
   "execution_count": 16,
   "metadata": {},
   "outputs": [],
   "source": [
    "def partial_k(x,y,y_hat):\n",
    "    n = len(y)\n",
    "    \n",
    "    gradient = 0\n",
    "    \n",
    "    for x_i,y_i,y_hat_i in zip(list(x),list(y),list(y_hat)):\n",
    "        gradient += (y_i-y_hat_i)*x_i\n",
    "        \n",
    "    return -2 / n * gradient\n",
    "\n",
    "def partial_b(x,y,y_hat):\n",
    "    n = len(y)\n",
    "    \n",
    "    gradient = 0\n",
    "    \n",
    "    for y_i,y_hat_i in zip(list(x),list(y),list(y_hat)):\n",
    "        gradient += (y_i-y_hat_i)\n",
    "        \n",
    "    return -2 / n * gradient"
   ]
  },
  {
   "cell_type": "code",
   "execution_count": 17,
   "metadata": {},
   "outputs": [],
   "source": [
    "from icecream import ic\n",
    "from sklearn.datasets import load_boston"
   ]
  },
  {
   "cell_type": "code",
   "execution_count": 18,
   "metadata": {},
   "outputs": [],
   "source": [
    "data = load_boston()"
   ]
  },
  {
   "cell_type": "code",
   "execution_count": 19,
   "metadata": {},
   "outputs": [],
   "source": [
    "X, y = data['data'], data['target']\n",
    "\n",
    "X_rm = X[:, 5]"
   ]
  },
  {
   "cell_type": "code",
   "execution_count": 24,
   "metadata": {
    "scrolled": true
   },
   "outputs": [
    {
     "name": "stdout",
     "output_type": "stream",
     "text": [
      "When time is : 0, get best_k: -8.501532498479563 best_b: -88.51775382692497, and the loss is: 27249.814415294564\n",
      "When time is : 50, get best_k: -0.12640072387652757 best_b: -80.14262205232197, and the loss is: 10791.562861519895\n",
      "When time is : 100, get best_k: 5.1348703098119755 best_b: -74.88135101863345, and the loss is: 4295.014356064996\n",
      "When time is : 150, get best_k: 8.440009098657084 best_b: -71.57621222978837, and the loss is: 1730.2860452154366\n",
      "When time is : 200, get best_k: 10.516302515890544 best_b: -69.49991881255487, and the loss is: 717.5529771461994\n",
      "When time is : 250, get best_k: 11.820633326141742 best_b: -68.19558800230365, and the loss is: 317.5165259869049\n",
      "When time is : 300, get best_k: 12.640016005126201 best_b: -67.37620532331918, and the loss is: 159.41212625064753\n",
      "When time is : 350, get best_k: 13.15475350066266 best_b: -66.86146782778272, and the loss is: 96.8705392299702\n",
      "When time is : 400, get best_k: 13.478112409883838 best_b: -66.53810891856149, and the loss is: 72.09651220010102\n",
      "When time is : 450, get best_k: 13.6812469883426 best_b: -66.33497434010273, and the loss is: 62.2614689703573\n",
      "When time is : 500, get best_k: 13.80885645197235 best_b: -66.20736487647297, and the loss is: 58.34357698120205\n",
      "When time is : 550, get best_k: 13.889020918954902 best_b: -66.12720040949044, and the loss is: 56.77442759262138\n",
      "When time is : 600, get best_k: 13.93938036396631 best_b: -66.07684096447905, and the loss is: 56.140732084099334\n",
      "When time is : 650, get best_k: 13.971016247011711 best_b: -66.04520508143362, and the loss is: 55.881574265339324\n",
      "When time is : 700, get best_k: 13.99088995880174 best_b: -66.02533136964364, and the loss is: 55.77359814082286\n",
      "When time is : 750, get best_k: 14.003374655996566 best_b: -66.01284667244877, and the loss is: 55.72740423355634\n",
      "When time is : 800, get best_k: 14.01121756253025 best_b: -66.00500376591503, and the loss is: 55.70692386034974\n",
      "When time is : 850, get best_k: 14.016144488825395 best_b: -66.00007683961984, and the loss is: 55.69742775130067\n",
      "When time is : 900, get best_k: 14.019239591720414 best_b: -65.99698173672482, and the loss is: 55.69279208719333\n",
      "When time is : 950, get best_k: 14.021183940256783 best_b: -65.99503738818844, and the loss is: 55.69040474686554\n",
      "When time is : 1000, get best_k: 14.02240538308409 best_b: -65.99381594536116, and the loss is: 55.68911211803847\n",
      "When time is : 1050, get best_k: 14.02317269540102 best_b: -65.99304863304422, and the loss is: 55.68838181678007\n",
      "When time is : 1100, get best_k: 14.023654722212719 best_b: -65.99256660623253, and the loss is: 55.68795529415988\n",
      "When time is : 1150, get best_k: 14.023957532218592 best_b: -65.99226379622665, and the loss is: 55.687700080519676\n",
      "When time is : 1200, get best_k: 14.024147757943453 best_b: -65.99207357050182, and the loss is: 55.687544778064684\n",
      "When time is : 1250, get best_k: 14.024267258044823 best_b: -65.99195407040037, and the loss is: 55.6874491991416\n",
      "When time is : 1300, get best_k: 14.024342328197598 best_b: -65.9918790002476, and the loss is: 55.687389938610146\n",
      "When time is : 1350, get best_k: 14.024389487386369 best_b: -65.99183184105884, and the loss is: 55.68735301977496\n",
      "When time is : 1400, get best_k: 14.024419112863379 best_b: -65.99180221558181, and the loss is: 55.68732994913837\n",
      "When time is : 1450, get best_k: 14.024437723634914 best_b: -65.99178360481028, and the loss is: 55.68731550420828\n",
      "When time is : 1500, get best_k: 14.02444941495104 best_b: -65.99177191349416, and the loss is: 55.68730644885461\n",
      "When time is : 1550, get best_k: 14.024456759454328 best_b: -65.99176456899079, and the loss is: 55.68730076775498\n",
      "When time is : 1600, get best_k: 14.024461373282913 best_b: -65.99175995516222, and the loss is: 55.68729720183426\n",
      "When time is : 1650, get best_k: 14.024464271697331 best_b: -65.99175705674777, and the loss is: 55.68729496288342\n",
      "When time is : 1700, get best_k: 14.02446609248586 best_b: -65.9917552359593, and the loss is: 55.68729355683123\n",
      "When time is : 1750, get best_k: 14.024467236308093 best_b: -65.99175409213707, and the loss is: 55.68729267372856\n",
      "When time is : 1800, get best_k: 14.02446795485903 best_b: -65.9917533735861, and the loss is: 55.68729211903376\n",
      "When time is : 1850, get best_k: 14.024468406253867 best_b: -65.99175292219131, and the loss is: 55.687291770601846\n",
      "When time is : 1900, get best_k: 14.024468689820816 best_b: -65.99175263862432, and the loss is: 55.68729155172757\n",
      "When time is : 1950, get best_k: 14.02446886795802 best_b: -65.99175246048706, and the loss is: 55.68729141423473\n",
      "When time is : 2000, get best_k: 14.024468979864098 best_b: -65.991752348581, and the loss is: 55.68729132786332\n",
      "When time is : 2050, get best_k: 14.024469050163665 best_b: -65.9917522782814, and the loss is: 55.68729127360529\n",
      "When time is : 2100, get best_k: 14.024469094325967 best_b: -65.99175223411909, and the loss is: 55.68729123952064\n",
      "When time is : 2150, get best_k: 14.024469122068794 best_b: -65.99175220637626, and the loss is: 55.68729121810867\n",
      "When time is : 2200, get best_k: 14.024469139496887 best_b: -65.99175218894815, and the loss is: 55.68729120465769\n",
      "When time is : 2250, get best_k: 14.024469150445242 best_b: -65.99175217799977, and the loss is: 55.68729119620777\n",
      "When time is : 2300, get best_k: 14.024469157323011 best_b: -65.99175217112199, and the loss is: 55.687291190899536\n",
      "When time is : 2350, get best_k: 14.024469161643632 best_b: -65.99175216680138, and the loss is: 55.6872911875649\n",
      "When time is : 2400, get best_k: 14.024469164357857 best_b: -65.99175216408716, and the loss is: 55.68729118547012\n",
      "When time is : 2450, get best_k: 14.024469166062934 best_b: -65.9917521623821, and the loss is: 55.68729118415409\n",
      "When time is : 2500, get best_k: 14.024469167134068 best_b: -65.99175216131093, and the loss is: 55.687291183327424\n",
      "When time is : 2550, get best_k: 14.02446916780696 best_b: -65.99175216063804, and the loss is: 55.68729118280806\n",
      "When time is : 2600, get best_k: 14.024469168229665 best_b: -65.99175216021537, and the loss is: 55.68729118248185\n",
      "When time is : 2650, get best_k: 14.024469168495214 best_b: -65.99175215994978, and the loss is: 55.68729118227689\n",
      "When time is : 2700, get best_k: 14.024469168662032 best_b: -65.99175215978299, and the loss is: 55.68729118214816\n",
      "When time is : 2750, get best_k: 14.024469168766823 best_b: -65.99175215967819, and the loss is: 55.68729118206723\n",
      "When time is : 2800, get best_k: 14.024469168832654 best_b: -65.99175215961237, and the loss is: 55.68729118201644\n",
      "When time is : 2850, get best_k: 14.024469168874012 best_b: -65.99175215957105, and the loss is: 55.687291181984605\n",
      "When time is : 2900, get best_k: 14.024469168899998 best_b: -65.99175215954509, and the loss is: 55.68729118196454\n",
      "When time is : 2950, get best_k: 14.024469168916317 best_b: -65.99175215952876, and the loss is: 55.687291181951935\n",
      "When time is : 3000, get best_k: 14.024469168926576 best_b: -65.99175215951851, and the loss is: 55.68729118194398\n",
      "When time is : 3050, get best_k: 14.024469168933017 best_b: -65.99175215951209, and the loss is: 55.68729118193905\n"
     ]
    }
   ],
   "source": [
    "trying_times = 10000\n",
    "\n",
    "min_loss = float('inf')\n",
    "\n",
    "# 初始化问题：对于复杂机器学习问题，如何初始化 k和 b\n",
    "current_k = random.random() * 200 - 100\n",
    "current_b = random.random() * 200 - 100\n",
    "\n",
    "learning_rate = 1e-04\n",
    "\n",
    "update_time = 0\n",
    "\n",
    "for i in range(trying_times):\n",
    "    \n",
    "    price_by_k_and_b = [price(r,current_k,current_b) for r in X_rm]\n",
    "\n",
    "    current_loss = loss(y, price_by_k_and_b)\n",
    "    \n",
    "    if current_loss < min_loss: # performance became better\n",
    "        min_loss = current_loss\n",
    "        best_k, best_b = current_k, current_b\n",
    "        \n",
    "        # 每隔五十步输出一次\n",
    "        if i % 50 == 0:\n",
    "            print('When time is : {}, get best_k: {} best_b: {}, and the loss is: {}'.format(i, best_k, best_b, min_loss))\n",
    "        \n",
    "        k_gradient = partial_k(X_rm,y,price_by_k_and_b)\n",
    "        \n",
    "        b_gradient = partial_k(X_rm,y,price_by_k_and_b)\n",
    "        \n",
    "        current_k = current_k + (-1 * k_gradient) * learning_rate\n",
    "        \n",
    "        current_b = current_b + (-1 * b_gradient) * learning_rate\n",
    "        "
   ]
  },
  {
   "cell_type": "code",
   "execution_count": 25,
   "metadata": {},
   "outputs": [
    {
     "data": {
      "text/plain": [
       "<matplotlib.collections.PathCollection at 0x1a356aae4a8>"
      ]
     },
     "execution_count": 25,
     "metadata": {},
     "output_type": "execute_result"
    },
    {
     "data": {
      "image/png": "[encoded data removed]",
      "text/plain": [
       "<matplotlib.figure.Figure at 0x1a356a12da0>"
      ]
     },
     "metadata": {},
     "output_type": "display_data"
    }
   ],
   "source": [
    "X_rm = X[:, 5]\n",
    "k = 14.024469168933017\n",
    "b = -65.99175215951209\n",
    "price_by_random_k_and_b = [price(r, k, b) for r in X_rm]\n",
    "\n",
    "draw_rm_and_price()\n",
    "plt.scatter(X_rm, price_by_random_k_and_b)"
   ]
  },
  {
   "cell_type": "markdown",
   "metadata": {
    "colab_type": "text",
    "id": "Qc9iznc_3zFn"
   },
   "source": [
    "####  Try different Loss function and learning rate. \n",
    "\n",
    "For example, you can change the loss function: $Loss = \\frac{1}{n} sum({y_i - \\hat{y_i}})^2$ to $Loss = \\frac{1}{n} sum(|{y_i - \\hat{y_i}}|)$\n",
    "\n",
    "And you can change the learning rate and observe the performance."
   ]
  },
  {
   "cell_type": "code",
   "execution_count": 30,
   "metadata": {
    "colab": {},
    "colab_type": "code",
    "id": "Q_f4KcCI30KM"
   },
   "outputs": [],
   "source": [
    "def loss1(y, y_hat): # to evaluate the performance \n",
    "    return sum(abs(y_i - y_hat_i) for y_i, y_hat_i in zip(list(y), list(y_hat))) / len(list(y))"
   ]
  },
  {
   "cell_type": "code",
   "execution_count": 31,
   "metadata": {
    "colab": {
     "base_uri": "https://localhost:8080/",
     "height": 35
    },
    "colab_type": "code",
    "id": "0MZnoO-P4Y19",
    "outputId": "a0c48b1a-2988-4386-b84d-ed1d811271cd"
   },
   "outputs": [
    {
     "data": {
      "text/plain": [
       "1.3333333333333333"
      ]
     },
     "execution_count": 31,
     "metadata": {},
     "output_type": "execute_result"
    }
   ],
   "source": [
    "loss1([1, 1, 1], [2, 2, 3])"
   ]
  },
  {
   "cell_type": "markdown",
   "metadata": {},
   "source": [
    "##### first method"
   ]
  },
  {
   "cell_type": "code",
   "execution_count": 32,
   "metadata": {
    "colab": {
     "base_uri": "https://localhost:8080/",
     "height": 104
    },
    "colab_type": "code",
    "id": "DJ9TK7oM4ss-",
    "outputId": "bf34a4a6-bf23-4a0c-eec2-9a4ad6292d9f"
   },
   "outputs": [
    {
     "name": "stdout",
     "output_type": "stream",
     "text": [
      "When time is : 0, get best_k: 6.200683844541487 best_b: 76.27391104856082, and the loss is: 92.71013563895215\n",
      "When time is : 2, get best_k: 27.069446697680462 best_b: -55.6117609470316, and the loss is: 91.97700829168632\n",
      "When time is : 11, get best_k: -7.668301053964527 best_b: 69.29030126188692, and the loss is: 9.689206348912736\n",
      "When time is : 66, get best_k: -3.1145902497519558 best_b: 36.05719894636849, and the loss is: 8.63655414494344\n",
      "When time is : 343, get best_k: 1.475501579673022 best_b: 14.509485194155204, and the loss is: 6.439265407747394\n",
      "When time is : 677, get best_k: 17.507202333762024 best_b: -86.10475805297115, and the loss is: 6.1758198244102145\n",
      "When time is : 881, get best_k: 10.671603096540721 best_b: -44.70329227023275, and the loss is: 4.4737405701452\n"
     ]
    }
   ],
   "source": [
    "trying_times = 2000\n",
    "\n",
    "min_loss = float('inf')\n",
    "best_k, best_b = None, None\n",
    "\n",
    "for i in range(trying_times):\n",
    "    k = random.random() * 200 - 100\n",
    "    b = random.random() * 200 - 100\n",
    "    price_by_random_k_and_b = [price(r, k, b) for r in X_rm]\n",
    "\n",
    "    current_loss = loss1(y, price_by_random_k_and_b)\n",
    "    \n",
    "    if current_loss < min_loss:\n",
    "        min_loss = current_loss\n",
    "        best_k, best_b = k, b\n",
    "        print('When time is : {}, get best_k: {} best_b: {}, and the loss is: {}'.format(i, best_k, best_b, min_loss))"
   ]
  },
  {
   "cell_type": "code",
   "execution_count": 33,
   "metadata": {
    "colab": {
     "base_uri": "https://localhost:8080/",
     "height": 286
    },
    "colab_type": "code",
    "id": "qtx0uKKd46aB",
    "outputId": "7b0e6c73-4cba-41cf-fb3b-f8db6e97e795"
   },
   "outputs": [
    {
     "data": {
      "text/plain": [
       "<matplotlib.collections.PathCollection at 0x1a356bf2cc0>"
      ]
     },
     "execution_count": 33,
     "metadata": {},
     "output_type": "execute_result"
    },
    {
     "data": {
      "image/png": "[encoded data removed]",
      "text/plain": [
       "<matplotlib.figure.Figure at 0x1a356b47898>"
      ]
     },
     "metadata": {},
     "output_type": "display_data"
    }
   ],
   "source": [
    "X_rm = X[:, 5]\n",
    "k = 10.6716030\n",
    "b =-44.7032922\n",
    "price_by_random_k_and_b = [price(r, k, b) for r in X_rm]\n",
    "\n",
    "draw_rm_and_price()\n",
    "plt.scatter(X_rm, price_by_random_k_and_b)"
   ]
  },
  {
   "cell_type": "markdown",
   "metadata": {},
   "source": [
    "##### 2nd method"
   ]
  },
  {
   "cell_type": "code",
   "execution_count": 40,
   "metadata": {
    "colab": {},
    "colab_type": "code",
    "id": "_RUq5gWq48YU"
   },
   "outputs": [
    {
     "name": "stdout",
     "output_type": "stream",
     "text": [
      "When time is : 0, get best_k: 42.22909860445123 best_b: 87.58726727516526, and the loss is: 330.4489061874577\n",
      "When time is : 2, get best_k: 42.12909860445123 best_b: 87.68726727516525, and the loss is: 329.92044274872245\n",
      "When time is : 3, get best_k: 42.02909860445123 best_b: 87.78726727516525, and the loss is: 329.39197930998733\n",
      "When time is : 4, get best_k: 41.92909860445123 best_b: 87.88726727516524, and the loss is: 328.8635158712527\n",
      "When time is : 5, get best_k: 41.829098604451225 best_b: 87.98726727516524, and the loss is: 328.335052432517\n",
      "When time is : 6, get best_k: 41.729098604451224 best_b: 88.08726727516523, and the loss is: 327.80658899378176\n",
      "When time is : 7, get best_k: 41.62909860445122 best_b: 88.18726727516523, and the loss is: 327.2781255550465\n",
      "When time is : 8, get best_k: 41.52909860445122 best_b: 88.28726727516522, and the loss is: 326.74966211631124\n",
      "When time is : 9, get best_k: 41.42909860445122 best_b: 88.38726727516521, and the loss is: 326.221198677576\n",
      "When time is : 10, get best_k: 41.32909860445122 best_b: 88.48726727516521, and the loss is: 325.6927352388411\n",
      "When time is : 11, get best_k: 41.22909860445122 best_b: 88.5872672751652, and the loss is: 325.16427180010567\n",
      "When time is : 12, get best_k: 41.129098604451215 best_b: 88.6872672751652, and the loss is: 324.63580836137095\n",
      "When time is : 13, get best_k: 41.029098604451214 best_b: 88.78726727516519, and the loss is: 324.10734492263543\n",
      "When time is : 14, get best_k: 40.92909860445121 best_b: 88.88726727516519, and the loss is: 323.5788814839004\n",
      "When time is : 15, get best_k: 40.82909860445121 best_b: 88.98726727516518, and the loss is: 323.0504180451652\n",
      "When time is : 16, get best_k: 40.72909860445121 best_b: 89.08726727516517, and the loss is: 322.5219546064302\n",
      "When time is : 17, get best_k: 40.62909860445121 best_b: 89.18726727516517, and the loss is: 321.99349116769463\n",
      "When time is : 18, get best_k: 40.52909860445121 best_b: 89.28726727516516, and the loss is: 321.4650277289595\n",
      "When time is : 19, get best_k: 40.429098604451205 best_b: 89.38726727516516, and the loss is: 320.93656429022445\n",
      "When time is : 20, get best_k: 40.329098604451204 best_b: 89.48726727516515, and the loss is: 320.40810085148894\n",
      "When time is : 21, get best_k: 40.2290986044512 best_b: 89.58726727516515, and the loss is: 319.8796374127538\n",
      "When time is : 22, get best_k: 40.1290986044512 best_b: 89.68726727516514, and the loss is: 319.35117397401893\n",
      "When time is : 23, get best_k: 40.0290986044512 best_b: 89.78726727516514, and the loss is: 318.8227105352837\n",
      "When time is : 24, get best_k: 39.9290986044512 best_b: 89.88726727516513, and the loss is: 318.29424709654825\n",
      "When time is : 25, get best_k: 39.8290986044512 best_b: 89.98726727516512, and the loss is: 317.7657836578129\n",
      "When time is : 26, get best_k: 39.729098604451195 best_b: 90.08726727516512, and the loss is: 317.2373202190776\n",
      "When time is : 27, get best_k: 39.629098604451194 best_b: 90.18726727516511, and the loss is: 316.70885678034267\n",
      "When time is : 28, get best_k: 39.52909860445119 best_b: 90.2872672751651, and the loss is: 316.1803933416076\n",
      "When time is : 29, get best_k: 39.42909860445119 best_b: 90.3872672751651, and the loss is: 315.65192990287267\n",
      "When time is : 30, get best_k: 39.32909860445119 best_b: 90.4872672751651, and the loss is: 315.12346646413727\n",
      "When time is : 31, get best_k: 39.22909860445119 best_b: 90.58726727516509, and the loss is: 314.5950030254023\n",
      "When time is : 32, get best_k: 39.12909860445119 best_b: 90.68726727516508, and the loss is: 314.066539586667\n",
      "When time is : 33, get best_k: 39.029098604451185 best_b: 90.78726727516508, and the loss is: 313.5380761479316\n",
      "When time is : 34, get best_k: 38.929098604451184 best_b: 90.88726727516507, and the loss is: 313.00961270919635\n",
      "When time is : 35, get best_k: 38.82909860445118 best_b: 90.98726727516507, and the loss is: 312.4811492704612\n",
      "When time is : 36, get best_k: 38.72909860445118 best_b: 91.08726727516506, and the loss is: 311.95268583172634\n",
      "When time is : 37, get best_k: 38.62909860445118 best_b: 91.18726727516506, and the loss is: 311.42422239299077\n",
      "When time is : 38, get best_k: 38.52909860445118 best_b: 91.28726727516505, and the loss is: 310.8957589542556\n",
      "When time is : 39, get best_k: 38.42909860445118 best_b: 91.38726727516504, and the loss is: 310.36729551552037\n",
      "When time is : 40, get best_k: 38.329098604451175 best_b: 91.48726727516504, and the loss is: 309.83883207678497\n",
      "When time is : 41, get best_k: 38.229098604451174 best_b: 91.58726727516503, and the loss is: 309.31036863805014\n",
      "When time is : 42, get best_k: 38.12909860445117 best_b: 91.68726727516503, and the loss is: 308.7819051993153\n",
      "When time is : 43, get best_k: 38.02909860445117 best_b: 91.78726727516502, and the loss is: 308.2534417605798\n",
      "When time is : 44, get best_k: 37.92909860445117 best_b: 91.88726727516502, and the loss is: 307.7249783218447\n",
      "When time is : 45, get best_k: 37.82909860445117 best_b: 91.98726727516501, and the loss is: 307.196514883109\n",
      "When time is : 46, get best_k: 37.72909860445117 best_b: 92.087267275165, and the loss is: 306.66805144437416\n",
      "When time is : 47, get best_k: 37.629098604451165 best_b: 92.187267275165, and the loss is: 306.1395880056391\n",
      "When time is : 48, get best_k: 37.529098604451164 best_b: 92.287267275165, and the loss is: 305.6111245669035\n",
      "When time is : 49, get best_k: 37.42909860445116 best_b: 92.38726727516499, and the loss is: 305.082661128169\n",
      "When time is : 50, get best_k: 37.32909860445116 best_b: 92.48726727516498, and the loss is: 304.5541976894336\n",
      "When time is : 51, get best_k: 37.22909860445116 best_b: 92.58726727516498, and the loss is: 304.0257342506983\n",
      "When time is : 52, get best_k: 37.12909860445116 best_b: 92.68726727516497, and the loss is: 303.49727081196323\n",
      "When time is : 53, get best_k: 37.02909860445116 best_b: 92.78726727516496, and the loss is: 302.9688073732279\n",
      "When time is : 54, get best_k: 36.929098604451156 best_b: 92.88726727516496, and the loss is: 302.4403439344925\n",
      "When time is : 55, get best_k: 36.829098604451154 best_b: 92.98726727516495, and the loss is: 301.9118804957575\n",
      "When time is : 56, get best_k: 36.72909860445115 best_b: 93.08726727516495, and the loss is: 301.3834170570221\n",
      "When time is : 57, get best_k: 36.62909860445115 best_b: 93.18726727516494, and the loss is: 300.85495361828714\n",
      "When time is : 58, get best_k: 36.52909860445115 best_b: 93.28726727516494, and the loss is: 300.3264901795518\n",
      "When time is : 59, get best_k: 36.42909860445115 best_b: 93.38726727516493, and the loss is: 299.7980267408167\n",
      "When time is : 60, get best_k: 36.32909860445115 best_b: 93.48726727516492, and the loss is: 299.269563302081\n",
      "When time is : 61, get best_k: 36.229098604451146 best_b: 93.58726727516492, and the loss is: 298.74109986334616\n",
      "When time is : 62, get best_k: 36.129098604451144 best_b: 93.68726727516491, and the loss is: 298.21263642461116\n",
      "When time is : 63, get best_k: 36.02909860445114 best_b: 93.78726727516491, and the loss is: 297.68417298587553\n",
      "When time is : 64, get best_k: 35.92909860445114 best_b: 93.8872672751649, and the loss is: 297.1557095471407\n",
      "When time is : 65, get best_k: 35.82909860445114 best_b: 93.9872672751649, and the loss is: 296.6272461084054\n",
      "When time is : 66, get best_k: 35.72909860445114 best_b: 94.08726727516489, and the loss is: 296.09878266967024\n",
      "When time is : 67, get best_k: 35.62909860445114 best_b: 94.18726727516488, and the loss is: 295.57031923093507\n",
      "When time is : 68, get best_k: 35.529098604451136 best_b: 94.28726727516488, and the loss is: 295.04185579220007\n",
      "When time is : 69, get best_k: 35.429098604451134 best_b: 94.38726727516487, and the loss is: 294.51339235346455\n",
      "When time is : 70, get best_k: 35.32909860445113 best_b: 94.48726727516487, and the loss is: 293.9849289147296\n",
      "When time is : 71, get best_k: 35.22909860445113 best_b: 94.58726727516486, and the loss is: 293.4564654759944\n",
      "When time is : 72, get best_k: 35.12909860445113 best_b: 94.68726727516486, and the loss is: 292.9280020372595\n",
      "When time is : 73, get best_k: 35.02909860445113 best_b: 94.78726727516485, and the loss is: 292.3995385985237\n",
      "When time is : 74, get best_k: 34.92909860445113 best_b: 94.88726727516485, and the loss is: 291.8710751597888\n",
      "When time is : 75, get best_k: 34.829098604451126 best_b: 94.98726727516484, and the loss is: 291.3426117210536\n",
      "When time is : 76, get best_k: 34.729098604451124 best_b: 95.08726727516483, and the loss is: 290.8141482823182\n",
      "When time is : 77, get best_k: 34.62909860445112 best_b: 95.18726727516483, and the loss is: 290.285684843583\n",
      "When time is : 78, get best_k: 34.52909860445112 best_b: 95.28726727516482, and the loss is: 289.7572214048476\n",
      "When time is : 79, get best_k: 34.42909860445112 best_b: 95.38726727516482, and the loss is: 289.2287579661127\n",
      "When time is : 80, get best_k: 34.32909860445112 best_b: 95.48726727516481, and the loss is: 288.70029452737754\n",
      "When time is : 81, get best_k: 34.22909860445112 best_b: 95.5872672751648, and the loss is: 288.17183108864225\n",
      "When time is : 82, get best_k: 34.129098604451116 best_b: 95.6872672751648, and the loss is: 287.6433676499071\n",
      "When time is : 83, get best_k: 34.029098604451114 best_b: 95.7872672751648, and the loss is: 287.1149042111718\n",
      "When time is : 84, get best_k: 33.92909860445111 best_b: 95.88726727516479, and the loss is: 286.586440772437\n",
      "When time is : 85, get best_k: 33.82909860445111 best_b: 95.98726727516478, and the loss is: 286.05797733370173\n",
      "When time is : 86, get best_k: 33.72909860445111 best_b: 96.08726727516478, and the loss is: 285.5295138949665\n",
      "When time is : 87, get best_k: 33.62909860445111 best_b: 96.18726727516477, and the loss is: 285.00105045623127\n",
      "When time is : 88, get best_k: 33.52909860445111 best_b: 96.28726727516477, and the loss is: 284.47258701749604\n",
      "When time is : 89, get best_k: 33.429098604451106 best_b: 96.38726727516476, and the loss is: 283.9441235787609\n",
      "When time is : 90, get best_k: 33.329098604451104 best_b: 96.48726727516475, and the loss is: 283.4156601400257\n",
      "When time is : 91, get best_k: 33.2290986044511 best_b: 96.58726727516475, and the loss is: 282.8871967012903\n",
      "When time is : 92, get best_k: 33.1290986044511 best_b: 96.68726727516474, and the loss is: 282.3587332625553\n",
      "When time is : 93, get best_k: 33.0290986044511 best_b: 96.78726727516474, and the loss is: 281.8302698238201\n",
      "When time is : 94, get best_k: 32.9290986044511 best_b: 96.88726727516473, and the loss is: 281.3018063850851\n",
      "When time is : 95, get best_k: 32.8290986044511 best_b: 96.98726727516473, and the loss is: 280.77334294634977\n",
      "When time is : 96, get best_k: 32.729098604451096 best_b: 97.08726727516472, and the loss is: 280.24487950761437\n",
      "When time is : 97, get best_k: 32.629098604451094 best_b: 97.18726727516471, and the loss is: 279.71641606887937\n",
      "When time is : 98, get best_k: 32.52909860445109 best_b: 97.28726727516471, and the loss is: 279.18795263014425\n",
      "When time is : 99, get best_k: 32.42909860445109 best_b: 97.3872672751647, and the loss is: 278.659489191409\n",
      "When time is : 100, get best_k: 32.32909860445109 best_b: 97.4872672751647, and the loss is: 278.13102575267345\n",
      "When time is : 101, get best_k: 32.22909860445109 best_b: 97.58726727516469, and the loss is: 277.60256231393845\n",
      "When time is : 102, get best_k: 32.12909860445109 best_b: 97.68726727516469, and the loss is: 277.074098875203\n",
      "When time is : 103, get best_k: 32.029098604451086 best_b: 97.78726727516468, and the loss is: 276.54563543646816\n",
      "When time is : 104, get best_k: 31.929098604451084 best_b: 97.88726727516467, and the loss is: 276.0171719977331\n",
      "When time is : 105, get best_k: 31.829098604451083 best_b: 97.98726727516467, and the loss is: 275.48870855899764\n",
      "When time is : 106, get best_k: 31.72909860445108 best_b: 98.08726727516466, and the loss is: 274.96024512026224\n",
      "When time is : 107, get best_k: 31.62909860445108 best_b: 98.18726727516466, and the loss is: 274.4317816815274\n",
      "When time is : 108, get best_k: 31.52909860445108 best_b: 98.28726727516465, and the loss is: 273.9033182427921\n",
      "When time is : 109, get best_k: 31.429098604451077 best_b: 98.38726727516465, and the loss is: 273.3748548040568\n",
      "When time is : 110, get best_k: 31.329098604451076 best_b: 98.48726727516464, and the loss is: 272.8463913653218\n",
      "When time is : 111, get best_k: 31.229098604451075 best_b: 98.58726727516463, and the loss is: 272.31792792658666\n",
      "When time is : 112, get best_k: 31.129098604451073 best_b: 98.68726727516463, and the loss is: 271.78946448785143\n",
      "When time is : 113, get best_k: 31.02909860445107 best_b: 98.78726727516462, and the loss is: 271.26100104911626\n",
      "When time is : 114, get best_k: 30.92909860445107 best_b: 98.88726727516462, and the loss is: 270.7325376103813\n",
      "When time is : 115, get best_k: 30.82909860445107 best_b: 98.98726727516461, and the loss is: 270.2040741716461\n",
      "When time is : 116, get best_k: 30.729098604451067 best_b: 99.0872672751646, and the loss is: 269.67561073291074\n",
      "When time is : 117, get best_k: 30.629098604451066 best_b: 99.1872672751646, and the loss is: 269.14714729417557\n",
      "When time is : 118, get best_k: 30.529098604451065 best_b: 99.2872672751646, and the loss is: 268.61868385544045\n",
      "When time is : 119, get best_k: 30.429098604451063 best_b: 99.38726727516459, and the loss is: 268.09022041670517\n",
      "When time is : 120, get best_k: 30.32909860445106 best_b: 99.48726727516458, and the loss is: 267.56175697797\n",
      "When time is : 121, get best_k: 30.22909860445106 best_b: 99.58726727516458, and the loss is: 267.03329353923465\n",
      "When time is : 122, get best_k: 30.12909860445106 best_b: 99.68726727516457, and the loss is: 266.50483010049925\n",
      "When time is : 123, get best_k: 30.029098604451057 best_b: 99.78726727516457, and the loss is: 265.97636666176413\n",
      "When time is : 124, get best_k: 29.929098604451056 best_b: 99.88726727516456, and the loss is: 265.44790322302913\n",
      "When time is : 125, get best_k: 29.829098604451055 best_b: 99.98726727516456, and the loss is: 264.919439784294\n",
      "When time is : 126, get best_k: 29.729098604451053 best_b: 100.08726727516455, and the loss is: 264.3909763455589\n",
      "When time is : 127, get best_k: 29.629098604451052 best_b: 100.18726727516454, and the loss is: 263.8625129068235\n",
      "When time is : 128, get best_k: 29.52909860445105 best_b: 100.28726727516454, and the loss is: 263.3340494680884\n",
      "When time is : 129, get best_k: 29.42909860445105 best_b: 100.38726727516453, and the loss is: 262.80558602935287\n",
      "When time is : 130, get best_k: 29.329098604451048 best_b: 100.48726727516453, and the loss is: 262.27712259061826\n",
      "When time is : 131, get best_k: 29.229098604451046 best_b: 100.58726727516452, and the loss is: 261.74865915188286\n",
      "When time is : 132, get best_k: 29.129098604451045 best_b: 100.68726727516452, and the loss is: 261.2201957131475\n",
      "When time is : 133, get best_k: 29.029098604451043 best_b: 100.78726727516451, and the loss is: 260.6917322744122\n",
      "When time is : 134, get best_k: 28.929098604451042 best_b: 100.8872672751645, and the loss is: 260.1632688356773\n",
      "When time is : 135, get best_k: 28.82909860445104 best_b: 100.9872672751645, and the loss is: 259.6348053969423\n",
      "When time is : 136, get best_k: 28.72909860445104 best_b: 101.08726727516449, and the loss is: 259.10634195820694\n",
      "When time is : 137, get best_k: 28.629098604451038 best_b: 101.18726727516449, and the loss is: 258.5778785194715\n",
      "When time is : 138, get best_k: 28.529098604451036 best_b: 101.28726727516448, and the loss is: 258.0494150807366\n",
      "When time is : 139, get best_k: 28.429098604451035 best_b: 101.38726727516448, and the loss is: 257.5209516420013\n",
      "When time is : 140, get best_k: 28.329098604451033 best_b: 101.48726727516447, and the loss is: 256.99248820326613\n",
      "When time is : 141, get best_k: 28.229098604451032 best_b: 101.58726727516446, and the loss is: 256.4640247645311\n",
      "When time is : 142, get best_k: 28.12909860445103 best_b: 101.68726727516446, and the loss is: 255.93556132579567\n",
      "When time is : 143, get best_k: 28.02909860445103 best_b: 101.78726727516445, and the loss is: 255.40709788706033\n",
      "When time is : 144, get best_k: 27.929098604451028 best_b: 101.88726727516445, and the loss is: 254.8786344483253\n",
      "When time is : 145, get best_k: 27.829098604451026 best_b: 101.98726727516444, and the loss is: 254.35017100959004\n",
      "When time is : 146, get best_k: 27.729098604451025 best_b: 102.08726727516444, and the loss is: 253.82170757085504\n",
      "When time is : 147, get best_k: 27.629098604451023 best_b: 102.18726727516443, and the loss is: 253.29324413211953\n",
      "When time is : 148, get best_k: 27.529098604451022 best_b: 102.28726727516442, and the loss is: 252.76478069338424\n",
      "When time is : 149, get best_k: 27.42909860445102 best_b: 102.38726727516442, and the loss is: 252.2363172546496\n",
      "When time is : 150, get best_k: 27.32909860445102 best_b: 102.48726727516441, and the loss is: 251.70785381591412\n",
      "When time is : 151, get best_k: 27.229098604451018 best_b: 102.58726727516441, and the loss is: 251.17939037717906\n",
      "When time is : 152, get best_k: 27.129098604451016 best_b: 102.6872672751644, and the loss is: 250.65092693844377\n",
      "When time is : 153, get best_k: 27.029098604451015 best_b: 102.7872672751644, and the loss is: 250.12246349970846\n",
      "When time is : 154, get best_k: 26.929098604451013 best_b: 102.88726727516439, and the loss is: 249.59400006097346\n",
      "When time is : 155, get best_k: 26.829098604451012 best_b: 102.98726727516438, and the loss is: 249.0655366222381\n",
      "When time is : 156, get best_k: 26.72909860445101 best_b: 103.08726727516438, and the loss is: 248.5370731835031\n",
      "When time is : 157, get best_k: 26.62909860445101 best_b: 103.18726727516437, and the loss is: 248.00860974476763\n",
      "When time is : 158, get best_k: 26.529098604451008 best_b: 103.28726727516437, and the loss is: 247.48014630603262\n",
      "When time is : 159, get best_k: 26.429098604451006 best_b: 103.38726727516436, and the loss is: 246.95168286729745\n",
      "When time is : 160, get best_k: 26.329098604451005 best_b: 103.48726727516436, and the loss is: 246.42321942856225\n",
      "When time is : 161, get best_k: 26.229098604451003 best_b: 103.58726727516435, and the loss is: 245.89475598982682\n",
      "When time is : 162, get best_k: 26.129098604451002 best_b: 103.68726727516434, and the loss is: 245.36629255109176\n",
      "When time is : 163, get best_k: 26.029098604451 best_b: 103.78726727516434, and the loss is: 244.83782911235667\n",
      "When time is : 164, get best_k: 25.929098604451 best_b: 103.88726727516433, and the loss is: 244.3093656736216\n",
      "When time is : 165, get best_k: 25.829098604450998 best_b: 103.98726727516433, and the loss is: 243.78090223488655\n",
      "When time is : 166, get best_k: 25.729098604450996 best_b: 104.08726727516432, and the loss is: 243.25243879615098\n",
      "When time is : 167, get best_k: 25.629098604450995 best_b: 104.18726727516432, and the loss is: 242.72397535741575\n",
      "When time is : 168, get best_k: 25.529098604450994 best_b: 104.28726727516431, and the loss is: 242.1955119186806\n",
      "When time is : 169, get best_k: 25.429098604450992 best_b: 104.3872672751643, and the loss is: 241.6670484799456\n",
      "When time is : 170, get best_k: 25.32909860445099 best_b: 104.4872672751643, and the loss is: 241.13858504121018\n",
      "When time is : 171, get best_k: 25.22909860445099 best_b: 104.5872672751643, and the loss is: 240.61012160247512\n",
      "When time is : 172, get best_k: 25.129098604450988 best_b: 104.68726727516429, and the loss is: 240.08165816374006\n",
      "When time is : 173, get best_k: 25.029098604450986 best_b: 104.78726727516428, and the loss is: 239.55319472500452\n",
      "When time is : 174, get best_k: 24.929098604450985 best_b: 104.88726727516428, and the loss is: 239.02473128626968\n",
      "When time is : 175, get best_k: 24.829098604450984 best_b: 104.98726727516427, and the loss is: 238.4962678475344\n",
      "When time is : 176, get best_k: 24.729098604450982 best_b: 105.08726727516427, and the loss is: 237.96780440879908\n",
      "When time is : 177, get best_k: 24.62909860445098 best_b: 105.18726727516426, and the loss is: 237.4393409700641\n",
      "When time is : 178, get best_k: 24.52909860445098 best_b: 105.28726727516425, and the loss is: 236.9108775313288\n",
      "When time is : 179, get best_k: 24.429098604450978 best_b: 105.38726727516425, and the loss is: 236.38241409259354\n",
      "When time is : 180, get best_k: 24.329098604450976 best_b: 105.48726727516424, and the loss is: 235.85395065385853\n",
      "When time is : 181, get best_k: 24.229098604450975 best_b: 105.58726727516424, and the loss is: 235.32548721512308\n",
      "When time is : 182, get best_k: 24.129098604450974 best_b: 105.68726727516423, and the loss is: 234.79702377638804\n",
      "When time is : 183, get best_k: 24.029098604450972 best_b: 105.78726727516423, and the loss is: 234.26856033765284\n",
      "When time is : 184, get best_k: 23.92909860445097 best_b: 105.88726727516422, and the loss is: 233.7400968989174\n",
      "When time is : 185, get best_k: 23.82909860445097 best_b: 105.98726727516421, and the loss is: 233.21163346018255\n",
      "When time is : 186, get best_k: 23.729098604450968 best_b: 106.08726727516421, and the loss is: 232.68317002144707\n",
      "When time is : 187, get best_k: 23.629098604450967 best_b: 106.1872672751642, and the loss is: 232.1547065827118\n",
      "When time is : 188, get best_k: 23.529098604450965 best_b: 106.2872672751642, and the loss is: 231.62624314397678\n",
      "When time is : 189, get best_k: 23.429098604450964 best_b: 106.38726727516419, and the loss is: 231.0977797052413\n",
      "When time is : 190, get best_k: 23.329098604450962 best_b: 106.48726727516419, and the loss is: 230.56931626650626\n",
      "When time is : 191, get best_k: 23.22909860445096 best_b: 106.58726727516418, and the loss is: 230.0408528277713\n",
      "When time is : 192, get best_k: 23.12909860445096 best_b: 106.68726727516417, and the loss is: 229.5123893890362\n",
      "When time is : 193, get best_k: 23.029098604450958 best_b: 106.78726727516417, and the loss is: 228.98392595030083\n",
      "When time is : 194, get best_k: 22.929098604450957 best_b: 106.88726727516416, and the loss is: 228.45546251156583\n",
      "When time is : 195, get best_k: 22.829098604450955 best_b: 106.98726727516416, and the loss is: 227.9269990728304\n",
      "When time is : 196, get best_k: 22.729098604450954 best_b: 107.08726727516415, and the loss is: 227.39853563409542\n",
      "When time is : 197, get best_k: 22.629098604450952 best_b: 107.18726727516415, and the loss is: 226.87007219536025\n",
      "When time is : 198, get best_k: 22.52909860445095 best_b: 107.28726727516414, and the loss is: 226.34160875662482\n",
      "When time is : 199, get best_k: 22.42909860445095 best_b: 107.38726727516413, and the loss is: 225.81314531788976\n",
      "When time is : 200, get best_k: 22.329098604450948 best_b: 107.48726727516413, and the loss is: 225.28468187915445\n",
      "When time is : 201, get best_k: 22.229098604450947 best_b: 107.58726727516412, and the loss is: 224.75621844041945\n",
      "When time is : 202, get best_k: 22.129098604450945 best_b: 107.68726727516412, and the loss is: 224.22775500168402\n",
      "When time is : 203, get best_k: 22.029098604450944 best_b: 107.78726727516411, and the loss is: 223.69929156294913\n",
      "When time is : 204, get best_k: 21.929098604450942 best_b: 107.8872672751641, and the loss is: 223.17082812421393\n",
      "When time is : 205, get best_k: 21.82909860445094 best_b: 107.9872672751641, and the loss is: 222.64236468547858\n",
      "When time is : 206, get best_k: 21.72909860445094 best_b: 108.0872672751641, and the loss is: 222.11390124674358\n",
      "When time is : 207, get best_k: 21.629098604450938 best_b: 108.18726727516409, and the loss is: 221.58543780800815\n",
      "When time is : 208, get best_k: 21.529098604450937 best_b: 108.28726727516408, and the loss is: 221.05697436927295\n",
      "When time is : 209, get best_k: 21.429098604450935 best_b: 108.38726727516408, and the loss is: 220.5285109305378\n",
      "When time is : 210, get best_k: 21.329098604450934 best_b: 108.48726727516407, and the loss is: 220.00004749180275\n",
      "When time is : 211, get best_k: 21.229098604450932 best_b: 108.58726727516407, and the loss is: 219.4715840530675\n",
      "When time is : 212, get best_k: 21.12909860445093 best_b: 108.68726727516406, and the loss is: 218.94312061433226\n",
      "When time is : 213, get best_k: 21.02909860445093 best_b: 108.78726727516406, and the loss is: 218.41465717559683\n",
      "When time is : 214, get best_k: 20.929098604450928 best_b: 108.88726727516405, and the loss is: 217.886193736862\n",
      "When time is : 215, get best_k: 20.829098604450927 best_b: 108.98726727516404, and the loss is: 217.3577302981266\n",
      "When time is : 216, get best_k: 20.729098604450925 best_b: 109.08726727516404, and the loss is: 216.8292668593917\n",
      "When time is : 217, get best_k: 20.629098604450924 best_b: 109.18726727516403, and the loss is: 216.30080342065648\n",
      "When time is : 218, get best_k: 20.529098604450922 best_b: 109.28726727516403, and the loss is: 215.77233998192125\n",
      "When time is : 219, get best_k: 20.42909860445092 best_b: 109.38726727516402, and the loss is: 215.24387654318622\n",
      "When time is : 220, get best_k: 20.32909860445092 best_b: 109.48726727516402, and the loss is: 214.71541310445076\n",
      "When time is : 221, get best_k: 20.22909860445092 best_b: 109.58726727516401, and the loss is: 214.18694966571536\n",
      "When time is : 222, get best_k: 20.129098604450917 best_b: 109.687267275164, and the loss is: 213.65848622698033\n",
      "When time is : 223, get best_k: 20.029098604450915 best_b: 109.787267275164, and the loss is: 213.13002278824518\n",
      "When time is : 224, get best_k: 19.929098604450914 best_b: 109.88726727516399, and the loss is: 212.60155934950967\n",
      "When time is : 225, get best_k: 19.829098604450913 best_b: 109.98726727516399, and the loss is: 212.07309591077473\n",
      "When time is : 226, get best_k: 19.72909860445091 best_b: 110.08726727516398, and the loss is: 211.54463247203958\n",
      "When time is : 227, get best_k: 19.62909860445091 best_b: 110.18726727516398, and the loss is: 211.0161690333042\n",
      "When time is : 228, get best_k: 19.52909860445091 best_b: 110.28726727516397, and the loss is: 210.4877055945692\n",
      "When time is : 229, get best_k: 19.429098604450907 best_b: 110.38726727516396, and the loss is: 209.9592421558338\n",
      "When time is : 230, get best_k: 19.329098604450905 best_b: 110.48726727516396, and the loss is: 209.4307787170988\n",
      "When time is : 231, get best_k: 19.229098604450904 best_b: 110.58726727516395, and the loss is: 208.9023152783632\n",
      "When time is : 232, get best_k: 19.129098604450903 best_b: 110.68726727516395, and the loss is: 208.37385183962843\n",
      "When time is : 233, get best_k: 19.0290986044509 best_b: 110.78726727516394, and the loss is: 207.84538840089294\n",
      "When time is : 234, get best_k: 18.9290986044509 best_b: 110.88726727516394, and the loss is: 207.3169249621579\n",
      "When time is : 235, get best_k: 18.8290986044509 best_b: 110.98726727516393, and the loss is: 206.78846152342288\n",
      "When time is : 236, get best_k: 18.729098604450897 best_b: 111.08726727516392, and the loss is: 206.25999808468762\n",
      "When time is : 237, get best_k: 18.629098604450895 best_b: 111.18726727516392, and the loss is: 205.73153464595248\n",
      "When time is : 238, get best_k: 18.529098604450894 best_b: 111.28726727516391, and the loss is: 205.20307120721722\n",
      "When time is : 239, get best_k: 18.429098604450893 best_b: 111.38726727516391, and the loss is: 204.67460776848202\n",
      "When time is : 240, get best_k: 18.32909860445089 best_b: 111.4872672751639, and the loss is: 204.14614432974662\n",
      "When time is : 241, get best_k: 18.22909860445089 best_b: 111.5872672751639, and the loss is: 203.61768089101164\n",
      "When time is : 242, get best_k: 18.12909860445089 best_b: 111.68726727516389, and the loss is: 203.08921745227633\n",
      "When time is : 243, get best_k: 18.029098604450887 best_b: 111.78726727516388, and the loss is: 202.56075401354116\n",
      "When time is : 244, get best_k: 17.929098604450886 best_b: 111.88726727516388, and the loss is: 202.03229057480607\n",
      "When time is : 245, get best_k: 17.829098604450884 best_b: 111.98726727516387, and the loss is: 201.50382713607087\n",
      "When time is : 246, get best_k: 17.729098604450883 best_b: 112.08726727516387, and the loss is: 200.9753636973358\n",
      "When time is : 247, get best_k: 17.62909860445088 best_b: 112.18726727516386, and the loss is: 200.44690025860038\n",
      "When time is : 248, get best_k: 17.52909860445088 best_b: 112.28726727516386, and the loss is: 199.91843681986524\n",
      "When time is : 249, get best_k: 17.42909860445088 best_b: 112.38726727516385, and the loss is: 199.38997338113018\n",
      "When time is : 250, get best_k: 17.329098604450877 best_b: 112.48726727516384, and the loss is: 198.8615099423947\n",
      "When time is : 251, get best_k: 17.229098604450876 best_b: 112.58726727516384, and the loss is: 198.33304650365986\n",
      "When time is : 252, get best_k: 17.129098604450874 best_b: 112.68726727516383, and the loss is: 197.80458306492426\n",
      "When time is : 253, get best_k: 17.029098604450873 best_b: 112.78726727516383, and the loss is: 197.2761196261893\n",
      "When time is : 254, get best_k: 16.92909860445087 best_b: 112.88726727516382, and the loss is: 196.74765618745414\n",
      "When time is : 255, get best_k: 16.82909860445087 best_b: 112.98726727516382, and the loss is: 196.2191927487188\n",
      "When time is : 256, get best_k: 16.72909860445087 best_b: 113.08726727516381, and the loss is: 195.69072930998368\n",
      "When time is : 257, get best_k: 16.629098604450867 best_b: 113.1872672751638, and the loss is: 195.16226587124874\n",
      "When time is : 258, get best_k: 16.529098604450866 best_b: 113.2872672751638, and the loss is: 194.6338024325134\n",
      "When time is : 259, get best_k: 16.429098604450864 best_b: 113.3872672751638, and the loss is: 194.10533899377828\n",
      "When time is : 260, get best_k: 16.329098604450863 best_b: 113.48726727516379, and the loss is: 193.576875555043\n",
      "When time is : 261, get best_k: 16.22909860445086 best_b: 113.58726727516378, and the loss is: 193.0484121163077\n",
      "When time is : 262, get best_k: 16.12909860445086 best_b: 113.68726727516378, and the loss is: 192.5199486775724\n",
      "When time is : 263, get best_k: 16.02909860445086 best_b: 113.78726727516377, and the loss is: 191.99148523883756\n",
      "When time is : 264, get best_k: 15.929098604450859 best_b: 113.88726727516377, and the loss is: 191.4630218001022\n",
      "When time is : 265, get best_k: 15.82909860445086 best_b: 113.98726727516376, and the loss is: 190.93455836136692\n",
      "When time is : 266, get best_k: 15.72909860445086 best_b: 114.08726727516375, and the loss is: 190.40609492263184\n",
      "When time is : 267, get best_k: 15.62909860445086 best_b: 114.18726727516375, and the loss is: 189.87763148389658\n",
      "When time is : 268, get best_k: 15.52909860445086 best_b: 114.28726727516374, and the loss is: 189.34916804516143\n",
      "When time is : 269, get best_k: 15.42909860445086 best_b: 114.38726727516374, and the loss is: 188.8207046064264\n",
      "When time is : 270, get best_k: 15.329098604450861 best_b: 114.48726727516373, and the loss is: 188.29224116769117\n",
      "When time is : 271, get best_k: 15.229098604450861 best_b: 114.58726727516373, and the loss is: 187.7637777289558\n",
      "When time is : 272, get best_k: 15.129098604450862 best_b: 114.68726727516372, and the loss is: 187.23531429022077\n",
      "When time is : 273, get best_k: 15.029098604450862 best_b: 114.78726727516371, and the loss is: 186.70685085148554\n",
      "When time is : 274, get best_k: 14.929098604450862 best_b: 114.88726727516371, and the loss is: 186.17838741275045\n",
      "When time is : 275, get best_k: 14.829098604450863 best_b: 114.9872672751637, and the loss is: 185.6499239740154\n",
      "When time is : 276, get best_k: 14.729098604450863 best_b: 115.0872672751637, and the loss is: 185.12146053527985\n",
      "When time is : 277, get best_k: 14.629098604450864 best_b: 115.18726727516369, and the loss is: 184.59299709654493\n",
      "When time is : 278, get best_k: 14.529098604450864 best_b: 115.28726727516369, and the loss is: 184.0645336578095\n",
      "When time is : 279, get best_k: 14.429098604450864 best_b: 115.38726727516368, and the loss is: 183.53607021907456\n",
      "When time is : 280, get best_k: 14.329098604450865 best_b: 115.48726727516367, and the loss is: 183.0076067803393\n",
      "When time is : 281, get best_k: 14.229098604450865 best_b: 115.58726727516367, and the loss is: 182.47914334160407\n",
      "When time is : 282, get best_k: 14.129098604450865 best_b: 115.68726727516366, and the loss is: 181.9506799028689\n",
      "When time is : 283, get best_k: 14.029098604450866 best_b: 115.78726727516366, and the loss is: 181.4222164641337\n",
      "When time is : 284, get best_k: 13.929098604450866 best_b: 115.88726727516365, and the loss is: 180.89375302539867\n",
      "When time is : 285, get best_k: 13.829098604450866 best_b: 115.98726727516365, and the loss is: 180.36528958666344\n",
      "When time is : 286, get best_k: 13.729098604450867 best_b: 116.08726727516364, and the loss is: 179.8368261479283\n",
      "When time is : 287, get best_k: 13.629098604450867 best_b: 116.18726727516363, and the loss is: 179.30836270919286\n",
      "When time is : 288, get best_k: 13.529098604450867 best_b: 116.28726727516363, and the loss is: 178.77989927045795\n",
      "When time is : 289, get best_k: 13.429098604450868 best_b: 116.38726727516362, and the loss is: 178.25143583172263\n",
      "When time is : 290, get best_k: 13.329098604450868 best_b: 116.48726727516362, and the loss is: 177.7229723929876\n",
      "When time is : 291, get best_k: 13.229098604450868 best_b: 116.58726727516361, and the loss is: 177.19450895425226\n",
      "When time is : 292, get best_k: 13.129098604450869 best_b: 116.6872672751636, and the loss is: 176.66604551551717\n",
      "When time is : 293, get best_k: 13.02909860445087 best_b: 116.7872672751636, and the loss is: 176.13758207678197\n",
      "When time is : 294, get best_k: 12.92909860445087 best_b: 116.8872672751636, and the loss is: 175.60911863804702\n",
      "When time is : 295, get best_k: 12.82909860445087 best_b: 116.98726727516359, and the loss is: 175.08065519931156\n",
      "When time is : 296, get best_k: 12.72909860445087 best_b: 117.08726727516358, and the loss is: 174.55219176057645\n",
      "When time is : 297, get best_k: 12.62909860445087 best_b: 117.18726727516358, and the loss is: 174.0237283218414\n",
      "When time is : 298, get best_k: 12.529098604450871 best_b: 117.28726727516357, and the loss is: 173.49526488310593\n",
      "When time is : 299, get best_k: 12.429098604450871 best_b: 117.38726727516357, and the loss is: 172.96680144437084\n",
      "When time is : 300, get best_k: 12.329098604450872 best_b: 117.48726727516356, and the loss is: 172.4383380056356\n",
      "When time is : 301, get best_k: 12.229098604450872 best_b: 117.58726727516355, and the loss is: 171.9098745669005\n",
      "When time is : 302, get best_k: 12.129098604450872 best_b: 117.68726727516355, and the loss is: 171.3814111281654\n",
      "When time is : 303, get best_k: 12.029098604450873 best_b: 117.78726727516354, and the loss is: 170.85294768943004\n",
      "When time is : 304, get best_k: 11.929098604450873 best_b: 117.88726727516354, and the loss is: 170.3244842506949\n",
      "When time is : 305, get best_k: 11.829098604450873 best_b: 117.98726727516353, and the loss is: 169.79602081195964\n",
      "When time is : 306, get best_k: 11.729098604450874 best_b: 118.08726727516353, and the loss is: 169.2675573732247\n",
      "When time is : 307, get best_k: 11.629098604450874 best_b: 118.18726727516352, and the loss is: 168.73909393448943\n",
      "When time is : 308, get best_k: 11.529098604450875 best_b: 118.28726727516352, and the loss is: 168.21063049575423\n",
      "When time is : 309, get best_k: 11.429098604450875 best_b: 118.38726727516351, and the loss is: 167.68216705701903\n",
      "When time is : 310, get best_k: 11.329098604450875 best_b: 118.4872672751635, and the loss is: 167.15370361828377\n",
      "When time is : 311, get best_k: 11.229098604450876 best_b: 118.5872672751635, and the loss is: 166.6252401795487\n",
      "When time is : 312, get best_k: 11.129098604450876 best_b: 118.68726727516349, and the loss is: 166.09677674081365\n",
      "When time is : 313, get best_k: 11.029098604450876 best_b: 118.78726727516349, and the loss is: 165.5683133020785\n",
      "When time is : 314, get best_k: 10.929098604450877 best_b: 118.88726727516348, and the loss is: 165.03984986334308\n",
      "When time is : 315, get best_k: 10.829098604450877 best_b: 118.98726727516348, and the loss is: 164.51138642460788\n",
      "When time is : 316, get best_k: 10.729098604450877 best_b: 119.08726727516347, and the loss is: 163.98292298587262\n",
      "When time is : 317, get best_k: 10.629098604450878 best_b: 119.18726727516346, and the loss is: 163.45445954713762\n",
      "When time is : 318, get best_k: 10.529098604450878 best_b: 119.28726727516346, and the loss is: 162.9259961084023\n",
      "When time is : 319, get best_k: 10.429098604450878 best_b: 119.38726727516345, and the loss is: 162.3975326696673\n",
      "When time is : 320, get best_k: 10.329098604450879 best_b: 119.48726727516345, and the loss is: 161.86906923093187\n",
      "When time is : 321, get best_k: 10.22909860445088 best_b: 119.58726727516344, and the loss is: 161.3406057921969\n",
      "When time is : 322, get best_k: 10.12909860445088 best_b: 119.68726727516344, and the loss is: 160.8121423534616\n",
      "When time is : 323, get best_k: 10.02909860445088 best_b: 119.78726727516343, and the loss is: 160.28367891472652\n",
      "When time is : 324, get best_k: 9.92909860445088 best_b: 119.88726727516342, and the loss is: 159.7552154759914\n",
      "When time is : 325, get best_k: 9.82909860445088 best_b: 119.98726727516342, and the loss is: 159.22675203725606\n",
      "When time is : 326, get best_k: 9.729098604450881 best_b: 120.08726727516341, and the loss is: 158.69828859852072\n",
      "When time is : 327, get best_k: 9.629098604450881 best_b: 120.1872672751634, and the loss is: 158.16982515978577\n",
      "When time is : 328, get best_k: 9.529098604450882 best_b: 120.2872672751634, and the loss is: 157.64136172105057\n",
      "When time is : 329, get best_k: 9.429098604450882 best_b: 120.3872672751634, and the loss is: 157.11289828231534\n",
      "When time is : 330, get best_k: 9.329098604450882 best_b: 120.48726727516339, and the loss is: 156.5844348435803\n",
      "When time is : 331, get best_k: 9.229098604450883 best_b: 120.58726727516338, and the loss is: 156.05597140484494\n",
      "When time is : 332, get best_k: 9.129098604450883 best_b: 120.68726727516338, and the loss is: 155.52750796610982\n",
      "When time is : 333, get best_k: 9.029098604450883 best_b: 120.78726727516337, and the loss is: 154.9990445273746\n",
      "When time is : 334, get best_k: 8.929098604450884 best_b: 120.88726727516337, and the loss is: 154.47058108863956\n",
      "When time is : 335, get best_k: 8.829098604450884 best_b: 120.98726727516336, and the loss is: 153.94211764990425\n",
      "When time is : 336, get best_k: 8.729098604450884 best_b: 121.08726727516336, and the loss is: 153.41365421116913\n",
      "When time is : 337, get best_k: 8.629098604450885 best_b: 121.18726727516335, and the loss is: 152.88519077243402\n",
      "When time is : 338, get best_k: 8.529098604450885 best_b: 121.28726727516334, and the loss is: 152.35672733369879\n",
      "When time is : 339, get best_k: 8.429098604450886 best_b: 121.38726727516334, and the loss is: 151.8282638949637\n",
      "When time is : 340, get best_k: 8.329098604450886 best_b: 121.48726727516333, and the loss is: 151.29980045622855\n",
      "When time is : 341, get best_k: 8.229098604450886 best_b: 121.58726727516333, and the loss is: 150.77133701749315\n",
      "When time is : 342, get best_k: 8.129098604450887 best_b: 121.68726727516332, and the loss is: 150.24287357875804\n",
      "When time is : 343, get best_k: 8.029098604450887 best_b: 121.78726727516332, and the loss is: 149.71441014002315\n",
      "When time is : 344, get best_k: 7.929098604450887 best_b: 121.88726727516331, and the loss is: 149.1859467012876\n",
      "When time is : 345, get best_k: 7.829098604450888 best_b: 121.9872672751633, and the loss is: 148.65748326255257\n",
      "When time is : 346, get best_k: 7.729098604450888 best_b: 122.0872672751633, and the loss is: 148.1290198238173\n",
      "When time is : 347, get best_k: 7.629098604450888 best_b: 122.1872672751633, and the loss is: 147.60055638508223\n",
      "When time is : 348, get best_k: 7.529098604450889 best_b: 122.28726727516329, and the loss is: 147.07209294634688\n",
      "When time is : 349, get best_k: 7.429098604450889 best_b: 122.38726727516328, and the loss is: 146.54362950761188\n",
      "When time is : 350, get best_k: 7.3290986044508895 best_b: 122.48726727516328, and the loss is: 146.01516606887657\n",
      "When time is : 351, get best_k: 7.22909860445089 best_b: 122.58726727516327, and the loss is: 145.48670263014154\n",
      "When time is : 352, get best_k: 7.12909860445089 best_b: 122.68726727516326, and the loss is: 144.9582391914063\n",
      "When time is : 353, get best_k: 7.0290986044508905 best_b: 122.78726727516326, and the loss is: 144.42977575267116\n",
      "When time is : 354, get best_k: 6.929098604450891 best_b: 122.88726727516325, and the loss is: 143.90131231393585\n",
      "When time is : 355, get best_k: 6.829098604450891 best_b: 122.98726727516325, and the loss is: 143.3728488752006\n",
      "When time is : 356, get best_k: 6.729098604450892 best_b: 123.08726727516324, and the loss is: 142.8443854364655\n",
      "When time is : 357, get best_k: 6.629098604450892 best_b: 123.18726727516324, and the loss is: 142.31592199773036\n",
      "When time is : 358, get best_k: 6.529098604450892 best_b: 123.28726727516323, and the loss is: 141.78745855899527\n",
      "When time is : 359, get best_k: 6.429098604450893 best_b: 123.38726727516323, and the loss is: 141.25899512026015\n",
      "When time is : 360, get best_k: 6.329098604450893 best_b: 123.48726727516322, and the loss is: 140.7305316815247\n",
      "When time is : 361, get best_k: 6.229098604450893 best_b: 123.58726727516321, and the loss is: 140.20206824278958\n",
      "When time is : 362, get best_k: 6.129098604450894 best_b: 123.68726727516321, and the loss is: 139.67360480405432\n",
      "When time is : 363, get best_k: 6.029098604450894 best_b: 123.7872672751632, and the loss is: 139.14514136531935\n",
      "When time is : 364, get best_k: 5.929098604450894 best_b: 123.8872672751632, and the loss is: 138.61667792658403\n",
      "When time is : 365, get best_k: 5.829098604450895 best_b: 123.98726727516319, and the loss is: 138.08821448784877\n",
      "When time is : 366, get best_k: 5.729098604450895 best_b: 124.08726727516319, and the loss is: 137.55975104911363\n",
      "When time is : 367, get best_k: 5.6290986044508955 best_b: 124.18726727516318, and the loss is: 137.03128761037854\n",
      "When time is : 368, get best_k: 5.529098604450896 best_b: 124.28726727516317, and the loss is: 136.5028241716433\n",
      "When time is : 369, get best_k: 5.429098604450896 best_b: 124.38726727516317, and the loss is: 135.97436073290808\n",
      "When time is : 370, get best_k: 5.329098604450897 best_b: 124.48726727516316, and the loss is: 135.44589729417308\n",
      "When time is : 371, get best_k: 5.229098604450897 best_b: 124.58726727516316, and the loss is: 134.9174338554377\n",
      "When time is : 372, get best_k: 5.129098604450897 best_b: 124.68726727516315, and the loss is: 134.38897041670248\n",
      "When time is : 373, get best_k: 5.029098604450898 best_b: 124.78726727516315, and the loss is: 133.86050697796747\n",
      "When time is : 374, get best_k: 4.929098604450898 best_b: 124.88726727516314, and the loss is: 133.3320435392323\n",
      "When time is : 375, get best_k: 4.829098604450898 best_b: 124.98726727516313, and the loss is: 132.80358010049702\n",
      "When time is : 376, get best_k: 4.729098604450899 best_b: 125.08726727516313, and the loss is: 132.27511666176196\n",
      "When time is : 377, get best_k: 4.629098604450899 best_b: 125.18726727516312, and the loss is: 131.7466532230266\n",
      "When time is : 378, get best_k: 4.529098604450899 best_b: 125.28726727516312, and the loss is: 131.21818978429155\n",
      "When time is : 379, get best_k: 4.4290986044509 best_b: 125.38726727516311, and the loss is: 130.68972634555635\n",
      "When time is : 380, get best_k: 4.3290986044509 best_b: 125.4872672751631, and the loss is: 130.1612629068211\n",
      "When time is : 381, get best_k: 4.2290986044509005 best_b: 125.5872672751631, and the loss is: 129.632799468086\n",
      "When time is : 382, get best_k: 4.129098604450901 best_b: 125.6872672751631, and the loss is: 129.1043360293508\n",
      "When time is : 383, get best_k: 4.029098604450901 best_b: 125.78726727516309, and the loss is: 128.57587259061572\n",
      "When time is : 384, get best_k: 3.929098604450901 best_b: 125.88726727516308, and the loss is: 128.04740915188037\n",
      "When time is : 385, get best_k: 3.829098604450901 best_b: 125.98726727516308, and the loss is: 127.5189457131452\n",
      "When time is : 386, get best_k: 3.729098604450901 best_b: 126.08726727516307, and the loss is: 126.99048227440996\n",
      "When time is : 387, get best_k: 3.629098604450901 best_b: 126.18726727516307, and the loss is: 126.46201883567473\n",
      "When time is : 388, get best_k: 3.5290986044509007 best_b: 126.28726727516306, and the loss is: 125.9335553969396\n",
      "When time is : 389, get best_k: 3.4290986044509006 best_b: 126.38726727516305, and the loss is: 125.40509195820441\n",
      "When time is : 390, get best_k: 3.3290986044509006 best_b: 126.48726727516305, and the loss is: 124.87662851946926\n",
      "When time is : 391, get best_k: 3.2290986044509005 best_b: 126.58726727516304, and the loss is: 124.34816508073416\n",
      "When time is : 392, get best_k: 3.1290986044509004 best_b: 126.68726727516304, and the loss is: 123.81970164199902\n",
      "When time is : 393, get best_k: 3.0290986044509003 best_b: 126.78726727516303, and the loss is: 123.29123820326376\n",
      "When time is : 394, get best_k: 2.9290986044509 best_b: 126.88726727516303, and the loss is: 122.7627747645287\n",
      "When time is : 395, get best_k: 2.8290986044509 best_b: 126.98726727516302, and the loss is: 122.23431132579344\n",
      "When time is : 396, get best_k: 2.7290986044509 best_b: 127.08726727516301, and the loss is: 121.70584788705821\n",
      "When time is : 397, get best_k: 2.6290986044509 best_b: 127.18726727516301, and the loss is: 121.17738444832305\n",
      "When time is : 398, get best_k: 2.5290986044509 best_b: 127.287267275163, and the loss is: 120.64892100958775\n",
      "When time is : 399, get best_k: 2.4290986044508998 best_b: 127.387267275163, and the loss is: 120.1204575708527\n",
      "When time is : 400, get best_k: 2.3290986044508997 best_b: 127.48726727516299, and the loss is: 119.59199413211742\n",
      "When time is : 401, get best_k: 2.2290986044508996 best_b: 127.58726727516299, and the loss is: 119.06353069338232\n",
      "When time is : 402, get best_k: 2.1290986044508995 best_b: 127.68726727516298, and the loss is: 118.53506725464707\n",
      "When time is : 403, get best_k: 2.0290986044508994 best_b: 127.78726727516298, and the loss is: 118.00660381591194\n",
      "When time is : 404, get best_k: 1.9290986044508993 best_b: 127.88726727516297, and the loss is: 117.47814037717686\n",
      "When time is : 405, get best_k: 1.8290986044508992 best_b: 127.98726727516296, and the loss is: 116.94967693844156\n",
      "When time is : 406, get best_k: 1.7290986044508991 best_b: 128.08726727516296, and the loss is: 116.42121349970637\n",
      "When time is : 407, get best_k: 1.629098604450899 best_b: 128.18726727516295, and the loss is: 115.89275006097115\n",
      "When time is : 408, get best_k: 1.529098604450899 best_b: 128.28726727516295, and the loss is: 115.36428662223615\n",
      "When time is : 409, get best_k: 1.4290986044508989 best_b: 128.38726727516294, and the loss is: 114.83582318350086\n",
      "When time is : 410, get best_k: 1.3290986044508988 best_b: 128.48726727516294, and the loss is: 114.30735974476576\n",
      "When time is : 411, get best_k: 1.2290986044508987 best_b: 128.58726727516293, and the loss is: 113.77889630603032\n",
      "When time is : 412, get best_k: 1.1290986044508986 best_b: 128.68726727516292, and the loss is: 113.25043286729529\n",
      "When time is : 413, get best_k: 1.0290986044508985 best_b: 128.78726727516292, and the loss is: 112.72196942856026\n",
      "When time is : 414, get best_k: 0.9290986044508985 best_b: 128.8872672751629, and the loss is: 112.19350598982489\n",
      "When time is : 415, get best_k: 0.8290986044508986 best_b: 128.9872672751629, and the loss is: 111.6650425510898\n",
      "When time is : 416, get best_k: 0.7290986044508986 best_b: 129.0872672751629, and the loss is: 111.13657911235461\n",
      "When time is : 417, get best_k: 0.6290986044508986 best_b: 129.1872672751629, and the loss is: 110.60811567361938\n",
      "When time is : 418, get best_k: 0.5290986044508986 best_b: 129.2872672751629, and the loss is: 110.0796522348843\n",
      "When time is : 419, get best_k: 0.42909860445089865 best_b: 129.38726727516288, and the loss is: 109.551188796149\n",
      "When time is : 420, get best_k: 0.32909860445089867 best_b: 129.48726727516288, and the loss is: 109.02272535741369\n",
      "When time is : 421, get best_k: 0.22909860445089866 best_b: 129.58726727516287, and the loss is: 108.49426191867866\n",
      "When time is : 422, get best_k: 0.12909860445089866 best_b: 129.68726727516287, and the loss is: 107.96579847994346\n",
      "When time is : 423, get best_k: 0.029098604450898652 best_b: 129.78726727516286, and the loss is: 107.4373350412082\n",
      "When time is : 424, get best_k: -0.07090139554910135 best_b: 129.88726727516286, and the loss is: 106.90887160247314\n",
      "When time is : 425, get best_k: -0.17090139554910136 best_b: 129.98726727516285, and the loss is: 106.38040816373785\n",
      "When time is : 426, get best_k: -0.27090139554910136 best_b: 130.08726727516284, and the loss is: 105.85194472500265\n",
      "When time is : 427, get best_k: -0.3709013955491014 best_b: 130.18726727516284, and the loss is: 105.32348128626752\n",
      "When time is : 428, get best_k: -0.4709013955491014 best_b: 130.28726727516283, and the loss is: 104.79501784753225\n",
      "When time is : 429, get best_k: -0.5709013955491014 best_b: 130.38726727516283, and the loss is: 104.26655440879732\n",
      "When time is : 430, get best_k: -0.6709013955491013 best_b: 130.48726727516282, and the loss is: 103.73809097006186\n",
      "When time is : 431, get best_k: -0.7709013955491013 best_b: 130.58726727516282, and the loss is: 103.20962753132669\n",
      "When time is : 432, get best_k: -0.8709013955491013 best_b: 130.6872672751628, and the loss is: 102.68116409259157\n",
      "When time is : 433, get best_k: -0.9709013955491013 best_b: 130.7872672751628, and the loss is: 102.15270065385633\n",
      "When time is : 434, get best_k: -1.0709013955491014 best_b: 130.8872672751628, and the loss is: 101.62423721512114\n",
      "When time is : 435, get best_k: -1.1709013955491014 best_b: 130.9872672751628, and the loss is: 101.09577377638601\n",
      "When time is : 436, get best_k: -1.2709013955491015 best_b: 131.0872672751628, and the loss is: 100.56731033765078\n",
      "When time is : 437, get best_k: -1.3709013955491016 best_b: 131.18726727516278, and the loss is: 100.03884689891571\n",
      "When time is : 438, get best_k: -1.4709013955491017 best_b: 131.28726727516278, and the loss is: 99.51038346018046\n",
      "When time is : 439, get best_k: -1.5709013955491018 best_b: 131.38726727516277, and the loss is: 98.98192002144529\n",
      "When time is : 440, get best_k: -1.6709013955491019 best_b: 131.48726727516276, and the loss is: 98.4534565827101\n",
      "When time is : 441, get best_k: -1.770901395549102 best_b: 131.58726727516276, and the loss is: 97.92499314397503\n",
      "When time is : 442, get best_k: -1.870901395549102 best_b: 131.68726727516275, and the loss is: 97.3965297052397\n",
      "When time is : 443, get best_k: -1.9709013955491022 best_b: 131.78726727516275, and the loss is: 96.86806626650454\n",
      "When time is : 444, get best_k: -2.070901395549102 best_b: 131.88726727516274, and the loss is: 96.3396028277694\n",
      "When time is : 445, get best_k: -2.170901395549102 best_b: 131.98726727516274, and the loss is: 95.81113938903425\n",
      "When time is : 446, get best_k: -2.270901395549102 best_b: 132.08726727516273, and the loss is: 95.2826759502989\n",
      "When time is : 447, get best_k: -2.3709013955491023 best_b: 132.18726727516272, and the loss is: 94.75421251156378\n",
      "When time is : 448, get best_k: -2.4709013955491024 best_b: 132.28726727516272, and the loss is: 94.22574907282866\n",
      "When time is : 449, get best_k: -2.5709013955491025 best_b: 132.3872672751627, and the loss is: 93.69728563409346\n",
      "When time is : 450, get best_k: -2.6709013955491026 best_b: 132.4872672751627, and the loss is: 93.16882219535832\n",
      "When time is : 451, get best_k: -2.7709013955491026 best_b: 132.5872672751627, and the loss is: 92.64035875662302\n",
      "When time is : 452, get best_k: -2.8709013955491027 best_b: 132.6872672751627, and the loss is: 92.11189531788787\n",
      "When time is : 453, get best_k: -2.970901395549103 best_b: 132.7872672751627, and the loss is: 91.58343187915261\n",
      "When time is : 454, get best_k: -3.070901395549103 best_b: 132.88726727516269, and the loss is: 91.05496844041761\n",
      "When time is : 455, get best_k: -3.170901395549103 best_b: 132.98726727516268, and the loss is: 90.52650500168235\n",
      "When time is : 456, get best_k: -3.270901395549103 best_b: 133.08726727516267, and the loss is: 89.99804156294717\n",
      "When time is : 457, get best_k: -3.370901395549103 best_b: 133.18726727516267, and the loss is: 89.46957812421203\n",
      "When time is : 458, get best_k: -3.4709013955491033 best_b: 133.28726727516266, and the loss is: 88.94111468547689\n",
      "When time is : 459, get best_k: -3.5709013955491034 best_b: 133.38726727516266, and the loss is: 88.41265124674159\n",
      "When time is : 460, get best_k: -3.6709013955491034 best_b: 133.48726727516265, and the loss is: 87.8841878080065\n",
      "When time is : 461, get best_k: -3.7709013955491035 best_b: 133.58726727516265, and the loss is: 87.35572436927129\n",
      "When time is : 462, get best_k: -3.8709013955491036 best_b: 133.68726727516264, and the loss is: 86.82726093053614\n",
      "When time is : 463, get best_k: -3.9709013955491037 best_b: 133.78726727516263, and the loss is: 86.29879749180087\n",
      "When time is : 464, get best_k: -4.070901395549104 best_b: 133.88726727516263, and the loss is: 85.7703340530658\n",
      "When time is : 465, get best_k: -4.170901395549103 best_b: 133.98726727516262, and the loss is: 85.24187061433055\n",
      "When time is : 466, get best_k: -4.270901395549103 best_b: 134.08726727516262, and the loss is: 84.71340717559535\n",
      "When time is : 467, get best_k: -4.370901395549103 best_b: 134.1872672751626, and the loss is: 84.18494373686022\n",
      "When time is : 468, get best_k: -4.470901395549102 best_b: 134.2872672751626, and the loss is: 83.65648029812492\n",
      "When time is : 469, get best_k: -4.570901395549102 best_b: 134.3872672751626, and the loss is: 83.12801685938976\n",
      "When time is : 470, get best_k: -4.670901395549102 best_b: 134.4872672751626, and the loss is: 82.5995534206547\n",
      "When time is : 471, get best_k: -4.770901395549101 best_b: 134.5872672751626, and the loss is: 82.0710899819195\n",
      "When time is : 472, get best_k: -4.870901395549101 best_b: 134.68726727516258, and the loss is: 81.54262654318434\n",
      "When time is : 473, get best_k: -4.970901395549101 best_b: 134.78726727516258, and the loss is: 81.01416310444908\n",
      "When time is : 474, get best_k: -5.0709013955491 best_b: 134.88726727516257, and the loss is: 80.48569966571387\n",
      "When time is : 475, get best_k: -5.1709013955491 best_b: 134.98726727516257, and the loss is: 79.95723622697865\n",
      "When time is : 476, get best_k: -5.2709013955490995 best_b: 135.08726727516256, and the loss is: 79.42877278824346\n",
      "When time is : 477, get best_k: -5.370901395549099 best_b: 135.18726727516255, and the loss is: 78.90030934950825\n",
      "When time is : 478, get best_k: -5.470901395549099 best_b: 135.28726727516255, and the loss is: 78.37184591077308\n",
      "When time is : 479, get best_k: -5.5709013955490985 best_b: 135.38726727516254, and the loss is: 77.84338247203803\n",
      "When time is : 480, get best_k: -5.670901395549098 best_b: 135.48726727516254, and the loss is: 77.31491903330284\n",
      "When time is : 481, get best_k: -5.770901395549098 best_b: 135.58726727516253, and the loss is: 76.78645559456756\n",
      "When time is : 482, get best_k: -5.870901395549097 best_b: 135.68726727516253, and the loss is: 76.2579921558324\n",
      "When time is : 483, get best_k: -5.970901395549097 best_b: 135.78726727516252, and the loss is: 75.72952871709727\n",
      "When time is : 484, get best_k: -6.070901395549097 best_b: 135.88726727516251, and the loss is: 75.20106527836212\n",
      "When time is : 485, get best_k: -6.170901395549096 best_b: 135.9872672751625, and the loss is: 74.67260183962696\n",
      "When time is : 486, get best_k: -6.270901395549096 best_b: 136.0872672751625, and the loss is: 74.14413840089175\n",
      "When time is : 487, get best_k: -6.370901395549096 best_b: 136.1872672751625, and the loss is: 73.61567496215659\n",
      "When time is : 488, get best_k: -6.470901395549095 best_b: 136.2872672751625, and the loss is: 73.08721152342133\n",
      "When time is : 489, get best_k: -6.570901395549095 best_b: 136.3872672751625, and the loss is: 72.55874808468613\n",
      "When time is : 490, get best_k: -6.670901395549095 best_b: 136.48726727516248, and the loss is: 72.03028464595106\n",
      "When time is : 491, get best_k: -6.770901395549094 best_b: 136.58726727516247, and the loss is: 71.50182120721587\n",
      "When time is : 492, get best_k: -6.870901395549094 best_b: 136.68726727516247, and the loss is: 70.97335776848075\n",
      "When time is : 493, get best_k: -6.9709013955490935 best_b: 136.78726727516246, and the loss is: 70.44489432974538\n",
      "When time is : 494, get best_k: -7.070901395549093 best_b: 136.88726727516246, and the loss is: 69.91643089101025\n",
      "When time is : 495, get best_k: -7.170901395549093 best_b: 136.98726727516245, and the loss is: 69.38796745227516\n",
      "When time is : 496, get best_k: -7.270901395549092 best_b: 137.08726727516245, and the loss is: 68.8595040135399\n",
      "When time is : 497, get best_k: -7.370901395549092 best_b: 137.18726727516244, and the loss is: 68.33104057480477\n",
      "When time is : 498, get best_k: -7.470901395549092 best_b: 137.28726727516243, and the loss is: 67.80257713606952\n",
      "When time is : 499, get best_k: -7.570901395549091 best_b: 137.38726727516243, and the loss is: 67.27411369733431\n",
      "When time is : 500, get best_k: -7.670901395549091 best_b: 137.48726727516242, and the loss is: 66.74565025859914\n",
      "When time is : 501, get best_k: -7.770901395549091 best_b: 137.58726727516242, and the loss is: 66.217186819864\n",
      "When time is : 502, get best_k: -7.87090139554909 best_b: 137.6872672751624, and the loss is: 65.68872338112882\n",
      "When time is : 503, get best_k: -7.97090139554909 best_b: 137.7872672751624, and the loss is: 65.16025994239367\n",
      "When time is : 504, get best_k: -8.07090139554909 best_b: 137.8872672751624, and the loss is: 64.63179650365842\n",
      "When time is : 505, get best_k: -8.17090139554909 best_b: 137.9872672751624, and the loss is: 64.10333306492326\n",
      "When time is : 506, get best_k: -8.270901395549089 best_b: 138.0872672751624, and the loss is: 63.574869626188104\n",
      "When time is : 507, get best_k: -8.370901395549089 best_b: 138.18726727516238, and the loss is: 63.04640618745283\n",
      "When time is : 508, get best_k: -8.470901395549088 best_b: 138.28726727516238, and the loss is: 62.51794274871777\n",
      "When time is : 509, get best_k: -8.570901395549088 best_b: 138.38726727516237, and the loss is: 61.9894793099826\n",
      "When time is : 510, get best_k: -8.670901395549087 best_b: 138.48726727516237, and the loss is: 61.46101587124735\n",
      "When time is : 511, get best_k: -8.770901395549087 best_b: 138.58726727516236, and the loss is: 60.9325524325122\n",
      "When time is : 512, get best_k: -8.870901395549087 best_b: 138.68726727516236, and the loss is: 60.40408899377703\n",
      "When time is : 513, get best_k: -8.970901395549086 best_b: 138.78726727516235, and the loss is: 59.8756255550418\n",
      "When time is : 514, get best_k: -9.070901395549086 best_b: 138.88726727516234, and the loss is: 59.34716211630664\n",
      "When time is : 515, get best_k: -9.170901395549086 best_b: 138.98726727516234, and the loss is: 58.818698677571504\n",
      "When time is : 516, get best_k: -9.270901395549085 best_b: 139.08726727516233, and the loss is: 58.29023523883624\n",
      "When time is : 517, get best_k: -9.370901395549085 best_b: 139.18726727516233, and the loss is: 57.761771800101066\n",
      "When time is : 518, get best_k: -9.470901395549085 best_b: 139.28726727516232, and the loss is: 57.233308361365964\n",
      "When time is : 519, get best_k: -9.570901395549084 best_b: 139.38726727516232, and the loss is: 56.7048449226307\n",
      "When time is : 520, get best_k: -9.670901395549084 best_b: 139.4872672751623, and the loss is: 56.176381483895504\n",
      "When time is : 521, get best_k: -9.770901395549084 best_b: 139.5872672751623, and the loss is: 55.6479180451603\n",
      "When time is : 522, get best_k: -9.870901395549083 best_b: 139.6872672751623, and the loss is: 55.119454606425265\n",
      "When time is : 523, get best_k: -9.970901395549083 best_b: 139.7872672751623, and the loss is: 54.59099116769001\n",
      "When time is : 524, get best_k: -10.070901395549082 best_b: 139.8872672751623, and the loss is: 54.06252772895479\n",
      "When time is : 525, get best_k: -10.170901395549082 best_b: 139.98726727516228, and the loss is: 53.53406429021961\n",
      "When time is : 526, get best_k: -10.270901395549082 best_b: 140.08726727516228, and the loss is: 53.00560085148445\n",
      "When time is : 527, get best_k: -10.370901395549081 best_b: 140.18726727516227, and the loss is: 52.47863901698925\n",
      "When time is : 528, get best_k: -10.470901395549081 best_b: 140.28726727516226, and the loss is: 51.95627399722634\n",
      "When time is : 529, get best_k: -10.57090139554908 best_b: 140.38726727516226, and the loss is: 51.43390897746348\n",
      "When time is : 530, get best_k: -10.67090139554908 best_b: 140.48726727516225, and the loss is: 50.9115439577007\n",
      "When time is : 531, get best_k: -10.77090139554908 best_b: 140.58726727516225, and the loss is: 50.38917893793781\n",
      "When time is : 532, get best_k: -10.87090139554908 best_b: 140.68726727516224, and the loss is: 49.86822313522065\n",
      "When time is : 533, get best_k: -10.97090139554908 best_b: 140.78726727516224, and the loss is: 49.35029354726956\n",
      "When time is : 534, get best_k: -11.070901395549079 best_b: 140.88726727516223, and the loss is: 48.836651847664825\n",
      "When time is : 535, get best_k: -11.170901395549079 best_b: 140.98726727516222, and the loss is: 48.323010148060085\n",
      "When time is : 536, get best_k: -11.270901395549078 best_b: 141.08726727516222, and the loss is: 47.81001610273962\n",
      "When time is : 537, get best_k: -11.370901395549078 best_b: 141.1872672751622, and the loss is: 47.29989714833915\n",
      "When time is : 538, get best_k: -11.470901395549078 best_b: 141.2872672751622, and the loss is: 46.79190011276604\n",
      "When time is : 539, get best_k: -11.570901395549077 best_b: 141.3872672751622, and the loss is: 46.28646194822814\n",
      "When time is : 540, get best_k: -11.670901395549077 best_b: 141.4872672751622, and the loss is: 45.78560436409685\n",
      "When time is : 541, get best_k: -11.770901395549076 best_b: 141.5872672751622, and the loss is: 45.291139623491055\n",
      "When time is : 542, get best_k: -11.870901395549076 best_b: 141.68726727516218, and the loss is: 44.799733581530965\n",
      "When time is : 543, get best_k: -11.970901395549076 best_b: 141.78726727516218, and the loss is: 44.31089820603688\n",
      "When time is : 544, get best_k: -12.070901395549075 best_b: 141.88726727516217, and the loss is: 43.82622941161079\n",
      "When time is : 545, get best_k: -12.170901395549075 best_b: 141.98726727516217, and the loss is: 43.34316320607722\n",
      "When time is : 546, get best_k: -12.270901395549075 best_b: 142.08726727516216, and the loss is: 42.860097000543604\n",
      "When time is : 547, get best_k: -12.370901395549074 best_b: 142.18726727516216, and the loss is: 42.378842705192234\n",
      "When time is : 548, get best_k: -12.470901395549074 best_b: 142.28726727516215, and the loss is: 41.90189571898296\n",
      "When time is : 549, get best_k: -12.570901395549074 best_b: 142.38726727516215, and the loss is: 41.42673267550472\n",
      "When time is : 550, get best_k: -12.670901395549073 best_b: 142.48726727516214, and the loss is: 40.95465641278475\n",
      "When time is : 551, get best_k: -12.770901395549073 best_b: 142.58726727516213, and the loss is: 40.48481550369384\n",
      "When time is : 552, get best_k: -12.870901395549073 best_b: 142.68726727516213, and the loss is: 40.01497459460289\n",
      "When time is : 553, get best_k: -12.970901395549072 best_b: 142.78726727516212, and the loss is: 39.54740616015835\n",
      "When time is : 554, get best_k: -13.070901395549072 best_b: 142.88726727516212, and the loss is: 39.0803593222137\n",
      "When time is : 555, get best_k: -13.170901395549071 best_b: 142.9872672751621, and the loss is: 38.61531556705577\n",
      "When time is : 556, get best_k: -13.270901395549071 best_b: 143.0872672751621, and the loss is: 38.151943311170264\n",
      "When time is : 557, get best_k: -13.37090139554907 best_b: 143.1872672751621, and the loss is: 37.69888497582441\n",
      "When time is : 558, get best_k: -13.47090139554907 best_b: 143.2872672751621, and the loss is: 37.24997054894695\n",
      "When time is : 559, get best_k: -13.57090139554907 best_b: 143.3872672751621, and the loss is: 36.801056122069504\n",
      "When time is : 560, get best_k: -13.67090139554907 best_b: 143.48726727516208, and the loss is: 36.35214169519195\n",
      "When time is : 561, get best_k: -13.77090139554907 best_b: 143.58726727516208, and the loss is: 35.903227268314524\n",
      "When time is : 562, get best_k: -13.870901395549069 best_b: 143.68726727516207, and the loss is: 35.45431284143701\n",
      "When time is : 563, get best_k: -13.970901395549069 best_b: 143.78726727516207, and the loss is: 35.00847053700133\n",
      "When time is : 564, get best_k: -14.070901395549068 best_b: 143.88726727516206, and the loss is: 34.56321842929892\n",
      "When time is : 565, get best_k: -14.170901395549068 best_b: 143.98726727516205, and the loss is: 34.120420347709995\n",
      "When time is : 566, get best_k: -14.270901395549068 best_b: 144.08726727516205, and the loss is: 33.679471928737684\n",
      "When time is : 567, get best_k: -14.370901395549067 best_b: 144.18726727516204, and the loss is: 33.23852350976529\n",
      "When time is : 568, get best_k: -14.470901395549067 best_b: 144.28726727516204, and the loss is: 32.797575090792996\n",
      "When time is : 569, get best_k: -14.570901395549066 best_b: 144.38726727516203, and the loss is: 32.356626671820635\n",
      "When time is : 570, get best_k: -14.670901395549066 best_b: 144.48726727516203, and the loss is: 31.915678252848316\n",
      "When time is : 571, get best_k: -14.770901395549066 best_b: 144.58726727516202, and the loss is: 31.474729833875966\n",
      "When time is : 572, get best_k: -14.870901395549065 best_b: 144.68726727516201, and the loss is: 31.03520850050996\n",
      "When time is : 573, get best_k: -14.970901395549065 best_b: 144.787267275162, and the loss is: 30.59947167570412\n",
      "When time is : 574, get best_k: -15.070901395549065 best_b: 144.887267275162, and the loss is: 30.169904354986603\n",
      "When time is : 575, get best_k: -15.170901395549064 best_b: 144.987267275162, and the loss is: 29.751413484959944\n",
      "When time is : 576, get best_k: -15.270901395549064 best_b: 145.087267275162, and the loss is: 29.338431605414083\n",
      "When time is : 577, get best_k: -15.370901395549064 best_b: 145.187267275162, and the loss is: 28.931252989264962\n",
      "When time is : 578, get best_k: -15.470901395549063 best_b: 145.28726727516198, and the loss is: 28.53314669523904\n",
      "When time is : 579, get best_k: -15.570901395549063 best_b: 145.38726727516197, and the loss is: 28.143149618846746\n",
      "When time is : 580, get best_k: -15.670901395549063 best_b: 145.48726727516197, and the loss is: 27.759033198195862\n",
      "When time is : 581, get best_k: -15.770901395549062 best_b: 145.58726727516196, and the loss is: 27.37705412359973\n",
      "When time is : 582, get best_k: -15.870901395549062 best_b: 145.68726727516196, and the loss is: 27.00032113573378\n",
      "When time is : 583, get best_k: -15.970901395549062 best_b: 145.78726727516195, and the loss is: 26.630427536445065\n",
      "When time is : 584, get best_k: -16.07090139554906 best_b: 145.88726727516195, and the loss is: 26.26336007326912\n",
      "When time is : 585, get best_k: -16.170901395549063 best_b: 145.98726727516194, and the loss is: 25.900166859670122\n",
      "When time is : 586, get best_k: -16.270901395549064 best_b: 146.08726727516193, and the loss is: 25.539358361646407\n",
      "When time is : 587, get best_k: -16.370901395549065 best_b: 146.18726727516193, and the loss is: 25.182075721228706\n",
      "When time is : 588, get best_k: -16.470901395549067 best_b: 146.28726727516192, and the loss is: 24.827872671519945\n",
      "When time is : 589, get best_k: -16.57090139554907 best_b: 146.38726727516192, and the loss is: 24.475840596868654\n",
      "When time is : 590, get best_k: -16.67090139554907 best_b: 146.4872672751619, and the loss is: 24.126554428310445\n",
      "When time is : 591, get best_k: -16.77090139554907 best_b: 146.5872672751619, and the loss is: 23.78393590975946\n",
      "When time is : 592, get best_k: -16.870901395549073 best_b: 146.6872672751619, and the loss is: 23.446944418263477\n",
      "When time is : 593, get best_k: -16.970901395549074 best_b: 146.7872672751619, and the loss is: 23.115937370762698\n",
      "When time is : 594, get best_k: -17.070901395549075 best_b: 146.8872672751619, and the loss is: 22.789134084541566\n",
      "When time is : 595, get best_k: -17.170901395549077 best_b: 146.98726727516188, and the loss is: 22.46756550746646\n",
      "When time is : 596, get best_k: -17.270901395549078 best_b: 147.08726727516188, and the loss is: 22.14599693039138\n",
      "When time is : 597, get best_k: -17.37090139554908 best_b: 147.18726727516187, and the loss is: 21.83073768230146\n",
      "When time is : 598, get best_k: -17.47090139554908 best_b: 147.28726727516187, and the loss is: 21.525878491117364\n",
      "When time is : 599, get best_k: -17.570901395549082 best_b: 147.38726727516186, and the loss is: 21.227844358362784\n",
      "When time is : 600, get best_k: -17.670901395549084 best_b: 147.48726727516186, and the loss is: 20.933345803071447\n",
      "When time is : 601, get best_k: -17.770901395549085 best_b: 147.58726727516185, and the loss is: 20.646362775091916\n",
      "When time is : 602, get best_k: -17.870901395549087 best_b: 147.68726727516184, and the loss is: 20.367260937422813\n",
      "When time is : 603, get best_k: -17.970901395549088 best_b: 147.78726727516184, and the loss is: 20.098884084729104\n",
      "When time is : 604, get best_k: -18.07090139554909 best_b: 147.88726727516183, and the loss is: 19.837352261184606\n",
      "When time is : 605, get best_k: -18.17090139554909 best_b: 147.98726727516183, and the loss is: 19.583841828526737\n",
      "When time is : 606, get best_k: -18.270901395549092 best_b: 148.08726727516182, and the loss is: 19.33830310714781\n",
      "When time is : 607, get best_k: -18.370901395549094 best_b: 148.18726727516182, and the loss is: 19.097084524646856\n",
      "When time is : 608, get best_k: -18.470901395549095 best_b: 148.2872672751618, and the loss is: 18.860041768581972\n",
      "When time is : 609, get best_k: -18.570901395549097 best_b: 148.3872672751618, and the loss is: 18.626257246701652\n",
      "When time is : 610, get best_k: -18.670901395549098 best_b: 148.4872672751618, and the loss is: 18.39920540422173\n",
      "When time is : 611, get best_k: -18.7709013955491 best_b: 148.5872672751618, and the loss is: 18.17804314762195\n",
      "When time is : 612, get best_k: -18.8709013955491 best_b: 148.6872672751618, and the loss is: 17.960108826426392\n",
      "When time is : 613, get best_k: -18.970901395549102 best_b: 148.78726727516178, and the loss is: 17.74867156210868\n",
      "When time is : 614, get best_k: -19.070901395549104 best_b: 148.88726727516178, and the loss is: 17.54791041656843\n",
      "When time is : 615, get best_k: -19.170901395549105 best_b: 148.98726727516177, and the loss is: 17.352536701153404\n",
      "When time is : 616, get best_k: -19.270901395549107 best_b: 149.08726727516176, and the loss is: 17.161967666932828\n",
      "When time is : 617, get best_k: -19.370901395549108 best_b: 149.18726727516176, and the loss is: 16.978247729010555\n",
      "When time is : 618, get best_k: -19.47090139554911 best_b: 149.28726727516175, and the loss is: 16.808068835205162\n",
      "When time is : 619, get best_k: -19.57090139554911 best_b: 149.38726727516175, and the loss is: 16.646086942664805\n",
      "When time is : 620, get best_k: -19.670901395549112 best_b: 149.48726727516174, and the loss is: 16.492680534718765\n",
      "When time is : 621, get best_k: -19.770901395549114 best_b: 149.58726727516174, and the loss is: 16.34765732318157\n",
      "When time is : 622, get best_k: -19.870901395549115 best_b: 149.68726727516173, and the loss is: 16.214589589085424\n",
      "When time is : 623, get best_k: -19.970901395549117 best_b: 149.78726727516172, and the loss is: 16.10195377812074\n",
      "When time is : 624, get best_k: -20.070901395549118 best_b: 149.88726727516172, and the loss is: 16.001678384016422\n",
      "When time is : 625, get best_k: -20.17090139554912 best_b: 149.9872672751617, and the loss is: 15.92067637253701\n",
      "When time is : 626, get best_k: -20.27090139554912 best_b: 150.0872672751617, and the loss is: 15.851142706720665\n",
      "When time is : 627, get best_k: -20.370901395549122 best_b: 150.1872672751617, and the loss is: 15.796326498139521\n",
      "When time is : 628, get best_k: -20.470901395549124 best_b: 150.2872672751617, and the loss is: 15.744867600554288\n",
      "When time is : 629, get best_k: -20.570901395549125 best_b: 150.3872672751617, and the loss is: 15.704577781046376\n",
      "When time is : 630, get best_k: -20.670901395549127 best_b: 150.48726727516168, and the loss is: 15.67659018220234\n",
      "When time is : 631, get best_k: -20.770901395549128 best_b: 150.58726727516168, and the loss is: 15.663968961019837\n",
      "When time is : 634, get best_k: -20.87090139554913 best_b: 150.48726727516168, and the loss is: 15.656431723259846\n",
      "When time is : 645, get best_k: -20.770901395549128 best_b: 150.3872672751617, and the loss is: 15.643683414582167\n"
     ]
    }
   ],
   "source": [
    "trying_times = 2000\n",
    "\n",
    "min_loss = float('inf')\n",
    "\n",
    "best_k = random.random() * 200 - 100\n",
    "best_b = random.random() * 200 - 100\n",
    "\n",
    "direction = [\n",
    "    (+1, -1),  # first element: k's change direction, second element: b's change direction\n",
    "    (+1, +1), \n",
    "    (-1, -1), \n",
    "    (-1, +1),\n",
    "]\n",
    "\n",
    "next_direction = random.choice(direction)\n",
    "\n",
    "scalar = 0.1\n",
    "\n",
    "for i in range(trying_times):\n",
    "    \n",
    "    k_direction, b_direction = next_direction\n",
    "    \n",
    "    current_k, current_b = best_k + k_direction * scalar, best_b + b_direction * scalar\n",
    "    \n",
    "    price_by_k_and_b = [price(r, current_k, current_b) for r in X_rm]\n",
    "\n",
    "    current_loss = loss1(y, price_by_k_and_b)\n",
    "    \n",
    "    if current_loss < min_loss: # performance became better\n",
    "        min_loss = current_loss\n",
    "        best_k, best_b = current_k, current_b\n",
    "        \n",
    "        next_direction = next_direction\n",
    "        print('When time is : {}, get best_k: {} best_b: {}, and the loss is: {}'.format(i, best_k, best_b, min_loss))\n",
    "    else:\n",
    "        next_direction = random.choice(direction)"
   ]
  },
  {
   "cell_type": "code",
   "execution_count": 41,
   "metadata": {},
   "outputs": [
    {
     "data": {
      "text/plain": [
       "<matplotlib.collections.PathCollection at 0x1a357d8c6a0>"
      ]
     },
     "execution_count": 41,
     "metadata": {},
     "output_type": "execute_result"
    },
    {
     "data": {
      "image/png": "[encoded data removed]",
      "text/plain": [
       "<matplotlib.figure.Figure at 0x1a357d25198>"
      ]
     },
     "metadata": {},
     "output_type": "display_data"
    }
   ],
   "source": [
    "X_rm = X[:, 5]\n",
    "k = -20.7709\n",
    "b = 150.3872\n",
    "price_by_random_k_and_b = [price(r, k, b) for r in X_rm]\n",
    "\n",
    "draw_rm_and_price()\n",
    "plt.scatter(X_rm, price_by_random_k_and_b)"
   ]
  },
  {
   "cell_type": "markdown",
   "metadata": {},
   "source": [
    "##### Third method"
   ]
  },
  {
   "cell_type": "code",
   "execution_count": 45,
   "metadata": {},
   "outputs": [
    {
     "name": "stdout",
     "output_type": "stream",
     "text": [
      "When time is : 0, get best_k: 14.33682791422764 best_b: -2.505871017185271, and the loss is: 4290.301268388967\n",
      "When time is : 50, get best_k: 11.03072789952576 best_b: -5.8119710318871505, and the loss is: 1724.7373850130066\n",
      "When time is : 100, get best_k: 8.953830638688022 best_b: -7.888868292724885, and the loss is: 711.8275415257135\n",
      "When time is : 150, get best_k: 7.649120492929092 best_b: -9.193578438483812, and the loss is: 311.81742583963546\n",
      "When time is : 200, get best_k: 6.829499514778414 best_b: -10.013199416634496, and the loss is: 153.7837877474013\n",
      "When time is : 250, get best_k: 6.3146123193286465 best_b: -10.528086612084266, and the loss is: 91.30804960977237\n",
      "When time is : 300, get best_k: 5.991159368385035 best_b: -10.851539563027885, and the loss is: 66.58383273144422\n",
      "When time is : 350, get best_k: 5.787965712767436 best_b: -11.054733218645483, and the loss is: 56.78341254726261\n",
      "When time is : 400, get best_k: 5.660319136773011 best_b: -11.182379794639902, and the loss is: 52.88858583194775\n",
      "When time is : 450, get best_k: 5.580131355744243 best_b: -11.26256757566868, and the loss is: 51.334445041462445\n",
      "When time is : 500, get best_k: 5.529757264812112 best_b: -11.312941666600805, and the loss is: 50.71038275759613\n",
      "When time is : 550, get best_k: 5.49811218117614 best_b: -11.344586750236774, and the loss is: 50.45735736734814\n",
      "When time is : 600, get best_k: 5.478232689560559 best_b: -11.364466241852353, and the loss is: 50.35326553931525\n",
      "When time is : 650, get best_k: 5.46574436147017 best_b: -11.376954569942745, and the loss is: 50.3095243402749\n",
      "When time is : 700, get best_k: 5.4578991740021445 best_b: -11.384799757410761, and the loss is: 50.290589729567394\n",
      "When time is : 750, get best_k: 5.452970814820434 best_b: -11.38972811659246, and the loss is: 50.2820666312518\n",
      "When time is : 800, get best_k: 5.449874811783808 best_b: -11.392824119629086, and the loss is: 50.27804298762853\n",
      "When time is : 850, get best_k: 5.4479298977770565 best_b: -11.394769033635843, and the loss is: 50.27604042482928\n",
      "When time is : 900, get best_k: 5.446708099720365 best_b: -11.395990831692535, and the loss is: 50.274989634334126\n",
      "When time is : 950, get best_k: 5.445940564247766 best_b: -11.396758367165127, and the loss is: 50.27441130384425\n",
      "When time is : 1000, get best_k: 5.4454583972493245 best_b: -11.397240534163567, and the loss is: 50.274080268264676\n",
      "When time is : 1050, get best_k: 5.4451554991779165 best_b: -11.397543432234968, and the loss is: 50.273885047139196\n",
      "When time is : 1100, get best_k: 5.444965218130151 best_b: -11.397733713282737, and the loss is: 50.27376743499897\n",
      "When time is : 1150, get best_k: 5.444845683274843 best_b: -11.397853248138047, and the loss is: 50.27369553434459\n",
      "When time is : 1200, get best_k: 5.4447705912895845 best_b: -11.397928340123306, and the loss is: 50.27365114899403\n",
      "When time is : 1250, get best_k: 5.444723418385618 best_b: -11.39797551302727, and the loss is: 50.27362357495062\n",
      "When time is : 1300, get best_k: 5.444693784292702 best_b: -11.39800514712019, and the loss is: 50.27360637479787\n",
      "When time is : 1350, get best_k: 5.444675168108637 best_b: -11.39802376330425, and the loss is: 50.273595617743\n",
      "When time is : 1400, get best_k: 5.44466347339235 best_b: -11.398035458020537, and the loss is: 50.2735888791294\n",
      "When time is : 1450, get best_k: 5.444656126753075 best_b: -11.39804280465982, and the loss is: 50.273584653413984\n",
      "When time is : 1500, get best_k: 5.4446515115826575 best_b: -11.398047419830242, and the loss is: 50.273582001769604\n",
      "When time is : 1550, get best_k: 5.444648612325294 best_b: -11.398050319087602, and the loss is: 50.2735803371693\n",
      "When time is : 1600, get best_k: 5.444646791007234 best_b: -11.398052140405664, and the loss is: 50.273579291925174\n",
      "When time is : 1650, get best_k: 5.4446456468523445 best_b: -11.398053284560552, and the loss is: 50.273578635482906\n",
      "When time is : 1700, get best_k: 5.444644928092433 best_b: -11.398054003320462, and the loss is: 50.27357822317656\n",
      "When time is : 1750, get best_k: 5.444644476566321 best_b: -11.398054454846585, and the loss is: 50.27357796419336\n",
      "When time is : 1800, get best_k: 5.444644192916901 best_b: -11.398054738496006, and the loss is: 50.273577801510825\n",
      "When time is : 1850, get best_k: 5.444644014727887 best_b: -11.39805491668502, and the loss is: 50.27357769931787\n",
      "When time is : 1900, get best_k: 5.444643902789269 best_b: -11.39805502862364, and the loss is: 50.27357763512185\n",
      "When time is : 1950, get best_k: 5.444643832469249 best_b: -11.398055098943658, and the loss is: 50.273577594794425\n",
      "When time is : 2000, get best_k: 5.444643788294104 best_b: -11.39805514311881, and the loss is: 50.273577569460976\n",
      "When time is : 2050, get best_k: 5.444643760543207 best_b: -11.398055170869709, and the loss is: 50.27357755354656\n",
      "When time is : 2100, get best_k: 5.44464374311005 best_b: -11.398055188302875, and the loss is: 50.27357754354919\n",
      "When time is : 2150, get best_k: 5.444643732158511 best_b: -11.39805519925441, and the loss is: 50.27357753726876\n",
      "When time is : 2200, get best_k: 5.4446437252787385 best_b: -11.398055206134185, and the loss is: 50.27357753332345\n",
      "When time is : 2250, get best_k: 5.444643720956853 best_b: -11.398055210456063, and the loss is: 50.27357753084502\n",
      "When time is : 2300, get best_k: 5.444643718241838 best_b: -11.398055213171071, and the loss is: 50.273577529288026\n",
      "When time is : 2350, get best_k: 5.444643716536259 best_b: -11.398055214876647, and the loss is: 50.273577528309914\n",
      "When time is : 2400, get best_k: 5.444643715464815 best_b: -11.398055215948093, and the loss is: 50.273577527695466\n",
      "When time is : 2450, get best_k: 5.444643714791732 best_b: -11.398055216621179, and the loss is: 50.27357752730946\n",
      "When time is : 2500, get best_k: 5.4446437143689 best_b: -11.398055217044012, and the loss is: 50.27357752706699\n",
      "When time is : 2550, get best_k: 5.444643714103277 best_b: -11.398055217309636, and the loss is: 50.27357752691469\n",
      "When time is : 2600, get best_k: 5.444643713936413 best_b: -11.398055217476504, and the loss is: 50.27357752681902\n",
      "When time is : 2650, get best_k: 5.444643713831588 best_b: -11.39805521758133, and the loss is: 50.27357752675887\n",
      "When time is : 2700, get best_k: 5.444643713765739 best_b: -11.398055217647181, and the loss is: 50.27357752672114\n",
      "When time is : 2750, get best_k: 5.44464371372437 best_b: -11.398055217688555, and the loss is: 50.27357752669738\n",
      "When time is : 2800, get best_k: 5.444643713698382 best_b: -11.398055217714543, and the loss is: 50.273577526682494\n",
      "When time is : 2850, get best_k: 5.444643713682057 best_b: -11.398055217730866, and the loss is: 50.273577526673115\n",
      "When time is : 2900, get best_k: 5.444643713671799 best_b: -11.398055217741124, and the loss is: 50.2735775266672\n"
     ]
    }
   ],
   "source": [
    "trying_times = 10000\n",
    "\n",
    "min_loss = float('inf')\n",
    "\n",
    "# 初始化问题：对于复杂机器学习问题，如何初始化 k和 b\n",
    "current_k = random.random() * 200 - 100\n",
    "current_b = random.random() * 200 - 100\n",
    "\n",
    "learning_rate = 1e-04\n",
    "\n",
    "update_time = 0\n",
    "\n",
    "for i in range(trying_times):\n",
    "    \n",
    "    price_by_k_and_b = [price(r,current_k,current_b) for r in X_rm]\n",
    "\n",
    "    current_loss = loss(y, price_by_k_and_b)\n",
    "    \n",
    "    if current_loss < min_loss: # performance became better\n",
    "        min_loss = current_loss\n",
    "        best_k, best_b = current_k, current_b\n",
    "        \n",
    "        # 每隔五十步输出一次\n",
    "        if i % 50 == 0:\n",
    "            print('When time is : {}, get best_k: {} best_b: {}, and the loss is: {}'.format(i, best_k, best_b, min_loss))\n",
    "        \n",
    "        k_gradient = partial_k(X_rm,y,price_by_k_and_b)\n",
    "        \n",
    "        b_gradient = partial_k(X_rm,y,price_by_k_and_b)\n",
    "        \n",
    "        current_k = current_k + (-1 * k_gradient) * learning_rate\n",
    "        \n",
    "        current_b = current_b + (-1 * b_gradient) * learning_rate\n",
    "        "
   ]
  },
  {
   "cell_type": "code",
   "execution_count": 46,
   "metadata": {},
   "outputs": [
    {
     "data": {
      "text/plain": [
       "<matplotlib.collections.PathCollection at 0x1a357e6d390>"
      ]
     },
     "execution_count": 46,
     "metadata": {},
     "output_type": "execute_result"
    },
    {
     "data": {
      "image/png": "[encoded data removed]",
      "text/plain": [
       "<matplotlib.figure.Figure at 0x1a357dbf6a0>"
      ]
     },
     "metadata": {},
     "output_type": "display_data"
    }
   ],
   "source": [
    "X_rm = X[:, 5]\n",
    "k = 5.44464\n",
    "b =-11.3980\n",
    "price_by_random_k_and_b = [price(r, k, b) for r in X_rm]\n",
    "\n",
    "draw_rm_and_price()\n",
    "plt.scatter(X_rm, price_by_random_k_and_b)"
   ]
  },
  {
   "cell_type": "markdown",
   "metadata": {
    "colab_type": "text",
    "id": "KUIxa3Yl55W9"
   },
   "source": [
    "![](https://timgsa.baidu.com/timg?image&quality=80&size=b9999_10000&sec=1562414412237&di=8377c38d7b50c6f8d45b92ccc78dc1e7&imgtype=0&src=http%3A%2F%2Fmmbiz.qpic.cn%2Fmmbiz_jpg%2FlSyiavfm6wPgQDuDYa42IMgSkLOcPJU91RbkMibGy7VHLrhhNVLibTYk1iaLcmXKTdHc4icTDVia59QFXwqpW8cLflaw%2F640%3Fwx_fmt%3Djpeg)"
   ]
  },
  {
   "cell_type": "markdown",
   "metadata": {
    "colab_type": "text",
    "id": "6BOwC4Ba55W-"
   },
   "source": [
    "## 2. Answer following questions:\n",
    "\n",
    "\n",
    "###### 1. Why do we need machine learning methods instead of creating a complicated formula?\n",
    "\n",
    "\n"
   ]
  },
  {
   "cell_type": "markdown",
   "metadata": {
    "colab_type": "text",
    "id": "EnPooN3w55W_"
   },
   "source": [
    "Ans: \n",
    "\n",
    "*    因为现实世界中的数据量越来越多，很难写出一个能囊括所有情况的公式。\n",
    "\n",
    "*  机器学习可以用来处理大数据量的问题 \n",
    "\n"
   ]
  },
  {
   "cell_type": "markdown",
   "metadata": {
    "colab_type": "text",
    "id": "7rGpjtKD55XA"
   },
   "source": [
    "###### 2.  Wha't's the disadvantages of `the 1st Random Choosen` methods in our course? "
   ]
  },
  {
   "cell_type": "markdown",
   "metadata": {
    "colab_type": "text",
    "id": "mCnWKEu-55XB"
   },
   "source": [
    "Ans:\n",
    "\n",
    "\n",
    "1.  损失下降的速度慢\n",
    "2.  耗费的时间长\n",
    "\n"
   ]
  },
  {
   "cell_type": "markdown",
   "metadata": {
    "colab_type": "text",
    "id": "ZoLTUKiX55XC"
   },
   "source": [
    "###### 3. Is the `2nd method supervised direction` better than 1st one?  What's the disadvantages of `the 2nd supversied directin` method? "
   ]
  },
  {
   "cell_type": "markdown",
   "metadata": {
    "colab_type": "text",
    "id": "4ktlmEAY55XE"
   },
   "source": [
    "Ans:\n",
    "\n",
    "\n",
    "\n",
    "1.   是的，监督方法比随机方法好\n",
    "2.   \n",
    "\n",
    "      *  搜索空间大\n",
    "      *   不能确保每次都朝着正确的方向前进，具有随机性\n",
    "\n",
    "\n",
    "\n"
   ]
  },
  {
   "cell_type": "markdown",
   "metadata": {
    "colab_type": "text",
    "id": "9hG-roPE55XG"
   },
   "source": [
    "###### 4. Why do we use `Derivative / Gredient` to fit a target function? "
   ]
  },
  {
   "cell_type": "markdown",
   "metadata": {
    "colab_type": "text",
    "id": "5gZDGGW-55XH"
   },
   "source": [
    "Ans:\n",
    "\n",
    "导数代表了函数的变化趋势，导数大于0，函数随着自变量的增加而增加；反之则减小。\n",
    "我们的目标是优化目标函数，需要根据导数的值做出优化的选择。\n",
    "\n"
   ]
  },
  {
   "cell_type": "markdown",
   "metadata": {
    "colab_type": "text",
    "id": "a40Bu2g855XI"
   },
   "source": [
    "###### 5. In the words 'Gredient Descent', what's the `Gredient` and what's the `Descent`?"
   ]
  },
  {
   "cell_type": "markdown",
   "metadata": {
    "colab_type": "text",
    "id": "x5MiWt8155XI"
   },
   "source": [
    "Ans:\n",
    "\n",
    "\n",
    "\n",
    "*  函数的梯度代表了函数值增长速度最快的方向\n",
    "*  与梯度相反的方向就是函数减小速度最快的方向，这就是下降的意思。\n",
    "\n"
   ]
  },
  {
   "cell_type": "markdown",
   "metadata": {
    "colab_type": "text",
    "id": "O2CHmIPi55XK"
   },
   "source": [
    "###### 6. What's the advantages of `the 3rd gradient descent method` compared to the previous methods?"
   ]
  },
  {
   "cell_type": "markdown",
   "metadata": {
    "colab_type": "text",
    "id": "2Zc0gQuO55XL"
   },
   "source": [
    "Ans:\n",
    "\n",
    "\n",
    "1.   能保证每次都朝着正确的方向前进，最后收敛于极值点\n",
    "\n",
    "\n",
    "\n"
   ]
  },
  {
   "cell_type": "markdown",
   "metadata": {
    "colab_type": "text",
    "id": "0K19ft8o55XL"
   },
   "source": [
    "###### 7. Using the simple words to describe: What's the machine leanring."
   ]
  },
  {
   "cell_type": "markdown",
   "metadata": {
    "colab_type": "text",
    "id": "jTQc7SUU55XM"
   },
   "source": [
    "Ans:\n",
    "\n",
    "机器学习式一种能够从数据中学习的方法"
   ]
  },
  {
   "cell_type": "markdown",
   "metadata": {
    "colab_type": "text",
    "id": "aZjpUxjD55XN"
   },
   "source": [
    "## 3. Finish the search problem"
   ]
  },
  {
   "cell_type": "markdown",
   "metadata": {
    "colab_type": "text",
    "id": "ZJ4TYfvk55XO"
   },
   "source": [
    "Please using the search policy to implement an agent. This agent receives two input, one is @param start station and the other is @param destination. Your agent should give the optimal route based on Beijing Subway system. "
   ]
  },
  {
   "cell_type": "markdown",
   "metadata": {
    "colab_type": "text",
    "id": "4YyUxE6f55XO"
   },
   "source": [
    "> Deadline: 2019-July-13\n",
    "\n",
    ">Submit: Submit the source code and result to github. \n",
    "\n"
   ]
  },
  {
   "cell_type": "markdown",
   "metadata": {
    "colab_type": "text",
    "id": "opBzJQlE55XP"
   },
   "source": [
    "![](https://timgsa.baidu.com/timg?image&quality=80&size=b9999_10000&sec=1562414356407&di=b57814aafd215bb8b8d9d8cd37c573d6&imgtype=0&src=http%3A%2F%2Fcli.clewm.net%2Ffile%2F2015%2F03%2F24%2F174ed60082b8422ac0636cfd3efb9e7f.jpg)"
   ]
  },
  {
   "cell_type": "markdown",
   "metadata": {
    "colab_type": "text",
    "id": "9E735BAh55XQ"
   },
   "source": [
    "#### Dataflow: "
   ]
  },
  {
   "cell_type": "markdown",
   "metadata": {
    "colab_type": "text",
    "id": "CTwuJimK55XR"
   },
   "source": [
    "##### 1.\tGet data from web page.\n",
    "\n",
    "> a.\tGet web page source from: https://baike.baidu.com/item/%E5%8C%97%E4%BA%AC%E5%9C%B0%E9%93%81/408485\n",
    "\n",
    "> b.\tYou may need @package **requests**[https://2.python-requests.org/en/master/] page to get the response via url\n",
    "\n",
    "> c.\tYou may need save the page source to file system.\n",
    "\n",
    "> d.\tThe target of this step is to get station information of all the subway lines;\n",
    "\n",
    "> e.\tYou may need install @package beautiful soup[https://www.crummy.com/software/BeautifulSoup/bs4/doc/]  to get the url information, or just use > Regular Expression to get the url.  Our recommendation is that using the Regular Expression and BeautiflSoup both. \n",
    "\n",
    "> f.\tYou may need BFS to get all the related page url from one url. \n",
    "Question: Why do we use BFS to traverse web page (or someone said, build a web spider)?  Can DFS do this job? which is better? "
   ]
  },
  {
   "cell_type": "markdown",
   "metadata": {
    "colab_type": "text",
    "id": "TiNUmiX_55XR"
   },
   "source": [
    "##### 2.\tPreprocessing data from page source.\n",
    "\n",
    "> a.\tBased on the page source gotten from url. You may need some more preprocessing of the page. \n",
    "\n",
    "> b.\tthe Regular Expression you may need to process the text information.\n",
    "\n",
    "> c.\tYou may need @package networkx, @package matplotlib to visualize data. \n",
    "\n",
    "> d.\tYou should build a dictionary or graph which could represent the connection information of Beijing subway routes. \n",
    "\n",
    "> e.\tYou may need the defaultdict, set data structures to implement this procedure. "
   ]
  },
  {
   "cell_type": "markdown",
   "metadata": {
    "colab_type": "text",
    "id": "hwCmE7G855XT"
   },
   "source": [
    "##### 3. Build the search agent\n",
    "\n",
    "> Build the search agent based on the graph we build.\n",
    "\n",
    "for example, when you run: \n",
    "\n",
    "```python\n",
    ">>> search('奥体中心', '天安门') \n",
    "```\n",
    "you need get the result: \n",
    "\n",
    "奥体中心-> A -> B -> C -> ... -> 天安门\n",
    "\n"
   ]
  },
  {
   "cell_type": "markdown",
   "metadata": {
    "colab_type": "text",
    "id": "5SndX3y455XV"
   },
   "source": [
    "## （Optional）Create different policies for transfer system.\n"
   ]
  },
  {
   "cell_type": "markdown",
   "metadata": {
    "colab_type": "text",
    "id": "vNb1Q3eP55XW"
   },
   "source": [
    "以下部门为可选部分，请酌情完成。 并不要求全部同学完成。"
   ]
  },
  {
   "cell_type": "markdown",
   "metadata": {
    "colab_type": "text",
    "id": "j1C3NfKL55XX"
   },
   "source": [
    "As much as you can to use the already implemented search agent. You just need to define the **is_goal()**, **get_successor()**, **strategy()** three functions. \n",
    "\n",
    "> a.\tDefine different policies for transfer system. \n",
    "\n",
    "> b.\tSuch as Shortest Path Priority（路程最短优先）, Minimum Transfer Priority(最少换乘优先), Comprehensive Priority(综合优先)\n",
    "\n",
    "> c.\tImplement Continuous transfer. Based on the Agent you implemented, please add this feature: Besides the @param start and @param destination two stations, add some more stations, we called @param by_way, it means, our path should from the start and end, but also include the  @param by_way stations. \n",
    "\n",
    "e.g \n",
    "```\n",
    "1. Input:  start=A,  destination=B, by_way=[C] \n",
    "    Output: [A, … .., C, …. B]\n",
    "2. Input: start=A, destination=B, by_way=[C, D, E]\n",
    "    Output: [A … C … E … D … B]  \n",
    "    # based on your policy, the E station could be reached firstly. \n",
    "![image.png](attachment:image.png)\n",
    "```"
   ]
  },
  {
   "cell_type": "markdown",
   "metadata": {
    "colab_type": "text",
    "id": "Jy2t4jVJ55XZ"
   },
   "source": [
    "##### 5.\tTest your result with commercial applications. \n",
    "\n",
    "将你的结果和高德地图或者百度地图进行比较，如果有不同，请分析原因\n"
   ]
  },
  {
   "cell_type": "markdown",
   "metadata": {
    "colab_type": "text",
    "id": "asytK9Hs55Xa"
   },
   "source": [
    "恭喜，完成本次课程，你对常用的人工智能方法以及有一定的了解了。基于规则的，基于概率模型的，基于搜索的，基于机器学习的。 可以说，我们现在通常见到的方法都能够归属到这几类方法中。 这就是**人工智能**，并没有很难是吧？ 继续加油！"
   ]
  },
  {
   "cell_type": "markdown",
   "metadata": {
    "colab_type": "text",
    "id": "NtYCGJ9E55Xb"
   },
   "source": [
    "![](https://timgsa.baidu.com/timg?image&quality=80&size=b9999_10000&sec=1562415163815&di=4b29a2a863a8285212033760f288ed7a&imgtype=0&src=http%3A%2F%2F5b0988e595225.cdn.sohucs.com%2Fimages%2F20180710%2F8704194a1d7f46a383ddc29d40c9bca5.jpeg)"
   ]
  }
 ],
 "metadata": {
  "colab": {
   "collapsed_sections": [
    "Qc9iznc_3zFn"
   ],
   "name": "Assignment-02.ipynb",
   "provenance": [],
   "version": "0.3.2"
  },
  "kernelspec": {
   "display_name": "Python 3",
   "language": "python",
   "name": "python3"
  },
  "language_info": {
   "codemirror_mode": {
    "name": "ipython",
    "version": 3
   },
   "file_extension": ".py",
   "mimetype": "text/x-python",
   "name": "python",
   "nbconvert_exporter": "python",
   "pygments_lexer": "ipython3",
   "version": "3.5.5"
  },
  "toc": {
   "base_numbering": 1,
   "nav_menu": {},
   "number_sections": true,
   "sideBar": true,
   "skip_h1_title": false,
   "title_cell": "Table of Contents",
   "title_sidebar": "Contents",
   "toc_cell": false,
   "toc_position": {},
   "toc_section_display": true,
   "toc_window_display": true
  }
 },
 "nbformat": 4,
 "nbformat_minor": 1
}
