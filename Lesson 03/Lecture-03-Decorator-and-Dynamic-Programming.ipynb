{
 "cells": [
  {
   "cell_type": "markdown",
   "metadata": {},
   "source": [
    "## 前言：\n",
    "\n",
    "动态规划遵循一套固定的流程：**递归的暴力解法 -> 带备忘录的递归解法 -> 非递归的动态规划解法**\n",
    "\n",
    "老师在课上基本也是按照这个流程来讲的，只不过没有明确的说出来，在加入Python解释器前的部分属于**递归的暴力解法**；把Python解释器作为备忘录，记录已经计算过的内容，这就是**带备忘录的递归解法**； 最后是**非递归的动态规划解法**\n",
    "\n",
    "参考：https://mp.weixin.qq.com/s/GncAsmZ1dZKyNMOwN5-sjw"
   ]
  },
  {
   "cell_type": "markdown",
   "metadata": {},
   "source": [
    "## Dynamic Programming"
   ]
  },
  {
   "cell_type": "code",
   "execution_count": 1,
   "metadata": {},
   "outputs": [],
   "source": [
    "original_price = [1, 5, 8, 9, 10, 17, 17, 20, 24, 30, 35]"
   ]
  },
  {
   "cell_type": "code",
   "execution_count": 2,
   "metadata": {},
   "outputs": [],
   "source": [
    "from collections import defaultdict"
   ]
  },
  {
   "cell_type": "code",
   "execution_count": 3,
   "metadata": {},
   "outputs": [],
   "source": [
    "price = defaultdict(int)"
   ]
  },
  {
   "cell_type": "code",
   "execution_count": 4,
   "metadata": {},
   "outputs": [],
   "source": [
    "for i, p in enumerate(original_price): \n",
    "    price[i + 1] = p"
   ]
  },
  {
   "cell_type": "code",
   "execution_count": 5,
   "metadata": {},
   "outputs": [
    {
     "data": {
      "text/plain": [
       "35"
      ]
     },
     "execution_count": 5,
     "metadata": {},
     "output_type": "execute_result"
    }
   ],
   "source": [
    "price[11]"
   ]
  },
  {
   "cell_type": "markdown",
   "metadata": {},
   "source": [
    "## Get the max splitting by enumerate"
   ]
  },
  {
   "cell_type": "code",
   "execution_count": 30,
   "metadata": {},
   "outputs": [
    {
     "data": {
      "text/plain": [
       "4"
      ]
     },
     "execution_count": 30,
     "metadata": {},
     "output_type": "execute_result"
    }
   ],
   "source": [
    "max(1, 2, 3, 4)"
   ]
  },
  {
   "cell_type": "markdown",
   "metadata": {},
   "source": [
    "### Python 是面向函数的语言 "
   ]
  },
  {
   "cell_type": "code",
   "execution_count": 23,
   "metadata": {},
   "outputs": [],
   "source": [
    "def example(f, arg):\n",
    "    return f(arg)"
   ]
  },
  {
   "cell_type": "code",
   "execution_count": 24,
   "metadata": {},
   "outputs": [],
   "source": [
    "def add_ten(num):\n",
    "    return num + 10"
   ]
  },
  {
   "cell_type": "code",
   "execution_count": 25,
   "metadata": {},
   "outputs": [],
   "source": [
    "def mul_ten(num):\n",
    "    return num * 10 "
   ]
  },
  {
   "cell_type": "code",
   "execution_count": 26,
   "metadata": {},
   "outputs": [
    {
     "name": "stdout",
     "output_type": "stream",
     "text": [
      "110\n",
      "1000\n"
     ]
    }
   ],
   "source": [
    "operations = [add_ten, mul_ten]\n",
    "\n",
    "for f in operations:\n",
    "    print(example(f, 100))"
   ]
  },
  {
   "cell_type": "markdown",
   "metadata": {},
   "source": [
    "### Python 装饰器"
   ]
  },
  {
   "cell_type": "code",
   "execution_count": 27,
   "metadata": {},
   "outputs": [],
   "source": [
    "called_time = defaultdict(int)\n",
    "\n",
    "def get_call_times(f):\n",
    "    result = f()\n",
    "    print('function: {} called once! '.format(f.__name__))\n",
    "    called_time[f.__name__] += 1\n",
    "    \n",
    "    return result"
   ]
  },
  {
   "cell_type": "code",
   "execution_count": 28,
   "metadata": {},
   "outputs": [],
   "source": [
    "def some_funcion_1(): print('I am function 1')"
   ]
  },
  {
   "cell_type": "code",
   "execution_count": 31,
   "metadata": {},
   "outputs": [
    {
     "name": "stdout",
     "output_type": "stream",
     "text": [
      "I am function 1\n",
      "function: some_funcion_1 called once! \n"
     ]
    }
   ],
   "source": [
    "get_call_times(some_funcion_1)"
   ]
  },
  {
   "cell_type": "code",
   "execution_count": 32,
   "metadata": {},
   "outputs": [
    {
     "data": {
      "text/plain": [
       "defaultdict(int, {'some_funcion_1': 2})"
      ]
     },
     "execution_count": 32,
     "metadata": {},
     "output_type": "execute_result"
    }
   ],
   "source": [
    "called_time"
   ]
  },
  {
   "cell_type": "code",
   "execution_count": 35,
   "metadata": {},
   "outputs": [],
   "source": [
    "call_time_with_arg = defaultdict(int)"
   ]
  },
  {
   "cell_type": "code",
   "execution_count": 36,
   "metadata": {},
   "outputs": [],
   "source": [
    "def r(n):\n",
    "#     fname = r.__name__\n",
    "#     call_time_with_arg[(fname, n)] += 1\n",
    "    \n",
    "    return max(\n",
    "        [price[n]] + [r(i) + r(n-i) for i in range(1, n)]\n",
    "    )"
   ]
  },
  {
   "cell_type": "code",
   "execution_count": 37,
   "metadata": {},
   "outputs": [],
   "source": [
    "del call_time_with_arg"
   ]
  },
  {
   "cell_type": "code",
   "execution_count": 38,
   "metadata": {},
   "outputs": [],
   "source": [
    "from functools import wraps"
   ]
  },
  {
   "cell_type": "code",
   "execution_count": 56,
   "metadata": {},
   "outputs": [],
   "source": [
    "called_time_with_arg = defaultdict(int)\n",
    "\n",
    "def get_call_time(f):\n",
    "    \"\"\"@param f is a function\"\"\"\n",
    "    @wraps(f)\n",
    "    def wrap(n):\n",
    "        \"\"\"Haha I am warp\"\"\"\n",
    "        #print('I can count')\n",
    "        result = f(n)\n",
    "        called_time_with_arg[(f.__name__, n)] += 1\n",
    "        return result\n",
    "    return wrap"
   ]
  },
  {
   "cell_type": "code",
   "execution_count": 57,
   "metadata": {},
   "outputs": [],
   "source": [
    "def add_ten(n): return n + 10"
   ]
  },
  {
   "cell_type": "code",
   "execution_count": 58,
   "metadata": {},
   "outputs": [
    {
     "data": {
      "text/plain": [
       "20"
      ]
     },
     "execution_count": 58,
     "metadata": {},
     "output_type": "execute_result"
    }
   ],
   "source": [
    "add_ten(10)"
   ]
  },
  {
   "cell_type": "code",
   "execution_count": 59,
   "metadata": {},
   "outputs": [],
   "source": [
    "add_ten = get_call_time(add_ten)"
   ]
  },
  {
   "cell_type": "markdown",
   "metadata": {},
   "source": [
    "上面的代码可以简写成"
   ]
  },
  {
   "cell_type": "code",
   "execution_count": 60,
   "metadata": {},
   "outputs": [],
   "source": [
    "@get_call_time\n",
    "def add_twenty(n): \n",
    "    return n + 20"
   ]
  },
  {
   "cell_type": "code",
   "execution_count": 61,
   "metadata": {},
   "outputs": [],
   "source": [
    "add_twenty = get_call_time(add_twenty)"
   ]
  },
  {
   "cell_type": "code",
   "execution_count": 62,
   "metadata": {},
   "outputs": [
    {
     "data": {
      "text/plain": [
       "29"
      ]
     },
     "execution_count": 62,
     "metadata": {},
     "output_type": "execute_result"
    }
   ],
   "source": [
    "add_twenty(9)"
   ]
  },
  {
   "cell_type": "code",
   "execution_count": 96,
   "metadata": {},
   "outputs": [],
   "source": [
    "called_time_with_arg = defaultdict(int)"
   ]
  },
  {
   "cell_type": "code",
   "execution_count": 72,
   "metadata": {},
   "outputs": [],
   "source": [
    "@memo\n",
    "def r(n):\n",
    "    \"\"\"\n",
    "    \"\"\"\n",
    "    return max(\n",
    "        [price[n]] + [r(i) + r(n-i) for i in range(1, n)]\n",
    "    )"
   ]
  },
  {
   "cell_type": "markdown",
   "metadata": {},
   "source": [
    "建立备忘录"
   ]
  },
  {
   "cell_type": "code",
   "execution_count": 73,
   "metadata": {},
   "outputs": [],
   "source": [
    "def memo(f):\n",
    "    already_computed = {}\n",
    "    def _wrap(arg):\n",
    "        result = None\n",
    "        \n",
    "        if  arg in already_computed: \n",
    "            result = already_computed[arg]\n",
    "        else:\n",
    "            result = f(arg)\n",
    "            already_computed[arg] = result\n",
    "        return result\n",
    "    \n",
    "    return _wrap\n",
    "        "
   ]
  },
  {
   "cell_type": "code",
   "execution_count": 74,
   "metadata": {},
   "outputs": [
    {
     "data": {
      "text/plain": [
       "45"
      ]
     },
     "execution_count": 74,
     "metadata": {},
     "output_type": "execute_result"
    }
   ],
   "source": [
    "r(15)"
   ]
  },
  {
   "cell_type": "code",
   "execution_count": 75,
   "metadata": {},
   "outputs": [],
   "source": [
    "solution = {}"
   ]
  },
  {
   "cell_type": "code",
   "execution_count": 76,
   "metadata": {},
   "outputs": [],
   "source": [
    "memo.already_computed = {}"
   ]
  },
  {
   "cell_type": "code",
   "execution_count": 77,
   "metadata": {},
   "outputs": [],
   "source": [
    "@get_call_time\n",
    "@memo\n",
    "def r(n):\n",
    "    \"\"\"\n",
    "    Args: n is the iron length\n",
    "    Return: the max revenue \n",
    "    \"\"\"\n",
    "    max_price, max_split = max(\n",
    "        [(price[n], 0)] + [(r(i) + r(n-i), i) for i in range(1, n)], key=lambda x: x[0]\n",
    "    )\n",
    "\n",
    "    solution[n] = (n - max_split, max_split)\n",
    "    \n",
    "    return max_price"
   ]
  },
  {
   "cell_type": "code",
   "execution_count": 78,
   "metadata": {},
   "outputs": [
    {
     "data": {
      "text/plain": [
       "118"
      ]
     },
     "execution_count": 78,
     "metadata": {},
     "output_type": "execute_result"
    }
   ],
   "source": [
    "r(38)"
   ]
  },
  {
   "cell_type": "code",
   "execution_count": 79,
   "metadata": {
    "scrolled": true
   },
   "outputs": [
    {
     "data": {
      "text/plain": [
       "{1: (1, 0),\n",
       " 2: (2, 0),\n",
       " 3: (3, 0),\n",
       " 4: (2, 2),\n",
       " 5: (3, 2),\n",
       " 6: (6, 0),\n",
       " 7: (6, 1),\n",
       " 8: (6, 2),\n",
       " 9: (6, 3),\n",
       " 10: (10, 0),\n",
       " 11: (11, 0),\n",
       " 12: (11, 1),\n",
       " 13: (11, 2),\n",
       " 14: (11, 3),\n",
       " 15: (13, 2),\n",
       " 16: (14, 2),\n",
       " 17: (11, 6),\n",
       " 18: (17, 1),\n",
       " 19: (17, 2),\n",
       " 20: (17, 3),\n",
       " 21: (11, 10),\n",
       " 22: (11, 11),\n",
       " 23: (22, 1),\n",
       " 24: (22, 2),\n",
       " 25: (22, 3),\n",
       " 26: (24, 2),\n",
       " 27: (25, 2),\n",
       " 28: (22, 6),\n",
       " 29: (28, 1),\n",
       " 30: (28, 2),\n",
       " 31: (28, 3),\n",
       " 32: (22, 10),\n",
       " 33: (22, 11),\n",
       " 34: (33, 1),\n",
       " 35: (33, 2),\n",
       " 36: (33, 3),\n",
       " 37: (35, 2),\n",
       " 38: (36, 2)}"
      ]
     },
     "execution_count": 79,
     "metadata": {},
     "output_type": "execute_result"
    }
   ],
   "source": [
    "solution"
   ]
  },
  {
   "cell_type": "code",
   "execution_count": null,
   "metadata": {},
   "outputs": [],
   "source": []
  },
  {
   "cell_type": "code",
   "execution_count": 80,
   "metadata": {},
   "outputs": [],
   "source": [
    "def parse_solution(n):\n",
    "    left_split, right_split = solution[n]\n",
    "    \n",
    "    if right_split == 0: return [left_split]\n",
    "    \n",
    "    return parse_solution(left_split) + parse_solution(right_split)"
   ]
  },
  {
   "cell_type": "code",
   "execution_count": 83,
   "metadata": {},
   "outputs": [
    {
     "data": {
      "text/plain": [
       "743"
      ]
     },
     "execution_count": 83,
     "metadata": {},
     "output_type": "execute_result"
    }
   ],
   "source": [
    "r(234)"
   ]
  },
  {
   "cell_type": "code",
   "execution_count": 84,
   "metadata": {},
   "outputs": [
    {
     "data": {
      "text/plain": [
       "[11,\n",
       " 11,\n",
       " 11,\n",
       " 11,\n",
       " 11,\n",
       " 11,\n",
       " 11,\n",
       " 11,\n",
       " 11,\n",
       " 11,\n",
       " 11,\n",
       " 11,\n",
       " 11,\n",
       " 11,\n",
       " 11,\n",
       " 11,\n",
       " 11,\n",
       " 11,\n",
       " 11,\n",
       " 11,\n",
       " 11,\n",
       " 3]"
      ]
     },
     "execution_count": 84,
     "metadata": {},
     "output_type": "execute_result"
    }
   ],
   "source": [
    "parse_solution(234)"
   ]
  },
  {
   "cell_type": "markdown",
   "metadata": {},
   "source": [
    "## Dynamic Programming"
   ]
  },
  {
   "cell_type": "markdown",
   "metadata": {},
   "source": [
    "+ 1. Overlapping Subproblems\n",
    "+ 2. Overlapping computing saved in a table\n",
    "+ 3. Parse solution"
   ]
  },
  {
   "cell_type": "code",
   "execution_count": 87,
   "metadata": {},
   "outputs": [],
   "source": [
    "def memo(f): \n",
    "    memo.already_computed = {}\n",
    "    @wraps(f)\n",
    "    def _wrap(arg):\n",
    "        result = None\n",
    "        \n",
    "        if arg in memo.already_computed: \n",
    "            result = memo.already_computed[arg] \n",
    "        else:\n",
    "            result = f(arg)\n",
    "            memo.already_computed[arg] = result\n",
    "        \n",
    "        return result\n",
    "    \n",
    "    return _wrap"
   ]
  },
  {
   "cell_type": "code",
   "execution_count": 88,
   "metadata": {},
   "outputs": [
    {
     "data": {
      "text/plain": [
       "60"
      ]
     },
     "execution_count": 88,
     "metadata": {},
     "output_type": "execute_result"
    }
   ],
   "source": [
    "r(20)"
   ]
  },
  {
   "cell_type": "code",
   "execution_count": 89,
   "metadata": {},
   "outputs": [
    {
     "data": {
      "text/plain": [
       "778"
      ]
     },
     "execution_count": 89,
     "metadata": {},
     "output_type": "execute_result"
    }
   ],
   "source": [
    "r(245)"
   ]
  },
  {
   "cell_type": "code",
   "execution_count": 90,
   "metadata": {},
   "outputs": [
    {
     "data": {
      "text/plain": [
       "<function __main__.memo.<locals>._wrap(arg)>"
      ]
     },
     "execution_count": 90,
     "metadata": {},
     "output_type": "execute_result"
    }
   ],
   "source": [
    "r"
   ]
  },
  {
   "cell_type": "code",
   "execution_count": 91,
   "metadata": {},
   "outputs": [
    {
     "data": {
      "text/plain": [
       "defaultdict(int,\n",
       "            {('_wrap', 1): 488,\n",
       "             ('_wrap', 2): 486,\n",
       "             ('_wrap', 3): 484,\n",
       "             ('_wrap', 4): 482,\n",
       "             ('_wrap', 5): 480,\n",
       "             ('_wrap', 6): 478,\n",
       "             ('_wrap', 7): 476,\n",
       "             ('_wrap', 8): 474,\n",
       "             ('_wrap', 9): 472,\n",
       "             ('_wrap', 10): 470,\n",
       "             ('_wrap', 11): 468,\n",
       "             ('_wrap', 12): 466,\n",
       "             ('_wrap', 13): 464,\n",
       "             ('_wrap', 14): 462,\n",
       "             ('_wrap', 15): 460,\n",
       "             ('_wrap', 16): 458,\n",
       "             ('_wrap', 17): 456,\n",
       "             ('_wrap', 18): 454,\n",
       "             ('_wrap', 19): 452,\n",
       "             ('_wrap', 20): 452,\n",
       "             ('_wrap', 21): 448,\n",
       "             ('_wrap', 22): 446,\n",
       "             ('_wrap', 23): 444,\n",
       "             ('_wrap', 24): 442,\n",
       "             ('_wrap', 25): 440,\n",
       "             ('_wrap', 26): 438,\n",
       "             ('_wrap', 27): 436,\n",
       "             ('_wrap', 28): 434,\n",
       "             ('_wrap', 29): 432,\n",
       "             ('_wrap', 30): 430,\n",
       "             ('_wrap', 31): 428,\n",
       "             ('_wrap', 32): 426,\n",
       "             ('_wrap', 33): 424,\n",
       "             ('_wrap', 34): 422,\n",
       "             ('_wrap', 35): 420,\n",
       "             ('_wrap', 36): 418,\n",
       "             ('_wrap', 37): 416,\n",
       "             ('_wrap', 38): 415,\n",
       "             ('_wrap', 39): 412,\n",
       "             ('_wrap', 40): 410,\n",
       "             ('_wrap', 41): 408,\n",
       "             ('_wrap', 42): 406,\n",
       "             ('_wrap', 43): 404,\n",
       "             ('_wrap', 44): 402,\n",
       "             ('_wrap', 45): 400,\n",
       "             ('_wrap', 46): 398,\n",
       "             ('_wrap', 47): 396,\n",
       "             ('_wrap', 48): 394,\n",
       "             ('_wrap', 49): 392,\n",
       "             ('_wrap', 50): 390,\n",
       "             ('_wrap', 51): 388,\n",
       "             ('_wrap', 52): 386,\n",
       "             ('_wrap', 53): 384,\n",
       "             ('_wrap', 54): 382,\n",
       "             ('_wrap', 55): 380,\n",
       "             ('_wrap', 56): 378,\n",
       "             ('_wrap', 57): 376,\n",
       "             ('_wrap', 58): 374,\n",
       "             ('_wrap', 59): 372,\n",
       "             ('_wrap', 60): 370,\n",
       "             ('_wrap', 61): 368,\n",
       "             ('_wrap', 62): 366,\n",
       "             ('_wrap', 63): 364,\n",
       "             ('_wrap', 64): 362,\n",
       "             ('_wrap', 65): 360,\n",
       "             ('_wrap', 66): 358,\n",
       "             ('_wrap', 67): 356,\n",
       "             ('_wrap', 68): 354,\n",
       "             ('_wrap', 69): 352,\n",
       "             ('_wrap', 70): 350,\n",
       "             ('_wrap', 71): 348,\n",
       "             ('_wrap', 72): 346,\n",
       "             ('_wrap', 73): 344,\n",
       "             ('_wrap', 74): 342,\n",
       "             ('_wrap', 75): 340,\n",
       "             ('_wrap', 76): 338,\n",
       "             ('_wrap', 77): 336,\n",
       "             ('_wrap', 78): 334,\n",
       "             ('_wrap', 79): 332,\n",
       "             ('_wrap', 80): 330,\n",
       "             ('_wrap', 81): 328,\n",
       "             ('_wrap', 82): 326,\n",
       "             ('_wrap', 83): 324,\n",
       "             ('_wrap', 84): 322,\n",
       "             ('_wrap', 85): 320,\n",
       "             ('_wrap', 86): 318,\n",
       "             ('_wrap', 87): 316,\n",
       "             ('_wrap', 88): 314,\n",
       "             ('_wrap', 89): 312,\n",
       "             ('_wrap', 90): 310,\n",
       "             ('_wrap', 91): 308,\n",
       "             ('_wrap', 92): 306,\n",
       "             ('_wrap', 93): 304,\n",
       "             ('_wrap', 94): 302,\n",
       "             ('_wrap', 95): 300,\n",
       "             ('_wrap', 96): 298,\n",
       "             ('_wrap', 97): 296,\n",
       "             ('_wrap', 98): 294,\n",
       "             ('_wrap', 99): 292,\n",
       "             ('_wrap', 100): 290,\n",
       "             ('_wrap', 101): 288,\n",
       "             ('_wrap', 102): 286,\n",
       "             ('_wrap', 103): 284,\n",
       "             ('_wrap', 104): 282,\n",
       "             ('_wrap', 105): 280,\n",
       "             ('_wrap', 106): 278,\n",
       "             ('_wrap', 107): 276,\n",
       "             ('_wrap', 108): 274,\n",
       "             ('_wrap', 109): 272,\n",
       "             ('_wrap', 110): 270,\n",
       "             ('_wrap', 111): 268,\n",
       "             ('_wrap', 112): 266,\n",
       "             ('_wrap', 113): 264,\n",
       "             ('_wrap', 114): 262,\n",
       "             ('_wrap', 115): 260,\n",
       "             ('_wrap', 116): 258,\n",
       "             ('_wrap', 117): 256,\n",
       "             ('_wrap', 118): 254,\n",
       "             ('_wrap', 119): 252,\n",
       "             ('_wrap', 120): 250,\n",
       "             ('_wrap', 121): 248,\n",
       "             ('_wrap', 122): 246,\n",
       "             ('_wrap', 123): 244,\n",
       "             ('_wrap', 124): 242,\n",
       "             ('_wrap', 125): 240,\n",
       "             ('_wrap', 126): 238,\n",
       "             ('_wrap', 127): 236,\n",
       "             ('_wrap', 128): 234,\n",
       "             ('_wrap', 129): 232,\n",
       "             ('_wrap', 130): 230,\n",
       "             ('_wrap', 131): 228,\n",
       "             ('_wrap', 132): 226,\n",
       "             ('_wrap', 133): 224,\n",
       "             ('_wrap', 134): 222,\n",
       "             ('_wrap', 135): 220,\n",
       "             ('_wrap', 136): 218,\n",
       "             ('_wrap', 137): 216,\n",
       "             ('_wrap', 138): 214,\n",
       "             ('_wrap', 139): 212,\n",
       "             ('_wrap', 140): 210,\n",
       "             ('_wrap', 141): 208,\n",
       "             ('_wrap', 142): 206,\n",
       "             ('_wrap', 143): 204,\n",
       "             ('_wrap', 144): 202,\n",
       "             ('_wrap', 145): 200,\n",
       "             ('_wrap', 146): 198,\n",
       "             ('_wrap', 147): 196,\n",
       "             ('_wrap', 148): 194,\n",
       "             ('_wrap', 149): 192,\n",
       "             ('_wrap', 150): 190,\n",
       "             ('_wrap', 151): 188,\n",
       "             ('_wrap', 152): 186,\n",
       "             ('_wrap', 153): 184,\n",
       "             ('_wrap', 154): 182,\n",
       "             ('_wrap', 155): 180,\n",
       "             ('_wrap', 156): 178,\n",
       "             ('_wrap', 157): 176,\n",
       "             ('_wrap', 158): 174,\n",
       "             ('_wrap', 159): 172,\n",
       "             ('_wrap', 160): 170,\n",
       "             ('_wrap', 161): 168,\n",
       "             ('_wrap', 162): 166,\n",
       "             ('_wrap', 163): 164,\n",
       "             ('_wrap', 164): 162,\n",
       "             ('_wrap', 165): 160,\n",
       "             ('_wrap', 166): 158,\n",
       "             ('_wrap', 167): 156,\n",
       "             ('_wrap', 168): 154,\n",
       "             ('_wrap', 169): 152,\n",
       "             ('_wrap', 170): 150,\n",
       "             ('_wrap', 171): 148,\n",
       "             ('_wrap', 172): 146,\n",
       "             ('_wrap', 173): 144,\n",
       "             ('_wrap', 174): 142,\n",
       "             ('_wrap', 175): 140,\n",
       "             ('_wrap', 176): 138,\n",
       "             ('_wrap', 177): 136,\n",
       "             ('_wrap', 178): 134,\n",
       "             ('_wrap', 179): 132,\n",
       "             ('_wrap', 180): 130,\n",
       "             ('_wrap', 181): 128,\n",
       "             ('_wrap', 182): 126,\n",
       "             ('_wrap', 183): 124,\n",
       "             ('_wrap', 184): 122,\n",
       "             ('_wrap', 185): 120,\n",
       "             ('_wrap', 186): 118,\n",
       "             ('_wrap', 187): 116,\n",
       "             ('_wrap', 188): 114,\n",
       "             ('_wrap', 189): 112,\n",
       "             ('_wrap', 190): 110,\n",
       "             ('_wrap', 191): 108,\n",
       "             ('_wrap', 192): 106,\n",
       "             ('_wrap', 193): 104,\n",
       "             ('_wrap', 194): 102,\n",
       "             ('_wrap', 195): 100,\n",
       "             ('_wrap', 196): 98,\n",
       "             ('_wrap', 197): 96,\n",
       "             ('_wrap', 198): 94,\n",
       "             ('_wrap', 199): 92,\n",
       "             ('_wrap', 200): 90,\n",
       "             ('_wrap', 201): 88,\n",
       "             ('_wrap', 202): 86,\n",
       "             ('_wrap', 203): 84,\n",
       "             ('_wrap', 204): 82,\n",
       "             ('_wrap', 205): 80,\n",
       "             ('_wrap', 206): 78,\n",
       "             ('_wrap', 207): 76,\n",
       "             ('_wrap', 208): 74,\n",
       "             ('_wrap', 209): 72,\n",
       "             ('_wrap', 210): 70,\n",
       "             ('_wrap', 211): 68,\n",
       "             ('_wrap', 212): 66,\n",
       "             ('_wrap', 213): 64,\n",
       "             ('_wrap', 214): 62,\n",
       "             ('_wrap', 215): 60,\n",
       "             ('_wrap', 216): 58,\n",
       "             ('_wrap', 217): 56,\n",
       "             ('_wrap', 218): 54,\n",
       "             ('_wrap', 219): 52,\n",
       "             ('_wrap', 220): 50,\n",
       "             ('_wrap', 221): 48,\n",
       "             ('_wrap', 222): 46,\n",
       "             ('_wrap', 223): 44,\n",
       "             ('_wrap', 224): 42,\n",
       "             ('_wrap', 225): 40,\n",
       "             ('_wrap', 226): 38,\n",
       "             ('_wrap', 227): 36,\n",
       "             ('_wrap', 228): 34,\n",
       "             ('_wrap', 229): 32,\n",
       "             ('_wrap', 230): 30,\n",
       "             ('_wrap', 231): 28,\n",
       "             ('_wrap', 232): 26,\n",
       "             ('_wrap', 233): 24,\n",
       "             ('_wrap', 234): 24,\n",
       "             ('_wrap', 235): 20,\n",
       "             ('_wrap', 236): 18,\n",
       "             ('_wrap', 237): 16,\n",
       "             ('_wrap', 238): 14,\n",
       "             ('_wrap', 239): 12,\n",
       "             ('_wrap', 240): 10,\n",
       "             ('_wrap', 241): 8,\n",
       "             ('_wrap', 242): 6,\n",
       "             ('_wrap', 243): 4,\n",
       "             ('_wrap', 244): 2,\n",
       "             ('_wrap', 245): 1,\n",
       "             ('r', 1): 3188646,\n",
       "             ('r', 2): 1062882,\n",
       "             ('r', 3): 354294,\n",
       "             ('r', 4): 118098,\n",
       "             ('r', 5): 39366,\n",
       "             ('r', 6): 13122,\n",
       "             ('r', 7): 4374,\n",
       "             ('r', 8): 1458,\n",
       "             ('r', 9): 486,\n",
       "             ('r', 10): 162,\n",
       "             ('r', 11): 54,\n",
       "             ('r', 12): 18,\n",
       "             ('r', 13): 6,\n",
       "             ('r', 14): 2,\n",
       "             ('r', 15): 1})"
      ]
     },
     "execution_count": 91,
     "metadata": {},
     "output_type": "execute_result"
    }
   ],
   "source": [
    "called_time_with_arg"
   ]
  },
  {
   "cell_type": "code",
   "execution_count": 92,
   "metadata": {},
   "outputs": [
    {
     "data": {
      "text/plain": [
       "defaultdict(int,\n",
       "            {('_wrap', 1): 488,\n",
       "             ('_wrap', 2): 486,\n",
       "             ('_wrap', 3): 484,\n",
       "             ('_wrap', 4): 482,\n",
       "             ('_wrap', 5): 480,\n",
       "             ('_wrap', 6): 478,\n",
       "             ('_wrap', 7): 476,\n",
       "             ('_wrap', 8): 474,\n",
       "             ('_wrap', 9): 472,\n",
       "             ('_wrap', 10): 470,\n",
       "             ('_wrap', 11): 468,\n",
       "             ('_wrap', 12): 466,\n",
       "             ('_wrap', 13): 464,\n",
       "             ('_wrap', 14): 462,\n",
       "             ('_wrap', 15): 460,\n",
       "             ('_wrap', 16): 458,\n",
       "             ('_wrap', 17): 456,\n",
       "             ('_wrap', 18): 454,\n",
       "             ('_wrap', 19): 452,\n",
       "             ('_wrap', 20): 452,\n",
       "             ('_wrap', 21): 448,\n",
       "             ('_wrap', 22): 446,\n",
       "             ('_wrap', 23): 444,\n",
       "             ('_wrap', 24): 442,\n",
       "             ('_wrap', 25): 440,\n",
       "             ('_wrap', 26): 438,\n",
       "             ('_wrap', 27): 436,\n",
       "             ('_wrap', 28): 434,\n",
       "             ('_wrap', 29): 432,\n",
       "             ('_wrap', 30): 430,\n",
       "             ('_wrap', 31): 428,\n",
       "             ('_wrap', 32): 426,\n",
       "             ('_wrap', 33): 424,\n",
       "             ('_wrap', 34): 422,\n",
       "             ('_wrap', 35): 420,\n",
       "             ('_wrap', 36): 418,\n",
       "             ('_wrap', 37): 416,\n",
       "             ('_wrap', 38): 415,\n",
       "             ('_wrap', 39): 412,\n",
       "             ('_wrap', 40): 410,\n",
       "             ('_wrap', 41): 408,\n",
       "             ('_wrap', 42): 406,\n",
       "             ('_wrap', 43): 404,\n",
       "             ('_wrap', 44): 402,\n",
       "             ('_wrap', 45): 400,\n",
       "             ('_wrap', 46): 398,\n",
       "             ('_wrap', 47): 396,\n",
       "             ('_wrap', 48): 394,\n",
       "             ('_wrap', 49): 392,\n",
       "             ('_wrap', 50): 390,\n",
       "             ('_wrap', 51): 388,\n",
       "             ('_wrap', 52): 386,\n",
       "             ('_wrap', 53): 384,\n",
       "             ('_wrap', 54): 382,\n",
       "             ('_wrap', 55): 380,\n",
       "             ('_wrap', 56): 378,\n",
       "             ('_wrap', 57): 376,\n",
       "             ('_wrap', 58): 374,\n",
       "             ('_wrap', 59): 372,\n",
       "             ('_wrap', 60): 370,\n",
       "             ('_wrap', 61): 368,\n",
       "             ('_wrap', 62): 366,\n",
       "             ('_wrap', 63): 364,\n",
       "             ('_wrap', 64): 362,\n",
       "             ('_wrap', 65): 360,\n",
       "             ('_wrap', 66): 358,\n",
       "             ('_wrap', 67): 356,\n",
       "             ('_wrap', 68): 354,\n",
       "             ('_wrap', 69): 352,\n",
       "             ('_wrap', 70): 350,\n",
       "             ('_wrap', 71): 348,\n",
       "             ('_wrap', 72): 346,\n",
       "             ('_wrap', 73): 344,\n",
       "             ('_wrap', 74): 342,\n",
       "             ('_wrap', 75): 340,\n",
       "             ('_wrap', 76): 338,\n",
       "             ('_wrap', 77): 336,\n",
       "             ('_wrap', 78): 334,\n",
       "             ('_wrap', 79): 332,\n",
       "             ('_wrap', 80): 330,\n",
       "             ('_wrap', 81): 328,\n",
       "             ('_wrap', 82): 326,\n",
       "             ('_wrap', 83): 324,\n",
       "             ('_wrap', 84): 322,\n",
       "             ('_wrap', 85): 320,\n",
       "             ('_wrap', 86): 318,\n",
       "             ('_wrap', 87): 316,\n",
       "             ('_wrap', 88): 314,\n",
       "             ('_wrap', 89): 312,\n",
       "             ('_wrap', 90): 310,\n",
       "             ('_wrap', 91): 308,\n",
       "             ('_wrap', 92): 306,\n",
       "             ('_wrap', 93): 304,\n",
       "             ('_wrap', 94): 302,\n",
       "             ('_wrap', 95): 300,\n",
       "             ('_wrap', 96): 298,\n",
       "             ('_wrap', 97): 296,\n",
       "             ('_wrap', 98): 294,\n",
       "             ('_wrap', 99): 292,\n",
       "             ('_wrap', 100): 290,\n",
       "             ('_wrap', 101): 288,\n",
       "             ('_wrap', 102): 286,\n",
       "             ('_wrap', 103): 284,\n",
       "             ('_wrap', 104): 282,\n",
       "             ('_wrap', 105): 280,\n",
       "             ('_wrap', 106): 278,\n",
       "             ('_wrap', 107): 276,\n",
       "             ('_wrap', 108): 274,\n",
       "             ('_wrap', 109): 272,\n",
       "             ('_wrap', 110): 270,\n",
       "             ('_wrap', 111): 268,\n",
       "             ('_wrap', 112): 266,\n",
       "             ('_wrap', 113): 264,\n",
       "             ('_wrap', 114): 262,\n",
       "             ('_wrap', 115): 260,\n",
       "             ('_wrap', 116): 258,\n",
       "             ('_wrap', 117): 256,\n",
       "             ('_wrap', 118): 254,\n",
       "             ('_wrap', 119): 252,\n",
       "             ('_wrap', 120): 250,\n",
       "             ('_wrap', 121): 248,\n",
       "             ('_wrap', 122): 246,\n",
       "             ('_wrap', 123): 244,\n",
       "             ('_wrap', 124): 242,\n",
       "             ('_wrap', 125): 240,\n",
       "             ('_wrap', 126): 238,\n",
       "             ('_wrap', 127): 236,\n",
       "             ('_wrap', 128): 234,\n",
       "             ('_wrap', 129): 232,\n",
       "             ('_wrap', 130): 230,\n",
       "             ('_wrap', 131): 228,\n",
       "             ('_wrap', 132): 226,\n",
       "             ('_wrap', 133): 224,\n",
       "             ('_wrap', 134): 222,\n",
       "             ('_wrap', 135): 220,\n",
       "             ('_wrap', 136): 218,\n",
       "             ('_wrap', 137): 216,\n",
       "             ('_wrap', 138): 214,\n",
       "             ('_wrap', 139): 212,\n",
       "             ('_wrap', 140): 210,\n",
       "             ('_wrap', 141): 208,\n",
       "             ('_wrap', 142): 206,\n",
       "             ('_wrap', 143): 204,\n",
       "             ('_wrap', 144): 202,\n",
       "             ('_wrap', 145): 200,\n",
       "             ('_wrap', 146): 198,\n",
       "             ('_wrap', 147): 196,\n",
       "             ('_wrap', 148): 194,\n",
       "             ('_wrap', 149): 192,\n",
       "             ('_wrap', 150): 190,\n",
       "             ('_wrap', 151): 188,\n",
       "             ('_wrap', 152): 186,\n",
       "             ('_wrap', 153): 184,\n",
       "             ('_wrap', 154): 182,\n",
       "             ('_wrap', 155): 180,\n",
       "             ('_wrap', 156): 178,\n",
       "             ('_wrap', 157): 176,\n",
       "             ('_wrap', 158): 174,\n",
       "             ('_wrap', 159): 172,\n",
       "             ('_wrap', 160): 170,\n",
       "             ('_wrap', 161): 168,\n",
       "             ('_wrap', 162): 166,\n",
       "             ('_wrap', 163): 164,\n",
       "             ('_wrap', 164): 162,\n",
       "             ('_wrap', 165): 160,\n",
       "             ('_wrap', 166): 158,\n",
       "             ('_wrap', 167): 156,\n",
       "             ('_wrap', 168): 154,\n",
       "             ('_wrap', 169): 152,\n",
       "             ('_wrap', 170): 150,\n",
       "             ('_wrap', 171): 148,\n",
       "             ('_wrap', 172): 146,\n",
       "             ('_wrap', 173): 144,\n",
       "             ('_wrap', 174): 142,\n",
       "             ('_wrap', 175): 140,\n",
       "             ('_wrap', 176): 138,\n",
       "             ('_wrap', 177): 136,\n",
       "             ('_wrap', 178): 134,\n",
       "             ('_wrap', 179): 132,\n",
       "             ('_wrap', 180): 130,\n",
       "             ('_wrap', 181): 128,\n",
       "             ('_wrap', 182): 126,\n",
       "             ('_wrap', 183): 124,\n",
       "             ('_wrap', 184): 122,\n",
       "             ('_wrap', 185): 120,\n",
       "             ('_wrap', 186): 118,\n",
       "             ('_wrap', 187): 116,\n",
       "             ('_wrap', 188): 114,\n",
       "             ('_wrap', 189): 112,\n",
       "             ('_wrap', 190): 110,\n",
       "             ('_wrap', 191): 108,\n",
       "             ('_wrap', 192): 106,\n",
       "             ('_wrap', 193): 104,\n",
       "             ('_wrap', 194): 102,\n",
       "             ('_wrap', 195): 100,\n",
       "             ('_wrap', 196): 98,\n",
       "             ('_wrap', 197): 96,\n",
       "             ('_wrap', 198): 94,\n",
       "             ('_wrap', 199): 92,\n",
       "             ('_wrap', 200): 90,\n",
       "             ('_wrap', 201): 88,\n",
       "             ('_wrap', 202): 86,\n",
       "             ('_wrap', 203): 84,\n",
       "             ('_wrap', 204): 82,\n",
       "             ('_wrap', 205): 80,\n",
       "             ('_wrap', 206): 78,\n",
       "             ('_wrap', 207): 76,\n",
       "             ('_wrap', 208): 74,\n",
       "             ('_wrap', 209): 72,\n",
       "             ('_wrap', 210): 70,\n",
       "             ('_wrap', 211): 68,\n",
       "             ('_wrap', 212): 66,\n",
       "             ('_wrap', 213): 64,\n",
       "             ('_wrap', 214): 62,\n",
       "             ('_wrap', 215): 60,\n",
       "             ('_wrap', 216): 58,\n",
       "             ('_wrap', 217): 56,\n",
       "             ('_wrap', 218): 54,\n",
       "             ('_wrap', 219): 52,\n",
       "             ('_wrap', 220): 50,\n",
       "             ('_wrap', 221): 48,\n",
       "             ('_wrap', 222): 46,\n",
       "             ('_wrap', 223): 44,\n",
       "             ('_wrap', 224): 42,\n",
       "             ('_wrap', 225): 40,\n",
       "             ('_wrap', 226): 38,\n",
       "             ('_wrap', 227): 36,\n",
       "             ('_wrap', 228): 34,\n",
       "             ('_wrap', 229): 32,\n",
       "             ('_wrap', 230): 30,\n",
       "             ('_wrap', 231): 28,\n",
       "             ('_wrap', 232): 26,\n",
       "             ('_wrap', 233): 24,\n",
       "             ('_wrap', 234): 24,\n",
       "             ('_wrap', 235): 20,\n",
       "             ('_wrap', 236): 18,\n",
       "             ('_wrap', 237): 16,\n",
       "             ('_wrap', 238): 14,\n",
       "             ('_wrap', 239): 12,\n",
       "             ('_wrap', 240): 10,\n",
       "             ('_wrap', 241): 8,\n",
       "             ('_wrap', 242): 6,\n",
       "             ('_wrap', 243): 4,\n",
       "             ('_wrap', 244): 2,\n",
       "             ('_wrap', 245): 1,\n",
       "             ('r', 1): 3188646,\n",
       "             ('r', 2): 1062882,\n",
       "             ('r', 3): 354294,\n",
       "             ('r', 4): 118098,\n",
       "             ('r', 5): 39366,\n",
       "             ('r', 6): 13122,\n",
       "             ('r', 7): 4374,\n",
       "             ('r', 8): 1458,\n",
       "             ('r', 9): 486,\n",
       "             ('r', 10): 162,\n",
       "             ('r', 11): 54,\n",
       "             ('r', 12): 18,\n",
       "             ('r', 13): 6,\n",
       "             ('r', 14): 2,\n",
       "             ('r', 15): 1})"
      ]
     },
     "execution_count": 92,
     "metadata": {},
     "output_type": "execute_result"
    }
   ],
   "source": [
    "called_time_with_arg"
   ]
  },
  {
   "cell_type": "code",
   "execution_count": 93,
   "metadata": {},
   "outputs": [],
   "source": [
    "from collections import Counter"
   ]
  },
  {
   "cell_type": "code",
   "execution_count": 97,
   "metadata": {},
   "outputs": [
    {
     "data": {
      "text/plain": [
       "[]"
      ]
     },
     "execution_count": 97,
     "metadata": {},
     "output_type": "execute_result"
    }
   ],
   "source": [
    "Counter(called_time_with_arg).most_common()"
   ]
  },
  {
   "cell_type": "code",
   "execution_count": 98,
   "metadata": {},
   "outputs": [
    {
     "data": {
      "text/plain": [
       "45"
      ]
     },
     "execution_count": 98,
     "metadata": {},
     "output_type": "execute_result"
    }
   ],
   "source": [
    "r(15)"
   ]
  },
  {
   "cell_type": "markdown",
   "metadata": {},
   "source": [
    "## Edit Distance 编辑距离计算"
   ]
  },
  {
   "cell_type": "code",
   "execution_count": 1,
   "metadata": {},
   "outputs": [],
   "source": [
    "from typing import Tuple, List\n",
    "from functools import lru_cache"
   ]
  },
  {
   "cell_type": "code",
   "execution_count": 2,
   "metadata": {},
   "outputs": [],
   "source": [
    "solution = {}"
   ]
  },
  {
   "cell_type": "code",
   "execution_count": 3,
   "metadata": {},
   "outputs": [],
   "source": [
    "@lru_cache(maxsize=2**10)\n",
    "def edit_distance(string1, string2):\n",
    "    \n",
    "    if len(string1) == 0: return len(string2)\n",
    "    if len(string2) == 0: return len(string1)\n",
    "    \n",
    "    tail_s1 = string1[-1]\n",
    "    tail_s2 = string2[-1]\n",
    "    \n",
    "    candidates = [\n",
    "        (edit_distance(string1[:-1], string2) + 1, 'DEL {}'.format(tail_s1)),  # string 1 delete tail\n",
    "        (edit_distance(string1, string2[:-1]) + 1, 'ADD {}'.format(tail_s2)),  # string 1 add tail of string2\n",
    "    ]\n",
    "    \n",
    "    if tail_s1 == tail_s2:\n",
    "        both_forward = (edit_distance(string1[:-1], string2[:-1]) + 0, '')\n",
    "    else:\n",
    "        both_forward = (edit_distance(string1[:-1], string2[:-1]) + 1, 'SUB {} => {}'.format(tail_s1, tail_s2))\n",
    "\n",
    "    candidates.append(both_forward)\n",
    "    \n",
    "    min_distance, operation = min(candidates, key=lambda x: x[0])\n",
    "    \n",
    "    solution[(string1, string2)] = operation \n",
    "    \n",
    "    return min_distance"
   ]
  },
  {
   "cell_type": "code",
   "execution_count": 4,
   "metadata": {},
   "outputs": [
    {
     "data": {
      "text/plain": [
       "2"
      ]
     },
     "execution_count": 4,
     "metadata": {},
     "output_type": "execute_result"
    }
   ],
   "source": [
    "edit_distance('ABCDE', 'ABCCEF')"
   ]
  },
  {
   "cell_type": "code",
   "execution_count": 5,
   "metadata": {},
   "outputs": [
    {
     "data": {
      "text/plain": [
       "{('A', 'A'): '',\n",
       " ('A', 'AB'): 'ADD B',\n",
       " ('A', 'ABC'): 'ADD C',\n",
       " ('A', 'ABCC'): 'ADD C',\n",
       " ('A', 'ABCCE'): 'ADD E',\n",
       " ('A', 'ABCCEF'): 'ADD F',\n",
       " ('AB', 'A'): 'DEL B',\n",
       " ('AB', 'AB'): '',\n",
       " ('AB', 'ABC'): 'ADD C',\n",
       " ('AB', 'ABCC'): 'ADD C',\n",
       " ('AB', 'ABCCE'): 'ADD E',\n",
       " ('AB', 'ABCCEF'): 'ADD F',\n",
       " ('ABC', 'A'): 'DEL C',\n",
       " ('ABC', 'AB'): 'DEL C',\n",
       " ('ABC', 'ABC'): '',\n",
       " ('ABC', 'ABCC'): 'ADD C',\n",
       " ('ABC', 'ABCCE'): 'ADD E',\n",
       " ('ABC', 'ABCCEF'): 'ADD F',\n",
       " ('ABCD', 'A'): 'DEL D',\n",
       " ('ABCD', 'AB'): 'DEL D',\n",
       " ('ABCD', 'ABC'): 'DEL D',\n",
       " ('ABCD', 'ABCC'): 'SUB D => C',\n",
       " ('ABCD', 'ABCCE'): 'ADD E',\n",
       " ('ABCD', 'ABCCEF'): 'ADD F',\n",
       " ('ABCDE', 'A'): 'DEL E',\n",
       " ('ABCDE', 'AB'): 'DEL E',\n",
       " ('ABCDE', 'ABC'): 'DEL E',\n",
       " ('ABCDE', 'ABCC'): 'DEL E',\n",
       " ('ABCDE', 'ABCCE'): '',\n",
       " ('ABCDE', 'ABCCEF'): 'ADD F'}"
      ]
     },
     "execution_count": 5,
     "metadata": {},
     "output_type": "execute_result"
    }
   ],
   "source": [
    "solution"
   ]
  },
  {
   "cell_type": "code",
   "execution_count": 6,
   "metadata": {},
   "outputs": [
    {
     "data": {
      "text/plain": [
       "1"
      ]
     },
     "execution_count": 6,
     "metadata": {},
     "output_type": "execute_result"
    }
   ],
   "source": [
    "edit_distance('ATCGGAA', 'ATCGGGA')"
   ]
  },
  {
   "cell_type": "code",
   "execution_count": null,
   "metadata": {},
   "outputs": [],
   "source": []
  }
 ],
 "metadata": {
  "kernelspec": {
   "display_name": "Python 3",
   "language": "python",
   "name": "python3"
  },
  "language_info": {
   "codemirror_mode": {
    "name": "ipython",
    "version": 3
   },
   "file_extension": ".py",
   "mimetype": "text/x-python",
   "name": "python",
   "nbconvert_exporter": "python",
   "pygments_lexer": "ipython3",
   "version": "3.5.5"
  },
  "toc": {
   "base_numbering": 1,
   "nav_menu": {},
   "number_sections": true,
   "sideBar": true,
   "skip_h1_title": false,
   "title_cell": "Table of Contents",
   "title_sidebar": "Contents",
   "toc_cell": false,
   "toc_position": {
    "height": "calc(100% - 180px)",
    "left": "10px",
    "top": "150px",
    "width": "349px"
   },
   "toc_section_display": true,
   "toc_window_display": true
  }
 },
 "nbformat": 4,
 "nbformat_minor": 2
}
