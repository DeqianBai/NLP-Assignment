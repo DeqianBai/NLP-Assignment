{
  "nbformat": 4,
  "nbformat_minor": 0,
  "metadata": {
    "colab": {
      "name": "Assignment-01.ipynb",
      "version": "0.3.2",
      "provenance": [],
      "collapsed_sections": [
        "njROkmDsjjsL",
        "xd_7ZBUouLax"
      ]
    },
    "language_info": {
      "codemirror_mode": {
        "name": "ipython",
        "version": 3
      },
      "file_extension": ".py",
      "mimetype": "text/x-python",
      "name": "python",
      "nbconvert_exporter": "python",
      "pygments_lexer": "ipython3",
      "version": "3.7.3"
    },
    "kernelspec": {
      "display_name": "Python 3",
      "language": "python",
      "name": "python3"
    }
  },
  "cells": [
    {
      "cell_type": "markdown",
      "metadata": {
        "id": "2j9AU0qHuLZc",
        "colab_type": "text"
      },
      "source": [
        "## Lesson-01 Assignment"
      ]
    },
    {
      "cell_type": "markdown",
      "metadata": {
        "id": "X4YVl_QCuLZd",
        "colab_type": "text"
      },
      "source": [
        ">"
      ]
    },
    {
      "cell_type": "markdown",
      "metadata": {
        "id": "JDwptrLkuLZf",
        "colab_type": "text"
      },
      "source": [
        "`各位同学大家好，欢迎各位开始学习我们的人工智能课程。这门课程假设大家不具备机器学习和人工智能的知识，但是希望大家具备初级的Python编程能力。根据往期同学的实际反馈，我们课程的完结之后 能力能够超过80%的计算机人工智能/深度学习方向的硕士生的能力。`"
      ]
    },
    {
      "cell_type": "markdown",
      "metadata": {
        "id": "T_6TdmrvuLZf",
        "colab_type": "text"
      },
      "source": [
        "## 本次作业的内容"
      ]
    },
    {
      "cell_type": "markdown",
      "metadata": {
        "id": "7-dwfLHFuLZh",
        "colab_type": "text"
      },
      "source": [
        "#### 1. 复现课堂代码\n",
        "\n",
        "在本部分，你需要参照我们给大家的GitHub地址里边的课堂代码，结合课堂内容，复现内容。"
      ]
    },
    {
      "cell_type": "markdown",
      "metadata": {
        "id": "0QVSeTDIuLZi",
        "colab_type": "text"
      },
      "source": [
        "#### 2. 请回答以下问题\n",
        "\n",
        "回答以下问题，并将问题发送至 mqgao@kaikeba.com中：\n",
        "```\n",
        "    2.1. what do you want to acquire in this course？\n",
        "    2.2. what problems do you want to solve？\n",
        "    2.3. what’s the advantages you have to finish you goal?\n",
        "    2.4. what’s the disadvantages you need to overcome to finish you goal?\n",
        "    2.5. How will you plan to study in this course period?\n",
        "```"
      ]
    },
    {
      "cell_type": "markdown",
      "metadata": {
        "id": "Cz6OLT33uLZi",
        "colab_type": "text"
      },
      "source": [
        "#### 3. 如何提交\n",
        "代码 + 此 jupyter 相关，提交至自己的 github 中(**所以请务必把GitHub按照班主任要求录入在Trello中**)；\n",
        "第2问，请提交至mqgao@kaikeba.com邮箱。\n",
        "#### 4. 作业截止时间\n",
        "此次作业截止时间为 2019.7.6日"
      ]
    },
    {
      "cell_type": "markdown",
      "metadata": {
        "id": "nZqGjFUFuLZj",
        "colab_type": "text"
      },
      "source": [
        "#### 5. 完成以下问答和编程练习"
      ]
    },
    {
      "cell_type": "markdown",
      "metadata": {
        "id": "DnO-wpOduLZk",
        "colab_type": "text"
      },
      "source": [
        ">"
      ]
    },
    {
      "cell_type": "markdown",
      "metadata": {
        "id": "7iiaTHEquLZl",
        "colab_type": "text"
      },
      "source": [
        "## 基础理论部分"
      ]
    },
    {
      "cell_type": "markdown",
      "metadata": {
        "id": "-MmVncZTuLZl",
        "colab_type": "text"
      },
      "source": [
        "#### 0. Can you come up out 3 sceneraies which use AI methods? "
      ]
    },
    {
      "cell_type": "markdown",
      "metadata": {
        "id": "QAxGNU_HuLZm",
        "colab_type": "text"
      },
      "source": [
        "Ans: \n",
        "\n",
        "\n",
        "1.   智能咖啡售卖机，通过语音识别理解顾客的需求，并完成整个售卖过程。换句话说，它能够理解人的话语中的含义。\n",
        "2.   通过电梯中的监控，可以识别出进入电梯的电瓶车，并与数据库中已有的型号匹配，一来可用于安防，二来商家可以用来分析市场，精准投放广告\n",
        "\n",
        "3.   淘宝智能客服，问答机器人\n",
        "\n",
        "\n",
        "\n",
        "\n",
        "\n",
        "\n",
        "\n",
        "\n"
      ]
    },
    {
      "cell_type": "markdown",
      "metadata": {
        "id": "TmpTrGGSuLZo",
        "colab_type": "text"
      },
      "source": [
        "#### 1. How do we use Github; Why do we use Jupyter and Pycharm;"
      ]
    },
    {
      "cell_type": "markdown",
      "metadata": {
        "id": "xZfLxgoOuLZo",
        "colab_type": "text"
      },
      "source": [
        "Ans: \n",
        "\n",
        "\n",
        "1.    How do we use Github\n",
        "在这门课程中，我们用Github提交作业，除此之外还有别的作用，例如：\n",
        "\n",
        "\n",
        "*   上传自己的代码，保管自己的项目\n",
        "*   学习他人的代码和项目，并将代码克隆到本地\n",
        "\n",
        "*   团队协作\n",
        "*   创建自己的博客\n",
        "\n",
        "2.    Why do we use Jupyter and Pycharm\n",
        "\n",
        "\n",
        "*   jupyter notebook 是交互式的，可视性强，方便阅读演示，即写即现\n",
        "*   PyCharm适合用于大型项目的开发。\n",
        "\n",
        "\n"
      ]
    },
    {
      "cell_type": "markdown",
      "metadata": {
        "id": "iuKSQFk9uLZo",
        "colab_type": "text"
      },
      "source": [
        "#### 2. What's the Probability Model?"
      ]
    },
    {
      "cell_type": "markdown",
      "metadata": {
        "id": "FXO2vbWeuLZq",
        "colab_type": "text"
      },
      "source": [
        "Ans:\n",
        "一个概率模型是一种随机现象的数学表示。它由样本空间，样本空间内的事件以及 与每个事件相关的概率组成。这些概率可能已知，也可能未知。"
      ]
    },
    {
      "cell_type": "markdown",
      "metadata": {
        "id": "I7OE3cP9uLZr",
        "colab_type": "text"
      },
      "source": [
        "#### 3. Can you came up with some sceneraies at which we could use Probability Model?"
      ]
    },
    {
      "cell_type": "markdown",
      "metadata": {
        "id": "dLN1gK60uLZs",
        "colab_type": "text"
      },
      "source": [
        "Ans:\n",
        "\n",
        "\n",
        "1.   机器翻译\n",
        "2.   垃圾邮件分类\n",
        "3.  语音识别\n",
        "\n"
      ]
    },
    {
      "cell_type": "markdown",
      "metadata": {
        "id": "6LIEgfGZuLZt",
        "colab_type": "text"
      },
      "source": [
        "#### 4. Why do we use probability and what's the difficult points for programming based on parsing and pattern match?"
      ]
    },
    {
      "cell_type": "markdown",
      "metadata": {
        "id": "0nnUiqejuLZt",
        "colab_type": "text"
      },
      "source": [
        "Ans:\n",
        "\n",
        "\n",
        "1.   使用概率是因为基于统计的方法可以极大的提高准确率和可以解决的问题的规模。\n",
        "2.   难点\n",
        "\n",
        "\n",
        "*   想要通过文法规则覆盖哪怕20%的真实语句，文法规则的数量也至少是几万条，而且随着数量的增加，这些文法规则可能还会出现矛盾\n",
        "*   即使能够写出涵盖所有自然语言现象的语法规则集合，也很难用计算机来解析。因为描述自然语言的文法和计算机高级程序语言的文法不同。自然语言是有上下文相关特性的，它的文法是比较复杂的上下文有关文法，而程序是人为设计的，便于计算机解码的上下文无关文法，比自然语言简单的多。理解二者的计算量不可同日而语。\n",
        "\n",
        "\n",
        "\n"
      ]
    },
    {
      "cell_type": "markdown",
      "metadata": {
        "id": "E8drqEUAuLZu",
        "colab_type": "text"
      },
      "source": [
        "#### 5. What's the Language Model;"
      ]
    },
    {
      "cell_type": "markdown",
      "metadata": {
        "id": "_X9tJ3ikuLZv",
        "colab_type": "text"
      },
      "source": [
        "Ans:\n",
        "\n",
        "让计算机处理自然语言，一个基本的问题就是为自然语言这种上下文相关的特性建立数学模型，这个数学模型就是自然语言处理中常说的语言模型。用概率论的专业术语描述语言模型就是：\n",
        "\n",
        ">为长度为$m$的字符串$S$确定其概率分布$P(w_1,w_2,...,w_m)$，也就是$S$在文本中出现的可能性。其中$w_1$到$w_m$依次表示文本中的各个词语。一般采用链式法则计算其概率值：\n",
        "\n",
        "$P(w_1,w_2,...,w_m)=P(w_1)\\cdot P(w_2|w_1) \\cdot P(w_3|w_1,w_2) ...\\cdot P(w_m|w_1,w_2,...,w_{m-1})$"
      ]
    },
    {
      "cell_type": "markdown",
      "metadata": {
        "id": "3n4Fmuc0uLZx",
        "colab_type": "text"
      },
      "source": [
        "#### 6. Can you came up with some sceneraies at which we could use Language Model?\n"
      ]
    },
    {
      "cell_type": "markdown",
      "metadata": {
        "id": "qpEcf2nouLZx",
        "colab_type": "text"
      },
      "source": [
        "Ans:\n",
        "\n",
        "\n",
        "\n",
        "1.   语音识别\n",
        "2.   机器翻译\n",
        "3.  智能问答\n",
        "\n"
      ]
    },
    {
      "cell_type": "markdown",
      "metadata": {
        "id": "VIacckvruLZy",
        "colab_type": "text"
      },
      "source": [
        "#### 7. What's the 1-gram language model;"
      ]
    },
    {
      "cell_type": "markdown",
      "metadata": {
        "id": "9EBpBTGUuLZz",
        "colab_type": "text"
      },
      "source": [
        "根据第五问中的展开式，可以知道，当文本过长时，公式从第三项起的每一项计算难度都很大。为解决这个问题，有人提出了$n$元模型($n-gram$ $  model$)来降低计算难度。所谓$n$元模型就是在估算条件概率时，忽略距离大于等于$n$的上文词的影响，换句话说，就是假设一个词由前面的$N-1$个词决定。当$n=1$时称为一元模型"
      ]
    },
    {
      "cell_type": "markdown",
      "metadata": {
        "id": "w71Soic1uLZz",
        "colab_type": "text"
      },
      "source": [
        "#### 8. What's the disadvantages and advantages of 1-gram language model;"
      ]
    },
    {
      "cell_type": "markdown",
      "metadata": {
        "id": "gWABuJIluLZ1",
        "colab_type": "text"
      },
      "source": [
        "一元模型中，整个句子的概率等于各个词语概率的乘积。也就是说各个词之间是相互独立的，很明显，这么做损失了句中的**词序信息**"
      ]
    },
    {
      "cell_type": "markdown",
      "metadata": {
        "id": "W-dXSZP_uLZ1",
        "colab_type": "text"
      },
      "source": [
        "#### 9. What't the 2-gram models;"
      ]
    },
    {
      "cell_type": "markdown",
      "metadata": {
        "id": "bDG432OXuLZ3",
        "colab_type": "text"
      },
      "source": [
        "$n=2$时称为二元模型，$P(S)=P(w_1)\\cdot P(w_2|w_1) \\cdot P(w_3|w_2) ...\\cdot P(w_m|w_{m-1})$"
      ]
    },
    {
      "cell_type": "markdown",
      "metadata": {
        "id": "swXn_W7guLZ4",
        "colab_type": "text"
      },
      "source": [
        "## 编程实践部分"
      ]
    },
    {
      "cell_type": "markdown",
      "metadata": {
        "id": "s_xIXaNzuLZ5",
        "colab_type": "text"
      },
      "source": [
        "#### 1. 设计你自己的句子生成器"
      ]
    },
    {
      "cell_type": "markdown",
      "metadata": {
        "id": "qrf-SbcbuLZ6",
        "colab_type": "text"
      },
      "source": [
        "如何生成句子是一个很经典的问题，从1940s开始，图灵提出机器智能的时候，就使用的是人类能不能流畅和计算机进行对话。和计算机对话的一个前提是，计算机能够生成语言。\n",
        "\n",
        "计算机如何能生成语言是一个经典但是又很复杂的问题。 我们课程上为大家介绍的是一种基于规则（Rule Based）的生成方法。该方法虽然提出的时间早，但是现在依然在很多地方能够大显身手。值得说明的是，现在很多很实用的算法，都是很久之前提出的，例如，二分查找提出于1940s, Dijstra算法提出于1960s 等等。"
      ]
    },
    {
      "cell_type": "markdown",
      "metadata": {
        "id": "3-6sEi_yuLZ7",
        "colab_type": "text"
      },
      "source": [
        "在著名的电视剧，电影《西部世界》中，这些机器人们语言生成的方法就是使用的SyntaxTree生成语言的方法。\n",
        "\n",
        "> \n",
        ">\n",
        "\n",
        "![WstWorld](https://timgsa.baidu.com/timg?image&quality=80&size=b10000_10000&sec=1561818705&di=95ca9ff2ff37fcb88ae47b82c7079feb&src=http://s7.sinaimg.cn/mw690/006BKUGwzy75VK46FMi66&690)\n",
        "\n",
        "> \n",
        ">"
      ]
    },
    {
      "cell_type": "markdown",
      "metadata": {
        "id": "AkCWqhShuLZ8",
        "colab_type": "text"
      },
      "source": [
        "在这一部分，需要各位同学首先定义自己的语言。 大家可以先想一个应用场景，然后在这个场景下，定义语法。例如：\n",
        "\n",
        "在西部世界里，一个”人类“的语言可以定义为：\n",
        "``` \n",
        "human = \"\"\"\n",
        "human = 自己 寻找 活动\n",
        "自己 = 我 | 俺 | 我们 \n",
        "寻找 = 看看 | 找找 | 想找点\n",
        "活动 = 乐子 | 玩的\n",
        "\"\"\"\n",
        "```\n",
        "\n",
        "一个“接待员”的语言可以定义为\n",
        "```\n",
        "host = \"\"\"\n",
        "host = 寒暄 报数 询问 业务相关 结尾 \n",
        "报数 = 我是 数字 号 ,\n",
        "数字 = 单个数字 | 数字 单个数字 \n",
        "单个数字 = 1 | 2 | 3 | 4 | 5 | 6 | 7 | 8 | 9 \n",
        "寒暄 = 称谓 打招呼 | 打招呼\n",
        "称谓 = 人称 ,\n",
        "人称 = 先生 | 女士 | 小朋友\n",
        "打招呼 = 你好 | 您好 \n",
        "询问 = 请问你要 | 您需要\n",
        "业务相关 = 玩玩 具体业务\n",
        "玩玩 = 耍一耍 | 玩一玩\n",
        "具体业务 = 喝酒 | 打牌 | 打猎 | 赌博\n",
        "结尾 = 吗？\"\"\"\n",
        "\n",
        "```\n",
        "\n",
        "\n"
      ]
    },
    {
      "cell_type": "markdown",
      "metadata": {
        "id": "UPtf_O_YuLZ9",
        "colab_type": "text"
      },
      "source": [
        "请定义你自己的语法: "
      ]
    },
    {
      "cell_type": "markdown",
      "metadata": {
        "id": "cwIQ-vKVuLZ9",
        "colab_type": "text"
      },
      "source": [
        "第一个语法："
      ]
    },
    {
      "cell_type": "code",
      "metadata": {
        "id": "UrXoGvbXuLZ-",
        "colab_type": "code",
        "colab": {}
      },
      "source": [
        "teller = \"\"\"\n",
        "teller = 寒暄 询问 结尾\n",
        "寒暄 = 称谓 打招呼 | 打招呼\n",
        "称谓 = 先生 | 女士| 阁下\n",
        "打招呼 = 你好 | 您好 \n",
        "询问 = 请问你要办理什么业务 | 您需要办理什么业务\n",
        "结尾 = 呢？| 呀？|啊？\n",
        "\"\"\"\n"
      ],
      "execution_count": 0,
      "outputs": []
    },
    {
      "cell_type": "markdown",
      "metadata": {
        "id": "pH15l_uTuLaC",
        "colab_type": "text"
      },
      "source": [
        "第二个语法："
      ]
    },
    {
      "cell_type": "code",
      "metadata": {
        "id": "gOHLUeTvuLaD",
        "colab_type": "code",
        "colab": {}
      },
      "source": [
        "customer = \"\"\"\n",
        "customer = 自己 意图 具体业务\n",
        "自己 = 我 | 俺 | 我们 \n",
        "意图 = 想要 | 打算 | 准备\n",
        "具体业务 = 开户 | 办卡 | 修改密码 | 取款 | 存款 | 转账 | 挂失 | 绑定手机号\n",
        "\n",
        "\"\"\""
      ],
      "execution_count": 0,
      "outputs": []
    },
    {
      "cell_type": "markdown",
      "metadata": {
        "id": "SmXTxaa0uLaG",
        "colab_type": "text"
      },
      "source": [
        "TODO: 然后，使用自己之前定义的generate函数，使用此函数生成句子。"
      ]
    },
    {
      "cell_type": "code",
      "metadata": {
        "id": "Gbt31Ab2yunp",
        "colab_type": "code",
        "colab": {}
      },
      "source": [
        "import random"
      ],
      "execution_count": 0,
      "outputs": []
    },
    {
      "cell_type": "code",
      "metadata": {
        "id": "0dBarEJe3ION",
        "colab_type": "code",
        "colab": {}
      },
      "source": [
        "def create_grammar(grammar_str,split='='): # 输入的是grammar的字符表针\n",
        "  grammar = {}\n",
        "  for line in grammar_str.split('\\n'):\n",
        "    if not line.strip():continue\n",
        "  \n",
        "    exp,stmt = line.split(split)\n",
        "    grammar[exp.strip()] = [s.split() for s in stmt.split('|')]\n",
        "  return grammar"
      ],
      "execution_count": 0,
      "outputs": []
    },
    {
      "cell_type": "code",
      "metadata": {
        "id": "_hYVKJ2X3SKR",
        "colab_type": "code",
        "outputId": "3d0ae0d5-b8b8-4727-c8ac-e54acff79dee",
        "colab": {
          "base_uri": "https://localhost:8080/",
          "height": 121
        }
      },
      "source": [
        "example_grammar = create_grammar(teller)\n",
        "example_grammar"
      ],
      "execution_count": 5,
      "outputs": [
        {
          "output_type": "execute_result",
          "data": {
            "text/plain": [
              "{'teller': [['寒暄', '询问', '结尾']],\n",
              " '寒暄': [['称谓', '打招呼'], ['打招呼']],\n",
              " '打招呼': [['你好'], ['您好']],\n",
              " '称谓': [['先生'], ['女士'], ['阁下']],\n",
              " '结尾': [['呢？'], ['呀？'], ['啊？']],\n",
              " '询问': [['请问你要办理什么业务'], ['您需要办理什么业务']]}"
            ]
          },
          "metadata": {
            "tags": []
          },
          "execution_count": 5
        }
      ]
    },
    {
      "cell_type": "code",
      "metadata": {
        "id": "wgx6vASmyuwP",
        "colab_type": "code",
        "colab": {}
      },
      "source": [
        "choice = random.choice\n",
        "\n",
        "def generate(gram,target):\n",
        "  if target not in gram : return target # means target is a terminal expression\n",
        "  \n",
        "  expaned = [generate(gram,t) for t in choice(gram[target])] # 过滤'null'\n",
        "  return ''.join([e for e in expaned if e != 'null'])"
      ],
      "execution_count": 0,
      "outputs": []
    },
    {
      "cell_type": "code",
      "metadata": {
        "id": "qMaYoPgg2W7o",
        "colab_type": "code",
        "outputId": "c531621c-0abc-4889-f927-ed955b4f6f17",
        "colab": {
          "base_uri": "https://localhost:8080/",
          "height": 35
        }
      },
      "source": [
        "generate(gram=example_grammar,target='teller')"
      ],
      "execution_count": 7,
      "outputs": [
        {
          "output_type": "execute_result",
          "data": {
            "text/plain": [
              "'你好您需要办理什么业务呀？'"
            ]
          },
          "metadata": {
            "tags": []
          },
          "execution_count": 7
        }
      ]
    },
    {
      "cell_type": "markdown",
      "metadata": {
        "id": "NywxdwkeuLaH",
        "colab_type": "text"
      },
      "source": [
        "TODO: 然后，定义一个函数，generate_n，将generate扩展，使其能够生成n个句子:"
      ]
    },
    {
      "cell_type": "code",
      "metadata": {
        "id": "P6t4om0nuLaH",
        "colab_type": "code",
        "colab": {}
      },
      "source": [
        "def generate_n(n):\n",
        "    for i in range(n):\n",
        "      print(generate(gram=create_grammar(teller),target='teller'))\n"
      ],
      "execution_count": 0,
      "outputs": []
    },
    {
      "cell_type": "code",
      "metadata": {
        "id": "yOdOyeLl450p",
        "colab_type": "code",
        "outputId": "1c950393-731d-447f-e052-ed6eb70fb12e",
        "colab": {
          "base_uri": "https://localhost:8080/",
          "height": 104
        }
      },
      "source": [
        "generate_n(5)"
      ],
      "execution_count": 9,
      "outputs": [
        {
          "output_type": "stream",
          "text": [
            "先生您好请问你要办理什么业务呀？\n",
            "阁下您好您需要办理什么业务啊？\n",
            "女士你好您需要办理什么业务啊？\n",
            "你好请问你要办理什么业务呀？\n",
            "女士你好请问你要办理什么业务呢？\n"
          ],
          "name": "stdout"
        }
      ]
    },
    {
      "cell_type": "code",
      "metadata": {
        "id": "uqZjhd-l5Mkz",
        "colab_type": "code",
        "outputId": "a70392e9-a5f8-4799-ad23-9a040db4c9fb",
        "colab": {
          "base_uri": "https://localhost:8080/",
          "height": 190
        }
      },
      "source": [
        "for i in range(10):\n",
        "      print(generate(gram=create_grammar(customer),target='customer'))\n"
      ],
      "execution_count": 10,
      "outputs": [
        {
          "output_type": "stream",
          "text": [
            "我想要开户\n",
            "俺准备存款\n",
            "我准备转账\n",
            "我想要办卡\n",
            "我们想要存款\n",
            "俺想要取款\n",
            "我们准备取款\n",
            "我们准备取款\n",
            "我准备转账\n",
            "我准备绑定手机号\n"
          ],
          "name": "stdout"
        }
      ]
    },
    {
      "cell_type": "markdown",
      "metadata": {
        "id": "R6oiBuwOuLaL",
        "colab_type": "text"
      },
      "source": [
        ">"
      ]
    },
    {
      "cell_type": "markdown",
      "metadata": {
        "id": "RXrMGk37uLaM",
        "colab_type": "text"
      },
      "source": [
        "#### 2. 使用新数据源完成语言模型的训练"
      ]
    },
    {
      "cell_type": "markdown",
      "metadata": {
        "id": "_tFrdzK3uLaM",
        "colab_type": "text"
      },
      "source": [
        "按照我们上文中定义的`prob_2`函数，我们更换一个文本数据源，获得新的Language Model:\n",
        "\n",
        "1. 下载文本数据集（你可以在以下数据集中任选一个，也可以两个都使用）\n",
        "    + 可选数据集1，保险行业问询对话集： https://github.com/Computing-Intelligence/insuranceqa-corpus-zh/raw/release/corpus/pool/train.txt.gz\n",
        "    + 可选数据集2：豆瓣评论数据集：https://github.com/Computing-Intelligence/datasource/raw/master/movie_comments.csv\n",
        "2. 修改代码，获得新的**2-gram**语言模型\n",
        "    + 进行文本清洗，获得所有的纯文本\n",
        "    + 将这些文本进行切词\n",
        "    + 送入之前定义的语言模型中，判断文本的合理程度"
      ]
    },
    {
      "cell_type": "markdown",
      "metadata": {
        "id": "hhVbylMHjaow",
        "colab_type": "text"
      },
      "source": [
        "##### 2.1 豆瓣评论"
      ]
    },
    {
      "cell_type": "markdown",
      "metadata": {
        "id": "I3Il54qBiqLq",
        "colab_type": "text"
      },
      "source": [
        "1. 导入需要的包"
      ]
    },
    {
      "cell_type": "code",
      "metadata": {
        "id": "OenIaQkQilfx",
        "colab_type": "code",
        "colab": {}
      },
      "source": [
        "import random\n",
        "import pandas as pd"
      ],
      "execution_count": 0,
      "outputs": []
    },
    {
      "cell_type": "code",
      "metadata": {
        "id": "XmCh6xOiilpy",
        "colab_type": "code",
        "outputId": "b93da30f-c1f6-4d97-a591-a13652eac859",
        "colab": {
          "base_uri": "https://localhost:8080/",
          "height": 35
        }
      },
      "source": [
        "random.choice(range(100))"
      ],
      "execution_count": 12,
      "outputs": [
        {
          "output_type": "execute_result",
          "data": {
            "text/plain": [
              "18"
            ]
          },
          "metadata": {
            "tags": []
          },
          "execution_count": 12
        }
      ]
    },
    {
      "cell_type": "code",
      "metadata": {
        "id": "5wjKHhqyjpXb",
        "colab_type": "code",
        "outputId": "c22330f4-884d-4e72-b4c9-496f0224d2a5",
        "colab": {
          "base_uri": "https://localhost:8080/",
          "height": 124
        }
      },
      "source": [
        "from google.colab import drive\n",
        "drive.mount('/content/drive/')"
      ],
      "execution_count": 13,
      "outputs": [
        {
          "output_type": "stream",
          "text": [
            "Go to this URL in a browser: https://accounts.google.com/o/oauth2/auth?client_id=947318989803-6bn6qk8qdgf4n4g3pfee6491hc0brc4i.apps.googleusercontent.com&redirect_uri=urn%3Aietf%3Awg%3Aoauth%3A2.0%3Aoob&scope=email%20https%3A%2F%2Fwww.googleapis.com%2Fauth%2Fdocs.test%20https%3A%2F%2Fwww.googleapis.com%2Fauth%2Fdrive%20https%3A%2F%2Fwww.googleapis.com%2Fauth%2Fdrive.photos.readonly%20https%3A%2F%2Fwww.googleapis.com%2Fauth%2Fpeopleapi.readonly&response_type=code\n",
            "\n",
            "Enter your authorization code:\n",
            "··········\n",
            "Mounted at /content/drive/\n"
          ],
          "name": "stdout"
        }
      ]
    },
    {
      "cell_type": "markdown",
      "metadata": {
        "id": "M3VSneYSmecE",
        "colab_type": "text"
      },
      "source": [
        "2. 读取数据"
      ]
    },
    {
      "cell_type": "code",
      "metadata": {
        "id": "W4MpdK41jpai",
        "colab_type": "code",
        "outputId": "31efce55-ce50-4ce3-9067-33dc8f751054",
        "colab": {
          "base_uri": "https://localhost:8080/",
          "height": 52
        }
      },
      "source": [
        "comment = pd.read_csv(\"/content/drive/My Drive/Colab Notebooks/jupyters_and_slides/data/movie_comments.csv\")"
      ],
      "execution_count": 14,
      "outputs": [
        {
          "output_type": "stream",
          "text": [
            "/usr/local/lib/python3.6/dist-packages/IPython/core/interactiveshell.py:2718: DtypeWarning: Columns (0,4) have mixed types. Specify dtype option on import or set low_memory=False.\n",
            "  interactivity=interactivity, compiler=compiler, result=result)\n"
          ],
          "name": "stderr"
        }
      ]
    },
    {
      "cell_type": "code",
      "metadata": {
        "id": "HHbaNj_bjpdr",
        "colab_type": "code",
        "outputId": "235200b3-d4ea-4f4c-e480-c83a95771f4c",
        "colab": {
          "base_uri": "https://localhost:8080/",
          "height": 198
        }
      },
      "source": [
        "comment.head()"
      ],
      "execution_count": 0,
      "outputs": [
        {
          "output_type": "execute_result",
          "data": {
            "text/html": [
              "<div>\n",
              "<style scoped>\n",
              "    .dataframe tbody tr th:only-of-type {\n",
              "        vertical-align: middle;\n",
              "    }\n",
              "\n",
              "    .dataframe tbody tr th {\n",
              "        vertical-align: top;\n",
              "    }\n",
              "\n",
              "    .dataframe thead th {\n",
              "        text-align: right;\n",
              "    }\n",
              "</style>\n",
              "<table border=\"1\" class=\"dataframe\">\n",
              "  <thead>\n",
              "    <tr style=\"text-align: right;\">\n",
              "      <th></th>\n",
              "      <th>id</th>\n",
              "      <th>link</th>\n",
              "      <th>name</th>\n",
              "      <th>comment</th>\n",
              "      <th>star</th>\n",
              "    </tr>\n",
              "  </thead>\n",
              "  <tbody>\n",
              "    <tr>\n",
              "      <th>0</th>\n",
              "      <td>1</td>\n",
              "      <td>https://movie.douban.com/subject/26363254/</td>\n",
              "      <td>战狼2</td>\n",
              "      <td>吴京意淫到了脑残的地步，看了恶心想吐</td>\n",
              "      <td>1</td>\n",
              "    </tr>\n",
              "    <tr>\n",
              "      <th>1</th>\n",
              "      <td>2</td>\n",
              "      <td>https://movie.douban.com/subject/26363254/</td>\n",
              "      <td>战狼2</td>\n",
              "      <td>首映礼看的。太恐怖了这个电影，不讲道理的，完全就是吴京在实现他这个小粉红的英雄梦。各种装备轮...</td>\n",
              "      <td>2</td>\n",
              "    </tr>\n",
              "    <tr>\n",
              "      <th>2</th>\n",
              "      <td>3</td>\n",
              "      <td>https://movie.douban.com/subject/26363254/</td>\n",
              "      <td>战狼2</td>\n",
              "      <td>吴京的炒作水平不输冯小刚，但小刚至少不会用主旋律来炒作…吴京让人看了不舒服，为了主旋律而主旋...</td>\n",
              "      <td>2</td>\n",
              "    </tr>\n",
              "    <tr>\n",
              "      <th>3</th>\n",
              "      <td>4</td>\n",
              "      <td>https://movie.douban.com/subject/26363254/</td>\n",
              "      <td>战狼2</td>\n",
              "      <td>凭良心说，好看到不像《战狼1》的续集，完虐《湄公河行动》。</td>\n",
              "      <td>4</td>\n",
              "    </tr>\n",
              "    <tr>\n",
              "      <th>4</th>\n",
              "      <td>5</td>\n",
              "      <td>https://movie.douban.com/subject/26363254/</td>\n",
              "      <td>战狼2</td>\n",
              "      <td>中二得很</td>\n",
              "      <td>1</td>\n",
              "    </tr>\n",
              "  </tbody>\n",
              "</table>\n",
              "</div>"
            ],
            "text/plain": [
              "  id  ... star\n",
              "0  1  ...    1\n",
              "1  2  ...    2\n",
              "2  3  ...    2\n",
              "3  4  ...    4\n",
              "4  5  ...    1\n",
              "\n",
              "[5 rows x 5 columns]"
            ]
          },
          "metadata": {
            "tags": []
          },
          "execution_count": 15
        }
      ]
    },
    {
      "cell_type": "markdown",
      "metadata": {
        "id": "_TX8rU0im7Xc",
        "colab_type": "text"
      },
      "source": [
        "3. 将评论那一列的内容写进到一个列表里"
      ]
    },
    {
      "cell_type": "code",
      "metadata": {
        "id": "fm4L_9DYjpgy",
        "colab_type": "code",
        "colab": {}
      },
      "source": [
        "comments = comment['comment'].tolist()"
      ],
      "execution_count": 0,
      "outputs": []
    },
    {
      "cell_type": "code",
      "metadata": {
        "id": "gmX4F8rNjpkC",
        "colab_type": "code",
        "outputId": "b647f23f-33a8-421c-d24c-5e43d60d5bc3",
        "colab": {
          "base_uri": "https://localhost:8080/",
          "height": 35
        }
      },
      "source": [
        "len(comments)"
      ],
      "execution_count": 0,
      "outputs": [
        {
          "output_type": "execute_result",
          "data": {
            "text/plain": [
              "261497"
            ]
          },
          "metadata": {
            "tags": []
          },
          "execution_count": 57
        }
      ]
    },
    {
      "cell_type": "code",
      "metadata": {
        "id": "Wmr9DymSmona",
        "colab_type": "code",
        "outputId": "f290ac58-807c-4c2f-f439-646754e9ec7b",
        "colab": {
          "base_uri": "https://localhost:8080/",
          "height": 35
        }
      },
      "source": [
        "type(comments)"
      ],
      "execution_count": 0,
      "outputs": [
        {
          "output_type": "execute_result",
          "data": {
            "text/plain": [
              "list"
            ]
          },
          "metadata": {
            "tags": []
          },
          "execution_count": 67
        }
      ]
    },
    {
      "cell_type": "code",
      "metadata": {
        "id": "t4zes3gfjpm4",
        "colab_type": "code",
        "outputId": "842fecfa-57e9-4a43-e245-99e2f8287790",
        "colab": {
          "base_uri": "https://localhost:8080/",
          "height": 35
        }
      },
      "source": [
        "# 查看第1000个元素的内容\n",
        "comments[999]"
      ],
      "execution_count": 0,
      "outputs": [
        {
          "output_type": "execute_result",
          "data": {
            "text/plain": [
              "'娃娃兵让人揪心，天杀的毒贩子。ps：给哮天的演技点赞。'"
            ]
          },
          "metadata": {
            "tags": []
          },
          "execution_count": 61
        }
      ]
    },
    {
      "cell_type": "code",
      "metadata": {
        "id": "I3Os6HrsmHSL",
        "colab_type": "code",
        "colab": {}
      },
      "source": [
        "import re"
      ],
      "execution_count": 0,
      "outputs": []
    },
    {
      "cell_type": "markdown",
      "metadata": {
        "id": "YemrhNXrnO6t",
        "colab_type": "text"
      },
      "source": [
        "4. 定义一个正则表达式，将所有的单词找出来"
      ]
    },
    {
      "cell_type": "code",
      "metadata": {
        "id": "z2_074W_mHVt",
        "colab_type": "code",
        "colab": {}
      },
      "source": [
        "def token(string):\n",
        "    # we will learn the regular expression-正则表达式 next course.\n",
        "    return re.findall('\\w+', string)"
      ],
      "execution_count": 0,
      "outputs": []
    },
    {
      "cell_type": "code",
      "metadata": {
        "id": "TYAOuuramHZK",
        "colab_type": "code",
        "outputId": "9eed5dca-a944-4d66-8afc-bff8c6fa788f",
        "colab": {
          "base_uri": "https://localhost:8080/",
          "height": 35
        }
      },
      "source": [
        "token(comments[999])"
      ],
      "execution_count": 0,
      "outputs": [
        {
          "output_type": "execute_result",
          "data": {
            "text/plain": [
              "['娃娃兵让人揪心', '天杀的毒贩子', 'ps', '给哮天的演技点赞']"
            ]
          },
          "metadata": {
            "tags": []
          },
          "execution_count": 65
        }
      ]
    },
    {
      "cell_type": "code",
      "metadata": {
        "id": "eEcszZKMmblo",
        "colab_type": "code",
        "outputId": "29df057f-f436-424d-a6b9-71d3080ee741",
        "colab": {
          "base_uri": "https://localhost:8080/",
          "height": 35
        }
      },
      "source": [
        "''.join(token(comments[999]))"
      ],
      "execution_count": 0,
      "outputs": [
        {
          "output_type": "execute_result",
          "data": {
            "text/plain": [
              "'娃娃兵让人揪心天杀的毒贩子ps给哮天的演技点赞'"
            ]
          },
          "metadata": {
            "tags": []
          },
          "execution_count": 68
        }
      ]
    },
    {
      "cell_type": "markdown",
      "metadata": {
        "id": "7h7YWxtRn-oa",
        "colab_type": "text"
      },
      "source": [
        "5. 文本清洗：将评论中所有的单词找出来，然后合并"
      ]
    },
    {
      "cell_type": "code",
      "metadata": {
        "id": "9yuhAxFrnd-U",
        "colab_type": "code",
        "colab": {}
      },
      "source": [
        "comments_clean = [''.join(token(str(a))) for a in comments]"
      ],
      "execution_count": 0,
      "outputs": []
    },
    {
      "cell_type": "code",
      "metadata": {
        "id": "Pbn0uKDboLdI",
        "colab_type": "code",
        "outputId": "5d9740d5-4f9b-4e09-bacb-72cb999758fd",
        "colab": {
          "base_uri": "https://localhost:8080/",
          "height": 35
        }
      },
      "source": [
        "len(comments_clean)"
      ],
      "execution_count": 0,
      "outputs": [
        {
          "output_type": "execute_result",
          "data": {
            "text/plain": [
              "261497"
            ]
          },
          "metadata": {
            "tags": []
          },
          "execution_count": 71
        }
      ]
    },
    {
      "cell_type": "markdown",
      "metadata": {
        "id": "KEtQStyzpUnr",
        "colab_type": "text"
      },
      "source": [
        "6. 将5中清洗好的文本写入.txt文件中，然后导入jieba包，用于后续切词"
      ]
    },
    {
      "cell_type": "code",
      "metadata": {
        "id": "5K27hIegoLgU",
        "colab_type": "code",
        "colab": {}
      },
      "source": [
        "with open ('comment_26k.txt','w') as f:\n",
        "  for a in comments_clean:\n",
        "    f.write(a + '\\n')"
      ],
      "execution_count": 0,
      "outputs": []
    },
    {
      "cell_type": "code",
      "metadata": {
        "id": "Lw8yawmkoLi-",
        "colab_type": "code",
        "outputId": "ca13f52c-4e34-4abb-fe72-6b33da101a92",
        "colab": {
          "base_uri": "https://localhost:8080/",
          "height": 35
        }
      },
      "source": [
        "!ls"
      ],
      "execution_count": 0,
      "outputs": [
        {
          "output_type": "stream",
          "text": [
            "comment_26k.txt  drive\tsample_data\n"
          ],
          "name": "stdout"
        }
      ]
    },
    {
      "cell_type": "code",
      "metadata": {
        "id": "6YWepJB6pMRo",
        "colab_type": "code",
        "colab": {}
      },
      "source": [
        "import jieba"
      ],
      "execution_count": 0,
      "outputs": []
    },
    {
      "cell_type": "code",
      "metadata": {
        "id": "KI8CbSugpMWV",
        "colab_type": "code",
        "colab": {}
      },
      "source": [
        "def cut(string): return list(jieba.cut(string))"
      ],
      "execution_count": 0,
      "outputs": []
    },
    {
      "cell_type": "markdown",
      "metadata": {
        "id": "QN9TjlQjp0R0",
        "colab_type": "text"
      },
      "source": [
        "7. 定义一个空列表，将comment_26k.txt中的内容切词后放入其中"
      ]
    },
    {
      "cell_type": "code",
      "metadata": {
        "id": "RbvXxLBapMaV",
        "colab_type": "code",
        "colab": {}
      },
      "source": [
        "TOKEN = [] # 定义一个空列表"
      ],
      "execution_count": 0,
      "outputs": []
    },
    {
      "cell_type": "markdown",
      "metadata": {
        "id": "cufgzWENqdF7",
        "colab_type": "text"
      },
      "source": [
        "我使用Google的Colab进行计算的，所以我使用数据中的所有词，如果你的机器算力不够，可以使用下面的代码：\n",
        "\n",
        "\n",
        "```\n",
        "for i,line in enumerate((open('comment_26k.txt'))):\n",
        "  if i %100 == 0: print(i)\n",
        "    \n",
        "  if i > 10000:break\n",
        "  TOKEN += cut(line)\n",
        "```\n",
        "\n",
        "\n",
        "关于如何使用Colab,请移步：\n",
        "\n",
        "\n",
        "1.   https://medium.com/deep-learning-turkey/google-colab-free-gpu-tutorial-e113627b9f5d\n",
        "2.   https://towardsdatascience.com/getting-started-with-google-colab-f2fff97f594c\n",
        "3.   https://colab.research.google.com/notebooks/welcome.ipynb#scrollTo=-Rh3-Vt9Nev9\n",
        "\n"
      ]
    },
    {
      "cell_type": "markdown",
      "metadata": {
        "id": "cp5wbI4Er0Kd",
        "colab_type": "text"
      },
      "source": [
        "当我们遍历访问集合中的元素时，如果我们同时需要索引和元素，有一种简洁的方式，那就是通过Python内置的函数enumerate()。\n",
        "\n",
        "用它来遍历集合，不仅返回每个元素，并且还返回其对应的索引"
      ]
    },
    {
      "cell_type": "code",
      "metadata": {
        "id": "l5vUUw7rqVc-",
        "colab_type": "code",
        "outputId": "e81c547a-f42c-451c-b0b0-f2988de68570",
        "colab": {
          "base_uri": "https://localhost:8080/",
          "height": 86
        }
      },
      "source": [
        "for i, line in enumerate((open('comment_26k.txt'))):  \n",
        "    TOKEN += cut(line)"
      ],
      "execution_count": 23,
      "outputs": [
        {
          "output_type": "stream",
          "text": [
            "Building prefix dict from the default dictionary ...\n",
            "Dumping model to file cache /tmp/jieba.cache\n",
            "Loading model cost 1.064 seconds.\n",
            "Prefix dict has been built succesfully.\n"
          ],
          "name": "stderr"
        }
      ]
    },
    {
      "cell_type": "code",
      "metadata": {
        "id": "9HFGp8nssoII",
        "colab_type": "code",
        "colab": {}
      },
      "source": [
        "from collections import Counter\n",
        "from functools import reduce\n",
        "from operator import add,mul"
      ],
      "execution_count": 0,
      "outputs": []
    },
    {
      "cell_type": "code",
      "metadata": {
        "id": "xi92VAO2qVgV",
        "colab_type": "code",
        "colab": {}
      },
      "source": [
        "words_count = Counter(TOKEN)"
      ],
      "execution_count": 0,
      "outputs": []
    },
    {
      "cell_type": "code",
      "metadata": {
        "id": "3IBcSLmsqVn7",
        "colab_type": "code",
        "colab": {}
      },
      "source": [
        "words_count.most_common(100)"
      ],
      "execution_count": 0,
      "outputs": []
    },
    {
      "cell_type": "code",
      "metadata": {
        "id": "JnI-wee63zIG",
        "colab_type": "code",
        "colab": {}
      },
      "source": [
        "%matplotlib inline\n",
        "import matplotlib.pyplot as plt\n",
        "import numpy as np"
      ],
      "execution_count": 0,
      "outputs": []
    },
    {
      "cell_type": "code",
      "metadata": {
        "id": "jNd0U0WH3auf",
        "colab_type": "code",
        "colab": {}
      },
      "source": [
        "frequiences = [f for w, f in words_count.most_common(100)]"
      ],
      "execution_count": 0,
      "outputs": []
    },
    {
      "cell_type": "code",
      "metadata": {
        "id": "gicgwabq3axi",
        "colab_type": "code",
        "colab": {}
      },
      "source": [
        "x = [i for i in range(100)]"
      ],
      "execution_count": 0,
      "outputs": []
    },
    {
      "cell_type": "code",
      "metadata": {
        "id": "5gtnRE1R3a0-",
        "colab_type": "code",
        "outputId": "504e67aa-ba52-4624-9713-1e21863904fc",
        "colab": {
          "base_uri": "https://localhost:8080/",
          "height": 286
        }
      },
      "source": [
        "plt.plot(x, frequiences)"
      ],
      "execution_count": 31,
      "outputs": [
        {
          "output_type": "execute_result",
          "data": {
            "text/plain": [
              "[<matplotlib.lines.Line2D at 0x7ff556b7f9b0>]"
            ]
          },
          "metadata": {
            "tags": []
          },
          "execution_count": 31
        },
        {
          "output_type": "display_data",
          "data": {
            "image/png": "[encoded data removed]",
            "text/plain": [
              "<Figure size 432x288 with 1 Axes>"
            ]
          },
          "metadata": {
            "tags": []
          }
        }
      ]
    },
    {
      "cell_type": "code",
      "metadata": {
        "id": "IfK8k62F3a4F",
        "colab_type": "code",
        "outputId": "5ee3a938-47fd-4d49-b14d-eb812e2858fa",
        "colab": {
          "base_uri": "https://localhost:8080/",
          "height": 286
        }
      },
      "source": [
        "plt.plot(x, np.log(frequiences))"
      ],
      "execution_count": 32,
      "outputs": [
        {
          "output_type": "execute_result",
          "data": {
            "text/plain": [
              "[<matplotlib.lines.Line2D at 0x7ff55428f320>]"
            ]
          },
          "metadata": {
            "tags": []
          },
          "execution_count": 32
        },
        {
          "output_type": "display_data",
          "data": {
            "image/png": "[encoded data removed]",
            "text/plain": [
              "<Figure size 432x288 with 1 Axes>"
            ]
          },
          "metadata": {
            "tags": []
          }
        }
      ]
    },
    {
      "cell_type": "markdown",
      "metadata": {
        "id": "oet512lb4cOV",
        "colab_type": "text"
      },
      "source": [
        "8. 计算单个单词的概率"
      ]
    },
    {
      "cell_type": "code",
      "metadata": {
        "id": "68SUrrYF4bo3",
        "colab_type": "code",
        "colab": {}
      },
      "source": [
        "def prob_1(word):\n",
        "    return words_count[word] / len(TOKEN)"
      ],
      "execution_count": 0,
      "outputs": []
    },
    {
      "cell_type": "code",
      "metadata": {
        "id": "1iL0CNXb4br_",
        "colab_type": "code",
        "outputId": "6b79e989-2244-419f-cb43-c91876d7778d",
        "colab": {
          "base_uri": "https://localhost:8080/",
          "height": 35
        }
      },
      "source": [
        "prob_1('电影')"
      ],
      "execution_count": 0,
      "outputs": [
        {
          "output_type": "execute_result",
          "data": {
            "text/plain": [
              "0.007086773250613977"
            ]
          },
          "metadata": {
            "tags": []
          },
          "execution_count": 105
        }
      ]
    },
    {
      "cell_type": "code",
      "metadata": {
        "id": "GLPxWWh-4buu",
        "colab_type": "code",
        "outputId": "3a2bd81d-526c-4f05-e36f-b68ef28b2e2d",
        "colab": {
          "base_uri": "https://localhost:8080/",
          "height": 35
        }
      },
      "source": [
        "prob_1('吴京')"
      ],
      "execution_count": 0,
      "outputs": [
        {
          "output_type": "execute_result",
          "data": {
            "text/plain": [
              "5.85040226776744e-05"
            ]
          },
          "metadata": {
            "tags": []
          },
          "execution_count": 106
        }
      ]
    },
    {
      "cell_type": "code",
      "metadata": {
        "id": "VDQqq4Gc4wEn",
        "colab_type": "code",
        "outputId": "7841b1df-f9bb-4b01-d96c-b387d7300765",
        "colab": {
          "base_uri": "https://localhost:8080/",
          "height": 35
        }
      },
      "source": [
        "prob_1('不错')"
      ],
      "execution_count": 0,
      "outputs": [
        {
          "output_type": "execute_result",
          "data": {
            "text/plain": [
              "0.0021920068352901316"
            ]
          },
          "metadata": {
            "tags": []
          },
          "execution_count": 107
        }
      ]
    },
    {
      "cell_type": "code",
      "metadata": {
        "id": "3gHmESx944U_",
        "colab_type": "code",
        "outputId": "fa770b52-6aa4-466d-e815-80e4bad04801",
        "colab": {
          "base_uri": "https://localhost:8080/",
          "height": 35
        }
      },
      "source": [
        "TOKEN[:10]"
      ],
      "execution_count": 34,
      "outputs": [
        {
          "output_type": "execute_result",
          "data": {
            "text/plain": [
              "['吴京', '意淫', '到', '了', '脑残', '的', '地步', '看', '了', '恶心']"
            ]
          },
          "metadata": {
            "tags": []
          },
          "execution_count": 34
        }
      ]
    },
    {
      "cell_type": "code",
      "metadata": {
        "id": "mjnZjK8e44YP",
        "colab_type": "code",
        "colab": {}
      },
      "source": [
        "TOKEN = [str(t) for t in TOKEN]"
      ],
      "execution_count": 0,
      "outputs": []
    },
    {
      "cell_type": "code",
      "metadata": {
        "id": "4bb19sf54_oD",
        "colab_type": "code",
        "colab": {}
      },
      "source": [
        "TOKEN_2_GRAM = [''.join(TOKEN[i:i+2]) for i in range(len(TOKEN[:-2]))]"
      ],
      "execution_count": 0,
      "outputs": []
    },
    {
      "cell_type": "code",
      "metadata": {
        "id": "Sdxyi2p34_rF",
        "colab_type": "code",
        "outputId": "bc70eeab-ae9a-4b6e-d80e-ab099f2ba656",
        "colab": {
          "base_uri": "https://localhost:8080/",
          "height": 35
        }
      },
      "source": [
        "TOKEN_2_GRAM[:10]"
      ],
      "execution_count": 37,
      "outputs": [
        {
          "output_type": "execute_result",
          "data": {
            "text/plain": [
              "['吴京意淫', '意淫到', '到了', '了脑残', '脑残的', '的地步', '地步看', '看了', '了恶心', '恶心想']"
            ]
          },
          "metadata": {
            "tags": []
          },
          "execution_count": 37
        }
      ]
    },
    {
      "cell_type": "code",
      "metadata": {
        "id": "4NQCOruS5raZ",
        "colab_type": "code",
        "colab": {}
      },
      "source": [
        "words_count_2 = Counter(TOKEN_2_GRAM)"
      ],
      "execution_count": 0,
      "outputs": []
    },
    {
      "cell_type": "markdown",
      "metadata": {
        "id": "seVIXwP85g6B",
        "colab_type": "text"
      },
      "source": [
        "9. 计算联合概率"
      ]
    },
    {
      "cell_type": "code",
      "metadata": {
        "id": "KfO9dUfD5hGm",
        "colab_type": "code",
        "colab": {}
      },
      "source": [
        "def prob_2(word1, word2):\n",
        "    if word1 + word2 in words_count_2: return words_count_2[word1+word2] / len(TOKEN_2_GRAM)\n",
        "    else:\n",
        "        return 1 / len(TOKEN_2_GRAM)"
      ],
      "execution_count": 0,
      "outputs": []
    },
    {
      "cell_type": "code",
      "metadata": {
        "id": "Y1lKwp_v5hKI",
        "colab_type": "code",
        "outputId": "2461e353-4477-4067-8389-437fc7ef88a1",
        "colab": {
          "base_uri": "https://localhost:8080/",
          "height": 35
        }
      },
      "source": [
        "prob_2('电源', '不错')"
      ],
      "execution_count": 40,
      "outputs": [
        {
          "output_type": "execute_result",
          "data": {
            "text/plain": [
              "2.104462133150161e-07"
            ]
          },
          "metadata": {
            "tags": []
          },
          "execution_count": 40
        }
      ]
    },
    {
      "cell_type": "markdown",
      "metadata": {
        "id": "HLnhdB85uLaN",
        "colab_type": "text"
      },
      "source": [
        "> "
      ]
    },
    {
      "cell_type": "markdown",
      "metadata": {
        "id": "njROkmDsjjsL",
        "colab_type": "text"
      },
      "source": [
        "##### 2.2 保险行业问询对话集\n"
      ]
    },
    {
      "cell_type": "code",
      "metadata": {
        "id": "k1WJLkg5jn0V",
        "colab_type": "code",
        "colab": {}
      },
      "source": [
        ""
      ],
      "execution_count": 0,
      "outputs": []
    },
    {
      "cell_type": "code",
      "metadata": {
        "id": "Aom3sQnVjn3c",
        "colab_type": "code",
        "colab": {}
      },
      "source": [
        ""
      ],
      "execution_count": 0,
      "outputs": []
    },
    {
      "cell_type": "markdown",
      "metadata": {
        "id": "kU99XmC-uLaO",
        "colab_type": "text"
      },
      "source": [
        "#### 3. 获得最优质的的语言"
      ]
    },
    {
      "cell_type": "markdown",
      "metadata": {
        "id": "ApN0aW0ZuLaP",
        "colab_type": "text"
      },
      "source": [
        "当我们能够生成随机的语言并且能判断之后，我们就可以生成更加合理的语言了。请定义 generate_best 函数，该函数输入一个语法 + 语言模型，能够生成**n**个句子，并能选择一个最合理的句子: \n",
        "\n"
      ]
    },
    {
      "cell_type": "markdown",
      "metadata": {
        "id": "yN-7CF7VuLaP",
        "colab_type": "text"
      },
      "source": [
        "##### 3.1 提示，要实现这个函数，你需要Python的sorted函数"
      ]
    },
    {
      "cell_type": "code",
      "metadata": {
        "id": "VVfmL65SuLaR",
        "colab_type": "code",
        "outputId": "13e441d7-48a5-432b-e5e4-20d6a1cd06f7",
        "colab": {
          "base_uri": "https://localhost:8080/",
          "height": 35
        }
      },
      "source": [
        "sorted([1, 3, 5, 2])"
      ],
      "execution_count": 0,
      "outputs": [
        {
          "output_type": "execute_result",
          "data": {
            "text/plain": [
              "[1, 2, 3, 5]"
            ]
          },
          "metadata": {
            "tags": []
          },
          "execution_count": 1
        }
      ]
    },
    {
      "cell_type": "markdown",
      "metadata": {
        "id": "7n21uiiKuLaY",
        "colab_type": "text"
      },
      "source": [
        "这个函数接受一个参数key，这个参数接受一个函数作为输入，例如"
      ]
    },
    {
      "cell_type": "code",
      "metadata": {
        "id": "0gJuoszYuLaY",
        "colab_type": "code",
        "outputId": "8f5b1c23-eab8-406b-f22e-eb5a2f20d5b0",
        "colab": {
          "base_uri": "https://localhost:8080/",
          "height": 35
        }
      },
      "source": [
        "sorted([(2, 5), (1, 4), (5, 0), (4, 4)], key=lambda x: x[0])"
      ],
      "execution_count": 0,
      "outputs": [
        {
          "output_type": "execute_result",
          "data": {
            "text/plain": [
              "[(1, 4), (2, 5), (4, 4), (5, 0)]"
            ]
          },
          "metadata": {
            "tags": []
          },
          "execution_count": 2
        }
      ]
    },
    {
      "cell_type": "markdown",
      "metadata": {
        "id": "WyQ3p_w4uLac",
        "colab_type": "text"
      },
      "source": [
        "能够让list按照第0个元素进行排序."
      ]
    },
    {
      "cell_type": "code",
      "metadata": {
        "id": "Ow3jmJSluLac",
        "colab_type": "code",
        "outputId": "4ea0b1e4-746f-4e76-81cf-2ac439e82ff0",
        "colab": {
          "base_uri": "https://localhost:8080/",
          "height": 35
        }
      },
      "source": [
        "sorted([(2, 5), (1, 4), (5, 0), (4, 4)], key=lambda x: x[1])"
      ],
      "execution_count": 0,
      "outputs": [
        {
          "output_type": "execute_result",
          "data": {
            "text/plain": [
              "[(5, 0), (1, 4), (4, 4), (2, 5)]"
            ]
          },
          "metadata": {
            "tags": []
          },
          "execution_count": 3
        }
      ]
    },
    {
      "cell_type": "markdown",
      "metadata": {
        "id": "BDOs-RVcuLaj",
        "colab_type": "text"
      },
      "source": [
        "能够让list按照第1个元素进行排序."
      ]
    },
    {
      "cell_type": "code",
      "metadata": {
        "id": "gRO3970JuLak",
        "colab_type": "code",
        "outputId": "7e84a357-f9f5-4fba-9e05-19a010c50896",
        "colab": {
          "base_uri": "https://localhost:8080/",
          "height": 35
        }
      },
      "source": [
        "sorted([(2, 5), (1, 4), (5, 0), (4, 4)], key=lambda x: x[1], reverse=True)"
      ],
      "execution_count": 0,
      "outputs": [
        {
          "output_type": "execute_result",
          "data": {
            "text/plain": [
              "[(2, 5), (1, 4), (4, 4), (5, 0)]"
            ]
          },
          "metadata": {
            "tags": []
          },
          "execution_count": 4
        }
      ]
    },
    {
      "cell_type": "markdown",
      "metadata": {
        "id": "oouY7wMHuLap",
        "colab_type": "text"
      },
      "source": [
        "能够让list按照第1个元素进行排序, 但是是递减的顺序。"
      ]
    },
    {
      "cell_type": "markdown",
      "metadata": {
        "id": "cfksTVZLuLap",
        "colab_type": "text"
      },
      "source": [
        "##### 3.2 generate_best"
      ]
    },
    {
      "cell_type": "code",
      "metadata": {
        "id": "5Ntd3owDYYeI",
        "colab_type": "code",
        "colab": {}
      },
      "source": [
        "teller = \"\"\"\n",
        "teller = 寒暄 询问 结尾\n",
        "寒暄 = 称谓 打招呼 | 打招呼\n",
        "称谓 = 先生 | 女士| 阁下\n",
        "打招呼 = 你好 | 您好 \n",
        "询问 = 请问你要办理什么业务 | 您需要办理什么业务\n",
        "结尾 = 呢？| 呀？|啊？\n",
        "\"\"\"\n"
      ],
      "execution_count": 0,
      "outputs": []
    },
    {
      "cell_type": "code",
      "metadata": {
        "id": "FK8G0QWqYZVt",
        "colab_type": "code",
        "colab": {}
      },
      "source": [
        "customer = \"\"\"\n",
        "customer = 自己 意图 具体业务\n",
        "自己 = 我 | 俺 | 我们 \n",
        "意图 = 想要 | 打算 | 准备\n",
        "具体业务 = 开户 | 办卡 | 修改密码 | 取款 | 存款 | 转账 | 挂失 | 绑定手机号\n",
        "\n",
        "\"\"\""
      ],
      "execution_count": 0,
      "outputs": []
    },
    {
      "cell_type": "code",
      "metadata": {
        "id": "mbhHWKLyZmDH",
        "colab_type": "code",
        "colab": {}
      },
      "source": [
        "choice = random.choice\n",
        "\n",
        "def generate(gram,target):\n",
        "  if target not in gram : return target # means target is a terminal expression\n",
        "  \n",
        "  expaned = [generate(gram,t) for t in choice(gram[target])] # 过滤'null'\n",
        "  return''.join([e for e in expaned if e != 'null'])"
      ],
      "execution_count": 0,
      "outputs": []
    },
    {
      "cell_type": "code",
      "metadata": {
        "id": "hPhVGkacZvRG",
        "colab_type": "code",
        "outputId": "651057dd-f196-4ea2-de1c-93e9c23c955b",
        "colab": {
          "base_uri": "https://localhost:8080/",
          "height": 35
        }
      },
      "source": [
        "generate(gram=create_grammar(teller),target='teller')"
      ],
      "execution_count": 0,
      "outputs": [
        {
          "output_type": "execute_result",
          "data": {
            "text/plain": [
              "'您好您需要办理什么业务啊？'"
            ]
          },
          "metadata": {
            "tags": []
          },
          "execution_count": 14
        }
      ]
    },
    {
      "cell_type": "code",
      "metadata": {
        "id": "wjNFeFr0Z-_W",
        "colab_type": "code",
        "colab": {}
      },
      "source": [
        "def get_probablity(sentence):\n",
        "    words = cut(sentence)# 切词\n",
        "    \n",
        "    sentence_pro = 1\n",
        "    \n",
        "    for i, word in enumerate(words[:-1]):\n",
        "        next_ = words[i+1]\n",
        "        \n",
        "        probability = prob_2(word, next_)\n",
        "        \n",
        "        sentence_pro *= probability\n",
        "    \n",
        "    return sentence_pro"
      ],
      "execution_count": 0,
      "outputs": []
    },
    {
      "cell_type": "code",
      "metadata": {
        "id": "Ty5tLW2ZuLap",
        "colab_type": "code",
        "colab": {}
      },
      "source": [
        "def generate_best(gram,target): \n",
        "  sen_prob = []\n",
        "  for sen in [generate(gram, target) for i in range(10)]:\n",
        "    sen_prob.append((sen,get_probablity(sen)))\n",
        "    \n",
        "  sen_prob.sort(key=lambda x: x[1],reverse=True)\n",
        "  for index, item in enumerate(sen_prob):\n",
        "    print('sentence: {} with Prb: {}'.format(item[0], item[1],key=lambda x: x[1]))"
      ],
      "execution_count": 0,
      "outputs": []
    },
    {
      "cell_type": "code",
      "metadata": {
        "id": "ZYP6aEe6YmrN",
        "colab_type": "code",
        "outputId": "fb810443-b7d2-496c-c7cd-9e6680a0e065",
        "colab": {
          "base_uri": "https://localhost:8080/",
          "height": 190
        }
      },
      "source": [
        "generate_best(gram=create_grammar(customer),target='customer')"
      ],
      "execution_count": 94,
      "outputs": [
        {
          "output_type": "stream",
          "text": [
            "sentence: 我想要存款 with Prb: 3.100132608904048e-12\n",
            "sentence: 我准备开户 with Prb: 3.985884782876633e-13\n",
            "sentence: 我们想要存款 with Prb: 3.100132608904048e-13\n",
            "sentence: 我们想要挂失 with Prb: 3.100132608904048e-13\n",
            "sentence: 俺想要取款 with Prb: 4.4287608698629254e-14\n",
            "sentence: 俺准备存款 with Prb: 4.4287608698629254e-14\n",
            "sentence: 我们打算转账 with Prb: 4.4287608698629254e-14\n",
            "sentence: 我准备绑定手机号 with Prb: 8.388143592663325e-20\n",
            "sentence: 我打算绑定手机号 with Prb: 7.456127637922955e-20\n",
            "sentence: 俺准备修改密码 with Prb: 9.320159547403693e-21\n"
          ],
          "name": "stdout"
        }
      ]
    },
    {
      "cell_type": "code",
      "metadata": {
        "id": "R_9QLo1cQcD3",
        "colab_type": "code",
        "colab": {}
      },
      "source": [
        "def generate_best_01(gram,target): \n",
        "  sen_prob = []\n",
        "  for sen in [generate(gram, target) for i in range(10)]:\n",
        "    sen_prob.append((sen,get_probablity(sen)))\n",
        "    \n",
        "  sen_prob.sort(key=lambda x: x[1],reverse=True)\n",
        "  for index, item in enumerate(sen_prob):\n",
        "    print('sentence: {} with Prb: {}'.format(item[0], item[1],key=lambda x: x[1]))\n"
      ],
      "execution_count": 0,
      "outputs": []
    },
    {
      "cell_type": "code",
      "metadata": {
        "id": "yZ4k8QnaQcHk",
        "colab_type": "code",
        "colab": {
          "base_uri": "https://localhost:8080/",
          "height": 190
        },
        "outputId": "7a49679a-4756-4182-fd8c-fe5c8309f433"
      },
      "source": [
        "generate_best_01(gram=create_grammar(teller),target='teller')"
      ],
      "execution_count": 96,
      "outputs": [
        {
          "output_type": "stream",
          "text": [
            "sentence: 你好您需要办理什么业务呀？ with Prb: 1.828048902419042e-47\n",
            "sentence: 您好您需要办理什么业务啊？ with Prb: 1.828048902419042e-47\n",
            "sentence: 你好您需要办理什么业务呢？ with Prb: 1.828048902419042e-47\n",
            "sentence: 您好您需要办理什么业务呀？ with Prb: 1.828048902419042e-47\n",
            "sentence: 您好您需要办理什么业务呢？ with Prb: 1.828048902419042e-47\n",
            "sentence: 您好您需要办理什么业务呀？ with Prb: 1.828048902419042e-47\n",
            "sentence: 阁下您好您需要办理什么业务啊？ with Prb: 3.847059692687588e-54\n",
            "sentence: 先生您好您需要办理什么业务呢？ with Prb: 3.847059692687588e-54\n",
            "sentence: 女士你好您需要办理什么业务呀？ with Prb: 3.847059692687588e-54\n",
            "sentence: 阁下你好请问你要办理什么业务啊？ with Prb: 2.8497889894247212e-58\n"
          ],
          "name": "stdout"
        }
      ]
    },
    {
      "cell_type": "markdown",
      "metadata": {
        "id": "lOBCY7ykuLas",
        "colab_type": "text"
      },
      "source": [
        "好了，现在我们实现了自己的第一个AI模型，这个模型能够生成比较接近于人类的语言。"
      ]
    },
    {
      "cell_type": "markdown",
      "metadata": {
        "id": "UA0qccRWuLas",
        "colab_type": "text"
      },
      "source": [
        ">"
      ]
    },
    {
      "cell_type": "markdown",
      "metadata": {
        "id": "9WM1xvMvuLat",
        "colab_type": "text"
      },
      "source": [
        "Q: 这个模型有什么问题？ 你准备如何提升？ "
      ]
    },
    {
      "cell_type": "markdown",
      "metadata": {
        "id": "25G6UFDwuLau",
        "colab_type": "text"
      },
      "source": [
        "Ans:\n",
        "\n",
        "\n",
        "1.  语法还不够丰富，可以载添加一些语法\n",
        "2.   并行的用了两个for 循环，应该还可以再优化一下\n"
      ]
    },
    {
      "cell_type": "markdown",
      "metadata": {
        "id": "D4Ivl8QHuLau",
        "colab_type": "text"
      },
      "source": [
        ">"
      ]
    },
    {
      "cell_type": "markdown",
      "metadata": {
        "id": "w08KHaS8uLav",
        "colab_type": "text"
      },
      "source": [
        "##### 以下内容为可选部分，对于绝大多数同学，能完成以上的项目已经很优秀了，下边的内容如果你还有精力可以试试，但不是必须的。"
      ]
    },
    {
      "cell_type": "markdown",
      "metadata": {
        "id": "xd_7ZBUouLax",
        "colab_type": "text"
      },
      "source": [
        "#### 4. (Optional) 完成基于Pattern Match的语句问答\n",
        "> 我们的GitHub仓库中，有一个assignment-01-optional-pattern-match，这个难度较大，感兴趣的同学可以挑战一下。"
      ]
    },
    {
      "cell_type": "markdown",
      "metadata": {
        "id": "fVCg6E4EuLax",
        "colab_type": "text"
      },
      "source": [
        "\n",
        "#### 5. (Optional) 完成阿兰图灵机器智能原始论文的阅读\n",
        "1. 请阅读阿兰图灵关于机器智能的原始论文：https://github.com/Computing-Intelligence/References/blob/master/AI%20%26%20Machine%20Learning/Computer%20Machinery%20and%20Intelligence.pdf \n",
        "2. 并按照GitHub仓库中的论文阅读模板，填写完毕后发送给我: mqgao@kaikeba.com 谢谢"
      ]
    },
    {
      "cell_type": "markdown",
      "metadata": {
        "id": "iaivO-7ruLay",
        "colab_type": "text"
      },
      "source": [
        "> "
      ]
    },
    {
      "cell_type": "markdown",
      "metadata": {
        "id": "yHEpb6JGuLay",
        "colab_type": "text"
      },
      "source": [
        "各位同学，我们已经完成了自己的第一个AI模型，大家对人工智能可能已经有了一些感觉，人工智能的核心就是，我们如何设计一个模型、程序，在外部的输入变化的时候，我们的程序不变，依然能够解决问题。人工智能是一个很大的领域，目前大家所熟知的深度学习只是其中一小部分，之后也肯定会有更多的方法提出来，但是大家知道人工智能的目标，就知道了之后进步的方向。"
      ]
    },
    {
      "cell_type": "markdown",
      "metadata": {
        "id": "1fLBzC4CuLaz",
        "colab_type": "text"
      },
      "source": [
        "然后，希望大家对AI不要有恐惧感，这个并不难，大家加油！"
      ]
    },
    {
      "cell_type": "markdown",
      "metadata": {
        "id": "r5NYmuftuLaz",
        "colab_type": "text"
      },
      "source": [
        ">"
      ]
    },
    {
      "cell_type": "markdown",
      "metadata": {
        "id": "621VQ-xYuLa0",
        "colab_type": "text"
      },
      "source": [
        "![](https://timgsa.baidu.com/timg?image&quality=80&size=b9999_10000&sec=1561828422005&di=48d19c16afb6acc9180183a6116088ac&imgtype=0&src=http%3A%2F%2Fb-ssl.duitang.com%2Fuploads%2Fitem%2F201807%2F28%2F20180728150843_BECNF.thumb.224_0.jpeg)"
      ]
    }
  ]
}