{
  "nbformat": 4,
  "nbformat_minor": 0,
  "metadata": {
    "colab": {
      "name": "lesson-01.ipynb",
      "version": "0.3.2",
      "provenance": [],
      "collapsed_sections": []
    },
    "kernelspec": {
      "name": "python3",
      "display_name": "Python 3"
    },
    "accelerator": "GPU"
  },
  "cells": [
    {
      "cell_type": "markdown",
      "metadata": {
        "id": "tuD3DfeOSBjU",
        "colab_type": "text"
      },
      "source": [
        "Lesson-01"
      ]
    },
    {
      "cell_type": "code",
      "metadata": {
        "id": "YOj78WLRRnDh",
        "colab_type": "code",
        "colab": {}
      },
      "source": [
        "simple_grammar=\"\"\"\n",
        "sentence => noun_phrase verb_phrase\n",
        "noun_phrase => Article Adj* noun\n",
        "Adj* => null | Adj Adj*\n",
        "verb_phrase => verb noun_phrase\n",
        "Article =>  一个 | 这个\n",
        "noun =>   女人 |  篮球 | 桌子 | 小猫\n",
        "verb => 看着   |  坐在 |  听着 | 看见\n",
        "Adj =>  蓝色的 | 好看的 | 小小的\n",
        "\"\"\""
      ],
      "execution_count": 0,
      "outputs": []
    },
    {
      "cell_type": "markdown",
      "metadata": {
        "id": "1Sh2iMqH_G2w",
        "colab_type": "text"
      },
      "source": [
        ""
      ]
    },
    {
      "cell_type": "code",
      "metadata": {
        "id": "UMN7lflBSeRC",
        "colab_type": "code",
        "colab": {}
      },
      "source": [
        "import random"
      ],
      "execution_count": 0,
      "outputs": []
    },
    {
      "cell_type": "markdown",
      "metadata": {
        "id": "3R8RGikb7qZu",
        "colab_type": "text"
      },
      "source": [
        "# 如何使用上面的预料生成一个句子呢？\n",
        "\n",
        "\n"
      ]
    },
    {
      "cell_type": "markdown",
      "metadata": {
        "id": "zlXmDj2E_I_k",
        "colab_type": "text"
      },
      "source": [
        "## 基于规则的方法"
      ]
    },
    {
      "cell_type": "markdown",
      "metadata": {
        "id": "HlLLHcCQ_QLS",
        "colab_type": "text"
      },
      "source": [
        "### 1. 下面先从简单的生成一个形容词开始"
      ]
    },
    {
      "cell_type": "code",
      "metadata": {
        "id": "omnMvEQfSeUa",
        "colab_type": "code",
        "colab": {}
      },
      "source": [
        "def adj():  return random.choice('蓝色的 | 好看的 | 小小的'.split('|')).split()[0]"
      ],
      "execution_count": 0,
      "outputs": []
    },
    {
      "cell_type": "code",
      "metadata": {
        "id": "wvZqUPv2TFJz",
        "colab_type": "code",
        "outputId": "3ce834d5-35fb-48e8-ee21-d1d9c1d9685a",
        "colab": {
          "base_uri": "https://localhost:8080/",
          "height": 35
        }
      },
      "source": [
        "adj()"
      ],
      "execution_count": 0,
      "outputs": [
        {
          "output_type": "execute_result",
          "data": {
            "text/plain": [
              "'小小的'"
            ]
          },
          "metadata": {
            "tags": []
          },
          "execution_count": 94
        }
      ]
    },
    {
      "cell_type": "code",
      "metadata": {
        "id": "SFdvYFdjUkl7",
        "colab_type": "code",
        "colab": {}
      },
      "source": [
        "def adj_star():\n",
        "  return random.choice([None, adj() + adj_star()])()"
      ],
      "execution_count": 0,
      "outputs": []
    },
    {
      "cell_type": "code",
      "metadata": {
        "id": "AtWgkYOJTFPV",
        "colab_type": "code",
        "colab": {}
      },
      "source": [
        "def adj_star():\n",
        "  return random.choice([lambda : '',lambda : adj() + adj_star()])()"
      ],
      "execution_count": 0,
      "outputs": []
    },
    {
      "cell_type": "code",
      "metadata": {
        "id": "aaQeLbscTFSN",
        "colab_type": "code",
        "outputId": "c43f88f4-08a9-47a1-9a8d-19e2e0911394",
        "colab": {
          "base_uri": "https://localhost:8080/",
          "height": 35
        }
      },
      "source": [
        "adj_star()"
      ],
      "execution_count": 0,
      "outputs": [
        {
          "output_type": "execute_result",
          "data": {
            "text/plain": [
              "'好看的'"
            ]
          },
          "metadata": {
            "tags": []
          },
          "execution_count": 97
        }
      ]
    },
    {
      "cell_type": "markdown",
      "metadata": {
        "id": "ElinGzbIAiBT",
        "colab_type": "text"
      },
      "source": [
        "adj_star()的意思是可以生成多个adj() 在后面讲正则表达式的时候会提到"
      ]
    },
    {
      "cell_type": "markdown",
      "metadata": {
        "id": "RigAKjcGU9pz",
        "colab_type": "text"
      },
      "source": [
        "### 2.  **But the question is ?**\n",
        "\n",
        "如果我们更换了语法，会发现所有写过的程序，都要重新写"
      ]
    },
    {
      "cell_type": "markdown",
      "metadata": {
        "id": "9nOgGoVjA9iR",
        "colab_type": "text"
      },
      "source": [
        "#### 2.1 先以'Adj  'Adj*'  为例，假如我们要生成含有多个值的形容词"
      ]
    },
    {
      "cell_type": "code",
      "metadata": {
        "id": "wVJ8ZNEoU93b",
        "colab_type": "code",
        "colab": {}
      },
      "source": [
        "adj_grammar = \"\"\"\n",
        "Adj* => null | Adj Adj*\n",
        "Adj =>  蓝色的 | 好看的 | 小小的\n",
        "\"\"\""
      ],
      "execution_count": 0,
      "outputs": []
    },
    {
      "cell_type": "markdown",
      "metadata": {
        "id": "ztbjjZkpBdf7",
        "colab_type": "text"
      },
      "source": [
        "Terminal:不能扩展，扩展的字面意思就是这个词能不能继续往下分的更细，比如\n",
        "* 上面的 Adj 就可以扩展成  蓝色的 | 好看的 | 小小的 三个词；\n",
        "* ’Adj*‘也可以循环往复的往下细分。"
      ]
    },
    {
      "cell_type": "markdown",
      "metadata": {
        "id": "hYcK5duvCcuS",
        "colab_type": "text"
      },
      "source": [
        "1. 下面定义一个数据结构，这个数据结构的左边可以扩展，相当于上面等号的左边，这个数据结构的右边表示它可以被扩展成什么样子。"
      ]
    },
    {
      "cell_type": "code",
      "metadata": {
        "id": "279zwx5xU97M",
        "colab_type": "code",
        "colab": {}
      },
      "source": [
        "grammar = {}# 左边可以扩展，右边指出如何扩展"
      ],
      "execution_count": 0,
      "outputs": []
    },
    {
      "cell_type": "code",
      "metadata": {
        "id": "UfjZH2XsDLw0",
        "colab_type": "code",
        "colab": {}
      },
      "source": [
        "for line in adj_grammar.split('\\n'):\n",
        "    if not line.strip():continue\n",
        "  \n",
        "    exp,stmt = line.split('=>')\n",
        "    grammar[exp] = stmt.split('|')"
      ],
      "execution_count": 0,
      "outputs": []
    },
    {
      "cell_type": "code",
      "metadata": {
        "id": "vqyzWrTGDcT5",
        "colab_type": "code",
        "outputId": "ac6bb7cd-9e18-452d-ac2a-48514780fafd",
        "colab": {
          "base_uri": "https://localhost:8080/",
          "height": 35
        }
      },
      "source": [
        "grammar"
      ],
      "execution_count": 0,
      "outputs": [
        {
          "output_type": "execute_result",
          "data": {
            "text/plain": [
              "{'Adj ': ['  蓝色的 ', ' 好看的 ', ' 小小的'], 'Adj* ': [' null ', ' Adj Adj*']}"
            ]
          },
          "metadata": {
            "tags": []
          },
          "execution_count": 101
        }
      ]
    },
    {
      "cell_type": "markdown",
      "metadata": {
        "id": "h4Gr0N8sEB6L",
        "colab_type": "text"
      },
      "source": [
        "2. 对上面的循环进行优化：去掉'Adj   ' 和'Adj *   ' 引号中后面的空格"
      ]
    },
    {
      "cell_type": "code",
      "metadata": {
        "id": "0TRdcbs6EdNU",
        "colab_type": "code",
        "colab": {}
      },
      "source": [
        "grammar01 = {}"
      ],
      "execution_count": 0,
      "outputs": []
    },
    {
      "cell_type": "code",
      "metadata": {
        "id": "99ImxKgNECEr",
        "colab_type": "code",
        "colab": {}
      },
      "source": [
        "for line in adj_grammar.split('\\n'):\n",
        "    if not line.strip():continue\n",
        "  \n",
        "    exp,stmt = line.split('=>')\n",
        "    grammar01[exp.strip()] = stmt.split('|')"
      ],
      "execution_count": 0,
      "outputs": []
    },
    {
      "cell_type": "code",
      "metadata": {
        "id": "JA_WA_0tEUKq",
        "colab_type": "code",
        "outputId": "21458e80-432c-42b2-dfd9-ba800cebbc7b",
        "colab": {
          "base_uri": "https://localhost:8080/",
          "height": 35
        }
      },
      "source": [
        "grammar01"
      ],
      "execution_count": 0,
      "outputs": [
        {
          "output_type": "execute_result",
          "data": {
            "text/plain": [
              "{'Adj': ['  蓝色的 ', ' 好看的 ', ' 小小的'], 'Adj*': [' null ', ' Adj Adj*']}"
            ]
          },
          "metadata": {
            "tags": []
          },
          "execution_count": 104
        }
      ]
    },
    {
      "cell_type": "markdown",
      "metadata": {
        "id": "ptUKeC7pFfKZ",
        "colab_type": "text"
      },
      "source": [
        "3. 继续优化：去掉所有空格"
      ]
    },
    {
      "cell_type": "code",
      "metadata": {
        "id": "DGqX5rHdFd-K",
        "colab_type": "code",
        "colab": {}
      },
      "source": [
        "grammar02 = {}"
      ],
      "execution_count": 0,
      "outputs": []
    },
    {
      "cell_type": "code",
      "metadata": {
        "id": "ZQxwVnchFeKJ",
        "colab_type": "code",
        "colab": {}
      },
      "source": [
        "for line in adj_grammar.split('\\n'):\n",
        "    if not line.strip():continue\n",
        "  \n",
        "    exp,stmt = line.split('=>')\n",
        "    grammar02[exp.strip()] = [s.split() for s in stmt.split('|')]"
      ],
      "execution_count": 0,
      "outputs": []
    },
    {
      "cell_type": "code",
      "metadata": {
        "id": "6fdRvGTMFeSx",
        "colab_type": "code",
        "outputId": "f289dc3b-b5cf-446a-911d-ddf6d756dd3b",
        "colab": {
          "base_uri": "https://localhost:8080/",
          "height": 35
        }
      },
      "source": [
        "grammar02"
      ],
      "execution_count": 0,
      "outputs": [
        {
          "output_type": "execute_result",
          "data": {
            "text/plain": [
              "{'Adj': [['蓝色的'], ['好看的'], ['小小的']], 'Adj*': [['null'], ['Adj', 'Adj*']]}"
            ]
          },
          "metadata": {
            "tags": []
          },
          "execution_count": 107
        }
      ]
    },
    {
      "cell_type": "code",
      "metadata": {
        "id": "siShGPOWGdAr",
        "colab_type": "code",
        "outputId": "d1669c03-772b-4e29-f305-00a8a577d7ca",
        "colab": {
          "base_uri": "https://localhost:8080/",
          "height": 35
        }
      },
      "source": [
        "grammar02['Adj']"
      ],
      "execution_count": 0,
      "outputs": [
        {
          "output_type": "execute_result",
          "data": {
            "text/plain": [
              "[['蓝色的'], ['好看的'], ['小小的']]"
            ]
          },
          "metadata": {
            "tags": []
          },
          "execution_count": 108
        }
      ]
    },
    {
      "cell_type": "code",
      "metadata": {
        "id": "yI_VExw0GyO-",
        "colab_type": "code",
        "outputId": "776948da-29cb-4e5c-a772-139de6fa1334",
        "colab": {
          "base_uri": "https://localhost:8080/",
          "height": 35
        }
      },
      "source": [
        "grammar02['Adj*']"
      ],
      "execution_count": 0,
      "outputs": [
        {
          "output_type": "execute_result",
          "data": {
            "text/plain": [
              "[['null'], ['Adj', 'Adj*']]"
            ]
          },
          "metadata": {
            "tags": []
          },
          "execution_count": 109
        }
      ]
    },
    {
      "cell_type": "markdown",
      "metadata": {
        "id": "EJGAb5TwG6Ln",
        "colab_type": "text"
      },
      "source": [
        "#### 2.2 现在的问题就是，怎样生成语言\n",
        "\n",
        "1. 让机器根据输入的语法（grammar），生成一个'Adj*'，即\n",
        "\n",
        "\n",
        "```\n",
        "target ='Adj'\n",
        "```\n",
        "\n",
        "\n",
        "*   首先看'Adj*'能不能扩展\n",
        "  \n",
        "    *   如果可扩展，就在它所有可能的扩展中任意选择一个，可递归调用\n",
        "    *   如果不可扩展，就返回自身的值\n",
        "\n",
        "**注意**：这里的grammar是一个字典结构，Python字典中最关键的两个点是：key 和 value\n",
        "\n"
      ]
    },
    {
      "cell_type": "code",
      "metadata": {
        "id": "CE43VUxnJODk",
        "colab_type": "code",
        "colab": {}
      },
      "source": [
        "def generate_0(gram,target):\n",
        "  if target in gram : \n",
        "    new_expanded = random.choice(gram[target])\n",
        "    return''.join(generate(gram,t) for t in new_expanded)\n",
        "  else:\n",
        "    return target"
      ],
      "execution_count": 0,
      "outputs": []
    },
    {
      "cell_type": "code",
      "metadata": {
        "id": "Elofm3uTKwR8",
        "colab_type": "code",
        "outputId": "455ca4b2-31d3-4747-cbb1-16fceb6d23c6",
        "colab": {
          "base_uri": "https://localhost:8080/",
          "height": 35
        }
      },
      "source": [
        "generate_0(gram=grammar02,target='Adj*')"
      ],
      "execution_count": 0,
      "outputs": [
        {
          "output_type": "execute_result",
          "data": {
            "text/plain": [
              "'null'"
            ]
          },
          "metadata": {
            "tags": []
          },
          "execution_count": 111
        }
      ]
    },
    {
      "cell_type": "markdown",
      "metadata": {
        "id": "Oge4_vnlLLFg",
        "colab_type": "text"
      },
      "source": [
        "2. 将上面的代码优化一下"
      ]
    },
    {
      "cell_type": "code",
      "metadata": {
        "id": "35XdsQEDLLpa",
        "colab_type": "code",
        "colab": {}
      },
      "source": [
        "def generate_1(gram,target):\n",
        "  # 如果target 不在grammar中，是一个终结符，直接返回自生的值\n",
        "  if target not in gram : return target # means target is a terminal expression\n",
        "  # 如果在，那就随机的选择一个\n",
        "  return''.join([generate(gram,t) for t in random.choice(gram[target])])"
      ],
      "execution_count": 0,
      "outputs": []
    },
    {
      "cell_type": "code",
      "metadata": {
        "id": "2y7wMFYTLLwQ",
        "colab_type": "code",
        "outputId": "5b53912c-aca2-478e-9d0d-c544fec76374",
        "colab": {
          "base_uri": "https://localhost:8080/",
          "height": 35
        }
      },
      "source": [
        "generate_1(gram=grammar02,target='Adj*')"
      ],
      "execution_count": 0,
      "outputs": [
        {
          "output_type": "execute_result",
          "data": {
            "text/plain": [
              "'好看的'"
            ]
          },
          "metadata": {
            "tags": []
          },
          "execution_count": 113
        }
      ]
    },
    {
      "cell_type": "markdown",
      "metadata": {
        "id": "FlqU8-MVM8BM",
        "colab_type": "text"
      },
      "source": [
        "3. 继续优化：\n",
        "\n",
        "```\n",
        "choice = random.choice\n",
        "\n",
        "```\n",
        "\n"
      ]
    },
    {
      "cell_type": "code",
      "metadata": {
        "id": "V0G7_0SrNC3h",
        "colab_type": "code",
        "colab": {}
      },
      "source": [
        "choice = random.choice\n",
        "def generate_2(gram,target):\n",
        "  if target not in gram : return target # means target is a terminal expression\n",
        "  return''.join([generate(gram,t) for t in choice(gram[target])])"
      ],
      "execution_count": 0,
      "outputs": []
    },
    {
      "cell_type": "code",
      "metadata": {
        "id": "prikbqOHNMWt",
        "colab_type": "code",
        "outputId": "3f8531e6-f4d9-4113-ab9b-c98bb828e337",
        "colab": {
          "base_uri": "https://localhost:8080/",
          "height": 35
        }
      },
      "source": [
        "generate_2(gram=grammar02,target='Adj*')"
      ],
      "execution_count": 0,
      "outputs": [
        {
          "output_type": "execute_result",
          "data": {
            "text/plain": [
              "'小小的'"
            ]
          },
          "metadata": {
            "tags": []
          },
          "execution_count": 130
        }
      ]
    },
    {
      "cell_type": "markdown",
      "metadata": {
        "id": "vZYTN80ANwxj",
        "colab_type": "text"
      },
      "source": [
        "4. 将上面的grammar数据结构抽象成一个函数"
      ]
    },
    {
      "cell_type": "code",
      "metadata": {
        "id": "E04JOVhgVOG8",
        "colab_type": "code",
        "colab": {}
      },
      "source": [
        "def create_grammar(grammar_str,split='=>'): # 输入的是grammar的字符表针\n",
        "  grammar = {}\n",
        "  for line in grammar_str.split('\\n'):\n",
        "    if not line.strip():continue\n",
        "    exp,stmt = line.split(split)\n",
        "    grammar[exp.strip()] = [s.split() for s in stmt.split('|')]\n",
        "  return grammar"
      ],
      "execution_count": 0,
      "outputs": []
    },
    {
      "cell_type": "code",
      "metadata": {
        "id": "TCVLOCP1by_K",
        "colab_type": "code",
        "colab": {}
      },
      "source": [
        "example_grammar = create_grammar(simple_grammar)"
      ],
      "execution_count": 0,
      "outputs": []
    },
    {
      "cell_type": "code",
      "metadata": {
        "id": "uw_lW4qgbzDk",
        "colab_type": "code",
        "outputId": "053d55e7-bf89-4462-8844-b1a0ceb4cfe2",
        "colab": {
          "base_uri": "https://localhost:8080/",
          "height": 155
        }
      },
      "source": [
        "example_grammar"
      ],
      "execution_count": 0,
      "outputs": [
        {
          "output_type": "execute_result",
          "data": {
            "text/plain": [
              "{'Adj': [['蓝色的'], ['好看的'], ['小小的']],\n",
              " 'Adj*': [['null'], ['Adj', 'Adj*']],\n",
              " 'Article': [['一个'], ['这个']],\n",
              " 'noun': [['女人'], ['篮球'], ['桌子'], ['小猫']],\n",
              " 'noun_phrase': [['Article', 'Adj*', 'noun']],\n",
              " 'sentence': [['noun_phrase', 'verb_phrase']],\n",
              " 'verb': [['看着'], ['坐在'], ['听着'], ['看见']],\n",
              " 'verb_phrase': [['verb', 'noun_phrase']]}"
            ]
          },
          "metadata": {
            "tags": []
          },
          "execution_count": 131
        }
      ]
    },
    {
      "cell_type": "code",
      "metadata": {
        "id": "qU4ZL0cmcJCy",
        "colab_type": "code",
        "outputId": "9f9bf1be-f5a8-4347-8ac0-3e632dd1c654",
        "colab": {
          "base_uri": "https://localhost:8080/",
          "height": 35
        }
      },
      "source": [
        "generate_2(gram=example_grammar,target='sentence')"
      ],
      "execution_count": 0,
      "outputs": [
        {
          "output_type": "execute_result",
          "data": {
            "text/plain": [
              "'这个篮球看见一个小猫'"
            ]
          },
          "metadata": {
            "tags": []
          },
          "execution_count": 138
        }
      ]
    },
    {
      "cell_type": "markdown",
      "metadata": {
        "id": "ND9YbnxleixS",
        "colab_type": "text"
      },
      "source": [
        "5. 优化generate_2 函数，过滤'null'"
      ]
    },
    {
      "cell_type": "code",
      "metadata": {
        "id": "zdjlGTy7c8-E",
        "colab_type": "code",
        "colab": {}
      },
      "source": [
        "choice = random.choice\n",
        "\n",
        "def generate(gram,target):\n",
        "  if target not in gram : return target # means target is a terminal expression\n",
        "  \n",
        "  expaned = [generate(gram,t) for t in choice(gram[target])] # 过滤'null'\n",
        "  return''.join([e for e in expaned if e != 'null'])"
      ],
      "execution_count": 0,
      "outputs": []
    },
    {
      "cell_type": "markdown",
      "metadata": {
        "id": "pRtgdvickEwm",
        "colab_type": "text"
      },
      "source": [
        "第4行：首先查看target在不在gram里, 判断其是不是终结符，如果是，直接返回，\n",
        "\n",
        "第6 行：如果不是，任意选择一个接下来要扩展的，然后把要扩展的内容再扩展一次，\n",
        "\n",
        "第7 行：最后合并起来。"
      ]
    },
    {
      "cell_type": "code",
      "metadata": {
        "id": "Wxw_Ohhue0qX",
        "colab_type": "code",
        "outputId": "f2692558-978c-4e1e-ab1f-f890017a39d8",
        "colab": {
          "base_uri": "https://localhost:8080/",
          "height": 35
        }
      },
      "source": [
        "generate(gram=example_grammar,target='sentence')"
      ],
      "execution_count": 0,
      "outputs": [
        {
          "output_type": "execute_result",
          "data": {
            "text/plain": [
              "'这个桌子坐在一个好看的桌子'"
            ]
          },
          "metadata": {
            "tags": []
          },
          "execution_count": 142
        }
      ]
    },
    {
      "cell_type": "code",
      "metadata": {
        "id": "LoBd2cjCzFbY",
        "colab_type": "code",
        "colab": {}
      },
      "source": [
        "choice = random.choice\n",
        "\n",
        "def generate(gram, target):\n",
        "    if target not in gram: return target # means target is a terminal expression\n",
        "    \n",
        "    expaned = [generate(gram, t) for t in choice(gram[target])]\n",
        "    return ''.join([e if e != '/n' else '\\n' for e in expaned if e != 'null'])"
      ],
      "execution_count": 0,
      "outputs": []
    },
    {
      "cell_type": "markdown",
      "metadata": {
        "id": "q3QNsErOfi69",
        "colab_type": "text"
      },
      "source": [
        "#### 2.3 将语法更换为西部世界中的语法\n"
      ]
    },
    {
      "cell_type": "code",
      "metadata": {
        "id": "nUca9hUyeeEM",
        "colab_type": "code",
        "colab": {}
      },
      "source": [
        "#在西部世界里，一个”人类“的语言可以定义为：\n",
        "\n",
        "human = \"\"\"\n",
        "human = 自己 寻找 活动\n",
        "自己 = 我 | 俺 | 我们 \n",
        "寻找 = 找找 | 想找点 \n",
        "活动 = 乐子 | 玩的\n",
        "\"\"\"\n",
        "\n",
        "\n",
        "#一个“接待员”的语言可以定义为\n",
        "\n",
        "host = \"\"\"\n",
        "host = 寒暄 报数 询问 业务相关 结尾 \n",
        "报数 = 我是 数字 号 ,\n",
        "数字 = 单个数字 | 数字 单个数字 \n",
        "单个数字 = 1 | 2 | 3 | 4 | 5 | 6 | 7 | 8 | 9 \n",
        "寒暄 = 称谓 打招呼 | 打招呼\n",
        "称谓 = 人称 ,\n",
        "人称 = 先生 | 女士 | 小朋友\n",
        "打招呼 = 你好 | 您好 \n",
        "询问 = 请问你要 | 您需要\n",
        "业务相关 = 玩玩 具体业务\n",
        "玩玩 = null\n",
        "具体业务 = 喝酒 | 打牌 | 打猎 | 赌博\n",
        "结尾 = 吗？\n",
        "\"\"\""
      ],
      "execution_count": 0,
      "outputs": []
    },
    {
      "cell_type": "code",
      "metadata": {
        "id": "HVtIOHnEn9LF",
        "colab_type": "code",
        "outputId": "bca990a0-2ce9-4ec6-eb94-0fafbafd6270",
        "colab": {
          "base_uri": "https://localhost:8080/",
          "height": 35
        }
      },
      "source": [
        "print(generate(gram=create_grammar(host, split='='), target='host'))"
      ],
      "execution_count": 0,
      "outputs": [
        {
          "output_type": "stream",
          "text": [
            "女士,你好我是691号,请问你要赌博吗？\n"
          ],
          "name": "stdout"
        }
      ]
    },
    {
      "cell_type": "code",
      "metadata": {
        "id": "_9s132DKoKFb",
        "colab_type": "code",
        "outputId": "1575e2d2-cb59-421e-b1e0-ec4e68f5217c",
        "colab": {
          "base_uri": "https://localhost:8080/",
          "height": 35
        }
      },
      "source": [
        "print(generate(gram=create_grammar(human, split='='), target='human'))"
      ],
      "execution_count": 0,
      "outputs": [
        {
          "output_type": "stream",
          "text": [
            "我想找点乐子\n"
          ],
          "name": "stdout"
        }
      ]
    },
    {
      "cell_type": "code",
      "metadata": {
        "id": "KhKAkjeYlvbS",
        "colab_type": "code",
        "outputId": "1f01e6b7-fa82-43b8-8373-de146dbc9e7d",
        "colab": {
          "base_uri": "https://localhost:8080/",
          "height": 363
        }
      },
      "source": [
        "for i in range(20):\n",
        "    print(generate(gram=create_grammar(host, split='='), target='host'))"
      ],
      "execution_count": 0,
      "outputs": [
        {
          "output_type": "stream",
          "text": [
            "小朋友,你好我是967号,请问你要打猎吗？\n",
            "您好我是453256号,您需要打牌吗？\n",
            "先生,您好我是9号,请问你要打牌吗？\n",
            "您好我是4号,请问你要打牌吗？\n",
            "小朋友,你好我是2号,您需要打牌吗？\n",
            "女士,你好我是667号,您需要打猎吗？\n",
            "您好我是2号,请问你要打牌吗？\n",
            "您好我是8号,请问你要赌博吗？\n",
            "你好我是6号,您需要赌博吗？\n",
            "小朋友,你好我是8号,您需要打牌吗？\n",
            "您好我是5号,您需要打猎吗？\n",
            "小朋友,你好我是7号,您需要打牌吗？\n",
            "您好我是6671936号,您需要喝酒吗？\n",
            "你好我是8号,请问你要喝酒吗？\n",
            "您好我是33号,请问你要赌博吗？\n",
            "女士,你好我是31号,您需要赌博吗？\n",
            "您好我是25号,请问你要赌博吗？\n",
            "你好我是5377号,请问你要喝酒吗？\n",
            "小朋友,你好我是43号,请问你要赌博吗？\n",
            "您好我是13号,请问你要喝酒吗？\n"
          ],
          "name": "stdout"
        }
      ]
    },
    {
      "cell_type": "markdown",
      "metadata": {
        "id": "R4PiY-19oW6r",
        "colab_type": "text"
      },
      "source": [
        "## Data Driven\n",
        "\n",
        "我们的目标是，希望能做一个程序，然后，当输入的数据变化的时候，我们的程序不用重写。Generalization.\n",
        "\n",
        "AI? 如何能自动化解决问题，我们找到一个方法之后，输入变了，我们的这个方法，不用变。"
      ]
    },
    {
      "cell_type": "code",
      "metadata": {
        "id": "foIgIhIiog9g",
        "colab_type": "code",
        "colab": {}
      },
      "source": [
        "programming = \"\"\"\n",
        "stmt => if_exp | while_exp | assignment \n",
        "assignment => var = var\n",
        "if_exp => if ( var ) { /n .... stmt }\n",
        "while_exp=> while ( var ) { /n .... stmt }\n",
        "var => chars number\n",
        "chars => char | char char\n",
        "char => student | name | info  | database | course\n",
        "number => 1 | 2 | 3\n",
        "\"\"\""
      ],
      "execution_count": 0,
      "outputs": []
    },
    {
      "cell_type": "code",
      "metadata": {
        "id": "Asq_KltTohIj",
        "colab_type": "code",
        "outputId": "e8237313-ab43-43bb-c537-20d64c375683",
        "colab": {
          "base_uri": "https://localhost:8080/",
          "height": 35
        }
      },
      "source": [
        "print(generate(gram=create_grammar(programming, split='=>'), target='stmt'))"
      ],
      "execution_count": 0,
      "outputs": [
        {
          "output_type": "stream",
          "text": [
            "infoinfo1=namedatabase3\n"
          ],
          "name": "stdout"
        }
      ]
    },
    {
      "cell_type": "markdown",
      "metadata": {
        "id": "kYMb9kUao0qG",
        "colab_type": "text"
      },
      "source": [
        "## Language Model\n",
        "\n",
        "![替代文字](https://render.githubusercontent.com/render/math?math=language%5C_model%28String%29%20%3D%20Probability%28String%29%20%5Cin%20%280%2C%201%29&mode=display)\n",
        "\n",
        "![替代文字](https://render.githubusercontent.com/render/math?math=Pro%28w_1%20w_2%20w_3%20w_4%29%20%3D%20Pr%28w_1%20%7C%20w_2%20w_3%20w_%204%29%20%2A%20P%28w2%20%7C%20w_3%20w_4%29%20%2A%20Pr%28w_3%20%7C%20w_4%29%20%2A%20Pr%28w_4%29&mode=display)\n",
        "![替代文字](https://render.githubusercontent.com/render/math?math=Pro%28w_1%20w_2%20w_3%20w_4%29%20%5Csim%20Pr%28w_1%20%7C%20w_2%20%29%20%2A%20P%28w2%20%7C%20w_3%20%29%20%2A%20Pr%28w_3%20%7C%20w_4%29%20%2A%20Pr%28w_4%29&mode=display)\n",
        "\n",
        "如何得到![替代文字](https://render.githubusercontent.com/render/math?math=Pr%28w1%20%7C%20w2%20w3%20w4%29&mode=inline)"
      ]
    },
    {
      "cell_type": "markdown",
      "metadata": {
        "id": "vigZHJP6l2V1",
        "colab_type": "text"
      },
      "source": [
        "2-Gram Model"
      ]
    },
    {
      "cell_type": "code",
      "metadata": {
        "id": "BiybV-67pgcH",
        "colab_type": "code",
        "colab": {}
      },
      "source": [
        "import random\n",
        "import pandas as pd"
      ],
      "execution_count": 0,
      "outputs": []
    },
    {
      "cell_type": "code",
      "metadata": {
        "id": "fnyaqfm9pgfI",
        "colab_type": "code",
        "outputId": "5a522bba-7e3a-48e3-b400-4140c60f9d85",
        "colab": {
          "base_uri": "https://localhost:8080/",
          "height": 35
        }
      },
      "source": [
        "random.choice(range(100))"
      ],
      "execution_count": 0,
      "outputs": [
        {
          "output_type": "execute_result",
          "data": {
            "text/plain": [
              "85"
            ]
          },
          "metadata": {
            "tags": []
          },
          "execution_count": 66
        }
      ]
    },
    {
      "cell_type": "code",
      "metadata": {
        "id": "HLSPF3aUz8IY",
        "colab_type": "code",
        "outputId": "70a36069-3edf-48bb-808f-41900c9dda1d",
        "colab": {
          "base_uri": "https://localhost:8080/",
          "height": 124
        }
      },
      "source": [
        "from google.colab import drive\n",
        "drive.mount('/content/drive/')"
      ],
      "execution_count": 0,
      "outputs": [
        {
          "output_type": "stream",
          "text": [
            "Go to this URL in a browser: https://accounts.google.com/o/oauth2/auth?client_id=947318989803-6bn6qk8qdgf4n4g3pfee6491hc0brc4i.apps.googleusercontent.com&redirect_uri=urn%3Aietf%3Awg%3Aoauth%3A2.0%3Aoob&scope=email%20https%3A%2F%2Fwww.googleapis.com%2Fauth%2Fdocs.test%20https%3A%2F%2Fwww.googleapis.com%2Fauth%2Fdrive%20https%3A%2F%2Fwww.googleapis.com%2Fauth%2Fdrive.photos.readonly%20https%3A%2F%2Fwww.googleapis.com%2Fauth%2Fpeopleapi.readonly&response_type=code\n",
            "\n",
            "Enter your authorization code:\n",
            "··········\n",
            "Mounted at /content/drive/\n"
          ],
          "name": "stdout"
        }
      ]
    },
    {
      "cell_type": "code",
      "metadata": {
        "id": "LUG2Qdjkxv0R",
        "colab_type": "code",
        "colab": {}
      },
      "source": [
        "content = pd.read_csv(\"/content/drive/My Drive/Colab Notebooks/jupyters_and_slides/data/sqlResult_1558435.csv\",encoding='gb18030')"
      ],
      "execution_count": 0,
      "outputs": []
    },
    {
      "cell_type": "code",
      "metadata": {
        "id": "YR2SAnZypgif",
        "colab_type": "code",
        "colab": {}
      },
      "source": [
        "content.head()"
      ],
      "execution_count": 0,
      "outputs": []
    },
    {
      "cell_type": "code",
      "metadata": {
        "id": "oytcE1pd0SWo",
        "colab_type": "code",
        "colab": {}
      },
      "source": [
        "articles = content['content'].tolist()"
      ],
      "execution_count": 0,
      "outputs": []
    },
    {
      "cell_type": "code",
      "metadata": {
        "id": "BSnHvxLd0Sar",
        "colab_type": "code",
        "outputId": "540cd66d-9f0b-4fa8-b415-efe7da5b4593",
        "colab": {
          "base_uri": "https://localhost:8080/",
          "height": 35
        }
      },
      "source": [
        "len(articles)"
      ],
      "execution_count": 0,
      "outputs": [
        {
          "output_type": "execute_result",
          "data": {
            "text/plain": [
              "89611"
            ]
          },
          "metadata": {
            "tags": []
          },
          "execution_count": 69
        }
      ]
    },
    {
      "cell_type": "code",
      "metadata": {
        "id": "uLsjLM_9T83J",
        "colab_type": "code",
        "outputId": "a2c2ed88-f562-491f-f8fc-71899046ce8a",
        "colab": {
          "base_uri": "https://localhost:8080/",
          "height": 55
        }
      },
      "source": [
        "articles[110]"
      ],
      "execution_count": 0,
      "outputs": [
        {
          "output_type": "execute_result",
          "data": {
            "text/plain": [
              "'在外国名著《麦田里的守望者》中，作者想要守护麦田里如自己内心一般纯真的孩子们。而驻村干部们，也在这个炎热的夏天里撸袖子上阵，真正做起了村民们的“麦田守望者”。\\r\\n三夏时节不等人\\r\\n你看到了吗？不停翻涌起伏、仿若铺陈至天边的金黄麦浪中，那若隐若现的人影，是自治区新闻出版广电局驻和田市肖尔巴格乡合尼村工作队的队员与工作队组织的青年志愿者。\\r\\n在这个炎热的夏季，他们深入田间地头，帮助村民们收割小麦。扛起收麦机，麦田中的每个人都显得兴致勃勃，一天下来就近22亩小麦收割完毕。\\r\\n志愿者麦麦提亚森擦去满脸的汗水，高兴地告诉驻村队员：“我们青年志愿者应该多做贡献，为村里的脱贫致富出把力。工作队带着我们为村里的老人服务，看到那些像我爷爷奶奶一样的老人赞许感谢的目光，我体会到了帮助他人的快乐。”（自治区新闻出版广电局驻村工作队孙敏 艾力依布拉音）\\r\\n麦收时节 我们在一起\\r\\n6月中旬的和田墨玉，麦田金黄，静待收割。\\r\\n6月14日、15日两天，自治区高级人民法院驻和田地区墨玉县吐外特乡罕勒克艾日克村工作队与48名村民志愿者一道，帮助村里29户有需要的村民进行小麦收割工作。\\r\\n田间地头，罕勒克艾日克村志愿队的红旗迎风飘扬，格外醒目。10余台割麦机一起轰鸣，男人们在用机器收割小麦的同时，几名妇女也加入到志愿队，构成了一道美丽的麦收风景。\\r\\n休息空闲，工作队员和村民们坐在树荫下、田埂上，互相问好、聊天。语言交流有困难，就用手势、动作比划着聊天，有趣地交流方式不时引来阵阵欢笑。大家在一同享受丰收和喜悦，也一同增进着彼此的情感和友谊。（自治区高级人民法院驻村工作队周春梅 艾地艾木·阿不拉）\\r\\n细看稻菽千重浪\\r\\n6月15日，自治区煤田灭火工程局的干部职工们再一次跋涉1000多公里来到了叶城县萨依巴格乡阿亚格欧尔达贝格村，见到了自己的亲戚。现场处处都透出掩盖不住的喜悦，一声声亲切的“谢谢”、一个个结实的拥抱，都透露出浓浓的亲情。\\r\\n没坐一会儿，在嘘寒问暖中大家了解到在麦收的关键时刻，部分村民家中却存在收割难的问题。小麦成熟期短，收获的时间集中，天气的变化对小麦最终产量的影响极大，如果不能及时收割，会有不小损失的。于是，大家几乎立刻就决定要帮助亲戚们收割麦子。\\r\\n在茂密的麦地里，干部们每人手持一把镰刀，一字排开，挽起衣袖、卷起裤腿，挥舞着镰刀进行着无声的竞赛。\\r\\n骄阳似火，汗如雨下，但这都挡不住大家的热情。随着此起彼伏的镰刀割倒麦子的“刷刷”声响，不一会，一束束沉甸甸的麦穗就被整齐地堆放了起来。\\r\\n当看到自己亲手收割的金黄色麦穗，被一簇簇地打成捆运送到晒场，每个人的脸上都露出了灿烂的笑容。（自治区煤田灭火工程局驻村工作队马浩南）\\r\\n这是一个收获多多的季节\\r\\n6月13日清晨6时许，和田地区民丰县若雅乡特开墩村的麦田里已经传来马达轰鸣声。原来是自治区质监局驻村工作队趁着天气尚且凉爽，开始了麦田的收割工作。\\r\\n忙碌间隙，志愿者队伍搬来清凉的水，村民们拎来鲜甜的西瓜，抹一把汗水，吃一牙西瓜，甜蜜的汁水似乎流进了每一个人的心里。\\r\\n说起割麦子，对于生活在这片土地上的村民来说是再平常不过的事，但是对于工作队队员们来说却是陌生的。\\r\\n自治区质监局驻民丰县若克雅乡博斯坦村工作队队员们一开始觉得十几个人一起收割二亩地应该会挺快的，结果却一点不简单。\\r\\n镰刀拿到自己手里割起来，考验才真正的开始。大家弓着腰、弯着腿，亦步亦趋，手上挥舞着镰刀，时刻注意不要让镰刀割到自己，脚下还要留心不要把套种的玉米苗踩伤，不一会儿，就已经汗流浃背了。抬头看看，身边的村民早就远远地割到前面去了，只有今年已经56岁的工作队队长李树刚有割麦经验，多少给队员们挽回了些“面子”。\\r\\n赶不上村民们割麦子的速度，更不要说搞定收割机这台大家伙了。“现代化的机械收割，能成倍提升小麦的收割速度。”李树刚说，“不过，能有这样的体验，拉近和村民的距离，也是很难得的体验。”（自治区质监局驻村工作队王辉 马君刚）\\r\\n我们是麦田的守护者\\r\\n为了应对麦收，新疆银监局驻和田县塔瓦库勒乡也先巴扎村工作队一早就从经济支援和人力支援两方面做好了准备。一方面，工作队帮村里购入了5台小麦收割机，另一边，还组织村干部、青年团员等组成了6支近百人的“收割先锋突击队”，帮助村民们抢收麦子。\\r\\n看着及时归仓的麦子，村民们喜得合不拢嘴，纷纷摘下自家杏树上的杏子送给工作队。金黄的麦穗温暖了村民们的心，香甜的杏子温暖了工作队员的心，麦子加杏子，拉近了村民和队员们的心……（新疆银监局驻村工作队王继发）\\r\\n免责声明：本文仅代表作者个人观点，与环球网无关。其原创性以及文中陈述文字和内容未经本站证实，对本文以及其中全部或者部分内容、文字的真实性、完整性、及时性本站不作任何保证或承诺，请读者仅作参考，并请自行核实相关内容。\\r\\n'"
            ]
          },
          "metadata": {
            "tags": []
          },
          "execution_count": 70
        }
      ]
    },
    {
      "cell_type": "code",
      "metadata": {
        "id": "eFdkA_zy0Seq",
        "colab_type": "code",
        "colab": {}
      },
      "source": [
        "import re"
      ],
      "execution_count": 0,
      "outputs": []
    },
    {
      "cell_type": "markdown",
      "metadata": {
        "id": "UAgIyxtMUbfG",
        "colab_type": "text"
      },
      "source": [
        "正则表达式：定义一种模式，把所有满足这种模式的内容找出来。\n",
        "\n",
        "w+ 意思是把所有的单词找出来"
      ]
    },
    {
      "cell_type": "markdown",
      "metadata": {
        "id": "5LLWMc4AyB1A",
        "colab_type": "text"
      },
      "source": [
        "正则表达式的练习在线网址: https://regexone.com/"
      ]
    },
    {
      "cell_type": "code",
      "metadata": {
        "id": "1qboJBrW0Si4",
        "colab_type": "code",
        "colab": {}
      },
      "source": [
        "def token(string):\n",
        "    # we will learn the regular expression-正则表达式 next course.\n",
        "    return re.findall('\\w+', string)"
      ],
      "execution_count": 0,
      "outputs": []
    },
    {
      "cell_type": "code",
      "metadata": {
        "id": "pH81XjpnUx0d",
        "colab_type": "code",
        "colab": {}
      },
      "source": [
        "token(articles[110])"
      ],
      "execution_count": 0,
      "outputs": []
    },
    {
      "cell_type": "code",
      "metadata": {
        "id": "0ldvA5wjU-bK",
        "colab_type": "code",
        "outputId": "1d2de0bc-27a6-486c-be75-c3abec14d65f",
        "colab": {
          "base_uri": "https://localhost:8080/",
          "height": 55
        }
      },
      "source": [
        "''.join(token(articles[110]))"
      ],
      "execution_count": 0,
      "outputs": [
        {
          "output_type": "execute_result",
          "data": {
            "text/plain": [
              "'在外国名著麦田里的守望者中作者想要守护麦田里如自己内心一般纯真的孩子们而驻村干部们也在这个炎热的夏天里撸袖子上阵真正做起了村民们的麦田守望者三夏时节不等人你看到了吗不停翻涌起伏仿若铺陈至天边的金黄麦浪中那若隐若现的人影是自治区新闻出版广电局驻和田市肖尔巴格乡合尼村工作队的队员与工作队组织的青年志愿者在这个炎热的夏季他们深入田间地头帮助村民们收割小麦扛起收麦机麦田中的每个人都显得兴致勃勃一天下来就近22亩小麦收割完毕志愿者麦麦提亚森擦去满脸的汗水高兴地告诉驻村队员我们青年志愿者应该多做贡献为村里的脱贫致富出把力工作队带着我们为村里的老人服务看到那些像我爷爷奶奶一样的老人赞许感谢的目光我体会到了帮助他人的快乐自治区新闻出版广电局驻村工作队孙敏艾力依布拉音麦收时节我们在一起6月中旬的和田墨玉麦田金黄静待收割6月14日15日两天自治区高级人民法院驻和田地区墨玉县吐外特乡罕勒克艾日克村工作队与48名村民志愿者一道帮助村里29户有需要的村民进行小麦收割工作田间地头罕勒克艾日克村志愿队的红旗迎风飘扬格外醒目10余台割麦机一起轰鸣男人们在用机器收割小麦的同时几名妇女也加入到志愿队构成了一道美丽的麦收风景休息空闲工作队员和村民们坐在树荫下田埂上互相问好聊天语言交流有困难就用手势动作比划着聊天有趣地交流方式不时引来阵阵欢笑大家在一同享受丰收和喜悦也一同增进着彼此的情感和友谊自治区高级人民法院驻村工作队周春梅艾地艾木阿不拉细看稻菽千重浪6月15日自治区煤田灭火工程局的干部职工们再一次跋涉1000多公里来到了叶城县萨依巴格乡阿亚格欧尔达贝格村见到了自己的亲戚现场处处都透出掩盖不住的喜悦一声声亲切的谢谢一个个结实的拥抱都透露出浓浓的亲情没坐一会儿在嘘寒问暖中大家了解到在麦收的关键时刻部分村民家中却存在收割难的问题小麦成熟期短收获的时间集中天气的变化对小麦最终产量的影响极大如果不能及时收割会有不小损失的于是大家几乎立刻就决定要帮助亲戚们收割麦子在茂密的麦地里干部们每人手持一把镰刀一字排开挽起衣袖卷起裤腿挥舞着镰刀进行着无声的竞赛骄阳似火汗如雨下但这都挡不住大家的热情随着此起彼伏的镰刀割倒麦子的刷刷声响不一会一束束沉甸甸的麦穗就被整齐地堆放了起来当看到自己亲手收割的金黄色麦穗被一簇簇地打成捆运送到晒场每个人的脸上都露出了灿烂的笑容自治区煤田灭火工程局驻村工作队马浩南这是一个收获多多的季节6月13日清晨6时许和田地区民丰县若雅乡特开墩村的麦田里已经传来马达轰鸣声原来是自治区质监局驻村工作队趁着天气尚且凉爽开始了麦田的收割工作忙碌间隙志愿者队伍搬来清凉的水村民们拎来鲜甜的西瓜抹一把汗水吃一牙西瓜甜蜜的汁水似乎流进了每一个人的心里说起割麦子对于生活在这片土地上的村民来说是再平常不过的事但是对于工作队队员们来说却是陌生的自治区质监局驻民丰县若克雅乡博斯坦村工作队队员们一开始觉得十几个人一起收割二亩地应该会挺快的结果却一点不简单镰刀拿到自己手里割起来考验才真正的开始大家弓着腰弯着腿亦步亦趋手上挥舞着镰刀时刻注意不要让镰刀割到自己脚下还要留心不要把套种的玉米苗踩伤不一会儿就已经汗流浃背了抬头看看身边的村民早就远远地割到前面去了只有今年已经56岁的工作队队长李树刚有割麦经验多少给队员们挽回了些面子赶不上村民们割麦子的速度更不要说搞定收割机这台大家伙了现代化的机械收割能成倍提升小麦的收割速度李树刚说不过能有这样的体验拉近和村民的距离也是很难得的体验自治区质监局驻村工作队王辉马君刚我们是麦田的守护者为了应对麦收新疆银监局驻和田县塔瓦库勒乡也先巴扎村工作队一早就从经济支援和人力支援两方面做好了准备一方面工作队帮村里购入了5台小麦收割机另一边还组织村干部青年团员等组成了6支近百人的收割先锋突击队帮助村民们抢收麦子看着及时归仓的麦子村民们喜得合不拢嘴纷纷摘下自家杏树上的杏子送给工作队金黄的麦穗温暖了村民们的心香甜的杏子温暖了工作队员的心麦子加杏子拉近了村民和队员们的心新疆银监局驻村工作队王继发免责声明本文仅代表作者个人观点与环球网无关其原创性以及文中陈述文字和内容未经本站证实对本文以及其中全部或者部分内容文字的真实性完整性及时性本站不作任何保证或承诺请读者仅作参考并请自行核实相关内容'"
            ]
          },
          "metadata": {
            "tags": []
          },
          "execution_count": 74
        }
      ]
    },
    {
      "cell_type": "markdown",
      "metadata": {
        "id": "rp_WGRGBVodk",
        "colab_type": "text"
      },
      "source": [
        "也可以直接使用Jieba分词"
      ]
    },
    {
      "cell_type": "code",
      "metadata": {
        "id": "jTDdifKp0lyZ",
        "colab_type": "code",
        "colab": {}
      },
      "source": [
        "from collections import Counter"
      ],
      "execution_count": 0,
      "outputs": []
    },
    {
      "cell_type": "code",
      "metadata": {
        "id": "P24Ajw_01Ulp",
        "colab_type": "code",
        "outputId": "812e3922-14a0-472d-8be2-7d8d0a65873d",
        "colab": {
          "base_uri": "https://localhost:8080/",
          "height": 35
        }
      },
      "source": [
        "!pip install jieba"
      ],
      "execution_count": 0,
      "outputs": [
        {
          "output_type": "stream",
          "text": [
            "Requirement already satisfied: jieba in /usr/local/lib/python3.6/dist-packages (0.39)\n"
          ],
          "name": "stdout"
        }
      ]
    },
    {
      "cell_type": "code",
      "metadata": {
        "id": "Kdf6-8zj10Rp",
        "colab_type": "code",
        "colab": {}
      },
      "source": [
        "import jieba"
      ],
      "execution_count": 0,
      "outputs": []
    },
    {
      "cell_type": "code",
      "metadata": {
        "id": "or9sgDGA0l1Q",
        "colab_type": "code",
        "outputId": "7bee8ea4-50ce-4b33-fe86-d3f18ab6ac07",
        "colab": {
          "base_uri": "https://localhost:8080/",
          "height": 86
        }
      },
      "source": [
        "with_jieba_cut = Counter(jieba.cut(articles[110]))"
      ],
      "execution_count": 0,
      "outputs": [
        {
          "output_type": "stream",
          "text": [
            "Building prefix dict from the default dictionary ...\n",
            "Dumping model to file cache /tmp/jieba.cache\n",
            "Loading model cost 0.849 seconds.\n",
            "Prefix dict has been built succesfully.\n"
          ],
          "name": "stderr"
        }
      ]
    },
    {
      "cell_type": "code",
      "metadata": {
        "id": "-VW8Ga560l6f",
        "colab_type": "code",
        "outputId": "0f3c5b5e-3bcf-438c-c633-7428baa0244e",
        "colab": {
          "base_uri": "https://localhost:8080/",
          "height": 190
        }
      },
      "source": [
        "with_jieba_cut.most_common()[:10]"
      ],
      "execution_count": 0,
      "outputs": [
        {
          "output_type": "execute_result",
          "data": {
            "text/plain": [
              "[('，', 88),\n",
              " ('的', 73),\n",
              " ('。', 39),\n",
              " ('\\r\\n', 27),\n",
              " ('了', 20),\n",
              " ('们', 18),\n",
              " ('工作队', 16),\n",
              " ('村民', 15),\n",
              " ('收割', 14),\n",
              " ('、', 12)]"
            ]
          },
          "metadata": {
            "tags": []
          },
          "execution_count": 54
        }
      ]
    },
    {
      "cell_type": "code",
      "metadata": {
        "id": "QI8lVfC80l9M",
        "colab_type": "code",
        "outputId": "239503de-eeef-4136-90e4-320e39735729",
        "colab": {
          "base_uri": "https://localhost:8080/",
          "height": 55
        }
      },
      "source": [
        "''.join(token(articles[110]))"
      ],
      "execution_count": 0,
      "outputs": [
        {
          "output_type": "execute_result",
          "data": {
            "text/plain": [
              "'在外国名著麦田里的守望者中作者想要守护麦田里如自己内心一般纯真的孩子们而驻村干部们也在这个炎热的夏天里撸袖子上阵真正做起了村民们的麦田守望者三夏时节不等人你看到了吗不停翻涌起伏仿若铺陈至天边的金黄麦浪中那若隐若现的人影是自治区新闻出版广电局驻和田市肖尔巴格乡合尼村工作队的队员与工作队组织的青年志愿者在这个炎热的夏季他们深入田间地头帮助村民们收割小麦扛起收麦机麦田中的每个人都显得兴致勃勃一天下来就近22亩小麦收割完毕志愿者麦麦提亚森擦去满脸的汗水高兴地告诉驻村队员我们青年志愿者应该多做贡献为村里的脱贫致富出把力工作队带着我们为村里的老人服务看到那些像我爷爷奶奶一样的老人赞许感谢的目光我体会到了帮助他人的快乐自治区新闻出版广电局驻村工作队孙敏艾力依布拉音麦收时节我们在一起6月中旬的和田墨玉麦田金黄静待收割6月14日15日两天自治区高级人民法院驻和田地区墨玉县吐外特乡罕勒克艾日克村工作队与48名村民志愿者一道帮助村里29户有需要的村民进行小麦收割工作田间地头罕勒克艾日克村志愿队的红旗迎风飘扬格外醒目10余台割麦机一起轰鸣男人们在用机器收割小麦的同时几名妇女也加入到志愿队构成了一道美丽的麦收风景休息空闲工作队员和村民们坐在树荫下田埂上互相问好聊天语言交流有困难就用手势动作比划着聊天有趣地交流方式不时引来阵阵欢笑大家在一同享受丰收和喜悦也一同增进着彼此的情感和友谊自治区高级人民法院驻村工作队周春梅艾地艾木阿不拉细看稻菽千重浪6月15日自治区煤田灭火工程局的干部职工们再一次跋涉1000多公里来到了叶城县萨依巴格乡阿亚格欧尔达贝格村见到了自己的亲戚现场处处都透出掩盖不住的喜悦一声声亲切的谢谢一个个结实的拥抱都透露出浓浓的亲情没坐一会儿在嘘寒问暖中大家了解到在麦收的关键时刻部分村民家中却存在收割难的问题小麦成熟期短收获的时间集中天气的变化对小麦最终产量的影响极大如果不能及时收割会有不小损失的于是大家几乎立刻就决定要帮助亲戚们收割麦子在茂密的麦地里干部们每人手持一把镰刀一字排开挽起衣袖卷起裤腿挥舞着镰刀进行着无声的竞赛骄阳似火汗如雨下但这都挡不住大家的热情随着此起彼伏的镰刀割倒麦子的刷刷声响不一会一束束沉甸甸的麦穗就被整齐地堆放了起来当看到自己亲手收割的金黄色麦穗被一簇簇地打成捆运送到晒场每个人的脸上都露出了灿烂的笑容自治区煤田灭火工程局驻村工作队马浩南这是一个收获多多的季节6月13日清晨6时许和田地区民丰县若雅乡特开墩村的麦田里已经传来马达轰鸣声原来是自治区质监局驻村工作队趁着天气尚且凉爽开始了麦田的收割工作忙碌间隙志愿者队伍搬来清凉的水村民们拎来鲜甜的西瓜抹一把汗水吃一牙西瓜甜蜜的汁水似乎流进了每一个人的心里说起割麦子对于生活在这片土地上的村民来说是再平常不过的事但是对于工作队队员们来说却是陌生的自治区质监局驻民丰县若克雅乡博斯坦村工作队队员们一开始觉得十几个人一起收割二亩地应该会挺快的结果却一点不简单镰刀拿到自己手里割起来考验才真正的开始大家弓着腰弯着腿亦步亦趋手上挥舞着镰刀时刻注意不要让镰刀割到自己脚下还要留心不要把套种的玉米苗踩伤不一会儿就已经汗流浃背了抬头看看身边的村民早就远远地割到前面去了只有今年已经56岁的工作队队长李树刚有割麦经验多少给队员们挽回了些面子赶不上村民们割麦子的速度更不要说搞定收割机这台大家伙了现代化的机械收割能成倍提升小麦的收割速度李树刚说不过能有这样的体验拉近和村民的距离也是很难得的体验自治区质监局驻村工作队王辉马君刚我们是麦田的守护者为了应对麦收新疆银监局驻和田县塔瓦库勒乡也先巴扎村工作队一早就从经济支援和人力支援两方面做好了准备一方面工作队帮村里购入了5台小麦收割机另一边还组织村干部青年团员等组成了6支近百人的收割先锋突击队帮助村民们抢收麦子看着及时归仓的麦子村民们喜得合不拢嘴纷纷摘下自家杏树上的杏子送给工作队金黄的麦穗温暖了村民们的心香甜的杏子温暖了工作队员的心麦子加杏子拉近了村民和队员们的心新疆银监局驻村工作队王继发免责声明本文仅代表作者个人观点与环球网无关其原创性以及文中陈述文字和内容未经本站证实对本文以及其中全部或者部分内容文字的真实性完整性及时性本站不作任何保证或承诺请读者仅作参考并请自行核实相关内容'"
            ]
          },
          "metadata": {
            "tags": []
          },
          "execution_count": 55
        }
      ]
    },
    {
      "cell_type": "code",
      "metadata": {
        "id": "0L-K_4djXl_k",
        "colab_type": "code",
        "colab": {}
      },
      "source": [
        "from functools import reduce\n",
        "from operator import add,mul"
      ],
      "execution_count": 0,
      "outputs": []
    },
    {
      "cell_type": "code",
      "metadata": {
        "id": "3nMhe8MlXmDY",
        "colab_type": "code",
        "outputId": "db883da5-6ccf-429a-8b52-f4ebae0f4f70",
        "colab": {
          "base_uri": "https://localhost:8080/",
          "height": 35
        }
      },
      "source": [
        "reduce(add,[1,2,3,4,5,8])"
      ],
      "execution_count": 0,
      "outputs": [
        {
          "output_type": "execute_result",
          "data": {
            "text/plain": [
              "23"
            ]
          },
          "metadata": {
            "tags": []
          },
          "execution_count": 61
        }
      ]
    },
    {
      "cell_type": "code",
      "metadata": {
        "id": "KXm4a6uxYpmk",
        "colab_type": "code",
        "outputId": "bd3aa719-158e-4b57-81e4-13be94c2d583",
        "colab": {
          "base_uri": "https://localhost:8080/",
          "height": 35
        }
      },
      "source": [
        "reduce(lambda x,y:x + y,[1,2,3,4,5,8])"
      ],
      "execution_count": 0,
      "outputs": [
        {
          "output_type": "execute_result",
          "data": {
            "text/plain": [
              "23"
            ]
          },
          "metadata": {
            "tags": []
          },
          "execution_count": 64
        }
      ]
    },
    {
      "cell_type": "code",
      "metadata": {
        "id": "IRaGRrNiYfFn",
        "colab_type": "code",
        "outputId": "9efefec7-1764-42ad-8240-e2c030cd2817",
        "colab": {
          "base_uri": "https://localhost:8080/",
          "height": 35
        }
      },
      "source": [
        "reduce(mul,[1,2,3,4,5,8])"
      ],
      "execution_count": 0,
      "outputs": [
        {
          "output_type": "execute_result",
          "data": {
            "text/plain": [
              "960"
            ]
          },
          "metadata": {
            "tags": []
          },
          "execution_count": 62
        }
      ]
    },
    {
      "cell_type": "code",
      "metadata": {
        "id": "bWY5L4p3Vv4Z",
        "colab_type": "code",
        "colab": {}
      },
      "source": [
        "分割线：继续"
      ],
      "execution_count": 0,
      "outputs": []
    },
    {
      "cell_type": "code",
      "metadata": {
        "id": "BDXYdifs2FBz",
        "colab_type": "code",
        "colab": {}
      },
      "source": [
        "articles_clean = [''.join(token(str(a)))for a in articles]"
      ],
      "execution_count": 0,
      "outputs": []
    },
    {
      "cell_type": "code",
      "metadata": {
        "id": "DPl9axfX2FE4",
        "colab_type": "code",
        "outputId": "fa84c73b-5bbf-48aa-ffc9-9d79ea70d276",
        "colab": {
          "base_uri": "https://localhost:8080/",
          "height": 35
        }
      },
      "source": [
        "len(articles_clean)"
      ],
      "execution_count": 0,
      "outputs": [
        {
          "output_type": "execute_result",
          "data": {
            "text/plain": [
              "89611"
            ]
          },
          "metadata": {
            "tags": []
          },
          "execution_count": 76
        }
      ]
    },
    {
      "cell_type": "code",
      "metadata": {
        "id": "pSlTFjqRVy3z",
        "colab_type": "code",
        "colab": {}
      },
      "source": [
        "with open ('article_9k.txt','w') as f:\n",
        "  for a in articles_clean:\n",
        "    f.write(a + '\\n')"
      ],
      "execution_count": 0,
      "outputs": []
    },
    {
      "cell_type": "code",
      "metadata": {
        "id": "O95xiXedVy6S",
        "colab_type": "code",
        "outputId": "bddb7366-b97a-4d90-f606-37df6d960af7",
        "colab": {
          "base_uri": "https://localhost:8080/",
          "height": 35
        }
      },
      "source": [
        "!ls"
      ],
      "execution_count": 0,
      "outputs": [
        {
          "output_type": "stream",
          "text": [
            "article_9k.txt\tdrive  sample_data\n"
          ],
          "name": "stdout"
        }
      ]
    },
    {
      "cell_type": "code",
      "metadata": {
        "id": "7OAZN176Vy86",
        "colab_type": "code",
        "colab": {}
      },
      "source": [
        "def cut(string): return list(jieba.cut(string))"
      ],
      "execution_count": 0,
      "outputs": []
    },
    {
      "cell_type": "code",
      "metadata": {
        "id": "4nKP1JyNZtwS",
        "colab_type": "code",
        "colab": {}
      },
      "source": [
        "import jieba"
      ],
      "execution_count": 0,
      "outputs": []
    },
    {
      "cell_type": "code",
      "metadata": {
        "id": "Qroobw43Zt1c",
        "colab_type": "code",
        "colab": {}
      },
      "source": [
        "def cut(string): return list(jieba.cut(string))"
      ],
      "execution_count": 0,
      "outputs": []
    },
    {
      "cell_type": "markdown",
      "metadata": {
        "id": "2vIZZ1m5elC6",
        "colab_type": "text"
      },
      "source": [
        "**统计前10000个词**"
      ]
    },
    {
      "cell_type": "code",
      "metadata": {
        "id": "KIP8-2BUZt4T",
        "colab_type": "code",
        "colab": {}
      },
      "source": [
        "TOKEN = [] # 定义一个空列表"
      ],
      "execution_count": 0,
      "outputs": []
    },
    {
      "cell_type": "code",
      "metadata": {
        "id": "R--XwCtEZ2KC",
        "colab_type": "code",
        "outputId": "7c5059da-0cbf-459a-b77d-a16f999e5be7",
        "colab": {
          "base_uri": "https://localhost:8080/",
          "height": 1000
        }
      },
      "source": [
        "for i,line in enumerate((open('article_9k.txt'))):\n",
        "  if i %100 == 0: print(i)\n",
        "    \n",
        "  if i > 10000:break\n",
        "  TOKEN += cut(line)"
      ],
      "execution_count": 0,
      "outputs": [
        {
          "output_type": "stream",
          "text": [
            "0\n",
            "100\n",
            "200\n",
            "300\n",
            "400\n",
            "500\n",
            "600\n",
            "700\n",
            "800\n",
            "900\n",
            "1000\n",
            "1100\n",
            "1200\n",
            "1300\n",
            "1400\n",
            "1500\n",
            "1600\n",
            "1700\n",
            "1800\n",
            "1900\n",
            "2000\n",
            "2100\n",
            "2200\n",
            "2300\n",
            "2400\n",
            "2500\n",
            "2600\n",
            "2700\n",
            "2800\n",
            "2900\n",
            "3000\n",
            "3100\n",
            "3200\n",
            "3300\n",
            "3400\n",
            "3500\n",
            "3600\n",
            "3700\n",
            "3800\n",
            "3900\n",
            "4000\n",
            "4100\n",
            "4200\n",
            "4300\n",
            "4400\n",
            "4500\n",
            "4600\n",
            "4700\n",
            "4800\n",
            "4900\n",
            "5000\n",
            "5100\n",
            "5200\n",
            "5300\n",
            "5400\n",
            "5500\n",
            "5600\n",
            "5700\n",
            "5800\n",
            "5900\n",
            "6000\n",
            "6100\n",
            "6200\n",
            "6300\n",
            "6400\n",
            "6500\n",
            "6600\n",
            "6700\n",
            "6800\n",
            "6900\n",
            "7000\n",
            "7100\n",
            "7200\n",
            "7300\n",
            "7400\n",
            "7500\n",
            "7600\n",
            "7700\n",
            "7800\n",
            "7900\n",
            "8000\n",
            "8100\n",
            "8200\n",
            "8300\n",
            "8400\n",
            "8500\n",
            "8600\n",
            "8700\n",
            "8800\n",
            "8900\n",
            "9000\n",
            "9100\n",
            "9200\n",
            "9300\n",
            "9400\n",
            "9500\n",
            "9600\n",
            "9700\n",
            "9800\n",
            "9900\n",
            "10000\n"
          ],
          "name": "stdout"
        }
      ]
    },
    {
      "cell_type": "code",
      "metadata": {
        "id": "yH3TPWGWZ2Nt",
        "colab_type": "code",
        "colab": {}
      },
      "source": [
        "words_count = Counter(TOKEN)"
      ],
      "execution_count": 0,
      "outputs": []
    },
    {
      "cell_type": "code",
      "metadata": {
        "id": "IQJBgO8sZ2Qc",
        "colab_type": "code",
        "outputId": "4d786ae0-c9b9-411b-ec95-bfa625bd250d",
        "colab": {
          "base_uri": "https://localhost:8080/",
          "height": 1000
        }
      },
      "source": [
        "words_count.most_common(100)\n"
      ],
      "execution_count": 0,
      "outputs": [
        {
          "output_type": "execute_result",
          "data": {
            "text/plain": [
              "[('的', 184244),\n",
              " ('在', 47370),\n",
              " ('了', 36722),\n",
              " ('和', 30809),\n",
              " ('是', 30283),\n",
              " ('月', 18711),\n",
              " ('也', 15995),\n",
              " ('年', 15971),\n",
              " ('有', 14714),\n",
              " ('为', 14448),\n",
              " ('等', 14340),\n",
              " ('将', 14060),\n",
              " ('对', 13074),\n",
              " ('与', 12568),\n",
              " ('日', 12322),\n",
              " ('中', 11117),\n",
              " ('中国', 11036),\n",
              " ('6', 10477),\n",
              " ('上', 10192),\n",
              " ('不', 10027),\n",
              " ('\\n', 10001),\n",
              " ('他', 9530),\n",
              " ('都', 9447),\n",
              " ('发展', 8795),\n",
              " ('企业', 8584),\n",
              " ('就', 8537),\n",
              " ('到', 8338),\n",
              " ('市场', 8095),\n",
              " ('但', 7729),\n",
              " ('这', 7658),\n",
              " ('被', 7575),\n",
              " ('从', 7513),\n",
              " ('并', 7412),\n",
              " ('人', 7339),\n",
              " ('后', 7084),\n",
              " ('公司', 6915),\n",
              " ('一个', 6772),\n",
              " ('说', 6703),\n",
              " ('新', 6467),\n",
              " ('表示', 6309),\n",
              " ('要', 6276),\n",
              " ('还', 6245),\n",
              " ('会', 6179),\n",
              " ('个', 6176),\n",
              " ('我', 6141),\n",
              " ('而', 6090),\n",
              " ('进行', 5802),\n",
              " ('我们', 5742),\n",
              " ('记者', 5734),\n",
              " ('以', 5615),\n",
              " ('5', 5569),\n",
              " ('工作', 5135),\n",
              " ('没有', 5000),\n",
              " ('美国', 4840),\n",
              " ('下', 4741),\n",
              " ('更', 4739),\n",
              " ('通过', 4720),\n",
              " ('大', 4704),\n",
              " ('让', 4701),\n",
              " ('可以', 4681),\n",
              " ('经济', 4670),\n",
              " ('时', 4654),\n",
              " ('目前', 4645),\n",
              " ('国家', 4628),\n",
              " ('项目', 4538),\n",
              " ('问题', 4422),\n",
              " ('创新', 4416),\n",
              " ('多', 4410),\n",
              " ('已经', 4391),\n",
              " ('建设', 4373),\n",
              " ('其', 4224),\n",
              " ('自己', 4119),\n",
              " ('投资', 4064),\n",
              " ('已', 4026),\n",
              " ('3', 4008),\n",
              " ('城市', 3921),\n",
              " ('服务', 3842),\n",
              " ('报道', 3818),\n",
              " ('亿元', 3813),\n",
              " ('及', 3812),\n",
              " ('1', 3793),\n",
              " ('成为', 3684),\n",
              " ('相关', 3646),\n",
              " ('向', 3603),\n",
              " ('可能', 3595),\n",
              " ('他们', 3560),\n",
              " ('以及', 3475),\n",
              " ('或', 3447),\n",
              " ('今年', 3426),\n",
              " ('地', 3411),\n",
              " ('其中', 3408),\n",
              " ('于', 3371),\n",
              " ('她', 3349),\n",
              " ('能', 3343),\n",
              " ('10', 3330),\n",
              " ('着', 3327),\n",
              " ('2016', 3310),\n",
              " ('认为', 3295),\n",
              " ('20', 3282),\n",
              " ('称', 3271)]"
            ]
          },
          "metadata": {
            "tags": []
          },
          "execution_count": 86
        }
      ]
    },
    {
      "cell_type": "code",
      "metadata": {
        "id": "0PCZK_7abcuO",
        "colab_type": "code",
        "colab": {}
      },
      "source": [
        "frequiences = [f for w, f in words_count.most_common(100)]"
      ],
      "execution_count": 0,
      "outputs": []
    },
    {
      "cell_type": "code",
      "metadata": {
        "id": "6dBuDfLjbcxV",
        "colab_type": "code",
        "colab": {}
      },
      "source": [
        "x = [i for i in range(100)]"
      ],
      "execution_count": 0,
      "outputs": []
    },
    {
      "cell_type": "code",
      "metadata": {
        "id": "X0-zZx8ibcz-",
        "colab_type": "code",
        "colab": {}
      },
      "source": [
        "%matplotlib inline"
      ],
      "execution_count": 0,
      "outputs": []
    },
    {
      "cell_type": "code",
      "metadata": {
        "id": "EtSjLM0gbc31",
        "colab_type": "code",
        "colab": {}
      },
      "source": [
        "import matplotlib.pyplot as plt"
      ],
      "execution_count": 0,
      "outputs": []
    },
    {
      "cell_type": "code",
      "metadata": {
        "id": "pf-fdeU1bw_Q",
        "colab_type": "code",
        "outputId": "9d4f091b-ef17-4399-87a1-b9c70a64ab7a",
        "colab": {
          "base_uri": "https://localhost:8080/",
          "height": 286
        }
      },
      "source": [
        "plt.plot(x, frequiences)"
      ],
      "execution_count": 0,
      "outputs": [
        {
          "output_type": "execute_result",
          "data": {
            "text/plain": [
              "[<matplotlib.lines.Line2D at 0x7fa3aaaaef28>]"
            ]
          },
          "metadata": {
            "tags": []
          },
          "execution_count": 91
        },
        {
          "output_type": "display_data",
          "data": {
            "image/png": "[encoded data removed]",
            "text/plain": [
              "<Figure size 432x288 with 1 Axes>"
            ]
          },
          "metadata": {
            "tags": []
          }
        }
      ]
    },
    {
      "cell_type": "code",
      "metadata": {
        "id": "Zn2p76-NbxE0",
        "colab_type": "code",
        "colab": {}
      },
      "source": [
        "import numpy as np"
      ],
      "execution_count": 0,
      "outputs": []
    },
    {
      "cell_type": "code",
      "metadata": {
        "id": "XPE_CCsabxH9",
        "colab_type": "code",
        "outputId": "b8317aad-f406-4901-a492-04727b6d3b8e",
        "colab": {
          "base_uri": "https://localhost:8080/",
          "height": 286
        }
      },
      "source": [
        "plt.plot(x, np.log(frequiences))"
      ],
      "execution_count": 0,
      "outputs": [
        {
          "output_type": "execute_result",
          "data": {
            "text/plain": [
              "[<matplotlib.lines.Line2D at 0x7fa3aac07e10>]"
            ]
          },
          "metadata": {
            "tags": []
          },
          "execution_count": 93
        },
        {
          "output_type": "display_data",
          "data": {
            "image/png": "[encoded data removed]",
            "text/plain": [
              "<Figure size 432x288 with 1 Axes>"
            ]
          },
          "metadata": {
            "tags": []
          }
        }
      ]
    },
    {
      "cell_type": "markdown",
      "metadata": {
        "id": "6PA6lCMMjhCG",
        "colab_type": "text"
      },
      "source": [
        "计算单个单词的概率"
      ]
    },
    {
      "cell_type": "code",
      "metadata": {
        "id": "rZsKKYBBbxKy",
        "colab_type": "code",
        "colab": {}
      },
      "source": [
        "def prob_1(word):\n",
        "    return words_count[word] / len(TOKEN)"
      ],
      "execution_count": 0,
      "outputs": []
    },
    {
      "cell_type": "code",
      "metadata": {
        "id": "2DGmQ9Seczof",
        "colab_type": "code",
        "outputId": "9f2490cd-1b6d-4972-c239-39803e4b60c1",
        "colab": {
          "base_uri": "https://localhost:8080/",
          "height": 35
        }
      },
      "source": [
        "prob_1('我们')"
      ],
      "execution_count": 0,
      "outputs": [
        {
          "output_type": "execute_result",
          "data": {
            "text/plain": [
              "0.001554473157589251"
            ]
          },
          "metadata": {
            "tags": []
          },
          "execution_count": 95
        }
      ]
    },
    {
      "cell_type": "code",
      "metadata": {
        "id": "sDFmJomyczr7",
        "colab_type": "code",
        "outputId": "b52b0f1c-64d4-4f24-becb-34d36cb7ea88",
        "colab": {
          "base_uri": "https://localhost:8080/",
          "height": 35
        }
      },
      "source": [
        "TOKEN[:10]"
      ],
      "execution_count": 0,
      "outputs": [
        {
          "output_type": "execute_result",
          "data": {
            "text/plain": [
              "['此外', '自', '本周', '6', '月', '12', '日起', '除', '小米', '手机']"
            ]
          },
          "metadata": {
            "tags": []
          },
          "execution_count": 96
        }
      ]
    },
    {
      "cell_type": "code",
      "metadata": {
        "id": "RSjAZx_MczvG",
        "colab_type": "code",
        "colab": {}
      },
      "source": [
        "TOKEN = [str(t) for t in TOKEN]"
      ],
      "execution_count": 0,
      "outputs": []
    },
    {
      "cell_type": "code",
      "metadata": {
        "id": "FYAjPFy7dDmn",
        "colab_type": "code",
        "colab": {}
      },
      "source": [
        "TOKEN_2_GRAM = [''.join(TOKEN[i:i+2]) for i in range(len(TOKEN[:-2]))]"
      ],
      "execution_count": 0,
      "outputs": []
    },
    {
      "cell_type": "code",
      "metadata": {
        "id": "K9hnowM8dDu-",
        "colab_type": "code",
        "outputId": "b3040e20-c2a9-4df0-ebb2-474fba7d1d74",
        "colab": {
          "base_uri": "https://localhost:8080/",
          "height": 35
        }
      },
      "source": [
        "TOKEN_2_GRAM[:10]"
      ],
      "execution_count": 0,
      "outputs": [
        {
          "output_type": "execute_result",
          "data": {
            "text/plain": [
              "['此外自', '自本周', '本周6', '6月', '月12', '12日起', '日起除', '除小米', '小米手机', '手机6']"
            ]
          },
          "metadata": {
            "tags": []
          },
          "execution_count": 99
        }
      ]
    },
    {
      "cell_type": "code",
      "metadata": {
        "id": "TLZNBJNvdDsQ",
        "colab_type": "code",
        "colab": {}
      },
      "source": [
        "words_count_2 = Counter(TOKEN_2_GRAM)"
      ],
      "execution_count": 0,
      "outputs": []
    },
    {
      "cell_type": "code",
      "metadata": {
        "id": "hYJIGGoydDp8",
        "colab_type": "code",
        "colab": {}
      },
      "source": [
        "def prob_1(word): return words_count[word] / len(TOKEN)"
      ],
      "execution_count": 0,
      "outputs": []
    },
    {
      "cell_type": "markdown",
      "metadata": {
        "id": "fSopJaL0jyfA",
        "colab_type": "text"
      },
      "source": [
        "计算联合概率"
      ]
    },
    {
      "cell_type": "code",
      "metadata": {
        "id": "IKZS5jHTdOCm",
        "colab_type": "code",
        "colab": {}
      },
      "source": [
        "def prob_2(word1, word2):\n",
        "    if word1 + word2 in words_count_2: return words_count_2[word1+word2] / len(TOKEN_2_GRAM)\n",
        "    else:\n",
        "        return 1 / len(TOKEN_2_GRAM)"
      ],
      "execution_count": 0,
      "outputs": []
    },
    {
      "cell_type": "code",
      "metadata": {
        "id": "wA-F89tedOFy",
        "colab_type": "code",
        "outputId": "925caee7-f4a9-4206-8042-04cce3d7e9e2",
        "colab": {
          "base_uri": "https://localhost:8080/",
          "height": 35
        }
      },
      "source": [
        "prob_2('我们', '在')"
      ],
      "execution_count": 0,
      "outputs": [
        {
          "output_type": "execute_result",
          "data": {
            "text/plain": [
              "4.683455274626447e-05"
            ]
          },
          "metadata": {
            "tags": []
          },
          "execution_count": 103
        }
      ]
    },
    {
      "cell_type": "code",
      "metadata": {
        "id": "KNjqs_CmdOo3",
        "colab_type": "code",
        "outputId": "6c75f0de-0bee-4b78-f063-5d28090c2919",
        "colab": {
          "base_uri": "https://localhost:8080/",
          "height": 35
        }
      },
      "source": [
        "prob_2('在', '吃饭')"
      ],
      "execution_count": 0,
      "outputs": [
        {
          "output_type": "execute_result",
          "data": {
            "text/plain": [
              "2.707199580708929e-07"
            ]
          },
          "metadata": {
            "tags": []
          },
          "execution_count": 104
        }
      ]
    },
    {
      "cell_type": "code",
      "metadata": {
        "id": "TZ1urNcedtq8",
        "colab_type": "code",
        "outputId": "37f9eda6-384d-42d1-9f43-f62d44678363",
        "colab": {
          "base_uri": "https://localhost:8080/",
          "height": 35
        }
      },
      "source": [
        "prob_2('去', '吃饭')"
      ],
      "execution_count": 0,
      "outputs": [
        {
          "output_type": "execute_result",
          "data": {
            "text/plain": [
              "2.707199580708929e-07"
            ]
          },
          "metadata": {
            "tags": []
          },
          "execution_count": 105
        }
      ]
    },
    {
      "cell_type": "markdown",
      "metadata": {
        "id": "vaoeHE0jk_fy",
        "colab_type": "text"
      },
      "source": [
        "求一句话的概率"
      ]
    },
    {
      "cell_type": "code",
      "metadata": {
        "id": "UYgR3xxHdt67",
        "colab_type": "code",
        "colab": {}
      },
      "source": [
        "def get_probablity(sentence):\n",
        "    words = cut(sentence)# 切词\n",
        "    \n",
        "    sentence_pro = 1\n",
        "    \n",
        "    for i, word in enumerate(words[:-1]):\n",
        "        next_ = words[i+1]\n",
        "        \n",
        "        probability = prob_2(word, next_)\n",
        "        \n",
        "        sentence_pro *= probability\n",
        "    \n",
        "    return sentence_pro"
      ],
      "execution_count": 0,
      "outputs": []
    },
    {
      "cell_type": "code",
      "metadata": {
        "id": "PC_RbBz0dt4Q",
        "colab_type": "code",
        "outputId": "ffa29155-7b4d-4ebd-882c-879a683aba85",
        "colab": {
          "base_uri": "https://localhost:8080/",
          "height": 35
        }
      },
      "source": [
        "get_probablity('小明今天抽奖抽到一台苹果手机')"
      ],
      "execution_count": 0,
      "outputs": [
        {
          "output_type": "execute_result",
          "data": {
            "text/plain": [
              "6.298565169317442e-39"
            ]
          },
          "metadata": {
            "tags": []
          },
          "execution_count": 107
        }
      ]
    },
    {
      "cell_type": "code",
      "metadata": {
        "id": "ZyLHXnDXdt1a",
        "colab_type": "code",
        "outputId": "64a66b92-c34d-4291-d836-f1596164bcac",
        "colab": {
          "base_uri": "https://localhost:8080/",
          "height": 35
        }
      },
      "source": [
        "get_probablity('小明今天抽奖抽到一架波音飞机')"
      ],
      "execution_count": 0,
      "outputs": [
        {
          "output_type": "execute_result",
          "data": {
            "text/plain": [
              "3.936603230823401e-40"
            ]
          },
          "metadata": {
            "tags": []
          },
          "execution_count": 108
        }
      ]
    },
    {
      "cell_type": "code",
      "metadata": {
        "id": "H58GMIetdtzY",
        "colab_type": "code",
        "outputId": "90ff5312-7e4a-45ea-8bae-9739b31ca3a1",
        "colab": {
          "base_uri": "https://localhost:8080/",
          "height": 35
        }
      },
      "source": [
        "get_probablity('洋葱奶昔来一杯')"
      ],
      "execution_count": 0,
      "outputs": [
        {
          "output_type": "execute_result",
          "data": {
            "text/plain": [
              "1.9840875058382383e-20"
            ]
          },
          "metadata": {
            "tags": []
          },
          "execution_count": 109
        }
      ]
    },
    {
      "cell_type": "code",
      "metadata": {
        "id": "jtUQvry1dtwS",
        "colab_type": "code",
        "outputId": "fc91c33d-2cf4-48c1-b249-2adf7219ffc5",
        "colab": {
          "base_uri": "https://localhost:8080/",
          "height": 35
        }
      },
      "source": [
        "get_probablity('养乐多绿来一杯')"
      ],
      "execution_count": 0,
      "outputs": [
        {
          "output_type": "execute_result",
          "data": {
            "text/plain": [
              "7.3289295697906e-14"
            ]
          },
          "metadata": {
            "tags": []
          },
          "execution_count": 110
        }
      ]
    },
    {
      "cell_type": "code",
      "metadata": {
        "id": "aEO1grX-dtt6",
        "colab_type": "code",
        "outputId": "25777ea3-52ce-4f6a-cf15-021b1db06e35",
        "colab": {
          "base_uri": "https://localhost:8080/",
          "height": 190
        }
      },
      "source": [
        "for sen in [generate(gram=example_grammar, target='sentence') for i in range(10)]:\n",
        "    print('sentence: {} with Prb: {}'.format(sen, get_probablity(sen)))"
      ],
      "execution_count": 0,
      "outputs": [
        {
          "output_type": "stream",
          "text": [
            "sentence: 这个好看的好看的小小的桌子看见这个蓝色的桌子 with Prb: 2.2164521690859956e-69\n",
            "sentence: 一个女人听着一个篮球 with Prb: 1.60535263000113e-30\n",
            "sentence: 一个蓝色的小猫看见这个小小的蓝色的女人 with Prb: 1.449640917029475e-56\n",
            "sentence: 一个好看的小猫听着这个好看的好看的桌子 with Prb: 2.5600022552943256e-67\n",
            "sentence: 这个小小的好看的蓝色的篮球看见一个桌子 with Prb: 1.3609128953837052e-55\n",
            "sentence: 一个篮球听着这个好看的桌子 with Prb: 3.938890259637574e-43\n",
            "sentence: 这个桌子看着这个好看的小小的小小的篮球 with Prb: 6.347239321041265e-52\n",
            "sentence: 一个桌子看着这个蓝色的篮球 with Prb: 5.668708652385697e-38\n",
            "sentence: 一个蓝色的蓝色的好看的桌子听着一个小猫 with Prb: 4.89392638934188e-66\n",
            "sentence: 一个篮球坐在一个蓝色的好看的小猫 with Prb: 2.538895728416506e-51\n"
          ],
          "name": "stdout"
        }
      ]
    },
    {
      "cell_type": "code",
      "metadata": {
        "id": "pShk5Kdqdtoo",
        "colab_type": "code",
        "outputId": "3b57ee9e-b250-4c40-893b-def1af0f5384",
        "colab": {
          "base_uri": "https://localhost:8080/",
          "height": 225
        }
      },
      "source": [
        "need_compared = [\n",
        "    \"今天晚上请你吃大餐，我们一起吃日料 明天晚上请你吃大餐，我们一起吃苹果\",\n",
        "    \"真事一只好看的小猫 真是一只好看的小猫\",\n",
        "    \"今晚我去吃火锅 今晚火锅去吃我\",\n",
        "    \"洋葱奶昔来一杯 养乐多绿来一杯\"\n",
        "]\n",
        "\n",
        "for s in need_compared:\n",
        "    s1, s2 = s.split()\n",
        "    p1, p2 = get_probablity(s1), get_probablity(s2)\n",
        "    \n",
        "    better = s1 if p1 > p2 else s2\n",
        "    \n",
        "    print('{} is more possible'.format(better))\n",
        "    print('-'*4 + ' {} with probility {}'.format(s1, p1))\n",
        "    print('-'*4 + ' {} with probility {}'.format(s2, p2))"
      ],
      "execution_count": 0,
      "outputs": [
        {
          "output_type": "stream",
          "text": [
            "明天晚上请你吃大餐，我们一起吃苹果 is more possible\n",
            "---- 今天晚上请你吃大餐，我们一起吃日料 with probility 1.7051133711305114e-62\n",
            "---- 明天晚上请你吃大餐，我们一起吃苹果 with probility 1.7051133711305114e-62\n",
            "真是一只好看的小猫 is more possible\n",
            "---- 真事一只好看的小猫 with probility 1.599536134964894e-32\n",
            "---- 真是一只好看的小猫 with probility 5.908452950284614e-26\n",
            "今晚我去吃火锅 is more possible\n",
            "---- 今晚我去吃火锅 with probility 8.333167524520602e-19\n",
            "---- 今晚火锅去吃我 with probility 1.933675511002237e-25\n",
            "养乐多绿来一杯 is more possible\n",
            "---- 洋葱奶昔来一杯 with probility 1.9840875058382383e-20\n",
            "---- 养乐多绿来一杯 with probility 7.3289295697906e-14\n"
          ],
          "name": "stdout"
        }
      ]
    },
    {
      "cell_type": "markdown",
      "metadata": {
        "id": "_OggFe4Ye3tC",
        "colab_type": "text"
      },
      "source": [
        "**统计所有字**"
      ]
    },
    {
      "cell_type": "code",
      "metadata": {
        "id": "iyzmwpmqe7Me",
        "colab_type": "code",
        "colab": {}
      },
      "source": [
        "TOKEN = []"
      ],
      "execution_count": 0,
      "outputs": []
    },
    {
      "cell_type": "code",
      "metadata": {
        "id": "1w7WMyhWe7TD",
        "colab_type": "code",
        "colab": {}
      },
      "source": [
        "for i, line in enumerate((open('article_9k.txt'))):\n",
        "#     if i % 100 == 0: print(i)\n",
        "    \n",
        "    # replace 10000 with a big number when you do your homework. \n",
        "    \n",
        "#     if i > 10000: break    \n",
        "    TOKEN += cut(line)"
      ],
      "execution_count": 0,
      "outputs": []
    },
    {
      "cell_type": "code",
      "metadata": {
        "id": "O_ua6_the7P9",
        "colab_type": "code",
        "colab": {}
      },
      "source": [
        "words_count = Counter(TOKEN)"
      ],
      "execution_count": 0,
      "outputs": []
    },
    {
      "cell_type": "code",
      "metadata": {
        "id": "mhdj4ZVEhpCe",
        "colab_type": "code",
        "outputId": "f9c787bb-14be-4bdc-ec44-0f2aa58df33e",
        "colab": {
          "base_uri": "https://localhost:8080/",
          "height": 1000
        }
      },
      "source": [
        "words_count.most_common(100)"
      ],
      "execution_count": 0,
      "outputs": [
        {
          "output_type": "execute_result",
          "data": {
            "text/plain": [
              "[('的', 703716),\n",
              " ('n', 382020),\n",
              " ('在', 263597),\n",
              " ('月', 189330),\n",
              " ('日', 166300),\n",
              " ('新华社', 142462),\n",
              " ('和', 134061),\n",
              " ('年', 123106),\n",
              " ('了', 121938),\n",
              " ('是', 100909),\n",
              " ('\\n', 89611),\n",
              " ('１', 88187),\n",
              " ('０', 84945),\n",
              " ('外代', 83268),\n",
              " ('中', 73926),\n",
              " ('中国', 71179),\n",
              " ('２', 70521),\n",
              " ('2017', 69894),\n",
              " ('记者', 62147),\n",
              " ('二线', 61998),\n",
              " ('将', 61420),\n",
              " ('与', 58309),\n",
              " ('等', 58162),\n",
              " ('为', 57019),\n",
              " ('5', 54578),\n",
              " ('照片', 52271),\n",
              " ('4', 51626),\n",
              " ('对', 50317),\n",
              " ('上', 47452),\n",
              " ('也', 47401),\n",
              " ('有', 45767),\n",
              " ('５', 40857),\n",
              " ('说', 39017),\n",
              " ('发展', 37632),\n",
              " ('他', 37194),\n",
              " ('３', 36906),\n",
              " ('以', 36867),\n",
              " ('国际', 35842),\n",
              " ('nn', 35330),\n",
              " ('４', 34659),\n",
              " ('比赛', 32232),\n",
              " ('６', 30575),\n",
              " ('到', 30109),\n",
              " ('人', 29572),\n",
              " ('从', 29489),\n",
              " ('6', 29002),\n",
              " ('都', 28027),\n",
              " ('不', 27963),\n",
              " ('后', 27393),\n",
              " ('当日', 27186),\n",
              " ('就', 26684),\n",
              " ('并', 26568),\n",
              " ('国家', 26439),\n",
              " ('７', 26386),\n",
              " ('企业', 26147),\n",
              " ('进行', 25987),\n",
              " ('3', 25491),\n",
              " ('美国', 25485),\n",
              " ('举行', 25389),\n",
              " ('被', 25277),\n",
              " ('北京', 25245),\n",
              " ('体育', 24873),\n",
              " ('2', 24376),\n",
              " ('1', 24182),\n",
              " ('这', 24118),\n",
              " ('新', 23828),\n",
              " ('但', 23385),\n",
              " ('比', 23229),\n",
              " ('个', 23081),\n",
              " ('足球', 22554),\n",
              " ('表示', 22134),\n",
              " ('经济', 22006),\n",
              " ('我', 21940),\n",
              " ('一个', 21932),\n",
              " ('９', 21920),\n",
              " ('还', 21861),\n",
              " ('合作', 21567),\n",
              " ('要', 21045),\n",
              " ('n5', 20946),\n",
              " ('已', 20882),\n",
              " ('摄', 20837),\n",
              " ('８', 20701),\n",
              " ('工作', 20700),\n",
              " ('n4', 20658),\n",
              " ('选手', 19986),\n",
              " ('我们', 19982),\n",
              " ('市场', 19001),\n",
              " ('一路', 18978),\n",
              " ('一带', 18907),\n",
              " ('建设', 18634),\n",
              " ('让', 18609),\n",
              " ('日电', 18384),\n",
              " ('通过', 18159),\n",
              " ('多', 17760),\n",
              " ('时', 17750),\n",
              " ('完', 17424),\n",
              " ('于', 17421),\n",
              " ('问题', 17338),\n",
              " ('更', 17275),\n",
              " ('项目', 17260)]"
            ]
          },
          "metadata": {
            "tags": []
          },
          "execution_count": 116
        }
      ]
    },
    {
      "cell_type": "code",
      "metadata": {
        "id": "LBW9T1UWho_V",
        "colab_type": "code",
        "colab": {}
      },
      "source": [
        "frequiences = [f for w, f in words_count.most_common(100)]"
      ],
      "execution_count": 0,
      "outputs": []
    },
    {
      "cell_type": "code",
      "metadata": {
        "id": "V3DHQqOJho79",
        "colab_type": "code",
        "colab": {}
      },
      "source": [
        "x = [i for i in range(100)]"
      ],
      "execution_count": 0,
      "outputs": []
    },
    {
      "cell_type": "code",
      "metadata": {
        "id": "ShMljvg2ho5N",
        "colab_type": "code",
        "outputId": "50af3cea-573e-4b3f-92e2-08fee9b3334d",
        "colab": {
          "base_uri": "https://localhost:8080/",
          "height": 286
        }
      },
      "source": [
        "plt.plot(x, frequiences)"
      ],
      "execution_count": 0,
      "outputs": [
        {
          "output_type": "execute_result",
          "data": {
            "text/plain": [
              "[<matplotlib.lines.Line2D at 0x7fa3ac46ce48>]"
            ]
          },
          "metadata": {
            "tags": []
          },
          "execution_count": 119
        },
        {
          "output_type": "display_data",
          "data": {
            "image/png": "[encoded data removed]",
            "text/plain": [
              "<Figure size 432x288 with 1 Axes>"
            ]
          },
          "metadata": {
            "tags": []
          }
        }
      ]
    },
    {
      "cell_type": "code",
      "metadata": {
        "id": "CD5r44Myho2T",
        "colab_type": "code",
        "outputId": "01145e02-7946-475b-d501-a10629a02d15",
        "colab": {
          "base_uri": "https://localhost:8080/",
          "height": 286
        }
      },
      "source": [
        "plt.plot(x, np.log(frequiences))"
      ],
      "execution_count": 0,
      "outputs": [
        {
          "output_type": "execute_result",
          "data": {
            "text/plain": [
              "[<matplotlib.lines.Line2D at 0x7fa3ae791358>]"
            ]
          },
          "metadata": {
            "tags": []
          },
          "execution_count": 120
        },
        {
          "output_type": "display_data",
          "data": {
            "image/png": "[encoded data removed]",
            "text/plain": [
              "<Figure size 432x288 with 1 Axes>"
            ]
          },
          "metadata": {
            "tags": []
          }
        }
      ]
    },
    {
      "cell_type": "code",
      "metadata": {
        "id": "sWW5D0PribrG",
        "colab_type": "code",
        "outputId": "e2662fa0-d811-4119-9cad-3f6f6aee800f",
        "colab": {
          "base_uri": "https://localhost:8080/",
          "height": 35
        }
      },
      "source": [
        "prob_1('我们')"
      ],
      "execution_count": 0,
      "outputs": [
        {
          "output_type": "execute_result",
          "data": {
            "text/plain": [
              "0.0011341645999654677"
            ]
          },
          "metadata": {
            "tags": []
          },
          "execution_count": 121
        }
      ]
    },
    {
      "cell_type": "code",
      "metadata": {
        "id": "cXx0VdJwibn5",
        "colab_type": "code",
        "outputId": "47019de3-6e2d-4d99-b4a3-0aea6295d9ec",
        "colab": {
          "base_uri": "https://localhost:8080/",
          "height": 35
        }
      },
      "source": [
        "TOKEN[:10]"
      ],
      "execution_count": 0,
      "outputs": [
        {
          "output_type": "execute_result",
          "data": {
            "text/plain": [
              "['此外', '自', '本周', '6', '月', '12', '日起', '除', '小米', '手机']"
            ]
          },
          "metadata": {
            "tags": []
          },
          "execution_count": 122
        }
      ]
    },
    {
      "cell_type": "code",
      "metadata": {
        "id": "ikUl3oFfiblL",
        "colab_type": "code",
        "colab": {}
      },
      "source": [
        "TOKEN = [str(t) for t in TOKEN]"
      ],
      "execution_count": 0,
      "outputs": []
    },
    {
      "cell_type": "code",
      "metadata": {
        "id": "PKCjaM_gibiV",
        "colab_type": "code",
        "outputId": "0a72f576-29f9-4915-86fd-bd9f32eeda29",
        "colab": {
          "base_uri": "https://localhost:8080/",
          "height": 35
        }
      },
      "source": [
        "TOKEN_2_GRAM = [''.join(TOKEN[i:i+2]) for i in range(len(TOKEN[:-2]))]\n",
        "TOKEN_2_GRAM[:10]"
      ],
      "execution_count": 0,
      "outputs": [
        {
          "output_type": "execute_result",
          "data": {
            "text/plain": [
              "['此外自', '自本周', '本周6', '6月', '月12', '12日起', '日起除', '除小米', '小米手机', '手机6']"
            ]
          },
          "metadata": {
            "tags": []
          },
          "execution_count": 124
        }
      ]
    },
    {
      "cell_type": "code",
      "metadata": {
        "id": "mMpsKrc1i3q5",
        "colab_type": "code",
        "colab": {}
      },
      "source": [
        "words_count_2 = Counter(TOKEN_2_GRAM)"
      ],
      "execution_count": 0,
      "outputs": []
    },
    {
      "cell_type": "code",
      "metadata": {
        "id": "JfvwFVPsi3na",
        "colab_type": "code",
        "colab": {}
      },
      "source": [
        "def prob_1(word): return words_count[word] / len(TOKEN)"
      ],
      "execution_count": 0,
      "outputs": []
    },
    {
      "cell_type": "code",
      "metadata": {
        "id": "eK911Se5i3j7",
        "colab_type": "code",
        "colab": {}
      },
      "source": [
        "def prob_2(word1, word2):\n",
        "    if word1 + word2 in words_count_2: return words_count_2[word1+word2] / len(TOKEN_2_GRAM)\n",
        "    else:\n",
        "        return 1 / len(TOKEN_2_GRAM)"
      ],
      "execution_count": 0,
      "outputs": []
    },
    {
      "cell_type": "code",
      "metadata": {
        "id": "xDaYZxCdi8O-",
        "colab_type": "code",
        "outputId": "344a80e7-6b98-4faa-f871-4df739402c85",
        "colab": {
          "base_uri": "https://localhost:8080/",
          "height": 35
        }
      },
      "source": [
        "prob_2('我们', '在')"
      ],
      "execution_count": 0,
      "outputs": [
        {
          "output_type": "execute_result",
          "data": {
            "text/plain": [
              "3.0536514065072974e-05"
            ]
          },
          "metadata": {
            "tags": []
          },
          "execution_count": 128
        }
      ]
    },
    {
      "cell_type": "code",
      "metadata": {
        "id": "P--ZJAvPi8Sk",
        "colab_type": "code",
        "outputId": "4cdb2a58-7fa7-4c93-8652-4635da264efa",
        "colab": {
          "base_uri": "https://localhost:8080/",
          "height": 35
        }
      },
      "source": [
        "prob_2('在', '吃饭')"
      ],
      "execution_count": 0,
      "outputs": [
        {
          "output_type": "execute_result",
          "data": {
            "text/plain": [
              "2.8379659911777854e-07"
            ]
          },
          "metadata": {
            "tags": []
          },
          "execution_count": 129
        }
      ]
    },
    {
      "cell_type": "code",
      "metadata": {
        "id": "VnYXk8LojCPp",
        "colab_type": "code",
        "outputId": "d836db19-d77e-40e8-8f2c-efe1bb747699",
        "colab": {
          "base_uri": "https://localhost:8080/",
          "height": 35
        }
      },
      "source": [
        "prob_2('去', '吃饭')"
      ],
      "execution_count": 0,
      "outputs": [
        {
          "output_type": "execute_result",
          "data": {
            "text/plain": [
              "7.946304775297799e-07"
            ]
          },
          "metadata": {
            "tags": []
          },
          "execution_count": 130
        }
      ]
    },
    {
      "cell_type": "code",
      "metadata": {
        "id": "1zgQUf07jCTF",
        "colab_type": "code",
        "outputId": "909db719-6308-49b5-bc46-563e3d19c7fe",
        "colab": {
          "base_uri": "https://localhost:8080/",
          "height": 35
        }
      },
      "source": [
        "get_probablity('小明今天抽奖抽到一台苹果手机')"
      ],
      "execution_count": 0,
      "outputs": [
        {
          "output_type": "execute_result",
          "data": {
            "text/plain": [
              "1.5046504121058867e-42"
            ]
          },
          "metadata": {
            "tags": []
          },
          "execution_count": 131
        }
      ]
    },
    {
      "cell_type": "code",
      "metadata": {
        "id": "ek5nYx5FjCWy",
        "colab_type": "code",
        "outputId": "229a6c7c-ad53-49e3-e8d9-ec373ac61fee",
        "colab": {
          "base_uri": "https://localhost:8080/",
          "height": 35
        }
      },
      "source": [
        "get_probablity('小明今天抽奖抽到一架波音飞机')"
      ],
      "execution_count": 0,
      "outputs": [
        {
          "output_type": "execute_result",
          "data": {
            "text/plain": [
              "1.1234723077057287e-41"
            ]
          },
          "metadata": {
            "tags": []
          },
          "execution_count": 132
        }
      ]
    },
    {
      "cell_type": "code",
      "metadata": {
        "id": "AbdlTfZIjIdU",
        "colab_type": "code",
        "outputId": "0681b02f-4774-44ca-e8e5-c6295a97b02b",
        "colab": {
          "base_uri": "https://localhost:8080/",
          "height": 35
        }
      },
      "source": [
        "get_probablity('洋葱奶昔来一杯')"
      ],
      "execution_count": 0,
      "outputs": [
        {
          "output_type": "execute_result",
          "data": {
            "text/plain": [
              "1.8285698188632354e-22"
            ]
          },
          "metadata": {
            "tags": []
          },
          "execution_count": 133
        }
      ]
    },
    {
      "cell_type": "code",
      "metadata": {
        "id": "N9DzapKQjIaY",
        "colab_type": "code",
        "outputId": "292038af-9ac4-4658-ab2d-760c8edc1813",
        "colab": {
          "base_uri": "https://localhost:8080/",
          "height": 35
        }
      },
      "source": [
        "get_probablity('养乐多绿来一杯')"
      ],
      "execution_count": 0,
      "outputs": [
        {
          "output_type": "execute_result",
          "data": {
            "text/plain": [
              "3.2216203868326836e-15"
            ]
          },
          "metadata": {
            "tags": []
          },
          "execution_count": 134
        }
      ]
    },
    {
      "cell_type": "code",
      "metadata": {
        "id": "6S1t0oBgjIXc",
        "colab_type": "code",
        "outputId": "d849292b-7c0a-4a14-b77e-288a2a85321f",
        "colab": {
          "base_uri": "https://localhost:8080/",
          "height": 190
        }
      },
      "source": [
        "for sen in [generate(gram=example_grammar, target='sentence') for i in range(10)]:\n",
        "    print('sentence: {} with Prb: {}'.format(sen, get_probablity(sen)))"
      ],
      "execution_count": 0,
      "outputs": [
        {
          "output_type": "stream",
          "text": [
            "sentence: 一个小猫听着一个小小的篮球 with Prb: 4.89105006626722e-39\n",
            "sentence: 一个小小的女人坐在这个蓝色的蓝色的女人 with Prb: 1.3346839266188746e-57\n",
            "sentence: 这个蓝色的好看的女人坐在这个好看的小猫 with Prb: 3.1342985817706476e-65\n",
            "sentence: 这个小猫看着一个好看的篮球 with Prb: 7.382818022066217e-41\n",
            "sentence: 这个小小的蓝色的好看的好看的好看的小猫看见一个小猫 with Prb: 8.084619093062769e-85\n",
            "sentence: 一个女人听着一个蓝色的蓝色的女人 with Prb: 3.6304009478545493e-54\n",
            "sentence: 一个小猫听着一个小小的小猫 with Prb: 4.89105006626722e-39\n",
            "sentence: 一个女人看见一个好看的好看的蓝色的蓝色的小小的女人 with Prb: 8.633331033461073e-83\n",
            "sentence: 这个好看的好看的好看的好看的小小的蓝色的桌子看见一个小猫 with Prb: 2.170464474165647e-99\n",
            "sentence: 一个好看的小猫看着这个篮球 with Prb: 6.163048087985711e-40\n"
          ],
          "name": "stdout"
        }
      ]
    },
    {
      "cell_type": "code",
      "metadata": {
        "id": "Gp6vFZbZjOSC",
        "colab_type": "code",
        "outputId": "a26c599e-de54-4dda-b46e-1b4ccf54485c",
        "colab": {
          "base_uri": "https://localhost:8080/",
          "height": 225
        }
      },
      "source": [
        "need_compared = [\n",
        "    \"今天晚上请你吃大餐，我们一起吃日料 明天晚上请你吃大餐，我们一起吃苹果\",\n",
        "    \"真事一只好看的小猫 真是一只好看的小猫\",\n",
        "    \"今晚我去吃火锅 今晚火锅去吃我\",\n",
        "    \"洋葱奶昔来一杯 养乐多绿来一杯\"\n",
        "]\n",
        "\n",
        "for s in need_compared:\n",
        "    s1, s2 = s.split()\n",
        "    p1, p2 = get_probablity(s1), get_probablity(s2)\n",
        "    \n",
        "    better = s1 if p1 > p2 else s2\n",
        "    \n",
        "    print('{} is more possible'.format(better))\n",
        "    print('-'*4 + ' {} with probility {}'.format(s1, p1))\n",
        "    print('-'*4 + ' {} with probility {}'.format(s2, p2))"
      ],
      "execution_count": 0,
      "outputs": [
        {
          "output_type": "stream",
          "text": [
            "今天晚上请你吃大餐，我们一起吃日料 is more possible\n",
            "---- 今天晚上请你吃大餐，我们一起吃日料 with probility 1.8889745916921315e-66\n",
            "---- 明天晚上请你吃大餐，我们一起吃苹果 with probility 1.5111796733537052e-66\n",
            "真是一只好看的小猫 is more possible\n",
            "---- 真事一只好看的小猫 with probility 4.5242555959271015e-34\n",
            "---- 真是一只好看的小猫 with probility 7.970947520145384e-27\n",
            "今晚我去吃火锅 is more possible\n",
            "---- 今晚我去吃火锅 with probility 3.401139863085618e-20\n",
            "---- 今晚火锅去吃我 with probility 5.396995716765105e-28\n",
            "养乐多绿来一杯 is more possible\n",
            "---- 洋葱奶昔来一杯 with probility 1.8285698188632354e-22\n",
            "---- 养乐多绿来一杯 with probility 3.2216203868326836e-15\n"
          ],
          "name": "stdout"
        }
      ]
    }
  ]
}